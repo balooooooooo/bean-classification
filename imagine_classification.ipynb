{
 "cells": [
  {
   "cell_type": "markdown",
   "source": [
    "# Image classification \n",
    "Task: Predict disease type of bean plants.\n",
    "Dataset: Beans from TFDS"
   ],
   "metadata": {
    "collapsed": false
   },
   "id": "718f1e06d01e088a"
  },
  {
   "cell_type": "markdown",
   "source": [
    "## 1. Loading dataset"
   ],
   "metadata": {
    "collapsed": false
   },
   "id": "63771ced3d397ae0"
  },
  {
   "cell_type": "code",
   "execution_count": 56,
   "id": "initial_id",
   "metadata": {
    "collapsed": true,
    "ExecuteTime": {
     "end_time": "2024-05-15T17:52:57.359879500Z",
     "start_time": "2024-05-15T17:52:57.352171300Z"
    }
   },
   "outputs": [],
   "source": [
    "from sklearn.model_selection import train_test_split\n",
    "import pandas as pd\n",
    "import numpy as np\n",
    "import tensorflow_datasets as tfds\n",
    "import tensorflow as tf"
   ]
  },
  {
   "cell_type": "code",
   "execution_count": 55,
   "outputs": [],
   "source": [
    "(ds_train, ds_test), ds_info = tfds.load('beans', split = ['train', 'test[:20%]'], shuffle_files=True, as_supervised=True, with_info=True)"
   ],
   "metadata": {
    "collapsed": false,
    "ExecuteTime": {
     "end_time": "2024-05-15T17:52:49.279800500Z",
     "start_time": "2024-05-15T17:52:49.213306600Z"
    }
   },
   "id": "7834d3ec41297b86"
  },
  {
   "cell_type": "markdown",
   "source": [
    "## 2. Preprocessing dataset\n",
    "Includes: \n",
    "- resizing\n",
    "- rotation\n",
    "- batching"
   ],
   "metadata": {
    "collapsed": false
   },
   "id": "89b99c8032f6e645"
  },
  {
   "cell_type": "code",
   "execution_count": 57,
   "outputs": [],
   "source": [
    "def normalize_img(image, label):\n",
    "    \"\"\"Normalizes images: `uint8` -> `float32`.\"\"\"\n",
    "    return tf.cast(image, tf.float32) / 255., label\n",
    "\n",
    "def resize_rescale(image, label):\n",
    "    image = tf.cast(image, tf.float32)\n",
    "    image = tf.image.resize(image, [IMG_SIZE, IMG_SIZE])\n",
    "    image = tf.reshape(image, [-1])\n",
    "    return image, label\n",
    "\n",
    "\n",
    "ds_train = ds_train.map(\n",
    "    normalize_img, num_parallel_calls=tf.data.AUTOTUNE)\n",
    "ds_train = ds_train.cache()\n",
    "ds_train = ds_train.shuffle(ds_info.splits['train'].num_examples)\n",
    "ds_train = ds_train.batch(128)\n",
    "ds_train = ds_train.prefetch(tf.data.AUTOTUNE)"
   ],
   "metadata": {
    "collapsed": false,
    "ExecuteTime": {
     "end_time": "2024-05-15T17:52:58.718330500Z",
     "start_time": "2024-05-15T17:52:58.671433400Z"
    }
   },
   "id": "c4b64e78bfaa4d1e"
  },
  {
   "cell_type": "code",
   "execution_count": 58,
   "outputs": [],
   "source": [],
   "metadata": {
    "collapsed": false,
    "ExecuteTime": {
     "end_time": "2024-05-15T17:53:09.058619Z",
     "start_time": "2024-05-15T17:53:09.042604300Z"
    }
   },
   "id": "8ed340d46ba10fbe"
  },
  {
   "cell_type": "code",
   "execution_count": 61,
   "outputs": [
    {
     "name": "stdout",
     "output_type": "stream",
     "text": [
      "Epoch 1/6\n",
      "\u001B[1m9/9\u001B[0m \u001B[32m━━━━━━━━━━━━━━━━━━━━\u001B[0m\u001B[37m\u001B[0m \u001B[1m8s\u001B[0m 734ms/step - loss: 272.7516 - sparse_categorical_accuracy: 0.2411 - val_loss: 457.0703 - val_sparse_categorical_accuracy: 0.2692\n",
      "Epoch 2/6\n",
      "\u001B[1m9/9\u001B[0m \u001B[32m━━━━━━━━━━━━━━━━━━━━\u001B[0m\u001B[37m\u001B[0m \u001B[1m6s\u001B[0m 706ms/step - loss: 276.3286 - sparse_categorical_accuracy: 0.3638 - val_loss: 86.0862 - val_sparse_categorical_accuracy: 0.3846\n",
      "Epoch 3/6\n",
      "\u001B[1m9/9\u001B[0m \u001B[32m━━━━━━━━━━━━━━━━━━━━\u001B[0m\u001B[37m\u001B[0m \u001B[1m6s\u001B[0m 705ms/step - loss: 104.3876 - sparse_categorical_accuracy: 0.4303 - val_loss: 41.0458 - val_sparse_categorical_accuracy: 0.5000\n",
      "Epoch 4/6\n",
      "\u001B[1m9/9\u001B[0m \u001B[32m━━━━━━━━━━━━━━━━━━━━\u001B[0m\u001B[37m\u001B[0m \u001B[1m6s\u001B[0m 706ms/step - loss: 50.8693 - sparse_categorical_accuracy: 0.5526 - val_loss: 59.9973 - val_sparse_categorical_accuracy: 0.6154\n",
      "Epoch 5/6\n",
      "\u001B[1m9/9\u001B[0m \u001B[32m━━━━━━━━━━━━━━━━━━━━\u001B[0m\u001B[37m\u001B[0m \u001B[1m6s\u001B[0m 707ms/step - loss: 33.2931 - sparse_categorical_accuracy: 0.5872 - val_loss: 39.5069 - val_sparse_categorical_accuracy: 0.7308\n",
      "Epoch 6/6\n",
      "\u001B[1m9/9\u001B[0m \u001B[32m━━━━━━━━━━━━━━━━━━━━\u001B[0m\u001B[37m\u001B[0m \u001B[1m6s\u001B[0m 711ms/step - loss: 24.2419 - sparse_categorical_accuracy: 0.6345 - val_loss: 21.1397 - val_sparse_categorical_accuracy: 0.5769\n"
     ]
    },
    {
     "data": {
      "text/plain": "<keras.src.callbacks.history.History at 0x1776afbe830>"
     },
     "execution_count": 61,
     "metadata": {},
     "output_type": "execute_result"
    }
   ],
   "source": [],
   "metadata": {
    "collapsed": false
   },
   "id": "14e76ef603c86837"
  }
 ],
 "metadata": {
  "kernelspec": {
   "display_name": "Python 3",
   "language": "python",
   "name": "python3"
  },
  "language_info": {
   "codemirror_mode": {
    "name": "ipython",
    "version": 2
   },
   "file_extension": ".py",
   "mimetype": "text/x-python",
   "name": "python",
   "nbconvert_exporter": "python",
   "pygments_lexer": "ipython2",
   "version": "2.7.6"
  }
 },
 "nbformat": 4,
 "nbformat_minor": 5
}
