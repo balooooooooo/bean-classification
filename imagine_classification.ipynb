{
 "cells": [
  {
   "cell_type": "markdown",
   "source": [
    "# Image classification \n",
    "Task: Predict disease type of bean plants.\n",
    "Dataset: Beans from TFDS"
   ],
   "metadata": {
    "collapsed": false
   },
   "id": "718f1e06d01e088a"
  },
  {
   "cell_type": "markdown",
   "source": [
    "## 1. Loading dataset"
   ],
   "metadata": {
    "collapsed": false
   },
   "id": "63771ced3d397ae0"
  },
  {
   "cell_type": "code",
   "execution_count": 56,
   "id": "initial_id",
   "metadata": {
    "collapsed": true,
    "ExecuteTime": {
     "end_time": "2024-05-15T17:52:57.359879500Z",
     "start_time": "2024-05-15T17:52:57.352171300Z"
    }
   },
   "outputs": [],
   "source": [
    "from sklearn.model_selection import train_test_split\n",
    "import pandas as pd\n",
    "import numpy as np\n",
    "import tensorflow_datasets as tfds\n",
    "import tensorflow as tf"
   ]
  },
  {
   "cell_type": "code",
   "execution_count": 76,
   "outputs": [],
   "source": [
    "(ds_train, ds_test), ds_info = tfds.load('beans', split = ['train', 'test[:20%]'], shuffle_files=True, as_supervised=True, with_info=True)"
   ],
   "metadata": {
    "collapsed": false,
    "ExecuteTime": {
     "end_time": "2024-05-15T18:49:12.924980200Z",
     "start_time": "2024-05-15T18:49:12.863348600Z"
    }
   },
   "id": "7834d3ec41297b86"
  },
  {
   "cell_type": "markdown",
   "source": [
    "## 2. Preprocessing dataset\n",
    "Includes: \n",
    "- resizing\n",
    "- rotation\n",
    "- batching"
   ],
   "metadata": {
    "collapsed": false
   },
   "id": "89b99c8032f6e645"
  },
  {
   "cell_type": "code",
   "execution_count": 77,
   "outputs": [],
   "source": [
    "IMG_SIZE = 256\n",
    "batch_size = 32\n",
    "def normalize_img(image, label):\n",
    "    \"\"\"Normalizes images: `uint8` -> `float32`.\"\"\"\n",
    "    return tf.cast(image, tf.float32) / 255., label\n",
    "\n",
    "def resize_rescale(image, label):\n",
    "    image = tf.cast(image, tf.float32)\n",
    "    image = tf.image.resize(image, [IMG_SIZE, IMG_SIZE])\n",
    "    image = tf.reshape(image, [-1])\n",
    "    return image, label"
   ],
   "metadata": {
    "collapsed": false,
    "ExecuteTime": {
     "end_time": "2024-05-15T18:49:14.256951200Z",
     "start_time": "2024-05-15T18:49:14.240365300Z"
    }
   },
   "id": "c4b64e78bfaa4d1e"
  },
  {
   "cell_type": "code",
   "execution_count": 78,
   "outputs": [],
   "source": [
    "train = (\n",
    "    ds_train\n",
    "    .shuffle(2000)\n",
    "    .map(resize_rescale, num_parallel_calls=tf.data.AUTOTUNE)\n",
    "    .batch(batch_size)\n",
    "    .prefetch(tf.data.AUTOTUNE)\n",
    ")\n",
    "\n",
    "test = (\n",
    "    ds_test\n",
    "    .shuffle(2000)\n",
    "    .map(resize_rescale, num_parallel_calls=tf.data.AUTOTUNE)\n",
    "    .batch(batch_size)\n",
    "    .prefetch(tf.data.AUTOTUNE)\n",
    ")"
   ],
   "metadata": {
    "collapsed": false,
    "ExecuteTime": {
     "end_time": "2024-05-15T18:49:15.709018700Z",
     "start_time": "2024-05-15T18:49:15.671061300Z"
    }
   },
   "id": "8ed340d46ba10fbe"
  }
 ],
 "metadata": {
  "kernelspec": {
   "display_name": "Python 3",
   "language": "python",
   "name": "python3"
  },
  "language_info": {
   "codemirror_mode": {
    "name": "ipython",
    "version": 2
   },
   "file_extension": ".py",
   "mimetype": "text/x-python",
   "name": "python",
   "nbconvert_exporter": "python",
   "pygments_lexer": "ipython2",
   "version": "2.7.6"
  }
 },
 "nbformat": 4,
 "nbformat_minor": 5
}
