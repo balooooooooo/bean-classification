{
 "cells": [
  {
   "cell_type": "markdown",
   "source": [
    "# Text classification (sentiment analysis)\n",
    "Task: Predict sentiment of Amazon reviews\n",
    "Dataset: Beans from TFDS"
   ],
   "metadata": {
    "collapsed": false
   },
   "id": "dbbc77f284814682"
  },
  {
   "cell_type": "markdown",
   "source": [
    "## 1. Loading dataset & basic preprocessing\n",
    "- removal of reviews shorter than 5 characters\n",
    "- mapping from 1-5 -> 0,1,2\n",
    "- subsampling - without replacement, random state 42, 80 000 rows"
   ],
   "metadata": {
    "collapsed": false
   },
   "id": "1ee5b5a6106d6686"
  },
  {
   "cell_type": "code",
   "execution_count": 79,
   "id": "initial_id",
   "metadata": {
    "collapsed": true,
    "ExecuteTime": {
     "end_time": "2024-05-17T21:06:58.800475700Z",
     "start_time": "2024-05-17T21:06:58.787539Z"
    }
   },
   "outputs": [],
   "source": [
    "import pandas as pd\n",
    "import numpy as np\n",
    "from sklearn.model_selection import train_test_split\n",
    "from sklearn.utils import resample\n",
    "from IPython.display import display\n",
    "import re\n",
    "import matplotlib.pyplot as plt"
   ]
  },
  {
   "cell_type": "code",
   "execution_count": 80,
   "outputs": [],
   "source": [
    "df = pd.read_csv('datasets/amazon_reviews_us_Major_Appliances_v1_00.tsv', sep='\\t', on_bad_lines='skip')"
   ],
   "metadata": {
    "collapsed": false,
    "ExecuteTime": {
     "end_time": "2024-05-17T21:06:59.434789400Z",
     "start_time": "2024-05-17T21:06:58.793463600Z"
    }
   },
   "id": "41ff8b299de307d2"
  },
  {
   "cell_type": "code",
   "execution_count": 81,
   "outputs": [],
   "source": [
    "# remove nas\n",
    "df.dropna(axis=0, subset=['review_body'], inplace=True)"
   ],
   "metadata": {
    "collapsed": false,
    "ExecuteTime": {
     "end_time": "2024-05-17T21:06:59.466526900Z",
     "start_time": "2024-05-17T21:06:59.435960100Z"
    }
   },
   "id": "861e0cae068fbc6"
  },
  {
   "cell_type": "code",
   "execution_count": 82,
   "outputs": [],
   "source": [
    "def remove_tags(review):\n",
    "    return re.sub(pattern='<.*?>', string=review , repl=' ') \n",
    "\n",
    "def remove_subs(review):\n",
    "    return re.sub(pattern='\u001A', string=review , repl=' ')\n",
    "\n",
    "def keep_alnum(review):\n",
    "    return re.sub(pattern='[^A-Za-z\\d\\s:]', string=review, repl=' ')\n",
    "\n",
    "def strip_spaces(review):\n",
    "    return re.sub(pattern='[\\s]{2,}', string=review, repl=' ')\n",
    "\n",
    "def lowercase(review):\n",
    "    return review.lower()"
   ],
   "metadata": {
    "collapsed": false,
    "ExecuteTime": {
     "end_time": "2024-05-17T21:06:59.480362500Z",
     "start_time": "2024-05-17T21:06:59.466526900Z"
    }
   },
   "id": "feccec45640d371c"
  },
  {
   "cell_type": "code",
   "execution_count": 83,
   "outputs": [],
   "source": [
    "df['review_body'] = df['review_body'].apply(remove_tags) # removes html tags\n",
    "df['review_body'] = df['review_body'].apply(remove_subs) # removes sub unicode char\n",
    "df['review_body'] = df['review_body'].apply(keep_alnum) # removes sub unicode char\n",
    "df['review_body'] = df['review_body'].apply(strip_spaces) # removes sub unicode char\n",
    "df['review_body'] = df['review_body'].apply(lowercase)"
   ],
   "metadata": {
    "collapsed": false,
    "ExecuteTime": {
     "end_time": "2024-05-17T21:07:01.150556700Z",
     "start_time": "2024-05-17T21:06:59.482724Z"
    }
   },
   "id": "ab4b0c058041911e"
  },
  {
   "cell_type": "code",
   "execution_count": 84,
   "outputs": [
    {
     "data": {
      "text/plain": "0        what a great stove what a wonderful replacemen...\n1                                             worked great\n2        part exactly what i needed saved by purchasing...\n3        love my refrigerator keeps everything cold wil...\n4        no more running to the store for ice works per...\n                               ...                        \n96829    this is a pretty good dishwasher for the price...\n96830    i bought this for our office and was extremely...\n96831    when i saw this small dishwasher i thought it ...\n96832    probably the best small refrigerator on the ma...\n96833    this is just a normal mid sized refrigerater b...\nName: review_body, Length: 96827, dtype: object"
     },
     "execution_count": 84,
     "metadata": {},
     "output_type": "execute_result"
    }
   ],
   "source": [
    "df['review_body']"
   ],
   "metadata": {
    "collapsed": false,
    "ExecuteTime": {
     "end_time": "2024-05-17T21:07:01.166831500Z",
     "start_time": "2024-05-17T21:07:01.151568800Z"
    }
   },
   "id": "633603daaf3937ff"
  },
  {
   "cell_type": "code",
   "execution_count": 85,
   "outputs": [
    {
     "name": "stdout",
     "output_type": "stream",
     "text": [
      "(80000, 2)\n"
     ]
    }
   ],
   "source": [
    "df = df[['review_body', 'star_rating']]\n",
    "df = df[df['review_body'].str.len() > 5]\n",
    "df.loc[df['star_rating'] < 3, 'sentiment'] = 0\n",
    "df.loc[df['star_rating'] == 3, 'sentiment'] = 1\n",
    "df.loc[df['star_rating'] > 3, 'sentiment'] = 2\n",
    "df.drop('star_rating', axis=1, inplace=True)\n",
    "df = resample(df, n_samples=80000, random_state=42, replace=False)\n",
    "print(df.shape)"
   ],
   "metadata": {
    "collapsed": false,
    "ExecuteTime": {
     "end_time": "2024-05-17T21:07:01.243745Z",
     "start_time": "2024-05-17T21:07:01.168833900Z"
    }
   },
   "id": "174a2be074f5703"
  },
  {
   "cell_type": "code",
   "execution_count": 86,
   "outputs": [
    {
     "data": {
      "text/plain": "                                             review_body  sentiment\n2579             just what i needed for my camping trip         2.0\n52110  a little noisy but makes ice quickly nice grap...        2.0\n54656  ugh 3rd agitator in 6 months plastic paddles c...        0.0\n13607   so far so good works like oem for a lesser price        2.0\n75019  i m a huge fan of newcastle so thought i would...        0.0\n...                                                  ...        ...\n9509                                   this was awesome         2.0\n24482  it fir perfectly and replaced my factory filte...        2.0\n20160  the knobs on this range get excessively hot wh...        0.0\n1020   this looks great in my kitchen it s a little l...        2.0\n44284                 very good product at a good price         2.0\n\n[80000 rows x 2 columns]",
      "text/html": "<div>\n<style scoped>\n    .dataframe tbody tr th:only-of-type {\n        vertical-align: middle;\n    }\n\n    .dataframe tbody tr th {\n        vertical-align: top;\n    }\n\n    .dataframe thead th {\n        text-align: right;\n    }\n</style>\n<table border=\"1\" class=\"dataframe\">\n  <thead>\n    <tr style=\"text-align: right;\">\n      <th></th>\n      <th>review_body</th>\n      <th>sentiment</th>\n    </tr>\n  </thead>\n  <tbody>\n    <tr>\n      <th>2579</th>\n      <td>just what i needed for my camping trip</td>\n      <td>2.0</td>\n    </tr>\n    <tr>\n      <th>52110</th>\n      <td>a little noisy but makes ice quickly nice grap...</td>\n      <td>2.0</td>\n    </tr>\n    <tr>\n      <th>54656</th>\n      <td>ugh 3rd agitator in 6 months plastic paddles c...</td>\n      <td>0.0</td>\n    </tr>\n    <tr>\n      <th>13607</th>\n      <td>so far so good works like oem for a lesser price</td>\n      <td>2.0</td>\n    </tr>\n    <tr>\n      <th>75019</th>\n      <td>i m a huge fan of newcastle so thought i would...</td>\n      <td>0.0</td>\n    </tr>\n    <tr>\n      <th>...</th>\n      <td>...</td>\n      <td>...</td>\n    </tr>\n    <tr>\n      <th>9509</th>\n      <td>this was awesome</td>\n      <td>2.0</td>\n    </tr>\n    <tr>\n      <th>24482</th>\n      <td>it fir perfectly and replaced my factory filte...</td>\n      <td>2.0</td>\n    </tr>\n    <tr>\n      <th>20160</th>\n      <td>the knobs on this range get excessively hot wh...</td>\n      <td>0.0</td>\n    </tr>\n    <tr>\n      <th>1020</th>\n      <td>this looks great in my kitchen it s a little l...</td>\n      <td>2.0</td>\n    </tr>\n    <tr>\n      <th>44284</th>\n      <td>very good product at a good price</td>\n      <td>2.0</td>\n    </tr>\n  </tbody>\n</table>\n<p>80000 rows × 2 columns</p>\n</div>"
     },
     "execution_count": 86,
     "metadata": {},
     "output_type": "execute_result"
    }
   ],
   "source": [
    "df"
   ],
   "metadata": {
    "collapsed": false,
    "ExecuteTime": {
     "end_time": "2024-05-17T21:07:01.290815300Z",
     "start_time": "2024-05-17T21:07:01.245745400Z"
    }
   },
   "id": "61075fa8ce779b40"
  },
  {
   "cell_type": "markdown",
   "source": [
    "## Exploratory Data Analysis of the dataset"
   ],
   "metadata": {
    "collapsed": false
   },
   "id": "f66880c2eaddb91e"
  },
  {
   "cell_type": "code",
   "execution_count": 86,
   "outputs": [],
   "source": [],
   "metadata": {
    "collapsed": false,
    "ExecuteTime": {
     "end_time": "2024-05-17T21:07:01.321358500Z",
     "start_time": "2024-05-17T21:07:01.261816600Z"
    }
   },
   "id": "51a301bdbbc85fa6"
  },
  {
   "cell_type": "code",
   "execution_count": 87,
   "outputs": [],
   "source": [
    "# Train-test split\n",
    "X_train, X_test, y_train, y_test = train_test_split(\n",
    "    df['review_body'], df['sentiment'], random_state=42, test_size=0.1, stratify=df['sentiment']\n",
    ")"
   ],
   "metadata": {
    "collapsed": false,
    "ExecuteTime": {
     "end_time": "2024-05-17T21:07:01.347798Z",
     "start_time": "2024-05-17T21:07:01.276840500Z"
    }
   },
   "id": "3f410caa3e666495"
  }
 ],
 "metadata": {
  "kernelspec": {
   "display_name": "Python 3",
   "language": "python",
   "name": "python3"
  },
  "language_info": {
   "codemirror_mode": {
    "name": "ipython",
    "version": 2
   },
   "file_extension": ".py",
   "mimetype": "text/x-python",
   "name": "python",
   "nbconvert_exporter": "python",
   "pygments_lexer": "ipython2",
   "version": "2.7.6"
  }
 },
 "nbformat": 4,
 "nbformat_minor": 5
}
