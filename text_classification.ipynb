{
 "cells": [
  {
   "cell_type": "markdown",
   "id": "dbbc77f284814682",
   "metadata": {
    "collapsed": false,
    "id": "dbbc77f284814682"
   },
   "source": [
    "# Text classification (sentiment analysis)\n",
    "Task: Predict sentiment of Amazon reviews\n",
    "Dataset: Amazon US Customer Reviews Dataset"
   ]
  },
  {
   "cell_type": "markdown",
   "id": "f0474e0967c03828",
   "metadata": {
    "collapsed": false,
    "id": "f0474e0967c03828"
   },
   "source": []
  },
  {
   "cell_type": "markdown",
   "id": "1ee5b5a6106d6686",
   "metadata": {
    "collapsed": false,
    "id": "1ee5b5a6106d6686"
   },
   "source": [
    "## 1. Loading dataset & basic preprocessing\n",
    "- removal of reviews shorter than 5 characters\n",
    "- mapping from 1-5 -> 0,1,2\n",
    "- subsampling - without replacement, random state 42, 80 000 rows\n",
    "- stratified train-test split -> preserves ratio of target class in order to represent the distrubution correctly\n",
    "- removed english stopwords\n",
    "- removed non alphanumerical characters\n",
    "\n",
    "Dataset is a subset of https://www.kaggle.com/datasets/cynthiarempel/amazon-us-customer-reviews-dataset and concerns only one tsv file amazon_reviews_us_Major_Appliances_v1_00.tsv"
   ]
  },
  {
   "cell_type": "code",
   "execution_count": 2,
   "id": "initial_id",
   "metadata": {
    "id": "initial_id",
    "ExecuteTime": {
     "end_time": "2024-05-21T21:44:38.001262900Z",
     "start_time": "2024-05-21T21:44:37.988742800Z"
    }
   },
   "outputs": [],
   "source": [
    "import pandas as pd\n",
    "import numpy as np\n",
    "from sklearn.model_selection import train_test_split\n",
    "from sklearn.utils import resample\n",
    "from IPython.display import display\n",
    "import re\n",
    "import matplotlib.pyplot as plt\n",
    "import nltk\n",
    "import tensorflow as tf\n",
    "from tensorflow import keras\n",
    "from tensorflow.keras.layers import TextVectorization\n",
    "from tensorflow.keras import layers\n",
    "import datetime\n",
    "from sklearn.metrics import confusion_matrix, ConfusionMatrixDisplay, f1_score, recall_score\n",
    "# from google.colab import drive\n"
   ]
  },
  {
   "cell_type": "code",
   "execution_count": 2,
   "id": "ca34945a70395e1f",
   "metadata": {
    "ExecuteTime": {
     "end_time": "2024-05-20T21:02:18.034401900Z",
     "start_time": "2024-05-20T21:02:18.023383800Z"
    },
    "colab": {
     "base_uri": "https://localhost:8080/",
     "height": 35
    },
    "id": "ca34945a70395e1f",
    "outputId": "85d7c636-c990-4b09-bb6b-b73e5e81a53d"
   },
   "outputs": [
    {
     "data": {
      "application/vnd.google.colaboratory.intrinsic+json": {
       "type": "string"
      },
      "text/plain": [
       "'2.15.0'"
      ]
     },
     "execution_count": 2,
     "metadata": {},
     "output_type": "execute_result"
    }
   ],
   "source": [
    "tf.__version__"
   ]
  },
  {
   "cell_type": "code",
   "execution_count": 2,
   "id": "4dd962ce90049d5a",
   "metadata": {
    "ExecuteTime": {
     "end_time": "2024-05-20T21:02:18.359190800Z",
     "start_time": "2024-05-20T21:02:18.067385700Z"
    },
    "colab": {
     "base_uri": "https://localhost:8080/"
    },
    "id": "4dd962ce90049d5a",
    "outputId": "7b616deb-8348-4b8c-e7d4-b6ab9030868e"
   },
   "outputs": [
    {
     "name": "stdout",
     "output_type": "stream",
     "text": [
      "Num GPUs Available:  1\n"
     ]
    }
   ],
   "source": [
    "print(\"Num GPUs Available: \", len(tf.config.list_physical_devices('GPU')))"
   ]
  },
  {
   "cell_type": "code",
   "execution_count": 3,
   "id": "41ff8b299de307d2",
   "metadata": {
    "ExecuteTime": {
     "end_time": "2024-05-20T21:02:19.255959800Z",
     "start_time": "2024-05-20T21:02:18.412701900Z"
    },
    "colab": {
     "base_uri": "https://localhost:8080/"
    },
    "id": "41ff8b299de307d2",
    "outputId": "5463b9ec-979b-4a94-a964-738a6f4a3d06"
   },
   "outputs": [
    {
     "name": "stdout",
     "output_type": "stream",
     "text": [
      "Drive already mounted at /content/drive; to attempt to forcibly remount, call drive.mount(\"/content/drive\", force_remount=True).\n"
     ]
    }
   ],
   "source": [
    "drive.mount('/content/drive')\n",
    "dir=\"/content/drive/MyDrive/\"\n",
    "df = pd.read_csv(f'{dir}amazon_reviews_us_Major_Appliances_v1_00.tsv', sep='\\t', on_bad_lines='skip')"
   ]
  },
  {
   "cell_type": "code",
   "execution_count": 5,
   "id": "c630cd8ed64d4f9d",
   "metadata": {
    "ExecuteTime": {
     "end_time": "2024-05-20T16:49:16.459807600Z",
     "start_time": "2024-05-20T16:49:16.434811700Z"
    },
    "colab": {
     "base_uri": "https://localhost:8080/"
    },
    "id": "c630cd8ed64d4f9d",
    "outputId": "07290500-fce1-46b0-db51-a559345a3392"
   },
   "outputs": [
    {
     "data": {
      "text/plain": [
       "(96834, 15)"
      ]
     },
     "execution_count": 5,
     "metadata": {},
     "output_type": "execute_result"
    }
   ],
   "source": [
    "df.shape"
   ]
  },
  {
   "cell_type": "code",
   "execution_count": 4,
   "id": "861e0cae068fbc6",
   "metadata": {
    "ExecuteTime": {
     "end_time": "2024-05-20T21:02:19.317190600Z",
     "start_time": "2024-05-20T21:02:19.270501500Z"
    },
    "id": "861e0cae068fbc6"
   },
   "outputs": [],
   "source": [
    "# remove nas and duplicate reviews\n",
    "df.dropna(axis=0, subset=['review_body'], inplace=True)\n",
    "df.drop_duplicates(subset=['review_body'], inplace=True)"
   ]
  },
  {
   "cell_type": "code",
   "execution_count": 7,
   "id": "4761880489557793",
   "metadata": {
    "ExecuteTime": {
     "end_time": "2024-05-20T07:13:47.268314200Z",
     "start_time": "2024-05-20T07:13:47.251770300Z"
    },
    "colab": {
     "base_uri": "https://localhost:8080/"
    },
    "id": "4761880489557793",
    "outputId": "9f31cd52-f997-452e-891c-dd250ce105a6"
   },
   "outputs": [
    {
     "data": {
      "text/plain": [
       "(93446, 15)"
      ]
     },
     "execution_count": 7,
     "metadata": {},
     "output_type": "execute_result"
    }
   ],
   "source": [
    "df.shape"
   ]
  },
  {
   "cell_type": "code",
   "execution_count": 5,
   "id": "296446ff70a87882",
   "metadata": {
    "ExecuteTime": {
     "end_time": "2024-05-20T21:02:19.713009600Z",
     "start_time": "2024-05-20T21:02:19.627235400Z"
    },
    "colab": {
     "base_uri": "https://localhost:8080/"
    },
    "id": "296446ff70a87882",
    "outputId": "d882504f-b17b-41e6-b7ac-3944547c8319"
   },
   "outputs": [
    {
     "name": "stderr",
     "output_type": "stream",
     "text": [
      "[nltk_data] Downloading package stopwords to /root/nltk_data...\n",
      "[nltk_data]   Package stopwords is already up-to-date!\n"
     ]
    }
   ],
   "source": [
    "nltk.download('stopwords')\n",
    "stopword_list = nltk.corpus.stopwords.words(\"english\") # removes stopwords"
   ]
  },
  {
   "cell_type": "code",
   "execution_count": 6,
   "id": "feccec45640d371c",
   "metadata": {
    "ExecuteTime": {
     "end_time": "2024-05-20T21:02:20.304171500Z",
     "start_time": "2024-05-20T21:02:20.284637800Z"
    },
    "id": "feccec45640d371c"
   },
   "outputs": [],
   "source": [
    "def remove_tags(review):\n",
    "    return re.sub(pattern='<.*?>', string=review , repl=' ')\n",
    "\n",
    "def keep_alnum(review):\n",
    "    return re.sub(pattern='[^A-Za-z\\d\\s:]', string=review, repl=' ')\n",
    "\n",
    "def strip_spaces(review):\n",
    "    return re.sub(pattern='[\\s]{2,}', string=review, repl=' ')\n",
    "\n",
    "def lowercase(review):\n",
    "    return review.lower()\n",
    "\n",
    "def remove_stopwords(review):\n",
    "    review_list = review.split()\n",
    "    return \" \".join([word for word in review_list if word not in stopword_list])"
   ]
  },
  {
   "cell_type": "code",
   "execution_count": 7,
   "id": "ab4b0c058041911e",
   "metadata": {
    "ExecuteTime": {
     "end_time": "2024-05-20T21:02:27.137391700Z",
     "start_time": "2024-05-20T21:02:20.838936800Z"
    },
    "id": "ab4b0c058041911e"
   },
   "outputs": [],
   "source": [
    "df['review_body'] = df['review_body'].apply(remove_tags)        # remove html tags\n",
    "df['review_body'] = df['review_body'].apply(keep_alnum)         # remove sub unicode char\n",
    "df['review_body'] = df['review_body'].apply(strip_spaces)       # strip all unnecessary whitespaces\n",
    "df['review_body'] = df['review_body'].apply(lowercase)          # put everything into lowercase\n",
    "df['review_body'] = df['review_body'].apply(remove_stopwords)   # put everything into lowercase\n",
    "df = df[df['review_body'].str.len() > 5]                        # keep only reviews longer than 5 characters"
   ]
  },
  {
   "cell_type": "code",
   "execution_count": 11,
   "id": "633603daaf3937ff",
   "metadata": {
    "ExecuteTime": {
     "end_time": "2024-05-20T07:13:54.335345900Z",
     "start_time": "2024-05-20T07:13:54.311955300Z"
    },
    "colab": {
     "base_uri": "https://localhost:8080/",
     "height": 910
    },
    "id": "633603daaf3937ff",
    "outputId": "e9e53ce7-28b6-47a9-ce80-8ae219dfbe07"
   },
   "outputs": [
    {
     "data": {
      "application/vnd.google.colaboratory.intrinsic+json": {
       "summary": "{\n  \"name\": \"df\",\n  \"rows\": 92899,\n  \"fields\": [\n    {\n      \"column\": \"marketplace\",\n      \"properties\": {\n        \"dtype\": \"category\",\n        \"num_unique_values\": 1,\n        \"samples\": [\n          \"US\"\n        ],\n        \"semantic_type\": \"\",\n        \"description\": \"\"\n      }\n    },\n    {\n      \"column\": \"customer_id\",\n      \"properties\": {\n        \"dtype\": \"number\",\n        \"std\": 15213069,\n        \"min\": 10097,\n        \"max\": 53096480,\n        \"num_unique_values\": 88115,\n        \"samples\": [\n          16403539\n        ],\n        \"semantic_type\": \"\",\n        \"description\": \"\"\n      }\n    },\n    {\n      \"column\": \"review_id\",\n      \"properties\": {\n        \"dtype\": \"string\",\n        \"num_unique_values\": 92899,\n        \"samples\": [\n          \"R3IZQ5QBR0C7B7\"\n        ],\n        \"semantic_type\": \"\",\n        \"description\": \"\"\n      }\n    },\n    {\n      \"column\": \"product_id\",\n      \"properties\": {\n        \"dtype\": \"category\",\n        \"num_unique_values\": 11390,\n        \"samples\": [\n          \"B009P9US1I\"\n        ],\n        \"semantic_type\": \"\",\n        \"description\": \"\"\n      }\n    },\n    {\n      \"column\": \"product_parent\",\n      \"properties\": {\n        \"dtype\": \"number\",\n        \"std\": 278674037,\n        \"min\": 20499,\n        \"max\": 999902759,\n        \"num_unique_values\": 10378,\n        \"samples\": [\n          91563365\n        ],\n        \"semantic_type\": \"\",\n        \"description\": \"\"\n      }\n    },\n    {\n      \"column\": \"product_title\",\n      \"properties\": {\n        \"dtype\": \"category\",\n        \"num_unique_values\": 10851,\n        \"samples\": [\n          \"Samsung : WF218ANB 4.0 cu. ft. Front Load Washer - Breakwater Blue\"\n        ],\n        \"semantic_type\": \"\",\n        \"description\": \"\"\n      }\n    },\n    {\n      \"column\": \"product_category\",\n      \"properties\": {\n        \"dtype\": \"category\",\n        \"num_unique_values\": 1,\n        \"samples\": [\n          \"Major Appliances\"\n        ],\n        \"semantic_type\": \"\",\n        \"description\": \"\"\n      }\n    },\n    {\n      \"column\": \"star_rating\",\n      \"properties\": {\n        \"dtype\": \"number\",\n        \"std\": 1,\n        \"min\": 1,\n        \"max\": 5,\n        \"num_unique_values\": 5,\n        \"samples\": [\n          1\n        ],\n        \"semantic_type\": \"\",\n        \"description\": \"\"\n      }\n    },\n    {\n      \"column\": \"helpful_votes\",\n      \"properties\": {\n        \"dtype\": \"number\",\n        \"std\": 21,\n        \"min\": 0,\n        \"max\": 1724,\n        \"num_unique_values\": 285,\n        \"samples\": [\n          83\n        ],\n        \"semantic_type\": \"\",\n        \"description\": \"\"\n      }\n    },\n    {\n      \"column\": \"total_votes\",\n      \"properties\": {\n        \"dtype\": \"number\",\n        \"std\": 22,\n        \"min\": 0,\n        \"max\": 1761,\n        \"num_unique_values\": 306,\n        \"samples\": [\n          149\n        ],\n        \"semantic_type\": \"\",\n        \"description\": \"\"\n      }\n    },\n    {\n      \"column\": \"vine\",\n      \"properties\": {\n        \"dtype\": \"category\",\n        \"num_unique_values\": 2,\n        \"samples\": [\n          \"Y\"\n        ],\n        \"semantic_type\": \"\",\n        \"description\": \"\"\n      }\n    },\n    {\n      \"column\": \"verified_purchase\",\n      \"properties\": {\n        \"dtype\": \"category\",\n        \"num_unique_values\": 2,\n        \"samples\": [\n          \"N\"\n        ],\n        \"semantic_type\": \"\",\n        \"description\": \"\"\n      }\n    },\n    {\n      \"column\": \"review_headline\",\n      \"properties\": {\n        \"dtype\": \"string\",\n        \"num_unique_values\": 64981,\n        \"samples\": [\n          \"Nice Overall but..\"\n        ],\n        \"semantic_type\": \"\",\n        \"description\": \"\"\n      }\n    },\n    {\n      \"column\": \"review_body\",\n      \"properties\": {\n        \"dtype\": \"string\",\n        \"num_unique_values\": 91212,\n        \"samples\": [\n          \"everything\"\n        ],\n        \"semantic_type\": \"\",\n        \"description\": \"\"\n      }\n    },\n    {\n      \"column\": \"review_date\",\n      \"properties\": {\n        \"dtype\": \"object\",\n        \"num_unique_values\": 3468,\n        \"samples\": [\n          \"2011-04-12\"\n        ],\n        \"semantic_type\": \"\",\n        \"description\": \"\"\n      }\n    }\n  ]\n}",
       "type": "dataframe",
       "variable_name": "df"
      },
      "text/html": [
       "\n",
       "  <div id=\"df-237eb2dc-f61a-4190-9898-5e4d18bd9fc6\" class=\"colab-df-container\">\n",
       "    <div>\n",
       "<style scoped>\n",
       "    .dataframe tbody tr th:only-of-type {\n",
       "        vertical-align: middle;\n",
       "    }\n",
       "\n",
       "    .dataframe tbody tr th {\n",
       "        vertical-align: top;\n",
       "    }\n",
       "\n",
       "    .dataframe thead th {\n",
       "        text-align: right;\n",
       "    }\n",
       "</style>\n",
       "<table border=\"1\" class=\"dataframe\">\n",
       "  <thead>\n",
       "    <tr style=\"text-align: right;\">\n",
       "      <th></th>\n",
       "      <th>marketplace</th>\n",
       "      <th>customer_id</th>\n",
       "      <th>review_id</th>\n",
       "      <th>product_id</th>\n",
       "      <th>product_parent</th>\n",
       "      <th>product_title</th>\n",
       "      <th>product_category</th>\n",
       "      <th>star_rating</th>\n",
       "      <th>helpful_votes</th>\n",
       "      <th>total_votes</th>\n",
       "      <th>vine</th>\n",
       "      <th>verified_purchase</th>\n",
       "      <th>review_headline</th>\n",
       "      <th>review_body</th>\n",
       "      <th>review_date</th>\n",
       "    </tr>\n",
       "  </thead>\n",
       "  <tbody>\n",
       "    <tr>\n",
       "      <th>0</th>\n",
       "      <td>US</td>\n",
       "      <td>16199106</td>\n",
       "      <td>R203HPW78Z7N4K</td>\n",
       "      <td>B0067WNSZY</td>\n",
       "      <td>633038551</td>\n",
       "      <td>FGGF3032MW Gallery Series 30\" Wide Freestandin...</td>\n",
       "      <td>Major Appliances</td>\n",
       "      <td>5</td>\n",
       "      <td>0</td>\n",
       "      <td>0</td>\n",
       "      <td>N</td>\n",
       "      <td>Y</td>\n",
       "      <td>If you need a new stove, this is a winner.</td>\n",
       "      <td>great stove wonderful replacement sort antique...</td>\n",
       "      <td>2015-08-31</td>\n",
       "    </tr>\n",
       "    <tr>\n",
       "      <th>1</th>\n",
       "      <td>US</td>\n",
       "      <td>16374060</td>\n",
       "      <td>R2EAIGVLEALSP3</td>\n",
       "      <td>B002QSXK60</td>\n",
       "      <td>811766671</td>\n",
       "      <td>Best Hand Clothes Wringer</td>\n",
       "      <td>Major Appliances</td>\n",
       "      <td>5</td>\n",
       "      <td>1</td>\n",
       "      <td>1</td>\n",
       "      <td>N</td>\n",
       "      <td>Y</td>\n",
       "      <td>Five Stars</td>\n",
       "      <td>worked great</td>\n",
       "      <td>2015-08-31</td>\n",
       "    </tr>\n",
       "    <tr>\n",
       "      <th>2</th>\n",
       "      <td>US</td>\n",
       "      <td>15322085</td>\n",
       "      <td>R1K1CD73HHLILA</td>\n",
       "      <td>B00EC452R6</td>\n",
       "      <td>345562728</td>\n",
       "      <td>Supco SET184 Thermal Cutoff Kit</td>\n",
       "      <td>Major Appliances</td>\n",
       "      <td>5</td>\n",
       "      <td>0</td>\n",
       "      <td>0</td>\n",
       "      <td>N</td>\n",
       "      <td>Y</td>\n",
       "      <td>Fast Shipping</td>\n",
       "      <td>part exactly needed saved purchasing</td>\n",
       "      <td>2015-08-31</td>\n",
       "    </tr>\n",
       "    <tr>\n",
       "      <th>3</th>\n",
       "      <td>US</td>\n",
       "      <td>32004835</td>\n",
       "      <td>R2KZBMOFRMYOPO</td>\n",
       "      <td>B00MVVIF2G</td>\n",
       "      <td>563052763</td>\n",
       "      <td>Midea WHS-160RB1 Compact Single Reversible Doo...</td>\n",
       "      <td>Major Appliances</td>\n",
       "      <td>5</td>\n",
       "      <td>1</td>\n",
       "      <td>1</td>\n",
       "      <td>N</td>\n",
       "      <td>Y</td>\n",
       "      <td>Five Stars</td>\n",
       "      <td>love refrigerator keeps everything cold recommend</td>\n",
       "      <td>2015-08-31</td>\n",
       "    </tr>\n",
       "    <tr>\n",
       "      <th>4</th>\n",
       "      <td>US</td>\n",
       "      <td>25414497</td>\n",
       "      <td>R6BIZOZY6UD01</td>\n",
       "      <td>B00IY7BNUW</td>\n",
       "      <td>874236579</td>\n",
       "      <td>Avalon Bay Portable Ice Maker</td>\n",
       "      <td>Major Appliances</td>\n",
       "      <td>5</td>\n",
       "      <td>0</td>\n",
       "      <td>0</td>\n",
       "      <td>N</td>\n",
       "      <td>Y</td>\n",
       "      <td>Five Stars</td>\n",
       "      <td>running store ice works perfectly</td>\n",
       "      <td>2015-08-31</td>\n",
       "    </tr>\n",
       "    <tr>\n",
       "      <th>...</th>\n",
       "      <td>...</td>\n",
       "      <td>...</td>\n",
       "      <td>...</td>\n",
       "      <td>...</td>\n",
       "      <td>...</td>\n",
       "      <td>...</td>\n",
       "      <td>...</td>\n",
       "      <td>...</td>\n",
       "      <td>...</td>\n",
       "      <td>...</td>\n",
       "      <td>...</td>\n",
       "      <td>...</td>\n",
       "      <td>...</td>\n",
       "      <td>...</td>\n",
       "      <td>...</td>\n",
       "    </tr>\n",
       "    <tr>\n",
       "      <th>96829</th>\n",
       "      <td>US</td>\n",
       "      <td>37431087</td>\n",
       "      <td>R3CYIDM3UEY5PA</td>\n",
       "      <td>B00005O64S</td>\n",
       "      <td>222987122</td>\n",
       "      <td>Haier HDT18PA Space Saver Compact Countertop D...</td>\n",
       "      <td>Major Appliances</td>\n",
       "      <td>4</td>\n",
       "      <td>37</td>\n",
       "      <td>43</td>\n",
       "      <td>N</td>\n",
       "      <td>N</td>\n",
       "      <td>Pretty good dishwasher for small apartment</td>\n",
       "      <td>pretty good dishwasher price good job cleaning...</td>\n",
       "      <td>2002-07-14</td>\n",
       "    </tr>\n",
       "    <tr>\n",
       "      <th>96830</th>\n",
       "      <td>US</td>\n",
       "      <td>44686434</td>\n",
       "      <td>R1PLFLGSA6N9WU</td>\n",
       "      <td>B00005O64T</td>\n",
       "      <td>802734810</td>\n",
       "      <td>Haier America HSE02-WNAWW 1.8-Cubic-Foot Capac...</td>\n",
       "      <td>Major Appliances</td>\n",
       "      <td>1</td>\n",
       "      <td>33</td>\n",
       "      <td>39</td>\n",
       "      <td>N</td>\n",
       "      <td>N</td>\n",
       "      <td>Does not last long</td>\n",
       "      <td>bought office extremely dissatisfied stopped w...</td>\n",
       "      <td>2002-06-03</td>\n",
       "    </tr>\n",
       "    <tr>\n",
       "      <th>96831</th>\n",
       "      <td>US</td>\n",
       "      <td>36739731</td>\n",
       "      <td>RBPARLMOY6ZU5</td>\n",
       "      <td>B00005O64S</td>\n",
       "      <td>222987122</td>\n",
       "      <td>Haier HDT18PA Space Saver Compact Countertop D...</td>\n",
       "      <td>Major Appliances</td>\n",
       "      <td>5</td>\n",
       "      <td>6</td>\n",
       "      <td>45</td>\n",
       "      <td>N</td>\n",
       "      <td>N</td>\n",
       "      <td>Rave review for space saver</td>\n",
       "      <td>saw small dishwasher thought wonderful idea sm...</td>\n",
       "      <td>2002-05-05</td>\n",
       "    </tr>\n",
       "    <tr>\n",
       "      <th>96832</th>\n",
       "      <td>US</td>\n",
       "      <td>50744080</td>\n",
       "      <td>RSS5TDZOGUEB6</td>\n",
       "      <td>B00004SACT</td>\n",
       "      <td>344802997</td>\n",
       "      <td>Sanyo Two-Door 2.9 Cubic Foot Refrigerator</td>\n",
       "      <td>Major Appliances</td>\n",
       "      <td>4</td>\n",
       "      <td>71</td>\n",
       "      <td>71</td>\n",
       "      <td>N</td>\n",
       "      <td>N</td>\n",
       "      <td>Sanyo compact refrigerator</td>\n",
       "      <td>probably best small refrigerator market true f...</td>\n",
       "      <td>2000-09-29</td>\n",
       "    </tr>\n",
       "    <tr>\n",
       "      <th>96833</th>\n",
       "      <td>US</td>\n",
       "      <td>48699462</td>\n",
       "      <td>R1X5L2BT3H084O</td>\n",
       "      <td>B00004SACT</td>\n",
       "      <td>344802997</td>\n",
       "      <td>Sanyo Two-Door 2.9 Cubic Foot Refrigerator</td>\n",
       "      <td>Major Appliances</td>\n",
       "      <td>3</td>\n",
       "      <td>8</td>\n",
       "      <td>40</td>\n",
       "      <td>N</td>\n",
       "      <td>N</td>\n",
       "      <td>a normal frig</td>\n",
       "      <td>normal mid sized refrigerater good price reall...</td>\n",
       "      <td>2000-08-26</td>\n",
       "    </tr>\n",
       "  </tbody>\n",
       "</table>\n",
       "<p>92899 rows × 15 columns</p>\n",
       "</div>\n",
       "    <div class=\"colab-df-buttons\">\n",
       "\n",
       "  <div class=\"colab-df-container\">\n",
       "    <button class=\"colab-df-convert\" onclick=\"convertToInteractive('df-237eb2dc-f61a-4190-9898-5e4d18bd9fc6')\"\n",
       "            title=\"Convert this dataframe to an interactive table.\"\n",
       "            style=\"display:none;\">\n",
       "\n",
       "  <svg xmlns=\"http://www.w3.org/2000/svg\" height=\"24px\" viewBox=\"0 -960 960 960\">\n",
       "    <path d=\"M120-120v-720h720v720H120Zm60-500h600v-160H180v160Zm220 220h160v-160H400v160Zm0 220h160v-160H400v160ZM180-400h160v-160H180v160Zm440 0h160v-160H620v160ZM180-180h160v-160H180v160Zm440 0h160v-160H620v160Z\"/>\n",
       "  </svg>\n",
       "    </button>\n",
       "\n",
       "  <style>\n",
       "    .colab-df-container {\n",
       "      display:flex;\n",
       "      gap: 12px;\n",
       "    }\n",
       "\n",
       "    .colab-df-convert {\n",
       "      background-color: #E8F0FE;\n",
       "      border: none;\n",
       "      border-radius: 50%;\n",
       "      cursor: pointer;\n",
       "      display: none;\n",
       "      fill: #1967D2;\n",
       "      height: 32px;\n",
       "      padding: 0 0 0 0;\n",
       "      width: 32px;\n",
       "    }\n",
       "\n",
       "    .colab-df-convert:hover {\n",
       "      background-color: #E2EBFA;\n",
       "      box-shadow: 0px 1px 2px rgba(60, 64, 67, 0.3), 0px 1px 3px 1px rgba(60, 64, 67, 0.15);\n",
       "      fill: #174EA6;\n",
       "    }\n",
       "\n",
       "    .colab-df-buttons div {\n",
       "      margin-bottom: 4px;\n",
       "    }\n",
       "\n",
       "    [theme=dark] .colab-df-convert {\n",
       "      background-color: #3B4455;\n",
       "      fill: #D2E3FC;\n",
       "    }\n",
       "\n",
       "    [theme=dark] .colab-df-convert:hover {\n",
       "      background-color: #434B5C;\n",
       "      box-shadow: 0px 1px 3px 1px rgba(0, 0, 0, 0.15);\n",
       "      filter: drop-shadow(0px 1px 2px rgba(0, 0, 0, 0.3));\n",
       "      fill: #FFFFFF;\n",
       "    }\n",
       "  </style>\n",
       "\n",
       "    <script>\n",
       "      const buttonEl =\n",
       "        document.querySelector('#df-237eb2dc-f61a-4190-9898-5e4d18bd9fc6 button.colab-df-convert');\n",
       "      buttonEl.style.display =\n",
       "        google.colab.kernel.accessAllowed ? 'block' : 'none';\n",
       "\n",
       "      async function convertToInteractive(key) {\n",
       "        const element = document.querySelector('#df-237eb2dc-f61a-4190-9898-5e4d18bd9fc6');\n",
       "        const dataTable =\n",
       "          await google.colab.kernel.invokeFunction('convertToInteractive',\n",
       "                                                    [key], {});\n",
       "        if (!dataTable) return;\n",
       "\n",
       "        const docLinkHtml = 'Like what you see? Visit the ' +\n",
       "          '<a target=\"_blank\" href=https://colab.research.google.com/notebooks/data_table.ipynb>data table notebook</a>'\n",
       "          + ' to learn more about interactive tables.';\n",
       "        element.innerHTML = '';\n",
       "        dataTable['output_type'] = 'display_data';\n",
       "        await google.colab.output.renderOutput(dataTable, element);\n",
       "        const docLink = document.createElement('div');\n",
       "        docLink.innerHTML = docLinkHtml;\n",
       "        element.appendChild(docLink);\n",
       "      }\n",
       "    </script>\n",
       "  </div>\n",
       "\n",
       "\n",
       "<div id=\"df-eb0ee1f4-03d1-4122-8180-8e1976752475\">\n",
       "  <button class=\"colab-df-quickchart\" onclick=\"quickchart('df-eb0ee1f4-03d1-4122-8180-8e1976752475')\"\n",
       "            title=\"Suggest charts\"\n",
       "            style=\"display:none;\">\n",
       "\n",
       "<svg xmlns=\"http://www.w3.org/2000/svg\" height=\"24px\"viewBox=\"0 0 24 24\"\n",
       "     width=\"24px\">\n",
       "    <g>\n",
       "        <path d=\"M19 3H5c-1.1 0-2 .9-2 2v14c0 1.1.9 2 2 2h14c1.1 0 2-.9 2-2V5c0-1.1-.9-2-2-2zM9 17H7v-7h2v7zm4 0h-2V7h2v10zm4 0h-2v-4h2v4z\"/>\n",
       "    </g>\n",
       "</svg>\n",
       "  </button>\n",
       "\n",
       "<style>\n",
       "  .colab-df-quickchart {\n",
       "      --bg-color: #E8F0FE;\n",
       "      --fill-color: #1967D2;\n",
       "      --hover-bg-color: #E2EBFA;\n",
       "      --hover-fill-color: #174EA6;\n",
       "      --disabled-fill-color: #AAA;\n",
       "      --disabled-bg-color: #DDD;\n",
       "  }\n",
       "\n",
       "  [theme=dark] .colab-df-quickchart {\n",
       "      --bg-color: #3B4455;\n",
       "      --fill-color: #D2E3FC;\n",
       "      --hover-bg-color: #434B5C;\n",
       "      --hover-fill-color: #FFFFFF;\n",
       "      --disabled-bg-color: #3B4455;\n",
       "      --disabled-fill-color: #666;\n",
       "  }\n",
       "\n",
       "  .colab-df-quickchart {\n",
       "    background-color: var(--bg-color);\n",
       "    border: none;\n",
       "    border-radius: 50%;\n",
       "    cursor: pointer;\n",
       "    display: none;\n",
       "    fill: var(--fill-color);\n",
       "    height: 32px;\n",
       "    padding: 0;\n",
       "    width: 32px;\n",
       "  }\n",
       "\n",
       "  .colab-df-quickchart:hover {\n",
       "    background-color: var(--hover-bg-color);\n",
       "    box-shadow: 0 1px 2px rgba(60, 64, 67, 0.3), 0 1px 3px 1px rgba(60, 64, 67, 0.15);\n",
       "    fill: var(--button-hover-fill-color);\n",
       "  }\n",
       "\n",
       "  .colab-df-quickchart-complete:disabled,\n",
       "  .colab-df-quickchart-complete:disabled:hover {\n",
       "    background-color: var(--disabled-bg-color);\n",
       "    fill: var(--disabled-fill-color);\n",
       "    box-shadow: none;\n",
       "  }\n",
       "\n",
       "  .colab-df-spinner {\n",
       "    border: 2px solid var(--fill-color);\n",
       "    border-color: transparent;\n",
       "    border-bottom-color: var(--fill-color);\n",
       "    animation:\n",
       "      spin 1s steps(1) infinite;\n",
       "  }\n",
       "\n",
       "  @keyframes spin {\n",
       "    0% {\n",
       "      border-color: transparent;\n",
       "      border-bottom-color: var(--fill-color);\n",
       "      border-left-color: var(--fill-color);\n",
       "    }\n",
       "    20% {\n",
       "      border-color: transparent;\n",
       "      border-left-color: var(--fill-color);\n",
       "      border-top-color: var(--fill-color);\n",
       "    }\n",
       "    30% {\n",
       "      border-color: transparent;\n",
       "      border-left-color: var(--fill-color);\n",
       "      border-top-color: var(--fill-color);\n",
       "      border-right-color: var(--fill-color);\n",
       "    }\n",
       "    40% {\n",
       "      border-color: transparent;\n",
       "      border-right-color: var(--fill-color);\n",
       "      border-top-color: var(--fill-color);\n",
       "    }\n",
       "    60% {\n",
       "      border-color: transparent;\n",
       "      border-right-color: var(--fill-color);\n",
       "    }\n",
       "    80% {\n",
       "      border-color: transparent;\n",
       "      border-right-color: var(--fill-color);\n",
       "      border-bottom-color: var(--fill-color);\n",
       "    }\n",
       "    90% {\n",
       "      border-color: transparent;\n",
       "      border-bottom-color: var(--fill-color);\n",
       "    }\n",
       "  }\n",
       "</style>\n",
       "\n",
       "  <script>\n",
       "    async function quickchart(key) {\n",
       "      const quickchartButtonEl =\n",
       "        document.querySelector('#' + key + ' button');\n",
       "      quickchartButtonEl.disabled = true;  // To prevent multiple clicks.\n",
       "      quickchartButtonEl.classList.add('colab-df-spinner');\n",
       "      try {\n",
       "        const charts = await google.colab.kernel.invokeFunction(\n",
       "            'suggestCharts', [key], {});\n",
       "      } catch (error) {\n",
       "        console.error('Error during call to suggestCharts:', error);\n",
       "      }\n",
       "      quickchartButtonEl.classList.remove('colab-df-spinner');\n",
       "      quickchartButtonEl.classList.add('colab-df-quickchart-complete');\n",
       "    }\n",
       "    (() => {\n",
       "      let quickchartButtonEl =\n",
       "        document.querySelector('#df-eb0ee1f4-03d1-4122-8180-8e1976752475 button');\n",
       "      quickchartButtonEl.style.display =\n",
       "        google.colab.kernel.accessAllowed ? 'block' : 'none';\n",
       "    })();\n",
       "  </script>\n",
       "</div>\n",
       "    </div>\n",
       "  </div>\n"
      ],
      "text/plain": [
       "      marketplace  customer_id       review_id  product_id  product_parent  \\\n",
       "0              US     16199106  R203HPW78Z7N4K  B0067WNSZY       633038551   \n",
       "1              US     16374060  R2EAIGVLEALSP3  B002QSXK60       811766671   \n",
       "2              US     15322085  R1K1CD73HHLILA  B00EC452R6       345562728   \n",
       "3              US     32004835  R2KZBMOFRMYOPO  B00MVVIF2G       563052763   \n",
       "4              US     25414497   R6BIZOZY6UD01  B00IY7BNUW       874236579   \n",
       "...           ...          ...             ...         ...             ...   \n",
       "96829          US     37431087  R3CYIDM3UEY5PA  B00005O64S       222987122   \n",
       "96830          US     44686434  R1PLFLGSA6N9WU  B00005O64T       802734810   \n",
       "96831          US     36739731   RBPARLMOY6ZU5  B00005O64S       222987122   \n",
       "96832          US     50744080   RSS5TDZOGUEB6  B00004SACT       344802997   \n",
       "96833          US     48699462  R1X5L2BT3H084O  B00004SACT       344802997   \n",
       "\n",
       "                                           product_title  product_category  \\\n",
       "0      FGGF3032MW Gallery Series 30\" Wide Freestandin...  Major Appliances   \n",
       "1                              Best Hand Clothes Wringer  Major Appliances   \n",
       "2                        Supco SET184 Thermal Cutoff Kit  Major Appliances   \n",
       "3      Midea WHS-160RB1 Compact Single Reversible Doo...  Major Appliances   \n",
       "4                          Avalon Bay Portable Ice Maker  Major Appliances   \n",
       "...                                                  ...               ...   \n",
       "96829  Haier HDT18PA Space Saver Compact Countertop D...  Major Appliances   \n",
       "96830  Haier America HSE02-WNAWW 1.8-Cubic-Foot Capac...  Major Appliances   \n",
       "96831  Haier HDT18PA Space Saver Compact Countertop D...  Major Appliances   \n",
       "96832         Sanyo Two-Door 2.9 Cubic Foot Refrigerator  Major Appliances   \n",
       "96833         Sanyo Two-Door 2.9 Cubic Foot Refrigerator  Major Appliances   \n",
       "\n",
       "       star_rating  helpful_votes  total_votes vine verified_purchase  \\\n",
       "0                5              0            0    N                 Y   \n",
       "1                5              1            1    N                 Y   \n",
       "2                5              0            0    N                 Y   \n",
       "3                5              1            1    N                 Y   \n",
       "4                5              0            0    N                 Y   \n",
       "...            ...            ...          ...  ...               ...   \n",
       "96829            4             37           43    N                 N   \n",
       "96830            1             33           39    N                 N   \n",
       "96831            5              6           45    N                 N   \n",
       "96832            4             71           71    N                 N   \n",
       "96833            3              8           40    N                 N   \n",
       "\n",
       "                                  review_headline  \\\n",
       "0      If you need a new stove, this is a winner.   \n",
       "1                                      Five Stars   \n",
       "2                                   Fast Shipping   \n",
       "3                                      Five Stars   \n",
       "4                                      Five Stars   \n",
       "...                                           ...   \n",
       "96829  Pretty good dishwasher for small apartment   \n",
       "96830                          Does not last long   \n",
       "96831                 Rave review for space saver   \n",
       "96832                  Sanyo compact refrigerator   \n",
       "96833                               a normal frig   \n",
       "\n",
       "                                             review_body review_date  \n",
       "0      great stove wonderful replacement sort antique...  2015-08-31  \n",
       "1                                           worked great  2015-08-31  \n",
       "2                   part exactly needed saved purchasing  2015-08-31  \n",
       "3      love refrigerator keeps everything cold recommend  2015-08-31  \n",
       "4                      running store ice works perfectly  2015-08-31  \n",
       "...                                                  ...         ...  \n",
       "96829  pretty good dishwasher price good job cleaning...  2002-07-14  \n",
       "96830  bought office extremely dissatisfied stopped w...  2002-06-03  \n",
       "96831  saw small dishwasher thought wonderful idea sm...  2002-05-05  \n",
       "96832  probably best small refrigerator market true f...  2000-09-29  \n",
       "96833  normal mid sized refrigerater good price reall...  2000-08-26  \n",
       "\n",
       "[92899 rows x 15 columns]"
      ]
     },
     "execution_count": 11,
     "metadata": {},
     "output_type": "execute_result"
    }
   ],
   "source": [
    "df"
   ]
  },
  {
   "cell_type": "code",
   "execution_count": 8,
   "id": "174a2be074f5703",
   "metadata": {
    "ExecuteTime": {
     "end_time": "2024-05-20T21:02:27.185205600Z",
     "start_time": "2024-05-20T21:02:27.142399800Z"
    },
    "colab": {
     "base_uri": "https://localhost:8080/"
    },
    "id": "174a2be074f5703",
    "outputId": "eac00b13-b222-4a8f-ff74-b2cd0bb1292d"
   },
   "outputs": [
    {
     "name": "stderr",
     "output_type": "stream",
     "text": [
      "<ipython-input-8-cc3c5e4fce76>:1: SettingWithCopyWarning: \n",
      "A value is trying to be set on a copy of a slice from a DataFrame.\n",
      "Try using .loc[row_indexer,col_indexer] = value instead\n",
      "\n",
      "See the caveats in the documentation: https://pandas.pydata.org/pandas-docs/stable/user_guide/indexing.html#returning-a-view-versus-a-copy\n",
      "  df.loc[df['star_rating'] < 3, 'sentiment'] = 0\n",
      "<ipython-input-8-cc3c5e4fce76>:4: SettingWithCopyWarning: \n",
      "A value is trying to be set on a copy of a slice from a DataFrame.\n",
      "Try using .loc[row_indexer,col_indexer] = value instead\n",
      "\n",
      "See the caveats in the documentation: https://pandas.pydata.org/pandas-docs/stable/user_guide/indexing.html#returning-a-view-versus-a-copy\n",
      "  df['sentiment'] = df['sentiment'].astype('int')\n",
      "<ipython-input-8-cc3c5e4fce76>:5: SettingWithCopyWarning: \n",
      "A value is trying to be set on a copy of a slice from a DataFrame\n",
      "\n",
      "See the caveats in the documentation: https://pandas.pydata.org/pandas-docs/stable/user_guide/indexing.html#returning-a-view-versus-a-copy\n",
      "  df.drop('star_rating', axis=1, inplace=True)\n"
     ]
    }
   ],
   "source": [
    "df.loc[df['star_rating'] < 3, 'sentiment'] = 0\n",
    "df.loc[df['star_rating'] == 3, 'sentiment'] = 1\n",
    "df.loc[df['star_rating'] > 3, 'sentiment'] = 2\n",
    "df['sentiment'] = df['sentiment'].astype('int')\n",
    "df.drop('star_rating', axis=1, inplace=True)\n",
    "df = resample(df, n_samples=80000, random_state=42, replace=False)"
   ]
  },
  {
   "cell_type": "code",
   "execution_count": 13,
   "id": "61075fa8ce779b40",
   "metadata": {
    "ExecuteTime": {
     "end_time": "2024-05-20T07:13:54.438056900Z",
     "start_time": "2024-05-20T07:13:54.367233200Z"
    },
    "colab": {
     "base_uri": "https://localhost:8080/",
     "height": 999
    },
    "id": "61075fa8ce779b40",
    "outputId": "4ba2da94-db25-4d7c-cec9-f43e2d1b10c4"
   },
   "outputs": [
    {
     "data": {
      "application/vnd.google.colaboratory.intrinsic+json": {
       "summary": "{\n  \"name\": \"df\",\n  \"rows\": 80000,\n  \"fields\": [\n    {\n      \"column\": \"marketplace\",\n      \"properties\": {\n        \"dtype\": \"category\",\n        \"num_unique_values\": 1,\n        \"samples\": [\n          \"US\"\n        ],\n        \"semantic_type\": \"\",\n        \"description\": \"\"\n      }\n    },\n    {\n      \"column\": \"customer_id\",\n      \"properties\": {\n        \"dtype\": \"number\",\n        \"std\": 15228578,\n        \"min\": 10097,\n        \"max\": 53096480,\n        \"num_unique_values\": 76377,\n        \"samples\": [\n          37958710\n        ],\n        \"semantic_type\": \"\",\n        \"description\": \"\"\n      }\n    },\n    {\n      \"column\": \"review_id\",\n      \"properties\": {\n        \"dtype\": \"string\",\n        \"num_unique_values\": 80000,\n        \"samples\": [\n          \"RJMDYCLOVGCZZ\"\n        ],\n        \"semantic_type\": \"\",\n        \"description\": \"\"\n      }\n    },\n    {\n      \"column\": \"product_id\",\n      \"properties\": {\n        \"dtype\": \"category\",\n        \"num_unique_values\": 10703,\n        \"samples\": [\n          \"B000UVWBRY\"\n        ],\n        \"semantic_type\": \"\",\n        \"description\": \"\"\n      }\n    },\n    {\n      \"column\": \"product_parent\",\n      \"properties\": {\n        \"dtype\": \"number\",\n        \"std\": 278577156,\n        \"min\": 20499,\n        \"max\": 999902759,\n        \"num_unique_values\": 9769,\n        \"samples\": [\n          730486215\n        ],\n        \"semantic_type\": \"\",\n        \"description\": \"\"\n      }\n    },\n    {\n      \"column\": \"product_title\",\n      \"properties\": {\n        \"dtype\": \"category\",\n        \"num_unique_values\": 10201,\n        \"samples\": [\n          \"Haier HCR27W Compact Refrigerator, 2.7 Cubic Feet\"\n        ],\n        \"semantic_type\": \"\",\n        \"description\": \"\"\n      }\n    },\n    {\n      \"column\": \"product_category\",\n      \"properties\": {\n        \"dtype\": \"category\",\n        \"num_unique_values\": 1,\n        \"samples\": [\n          \"Major Appliances\"\n        ],\n        \"semantic_type\": \"\",\n        \"description\": \"\"\n      }\n    },\n    {\n      \"column\": \"helpful_votes\",\n      \"properties\": {\n        \"dtype\": \"number\",\n        \"std\": 21,\n        \"min\": 0,\n        \"max\": 1724,\n        \"num_unique_values\": 276,\n        \"samples\": [\n          19\n        ],\n        \"semantic_type\": \"\",\n        \"description\": \"\"\n      }\n    },\n    {\n      \"column\": \"total_votes\",\n      \"properties\": {\n        \"dtype\": \"number\",\n        \"std\": 22,\n        \"min\": 0,\n        \"max\": 1761,\n        \"num_unique_values\": 294,\n        \"samples\": [\n          52\n        ],\n        \"semantic_type\": \"\",\n        \"description\": \"\"\n      }\n    },\n    {\n      \"column\": \"vine\",\n      \"properties\": {\n        \"dtype\": \"category\",\n        \"num_unique_values\": 2,\n        \"samples\": [\n          \"Y\"\n        ],\n        \"semantic_type\": \"\",\n        \"description\": \"\"\n      }\n    },\n    {\n      \"column\": \"verified_purchase\",\n      \"properties\": {\n        \"dtype\": \"category\",\n        \"num_unique_values\": 2,\n        \"samples\": [\n          \"Y\"\n        ],\n        \"semantic_type\": \"\",\n        \"description\": \"\"\n      }\n    },\n    {\n      \"column\": \"review_headline\",\n      \"properties\": {\n        \"dtype\": \"string\",\n        \"num_unique_values\": 56568,\n        \"samples\": [\n          \"A looker but NOT a performer\"\n        ],\n        \"semantic_type\": \"\",\n        \"description\": \"\"\n      }\n    },\n    {\n      \"column\": \"review_body\",\n      \"properties\": {\n        \"dtype\": \"string\",\n        \"num_unique_values\": 78648,\n        \"samples\": [\n          \"wish read reviews buying concur problems wobbling large pot large burners sit far back order sit level directly burner burner behind useless pot way center contacted whirlpool waiting response\"\n        ],\n        \"semantic_type\": \"\",\n        \"description\": \"\"\n      }\n    },\n    {\n      \"column\": \"review_date\",\n      \"properties\": {\n        \"dtype\": \"object\",\n        \"num_unique_values\": 3377,\n        \"samples\": [\n          \"2000-09-29\"\n        ],\n        \"semantic_type\": \"\",\n        \"description\": \"\"\n      }\n    },\n    {\n      \"column\": \"sentiment\",\n      \"properties\": {\n        \"dtype\": \"number\",\n        \"std\": 0,\n        \"min\": 0,\n        \"max\": 2,\n        \"num_unique_values\": 3,\n        \"samples\": [\n          0\n        ],\n        \"semantic_type\": \"\",\n        \"description\": \"\"\n      }\n    }\n  ]\n}",
       "type": "dataframe",
       "variable_name": "df"
      },
      "text/html": [
       "\n",
       "  <div id=\"df-ccfa3ec8-b570-4c06-9e36-ba5e22f99a72\" class=\"colab-df-container\">\n",
       "    <div>\n",
       "<style scoped>\n",
       "    .dataframe tbody tr th:only-of-type {\n",
       "        vertical-align: middle;\n",
       "    }\n",
       "\n",
       "    .dataframe tbody tr th {\n",
       "        vertical-align: top;\n",
       "    }\n",
       "\n",
       "    .dataframe thead th {\n",
       "        text-align: right;\n",
       "    }\n",
       "</style>\n",
       "<table border=\"1\" class=\"dataframe\">\n",
       "  <thead>\n",
       "    <tr style=\"text-align: right;\">\n",
       "      <th></th>\n",
       "      <th>marketplace</th>\n",
       "      <th>customer_id</th>\n",
       "      <th>review_id</th>\n",
       "      <th>product_id</th>\n",
       "      <th>product_parent</th>\n",
       "      <th>product_title</th>\n",
       "      <th>product_category</th>\n",
       "      <th>helpful_votes</th>\n",
       "      <th>total_votes</th>\n",
       "      <th>vine</th>\n",
       "      <th>verified_purchase</th>\n",
       "      <th>review_headline</th>\n",
       "      <th>review_body</th>\n",
       "      <th>review_date</th>\n",
       "      <th>sentiment</th>\n",
       "    </tr>\n",
       "  </thead>\n",
       "  <tbody>\n",
       "    <tr>\n",
       "      <th>71963</th>\n",
       "      <td>US</td>\n",
       "      <td>23022807</td>\n",
       "      <td>R3IZQ5QBR0C7B7</td>\n",
       "      <td>B0039V7JFG</td>\n",
       "      <td>184993957</td>\n",
       "      <td>LG 3.6 CF FRONT LOAD WASHER DRYER COMBO</td>\n",
       "      <td>Major Appliances</td>\n",
       "      <td>5</td>\n",
       "      <td>14</td>\n",
       "      <td>N</td>\n",
       "      <td>N</td>\n",
       "      <td>lg small washer/dryer set</td>\n",
       "      <td>usually rate things hate exactly feel small lg...</td>\n",
       "      <td>2013-04-06</td>\n",
       "      <td>0</td>\n",
       "    </tr>\n",
       "    <tr>\n",
       "      <th>15508</th>\n",
       "      <td>US</td>\n",
       "      <td>21831333</td>\n",
       "      <td>R2LGGHUB944XMT</td>\n",
       "      <td>B00EJPHJVK</td>\n",
       "      <td>516641616</td>\n",
       "      <td>Fantech Lint Trap for Dryer Booster - DBLT4W (...</td>\n",
       "      <td>Major Appliances</td>\n",
       "      <td>0</td>\n",
       "      <td>0</td>\n",
       "      <td>N</td>\n",
       "      <td>Y</td>\n",
       "      <td>very hard to open must be securely mounted no ...</td>\n",
       "      <td>hard open must securely mounted provisions</td>\n",
       "      <td>2015-04-16</td>\n",
       "      <td>1</td>\n",
       "    </tr>\n",
       "    <tr>\n",
       "      <th>3110</th>\n",
       "      <td>US</td>\n",
       "      <td>11941986</td>\n",
       "      <td>R21U3YZPS3MBXG</td>\n",
       "      <td>B00HH2YZT6</td>\n",
       "      <td>73366442</td>\n",
       "      <td>Samsung RF32FMQDBSR 4-Door Refrigerator with C...</td>\n",
       "      <td>Major Appliances</td>\n",
       "      <td>6</td>\n",
       "      <td>6</td>\n",
       "      <td>N</td>\n",
       "      <td>N</td>\n",
       "      <td>15 month useful life - this should be disconti...</td>\n",
       "      <td>15 months stopped working threw groceries call...</td>\n",
       "      <td>2015-08-07</td>\n",
       "      <td>0</td>\n",
       "    </tr>\n",
       "    <tr>\n",
       "      <th>88804</th>\n",
       "      <td>US</td>\n",
       "      <td>46476694</td>\n",
       "      <td>R2JZ0YSJ5QEZX4</td>\n",
       "      <td>B001VKY8GU</td>\n",
       "      <td>232040651</td>\n",
       "      <td>Koolatron Coca Cola Personal Cube Fridge</td>\n",
       "      <td>Major Appliances</td>\n",
       "      <td>0</td>\n",
       "      <td>0</td>\n",
       "      <td>N</td>\n",
       "      <td>N</td>\n",
       "      <td>Unexpectedly Awesome</td>\n",
       "      <td>silver version tiny cooler fridge company chri...</td>\n",
       "      <td>2011-06-28</td>\n",
       "      <td>2</td>\n",
       "    </tr>\n",
       "    <tr>\n",
       "      <th>18295</th>\n",
       "      <td>US</td>\n",
       "      <td>48338607</td>\n",
       "      <td>R2QENB1J5LBM14</td>\n",
       "      <td>B00MZH0OPC</td>\n",
       "      <td>394118467</td>\n",
       "      <td>( 2 PACK ) 3392519 - DRYER THERMAL FUSE for Wh...</td>\n",
       "      <td>Major Appliances</td>\n",
       "      <td>0</td>\n",
       "      <td>0</td>\n",
       "      <td>N</td>\n",
       "      <td>Y</td>\n",
       "      <td>Perfect</td>\n",
       "      <td>exactly needed get dryer back</td>\n",
       "      <td>2015-03-22</td>\n",
       "      <td>2</td>\n",
       "    </tr>\n",
       "    <tr>\n",
       "      <th>...</th>\n",
       "      <td>...</td>\n",
       "      <td>...</td>\n",
       "      <td>...</td>\n",
       "      <td>...</td>\n",
       "      <td>...</td>\n",
       "      <td>...</td>\n",
       "      <td>...</td>\n",
       "      <td>...</td>\n",
       "      <td>...</td>\n",
       "      <td>...</td>\n",
       "      <td>...</td>\n",
       "      <td>...</td>\n",
       "      <td>...</td>\n",
       "      <td>...</td>\n",
       "      <td>...</td>\n",
       "    </tr>\n",
       "    <tr>\n",
       "      <th>62973</th>\n",
       "      <td>US</td>\n",
       "      <td>31634986</td>\n",
       "      <td>R173X6QPB1N8SY</td>\n",
       "      <td>B004HXDLJ8</td>\n",
       "      <td>693470227</td>\n",
       "      <td>Whynter BWR-18SD 18 Bottle Built-In Wine Refri...</td>\n",
       "      <td>Major Appliances</td>\n",
       "      <td>11</td>\n",
       "      <td>12</td>\n",
       "      <td>N</td>\n",
       "      <td>Y</td>\n",
       "      <td>Very Happy</td>\n",
       "      <td>purchased replace space 12 34 garbage compacto...</td>\n",
       "      <td>2013-09-28</td>\n",
       "      <td>2</td>\n",
       "    </tr>\n",
       "    <tr>\n",
       "      <th>45682</th>\n",
       "      <td>US</td>\n",
       "      <td>52949439</td>\n",
       "      <td>R4YB9KY26NLPP</td>\n",
       "      <td>B003GFAY52</td>\n",
       "      <td>647457047</td>\n",
       "      <td>Broan 30W in. QP2 Under Cabinet Range Hood</td>\n",
       "      <td>Major Appliances</td>\n",
       "      <td>9</td>\n",
       "      <td>9</td>\n",
       "      <td>N</td>\n",
       "      <td>Y</td>\n",
       "      <td>Up until it quit working I though I had made a...</td>\n",
       "      <td>bought item professionally installed middle ap...</td>\n",
       "      <td>2014-07-07</td>\n",
       "      <td>0</td>\n",
       "    </tr>\n",
       "    <tr>\n",
       "      <th>84940</th>\n",
       "      <td>US</td>\n",
       "      <td>42829199</td>\n",
       "      <td>R1W9QEUT7MIYGD</td>\n",
       "      <td>B004WP4BAO</td>\n",
       "      <td>480751909</td>\n",
       "      <td>Samsung DV5451AGW</td>\n",
       "      <td>Major Appliances</td>\n",
       "      <td>4</td>\n",
       "      <td>4</td>\n",
       "      <td>N</td>\n",
       "      <td>N</td>\n",
       "      <td>Does NOT dry clothes. So not much of a dryer.</td>\n",
       "      <td>purchased nice looking supposedly good name br...</td>\n",
       "      <td>2012-02-18</td>\n",
       "      <td>0</td>\n",
       "    </tr>\n",
       "    <tr>\n",
       "      <th>1873</th>\n",
       "      <td>US</td>\n",
       "      <td>19293947</td>\n",
       "      <td>R12LFU2ZVPAZSS</td>\n",
       "      <td>B0125S2K0M</td>\n",
       "      <td>504103070</td>\n",
       "      <td>Avalon Top Loading Water Cooler Dispenser - Ho...</td>\n",
       "      <td>Major Appliances</td>\n",
       "      <td>144</td>\n",
       "      <td>156</td>\n",
       "      <td>N</td>\n",
       "      <td>N</td>\n",
       "      <td>Avalon water dispenser beat my many previous w...</td>\n",
       "      <td>videoid:8829556f67d2453e377e6459465db27e first...</td>\n",
       "      <td>2015-08-16</td>\n",
       "      <td>2</td>\n",
       "    </tr>\n",
       "    <tr>\n",
       "      <th>53872</th>\n",
       "      <td>US</td>\n",
       "      <td>11233134</td>\n",
       "      <td>R2S04Z77YZXZAP</td>\n",
       "      <td>B007VXJ0HS</td>\n",
       "      <td>285649250</td>\n",
       "      <td>LG LDF7561 Fully Integrated Dishwasher with He...</td>\n",
       "      <td>Major Appliances</td>\n",
       "      <td>0</td>\n",
       "      <td>1</td>\n",
       "      <td>N</td>\n",
       "      <td>N</td>\n",
       "      <td>Bad build quality</td>\n",
       "      <td>middle drawer tight pull easily tech take look...</td>\n",
       "      <td>2014-03-01</td>\n",
       "      <td>0</td>\n",
       "    </tr>\n",
       "  </tbody>\n",
       "</table>\n",
       "<p>80000 rows × 15 columns</p>\n",
       "</div>\n",
       "    <div class=\"colab-df-buttons\">\n",
       "\n",
       "  <div class=\"colab-df-container\">\n",
       "    <button class=\"colab-df-convert\" onclick=\"convertToInteractive('df-ccfa3ec8-b570-4c06-9e36-ba5e22f99a72')\"\n",
       "            title=\"Convert this dataframe to an interactive table.\"\n",
       "            style=\"display:none;\">\n",
       "\n",
       "  <svg xmlns=\"http://www.w3.org/2000/svg\" height=\"24px\" viewBox=\"0 -960 960 960\">\n",
       "    <path d=\"M120-120v-720h720v720H120Zm60-500h600v-160H180v160Zm220 220h160v-160H400v160Zm0 220h160v-160H400v160ZM180-400h160v-160H180v160Zm440 0h160v-160H620v160ZM180-180h160v-160H180v160Zm440 0h160v-160H620v160Z\"/>\n",
       "  </svg>\n",
       "    </button>\n",
       "\n",
       "  <style>\n",
       "    .colab-df-container {\n",
       "      display:flex;\n",
       "      gap: 12px;\n",
       "    }\n",
       "\n",
       "    .colab-df-convert {\n",
       "      background-color: #E8F0FE;\n",
       "      border: none;\n",
       "      border-radius: 50%;\n",
       "      cursor: pointer;\n",
       "      display: none;\n",
       "      fill: #1967D2;\n",
       "      height: 32px;\n",
       "      padding: 0 0 0 0;\n",
       "      width: 32px;\n",
       "    }\n",
       "\n",
       "    .colab-df-convert:hover {\n",
       "      background-color: #E2EBFA;\n",
       "      box-shadow: 0px 1px 2px rgba(60, 64, 67, 0.3), 0px 1px 3px 1px rgba(60, 64, 67, 0.15);\n",
       "      fill: #174EA6;\n",
       "    }\n",
       "\n",
       "    .colab-df-buttons div {\n",
       "      margin-bottom: 4px;\n",
       "    }\n",
       "\n",
       "    [theme=dark] .colab-df-convert {\n",
       "      background-color: #3B4455;\n",
       "      fill: #D2E3FC;\n",
       "    }\n",
       "\n",
       "    [theme=dark] .colab-df-convert:hover {\n",
       "      background-color: #434B5C;\n",
       "      box-shadow: 0px 1px 3px 1px rgba(0, 0, 0, 0.15);\n",
       "      filter: drop-shadow(0px 1px 2px rgba(0, 0, 0, 0.3));\n",
       "      fill: #FFFFFF;\n",
       "    }\n",
       "  </style>\n",
       "\n",
       "    <script>\n",
       "      const buttonEl =\n",
       "        document.querySelector('#df-ccfa3ec8-b570-4c06-9e36-ba5e22f99a72 button.colab-df-convert');\n",
       "      buttonEl.style.display =\n",
       "        google.colab.kernel.accessAllowed ? 'block' : 'none';\n",
       "\n",
       "      async function convertToInteractive(key) {\n",
       "        const element = document.querySelector('#df-ccfa3ec8-b570-4c06-9e36-ba5e22f99a72');\n",
       "        const dataTable =\n",
       "          await google.colab.kernel.invokeFunction('convertToInteractive',\n",
       "                                                    [key], {});\n",
       "        if (!dataTable) return;\n",
       "\n",
       "        const docLinkHtml = 'Like what you see? Visit the ' +\n",
       "          '<a target=\"_blank\" href=https://colab.research.google.com/notebooks/data_table.ipynb>data table notebook</a>'\n",
       "          + ' to learn more about interactive tables.';\n",
       "        element.innerHTML = '';\n",
       "        dataTable['output_type'] = 'display_data';\n",
       "        await google.colab.output.renderOutput(dataTable, element);\n",
       "        const docLink = document.createElement('div');\n",
       "        docLink.innerHTML = docLinkHtml;\n",
       "        element.appendChild(docLink);\n",
       "      }\n",
       "    </script>\n",
       "  </div>\n",
       "\n",
       "\n",
       "<div id=\"df-da944c87-b9ea-40b8-a7cb-4f77d8a1da5c\">\n",
       "  <button class=\"colab-df-quickchart\" onclick=\"quickchart('df-da944c87-b9ea-40b8-a7cb-4f77d8a1da5c')\"\n",
       "            title=\"Suggest charts\"\n",
       "            style=\"display:none;\">\n",
       "\n",
       "<svg xmlns=\"http://www.w3.org/2000/svg\" height=\"24px\"viewBox=\"0 0 24 24\"\n",
       "     width=\"24px\">\n",
       "    <g>\n",
       "        <path d=\"M19 3H5c-1.1 0-2 .9-2 2v14c0 1.1.9 2 2 2h14c1.1 0 2-.9 2-2V5c0-1.1-.9-2-2-2zM9 17H7v-7h2v7zm4 0h-2V7h2v10zm4 0h-2v-4h2v4z\"/>\n",
       "    </g>\n",
       "</svg>\n",
       "  </button>\n",
       "\n",
       "<style>\n",
       "  .colab-df-quickchart {\n",
       "      --bg-color: #E8F0FE;\n",
       "      --fill-color: #1967D2;\n",
       "      --hover-bg-color: #E2EBFA;\n",
       "      --hover-fill-color: #174EA6;\n",
       "      --disabled-fill-color: #AAA;\n",
       "      --disabled-bg-color: #DDD;\n",
       "  }\n",
       "\n",
       "  [theme=dark] .colab-df-quickchart {\n",
       "      --bg-color: #3B4455;\n",
       "      --fill-color: #D2E3FC;\n",
       "      --hover-bg-color: #434B5C;\n",
       "      --hover-fill-color: #FFFFFF;\n",
       "      --disabled-bg-color: #3B4455;\n",
       "      --disabled-fill-color: #666;\n",
       "  }\n",
       "\n",
       "  .colab-df-quickchart {\n",
       "    background-color: var(--bg-color);\n",
       "    border: none;\n",
       "    border-radius: 50%;\n",
       "    cursor: pointer;\n",
       "    display: none;\n",
       "    fill: var(--fill-color);\n",
       "    height: 32px;\n",
       "    padding: 0;\n",
       "    width: 32px;\n",
       "  }\n",
       "\n",
       "  .colab-df-quickchart:hover {\n",
       "    background-color: var(--hover-bg-color);\n",
       "    box-shadow: 0 1px 2px rgba(60, 64, 67, 0.3), 0 1px 3px 1px rgba(60, 64, 67, 0.15);\n",
       "    fill: var(--button-hover-fill-color);\n",
       "  }\n",
       "\n",
       "  .colab-df-quickchart-complete:disabled,\n",
       "  .colab-df-quickchart-complete:disabled:hover {\n",
       "    background-color: var(--disabled-bg-color);\n",
       "    fill: var(--disabled-fill-color);\n",
       "    box-shadow: none;\n",
       "  }\n",
       "\n",
       "  .colab-df-spinner {\n",
       "    border: 2px solid var(--fill-color);\n",
       "    border-color: transparent;\n",
       "    border-bottom-color: var(--fill-color);\n",
       "    animation:\n",
       "      spin 1s steps(1) infinite;\n",
       "  }\n",
       "\n",
       "  @keyframes spin {\n",
       "    0% {\n",
       "      border-color: transparent;\n",
       "      border-bottom-color: var(--fill-color);\n",
       "      border-left-color: var(--fill-color);\n",
       "    }\n",
       "    20% {\n",
       "      border-color: transparent;\n",
       "      border-left-color: var(--fill-color);\n",
       "      border-top-color: var(--fill-color);\n",
       "    }\n",
       "    30% {\n",
       "      border-color: transparent;\n",
       "      border-left-color: var(--fill-color);\n",
       "      border-top-color: var(--fill-color);\n",
       "      border-right-color: var(--fill-color);\n",
       "    }\n",
       "    40% {\n",
       "      border-color: transparent;\n",
       "      border-right-color: var(--fill-color);\n",
       "      border-top-color: var(--fill-color);\n",
       "    }\n",
       "    60% {\n",
       "      border-color: transparent;\n",
       "      border-right-color: var(--fill-color);\n",
       "    }\n",
       "    80% {\n",
       "      border-color: transparent;\n",
       "      border-right-color: var(--fill-color);\n",
       "      border-bottom-color: var(--fill-color);\n",
       "    }\n",
       "    90% {\n",
       "      border-color: transparent;\n",
       "      border-bottom-color: var(--fill-color);\n",
       "    }\n",
       "  }\n",
       "</style>\n",
       "\n",
       "  <script>\n",
       "    async function quickchart(key) {\n",
       "      const quickchartButtonEl =\n",
       "        document.querySelector('#' + key + ' button');\n",
       "      quickchartButtonEl.disabled = true;  // To prevent multiple clicks.\n",
       "      quickchartButtonEl.classList.add('colab-df-spinner');\n",
       "      try {\n",
       "        const charts = await google.colab.kernel.invokeFunction(\n",
       "            'suggestCharts', [key], {});\n",
       "      } catch (error) {\n",
       "        console.error('Error during call to suggestCharts:', error);\n",
       "      }\n",
       "      quickchartButtonEl.classList.remove('colab-df-spinner');\n",
       "      quickchartButtonEl.classList.add('colab-df-quickchart-complete');\n",
       "    }\n",
       "    (() => {\n",
       "      let quickchartButtonEl =\n",
       "        document.querySelector('#df-da944c87-b9ea-40b8-a7cb-4f77d8a1da5c button');\n",
       "      quickchartButtonEl.style.display =\n",
       "        google.colab.kernel.accessAllowed ? 'block' : 'none';\n",
       "    })();\n",
       "  </script>\n",
       "</div>\n",
       "    </div>\n",
       "  </div>\n"
      ],
      "text/plain": [
       "      marketplace  customer_id       review_id  product_id  product_parent  \\\n",
       "71963          US     23022807  R3IZQ5QBR0C7B7  B0039V7JFG       184993957   \n",
       "15508          US     21831333  R2LGGHUB944XMT  B00EJPHJVK       516641616   \n",
       "3110           US     11941986  R21U3YZPS3MBXG  B00HH2YZT6        73366442   \n",
       "88804          US     46476694  R2JZ0YSJ5QEZX4  B001VKY8GU       232040651   \n",
       "18295          US     48338607  R2QENB1J5LBM14  B00MZH0OPC       394118467   \n",
       "...           ...          ...             ...         ...             ...   \n",
       "62973          US     31634986  R173X6QPB1N8SY  B004HXDLJ8       693470227   \n",
       "45682          US     52949439   R4YB9KY26NLPP  B003GFAY52       647457047   \n",
       "84940          US     42829199  R1W9QEUT7MIYGD  B004WP4BAO       480751909   \n",
       "1873           US     19293947  R12LFU2ZVPAZSS  B0125S2K0M       504103070   \n",
       "53872          US     11233134  R2S04Z77YZXZAP  B007VXJ0HS       285649250   \n",
       "\n",
       "                                           product_title  product_category  \\\n",
       "71963            LG 3.6 CF FRONT LOAD WASHER DRYER COMBO  Major Appliances   \n",
       "15508  Fantech Lint Trap for Dryer Booster - DBLT4W (...  Major Appliances   \n",
       "3110   Samsung RF32FMQDBSR 4-Door Refrigerator with C...  Major Appliances   \n",
       "88804           Koolatron Coca Cola Personal Cube Fridge  Major Appliances   \n",
       "18295  ( 2 PACK ) 3392519 - DRYER THERMAL FUSE for Wh...  Major Appliances   \n",
       "...                                                  ...               ...   \n",
       "62973  Whynter BWR-18SD 18 Bottle Built-In Wine Refri...  Major Appliances   \n",
       "45682         Broan 30W in. QP2 Under Cabinet Range Hood  Major Appliances   \n",
       "84940                                  Samsung DV5451AGW  Major Appliances   \n",
       "1873   Avalon Top Loading Water Cooler Dispenser - Ho...  Major Appliances   \n",
       "53872  LG LDF7561 Fully Integrated Dishwasher with He...  Major Appliances   \n",
       "\n",
       "       helpful_votes  total_votes vine verified_purchase  \\\n",
       "71963              5           14    N                 N   \n",
       "15508              0            0    N                 Y   \n",
       "3110               6            6    N                 N   \n",
       "88804              0            0    N                 N   \n",
       "18295              0            0    N                 Y   \n",
       "...              ...          ...  ...               ...   \n",
       "62973             11           12    N                 Y   \n",
       "45682              9            9    N                 Y   \n",
       "84940              4            4    N                 N   \n",
       "1873             144          156    N                 N   \n",
       "53872              0            1    N                 N   \n",
       "\n",
       "                                         review_headline  \\\n",
       "71963                          lg small washer/dryer set   \n",
       "15508  very hard to open must be securely mounted no ...   \n",
       "3110   15 month useful life - this should be disconti...   \n",
       "88804                               Unexpectedly Awesome   \n",
       "18295                                            Perfect   \n",
       "...                                                  ...   \n",
       "62973                                         Very Happy   \n",
       "45682  Up until it quit working I though I had made a...   \n",
       "84940      Does NOT dry clothes. So not much of a dryer.   \n",
       "1873   Avalon water dispenser beat my many previous w...   \n",
       "53872                                  Bad build quality   \n",
       "\n",
       "                                             review_body review_date  \\\n",
       "71963  usually rate things hate exactly feel small lg...  2013-04-06   \n",
       "15508         hard open must securely mounted provisions  2015-04-16   \n",
       "3110   15 months stopped working threw groceries call...  2015-08-07   \n",
       "88804  silver version tiny cooler fridge company chri...  2011-06-28   \n",
       "18295                      exactly needed get dryer back  2015-03-22   \n",
       "...                                                  ...         ...   \n",
       "62973  purchased replace space 12 34 garbage compacto...  2013-09-28   \n",
       "45682  bought item professionally installed middle ap...  2014-07-07   \n",
       "84940  purchased nice looking supposedly good name br...  2012-02-18   \n",
       "1873   videoid:8829556f67d2453e377e6459465db27e first...  2015-08-16   \n",
       "53872  middle drawer tight pull easily tech take look...  2014-03-01   \n",
       "\n",
       "       sentiment  \n",
       "71963          0  \n",
       "15508          1  \n",
       "3110           0  \n",
       "88804          2  \n",
       "18295          2  \n",
       "...          ...  \n",
       "62973          2  \n",
       "45682          0  \n",
       "84940          0  \n",
       "1873           2  \n",
       "53872          0  \n",
       "\n",
       "[80000 rows x 15 columns]"
      ]
     },
     "execution_count": 13,
     "metadata": {},
     "output_type": "execute_result"
    }
   ],
   "source": [
    "df"
   ]
  },
  {
   "cell_type": "markdown",
   "id": "f66880c2eaddb91e",
   "metadata": {
    "collapsed": false,
    "id": "f66880c2eaddb91e"
   },
   "source": [
    "## 2. Final dataset\n",
    "- 80 000 instances\n",
    "- NEGATIVE 21 334\n",
    "- NEUTRAL 5 674\n",
    "- POSITIVE 52 992\n",
    "- **Quite imbalanced -> experiment with class weights**\n",
    "- 90:10 train:test split\n",
    "\n",
    "Vectorization with length of vectors 128 and dictionary size 8000. Didn't use one-hot encoding."
   ]
  },
  {
   "cell_type": "code",
   "execution_count": 14,
   "id": "51a301bdbbc85fa6",
   "metadata": {
    "ExecuteTime": {
     "end_time": "2024-05-20T07:13:54.439566800Z",
     "start_time": "2024-05-20T07:13:54.377828700Z"
    },
    "colab": {
     "base_uri": "https://localhost:8080/"
    },
    "id": "51a301bdbbc85fa6",
    "outputId": "9aa18bf1-5989-4486-eabc-73679f996370"
   },
   "outputs": [
    {
     "data": {
      "text/plain": [
       "sentiment\n",
       "2    52992\n",
       "0    21334\n",
       "1     5674\n",
       "Name: count, dtype: int64"
      ]
     },
     "execution_count": 14,
     "metadata": {},
     "output_type": "execute_result"
    }
   ],
   "source": [
    "df['sentiment'].value_counts()"
   ]
  },
  {
   "cell_type": "code",
   "execution_count": 9,
   "id": "3f410caa3e666495",
   "metadata": {
    "ExecuteTime": {
     "end_time": "2024-05-20T21:02:27.218590Z",
     "start_time": "2024-05-20T21:02:27.183203300Z"
    },
    "id": "3f410caa3e666495"
   },
   "outputs": [],
   "source": [
    "# Train-test split\n",
    "df_multimodal = df\n",
    "df = df[['review_body', 'sentiment']]\n",
    "\n",
    "X_train, X_test, y_train, y_test = train_test_split(\n",
    "    df['review_body'], df['sentiment'], random_state=42, test_size=0.1, stratify=df['sentiment']\n",
    ")\n",
    "#Train-val split\n",
    "X_train, X_val, y_train, y_val = train_test_split(\n",
    "    X_train, y_train, test_size=0.1, stratify=y_train, random_state=42\n",
    ")\n"
   ]
  },
  {
   "cell_type": "code",
   "execution_count": 16,
   "id": "f665ddc4246c79dc",
   "metadata": {
    "ExecuteTime": {
     "end_time": "2024-05-19T18:19:07.983435200Z",
     "start_time": "2024-05-19T18:19:07.967807Z"
    },
    "colab": {
     "base_uri": "https://localhost:8080/"
    },
    "id": "f665ddc4246c79dc",
    "outputId": "b129f33f-6004-4607-ddfb-a59810ce0c9d"
   },
   "outputs": [
    {
     "data": {
      "text/plain": [
       "sentiment\n",
       "2    42924\n",
       "0    17280\n",
       "1     4596\n",
       "Name: count, dtype: int64"
      ]
     },
     "execution_count": 16,
     "metadata": {},
     "output_type": "execute_result"
    }
   ],
   "source": [
    "y_train.value_counts()"
   ]
  },
  {
   "cell_type": "code",
   "execution_count": 17,
   "id": "bb12164d07568651",
   "metadata": {
    "ExecuteTime": {
     "end_time": "2024-05-19T18:19:07.983435200Z",
     "start_time": "2024-05-19T18:19:07.971921Z"
    },
    "colab": {
     "base_uri": "https://localhost:8080/"
    },
    "id": "bb12164d07568651",
    "outputId": "c87d96ae-5599-4b4f-a36a-b69e253939d5"
   },
   "outputs": [
    {
     "data": {
      "text/plain": [
       "sentiment\n",
       "2    5299\n",
       "0    2134\n",
       "1     567\n",
       "Name: count, dtype: int64"
      ]
     },
     "execution_count": 17,
     "metadata": {},
     "output_type": "execute_result"
    }
   ],
   "source": [
    "y_test.value_counts()"
   ]
  },
  {
   "cell_type": "code",
   "execution_count": 10,
   "id": "96e28c1a9c77e91f",
   "metadata": {
    "ExecuteTime": {
     "end_time": "2024-05-20T21:02:27.846480800Z",
     "start_time": "2024-05-20T21:02:27.667222900Z"
    },
    "id": "96e28c1a9c77e91f"
   },
   "outputs": [],
   "source": [
    "train_dataset = tf.data.Dataset.from_tensor_slices((X_train, y_train))\n",
    "validation_dataset = tf.data.Dataset.from_tensor_slices((X_val, y_val))\n",
    "test_dataset = tf.data.Dataset.from_tensor_slices((X_test, y_test))"
   ]
  },
  {
   "cell_type": "code",
   "execution_count": 11,
   "id": "f97e30531d7c3605",
   "metadata": {
    "ExecuteTime": {
     "end_time": "2024-05-20T21:06:21.687047500Z",
     "start_time": "2024-05-20T21:02:28.299827Z"
    },
    "id": "f97e30531d7c3605"
   },
   "outputs": [],
   "source": [
    "max_length = 128\n",
    "max_tokens = 8000\n",
    "\n",
    "text_vectorization = TextVectorization(\n",
    "    ngrams=1,\n",
    "    max_tokens=max_tokens,\n",
    "    output_mode=\"int\",\n",
    "    output_sequence_length=max_length\n",
    ")\n",
    "text_only_train_ds = train_dataset.map(lambda x, y: x)\n",
    "text_vectorization.adapt(text_only_train_ds)"
   ]
  },
  {
   "cell_type": "code",
   "execution_count": 20,
   "id": "f0b6e642b87c8ac5",
   "metadata": {
    "ExecuteTime": {
     "end_time": "2024-05-19T18:22:53.400162200Z",
     "start_time": "2024-05-19T18:22:53.391791500Z"
    },
    "colab": {
     "base_uri": "https://localhost:8080/"
    },
    "id": "f0b6e642b87c8ac5",
    "outputId": "5ee658ec-ab74-41a8-dbd8-be3c94f13d28"
   },
   "outputs": [
    {
     "data": {
      "text/plain": [
       "array(['', '[UNK]', 'one', 'water', 'would', 'great', 'like', 'get',\n",
       "       'unit', 'ice', 'time', 'use', 'machine', 'well', 'good', 'washer',\n",
       "       'product', 'works', 'new', '2'], dtype='<U15')"
      ]
     },
     "execution_count": 20,
     "metadata": {},
     "output_type": "execute_result"
    }
   ],
   "source": [
    "vocab = np.array(text_vectorization.get_vocabulary())\n",
    "vocab[:20]"
   ]
  },
  {
   "cell_type": "code",
   "execution_count": 12,
   "id": "b7526999eb3cc981",
   "metadata": {
    "ExecuteTime": {
     "end_time": "2024-05-20T21:06:21.855183500Z",
     "start_time": "2024-05-20T21:06:21.690050200Z"
    },
    "id": "b7526999eb3cc981"
   },
   "outputs": [],
   "source": [
    "def vectorize_text(text, label):\n",
    "    return text_vectorization(text), label\n",
    "\n",
    "train_ds = (train_dataset.map(vectorize_text).cache()\n",
    "            .shuffle(10000)\n",
    "            .batch(32)\n",
    "            .prefetch(buffer_size=tf.data.AUTOTUNE))\n",
    "\n",
    "val_ds = (validation_dataset.map(vectorize_text)\n",
    "          .cache()\n",
    "          .batch(32)\n",
    "          .prefetch(buffer_size=tf.data.AUTOTUNE))\n",
    "\n",
    "test_ds = (test_dataset.map(vectorize_text)\n",
    "           .cache()\n",
    "           .batch(32)\n",
    "           .prefetch(buffer_size=tf.data.AUTOTUNE))\n"
   ]
  },
  {
   "cell_type": "code",
   "execution_count": 22,
   "id": "f882d9aa66e1ba65",
   "metadata": {
    "ExecuteTime": {
     "end_time": "2024-05-20T07:17:37.847967200Z",
     "start_time": "2024-05-20T07:17:36.540589200Z"
    },
    "colab": {
     "base_uri": "https://localhost:8080/"
    },
    "id": "f882d9aa66e1ba65",
    "outputId": "aeecdc96-7d06-4d60-c310-a5bca87cc08b"
   },
   "outputs": [
    {
     "name": "stdout",
     "output_type": "stream",
     "text": [
      "inputs data type <dtype: 'int64'>\n",
      "inputs shape (32, 128)\n",
      "targets data type <dtype: 'int64'>\n",
      "targets shape (32,)\n",
      "inputs[0] tf.Tensor(\n",
      "[[   2  643 1335 ...    0    0    0]\n",
      " [ 264  130  895 ...    0    0    0]\n",
      " [ 243  697  278 ...    0    0    0]\n",
      " ...\n",
      " [2596 2064  150 ...    0    0    0]\n",
      " [  27  370   27 ...    0    0    0]\n",
      " [4529  337  321 ...    0    0    0]], shape=(32, 128), dtype=int64)\n",
      "targets[0] tf.Tensor([0 2 0 2 0 2 1 1 0 0 2 0 0 2 2 2 0 2 0 2 1 2 0 2 2 2 2 2 2 1 0 2], shape=(32,), dtype=int64)\n"
     ]
    }
   ],
   "source": [
    "for inputs, targets in train_ds:\n",
    "    print(\"inputs data type\",inputs.dtype)\n",
    "    print(\"inputs shape\",inputs.shape)\n",
    "    print(\"targets data type\",targets.dtype)\n",
    "    print(\"targets shape\",targets.shape)\n",
    "    print(\"inputs[0]\", inputs)\n",
    "    print(\"targets[0]\", targets)\n",
    "    break"
   ]
  },
  {
   "cell_type": "code",
   "execution_count": 13,
   "id": "6b3a385080e2f412",
   "metadata": {
    "ExecuteTime": {
     "end_time": "2024-05-20T21:06:21.860686100Z",
     "start_time": "2024-05-20T21:06:21.855183500Z"
    },
    "id": "6b3a385080e2f412"
   },
   "outputs": [],
   "source": [
    "negative, neutral, positive = np.bincount(df['sentiment'])"
   ]
  },
  {
   "cell_type": "code",
   "execution_count": 24,
   "id": "7b169e55dc72c381",
   "metadata": {
    "ExecuteTime": {
     "end_time": "2024-05-20T16:54:18.809075400Z",
     "start_time": "2024-05-20T16:54:18.800564800Z"
    },
    "colab": {
     "base_uri": "https://localhost:8080/"
    },
    "id": "7b169e55dc72c381",
    "outputId": "98a1ff4b-833d-4e92-ba37-8a813b4e9606"
   },
   "outputs": [
    {
     "data": {
      "text/plain": [
       "(21334, 5674, 52992)"
      ]
     },
     "execution_count": 24,
     "metadata": {},
     "output_type": "execute_result"
    }
   ],
   "source": [
    "negative, neutral, positive"
   ]
  },
  {
   "cell_type": "code",
   "execution_count": 14,
   "id": "ead80fe388cbe495",
   "metadata": {
    "ExecuteTime": {
     "end_time": "2024-05-20T21:06:21.868722500Z",
     "start_time": "2024-05-20T21:06:21.858686200Z"
    },
    "colab": {
     "base_uri": "https://localhost:8080/"
    },
    "id": "ead80fe388cbe495",
    "outputId": "bf1a484e-b3b7-4608-daea-b2ed24e0ba14"
   },
   "outputs": [
    {
     "name": "stdout",
     "output_type": "stream",
     "text": [
      "Weight for class 0: 1.25\n",
      "Weight for class 1: 4.70\n",
      "Weight for class 2: 0.50\n"
     ]
    }
   ],
   "source": [
    "### proportional calculation of weights\n",
    "\n",
    "weight_for_0 = (1 / negative) * (df.shape[0] / 3)\n",
    "weight_for_1 = (1 / neutral) * (df.shape[0] / 3)\n",
    "weight_for_2 = (1 / positive) * (df.shape[0] / 3)\n",
    "class_weight = {0: weight_for_0, 1: weight_for_1, 2: weight_for_2}\n",
    "\n",
    "print('Weight for class 0: {:.2f}'.format(weight_for_0))\n",
    "print('Weight for class 1: {:.2f}'.format(weight_for_1))\n",
    "print('Weight for class 2: {:.2f}'.format(weight_for_2))"
   ]
  },
  {
   "cell_type": "code",
   "execution_count": 15,
   "id": "921139b146fe469b",
   "metadata": {
    "ExecuteTime": {
     "end_time": "2024-05-20T21:06:21.868722500Z",
     "start_time": "2024-05-20T21:06:21.863686500Z"
    },
    "id": "921139b146fe469b"
   },
   "outputs": [],
   "source": [
    "def get_conf_matrix(model):\n",
    "    predictions = model.predict(test_ds)\n",
    "    classes = tf.argmax(predictions, axis=-1)\n",
    "    print(f'Recall score: {recall_score(y_test, classes, average=\"macro\")}')\n",
    "    print(f'F1 score: {f1_score(y_test, classes, average=\"macro\")}')\n",
    "    intensity = confusion_matrix(y_test, list(classes.numpy()))\n",
    "    disp = ConfusionMatrixDisplay(confusion_matrix = intensity, display_labels=[0,1,2])\n",
    "    disp.plot()"
   ]
  },
  {
   "cell_type": "code",
   "execution_count": 32,
   "id": "fb777943bfdfa9b7",
   "metadata": {
    "ExecuteTime": {
     "end_time": "2024-05-20T21:32:02.248350500Z",
     "start_time": "2024-05-20T21:32:02.207190100Z"
    },
    "id": "fb777943bfdfa9b7"
   },
   "outputs": [],
   "source": [
    "def create_RNN(max_length, embedding_dim = 128, lstm_units = 16, optimizer = 'sgd', metrics = 'accuracy'):\n",
    "    inputs = keras.Input(shape=(max_length,), dtype=\"int64\")\n",
    "\n",
    "    x = layers.Embedding(max_tokens, embedding_dim)(inputs)\n",
    "    \n",
    "    x = layers.Bidirectional(layers.LSTM(lstm_units))(x)\n",
    "\n",
    "    outputs = layers.Dense(3, activation=\"sigmoid\")(x)\n",
    "\n",
    "    model = keras.Model(inputs, outputs)\n",
    "    \n",
    "    model.compile(optimizer=optimizer, loss=\"sparse_categorical_crossentropy\", metrics=[metrics])\n",
    "\n",
    "    return model\n",
    "\n",
    "def create_CNN(max_length, embedding_dim = 128, dropout_rate = 0.5, optimizer = 'sgd', metrics = 'accuracy', activation = 'relu'):\n",
    "\n",
    "    inputs = keras.Input(shape=(max_length,), dtype=\"int64\")\n",
    "\n",
    "    x = layers.Embedding(max_tokens, embedding_dim, input_length=max_length)(inputs)\n",
    "    x = layers.Conv1D(filters = 128, kernel_size =  5, activation='relu')(x)\n",
    "    x = layers.MaxPooling1D(pool_size=2)(x)\n",
    "    x = layers.Conv1D(filters=64, kernel_size=4, padding='same', activation=activation)(x)\n",
    "    x = layers.MaxPooling1D(pool_size=2)(x)\n",
    "    x = layers.Conv1D(filters=32, kernel_size=4, padding='same', activation=activation)(x)\n",
    "    x = layers.MaxPooling1D(pool_size=2)(x)\n",
    "    x = layers.Dense(10, activation = 'sigmoid')(x)\n",
    "    x = layers.Dropout(dropout_rate)(x)\n",
    "    x = keras.layers.Flatten()(x)\n",
    "\n",
    "    outputs = layers.Dense(3, activation = 'sigmoid')(x)\n",
    "    model = keras.Model(inputs, outputs)\n",
    "    model.compile(optimizer=optimizer, loss=\"sparse_categorical_crossentropy\", metrics=[\"accuracy\"])\n",
    "\n",
    "    return model\n"
   ]
  },
  {
   "cell_type": "markdown",
   "id": "4c815af443cec87e",
   "metadata": {
    "collapsed": false,
    "id": "4c815af443cec87e"
   },
   "source": [
    "## 3. Train Reccurent Neural Network\n",
    "- train baseline model with basic parameters\n",
    "- train baseline model with basic parameters + adjusted weights\n",
    "- implement hyperparameter tuning using TFDF\n",
    "\n",
    "Architecture was kept simple, after experiments with different architectures, the gained performance from increasing the complexity was not deemed worth the increased training time. The simplicity is also due to repeated RNNs being trained while training the hyperparameters.\n",
    "\n",
    "Architecture:\n",
    "1. Input layer\n",
    "2. Embedding layer\n",
    "3. Bidirectional LSTM layer\n",
    "4. Output layer with 3 outputs for 3 classes\n",
    "\n",
    "Total of 1042659 parameters.\n"
   ]
  },
  {
   "cell_type": "markdown",
   "id": "11f4ec4713a7667f",
   "metadata": {
    "collapsed": false,
    "id": "11f4ec4713a7667f"
   },
   "source": [
    "### 3.1 RNN with default weights and default hyperparameters\n",
    "\n",
    "Default hyperparameters:\n",
    " - embedding_dim = 128\n",
    " - lstm_units = 16\n",
    " - optimizer = 'sgd' (stochastic gradient descent)\n",
    " - metrics = 'accuracy'\n",
    "\n",
    "Test results:\n",
    " - Accuracy: 0.85\n",
    " - Recall: 0.59\n",
    " - F1 score: 0.57\n",
    "\n",
    "This model without adjusted class weights had a really high accuracy, which, due to the dataset imbalance is not really a telling sign. As we can see from the confusion matrix, the model did not predict a single review to be neutral as this class is heavily underrepresented. In the bias/variance tradeoff, we get highly reduced variance but high bias.\n",
    "\n",
    "Train times:\n",
    "\n",
    "10 minutes on RTX 4070 locally\n",
    "\n",
    "10 minutes on L4 on Colab Pro"
   ]
  },
  {
   "cell_type": "code",
   "execution_count": 41,
   "id": "1f479272e4a3fe33",
   "metadata": {
    "ExecuteTime": {
     "end_time": "2024-05-19T18:31:01.279802800Z",
     "start_time": "2024-05-19T18:22:55.028425600Z"
    },
    "colab": {
     "base_uri": "https://localhost:8080/",
     "height": 1000
    },
    "id": "1f479272e4a3fe33",
    "outputId": "f8e49465-9dc5-4f3e-f55d-32db06301318"
   },
   "outputs": [
    {
     "name": "stdout",
     "output_type": "stream",
     "text": [
      "Model: \"model_2\"\n",
      "_________________________________________________________________\n",
      " Layer (type)                Output Shape              Param #   \n",
      "=================================================================\n",
      " input_3 (InputLayer)        [(None, 128)]             0         \n",
      "                                                                 \n",
      " embedding_2 (Embedding)     (None, 128, 128)          1024000   \n",
      "                                                                 \n",
      " bidirectional_2 (Bidirecti  (None, 32)                18560     \n",
      " onal)                                                           \n",
      "                                                                 \n",
      " dense_2 (Dense)             (None, 3)                 99        \n",
      "                                                                 \n",
      "=================================================================\n",
      "Total params: 1042659 (3.98 MB)\n",
      "Trainable params: 1042659 (3.98 MB)\n",
      "Non-trainable params: 0 (0.00 Byte)\n",
      "_________________________________________________________________\n",
      "Epoch 1/20\n",
      "2025/2025 [==============================] - 46s 21ms/step - loss: 0.8034 - accuracy: 0.6619 - val_loss: 0.7615 - val_accuracy: 0.6617\n",
      "Epoch 2/20\n",
      "2025/2025 [==============================] - 25s 12ms/step - loss: 0.7531 - accuracy: 0.6696 - val_loss: 0.7324 - val_accuracy: 0.6843\n",
      "Epoch 3/20\n",
      "2025/2025 [==============================] - 25s 12ms/step - loss: 0.6834 - accuracy: 0.7333 - val_loss: 0.5833 - val_accuracy: 0.7897\n",
      "Epoch 4/20\n",
      "2025/2025 [==============================] - 25s 12ms/step - loss: 0.5683 - accuracy: 0.7930 - val_loss: 0.5277 - val_accuracy: 0.8136\n",
      "Epoch 5/20\n",
      "2025/2025 [==============================] - 25s 12ms/step - loss: 0.5033 - accuracy: 0.8201 - val_loss: 0.4907 - val_accuracy: 0.8226\n",
      "Epoch 6/20\n",
      "2025/2025 [==============================] - 25s 12ms/step - loss: 0.4724 - accuracy: 0.8316 - val_loss: 0.4737 - val_accuracy: 0.8310\n",
      "Epoch 7/20\n",
      "2025/2025 [==============================] - 25s 12ms/step - loss: 0.4544 - accuracy: 0.8396 - val_loss: 0.4603 - val_accuracy: 0.8364\n",
      "Epoch 8/20\n",
      "2025/2025 [==============================] - 25s 12ms/step - loss: 0.4407 - accuracy: 0.8455 - val_loss: 0.4493 - val_accuracy: 0.8410\n",
      "Epoch 9/20\n",
      "2025/2025 [==============================] - 25s 12ms/step - loss: 0.4299 - accuracy: 0.8497 - val_loss: 0.4415 - val_accuracy: 0.8447\n",
      "Epoch 10/20\n",
      "2025/2025 [==============================] - 25s 12ms/step - loss: 0.4220 - accuracy: 0.8524 - val_loss: 0.4354 - val_accuracy: 0.8483\n",
      "Epoch 11/20\n",
      "2025/2025 [==============================] - 25s 12ms/step - loss: 0.4158 - accuracy: 0.8544 - val_loss: 0.4324 - val_accuracy: 0.8493\n",
      "Epoch 12/20\n",
      "2025/2025 [==============================] - 25s 12ms/step - loss: 0.4101 - accuracy: 0.8567 - val_loss: 0.4280 - val_accuracy: 0.8506\n",
      "Epoch 13/20\n",
      "2025/2025 [==============================] - 25s 12ms/step - loss: 0.4047 - accuracy: 0.8588 - val_loss: 0.4251 - val_accuracy: 0.8508\n",
      "Epoch 14/20\n",
      "2025/2025 [==============================] - 25s 12ms/step - loss: 0.3997 - accuracy: 0.8600 - val_loss: 0.4221 - val_accuracy: 0.8510\n",
      "Epoch 15/20\n",
      "2025/2025 [==============================] - 25s 12ms/step - loss: 0.3956 - accuracy: 0.8610 - val_loss: 0.4210 - val_accuracy: 0.8517\n",
      "Epoch 16/20\n",
      "2025/2025 [==============================] - 25s 12ms/step - loss: 0.3910 - accuracy: 0.8627 - val_loss: 0.4180 - val_accuracy: 0.8528\n",
      "Epoch 17/20\n",
      "2025/2025 [==============================] - 25s 12ms/step - loss: 0.3869 - accuracy: 0.8639 - val_loss: 0.4168 - val_accuracy: 0.8529\n",
      "Epoch 18/20\n",
      "2025/2025 [==============================] - 25s 12ms/step - loss: 0.3841 - accuracy: 0.8652 - val_loss: 0.4158 - val_accuracy: 0.8524\n",
      "Epoch 19/20\n",
      "2025/2025 [==============================] - 25s 12ms/step - loss: 0.3814 - accuracy: 0.8655 - val_loss: 0.4154 - val_accuracy: 0.8535\n",
      "Epoch 20/20\n",
      "2025/2025 [==============================] - 25s 12ms/step - loss: 0.3767 - accuracy: 0.8672 - val_loss: 0.4147 - val_accuracy: 0.8533\n",
      "250/250 [==============================] - 1s 6ms/step - loss: 0.4186 - accuracy: 0.8533\n",
      "Test dataset accuracy: 0.8532500267028809\n",
      "250/250 [==============================] - 2s 5ms/step\n",
      "Recall score: 0.5908849783272695\n",
      "F1 score: 0.5741780077891396\n"
     ]
    },
    {
     "data": {
      "image/png": "[encoded data removed]",
      "text/plain": [
       "<Figure size 640x480 with 2 Axes>"
      ]
     },
     "metadata": {},
     "output_type": "display_data"
    }
   ],
   "source": [
    "model = create_RNN(max_length)\n",
    "model.summary()\n",
    "callbacks = [\n",
    "    keras.callbacks.EarlyStopping(monitor='val_loss', patience=3, min_delta=0.002, restore_best_weights=True),\n",
    "]\n",
    "history = model.fit(train_ds.cache(), epochs=20, validation_data=val_ds.cache(), callbacks=callbacks)\n",
    "print(f\"Test dataset accuracy: {model.evaluate(test_ds)[1]}\")\n",
    "get_conf_matrix(model)"
   ]
  },
  {
   "cell_type": "markdown",
   "id": "c6f1c968efbe62e8",
   "metadata": {
    "collapsed": false,
    "id": "c6f1c968efbe62e8"
   },
   "source": [
    "### 3.2 RNN with adjusted weights and default hyperparameters\n",
    "\n",
    "Default hyperparameters:\n",
    " - embedding_dim = 128\n",
    " - lstm_units = 16\n",
    " - optimizer = 'sgd' (stochastic gradient descent)\n",
    " - metrics = 'accuracy'\n",
    "\n",
    "Weights:\n",
    "- class 0: 1.25\n",
    "- class 1: 4.70\n",
    "- class 2: 0.50\n",
    "\n",
    "Test results:\n",
    "- Accuracy: 0.75\n",
    "- Recall: 0.69\n",
    "- F1 score: 0.64\n",
    "\n",
    "Adjusting the weights in the model resulted in worse accuracy but overal recall and f1 score were much better, which is indicative of less biased results. Quite a lot of positive reviews were misclassified as neutral as a consequence of the weight tunning.\n",
    "\n",
    "Train times:\n",
    "\n",
    "10 minutes on RTX 4070 locally\n",
    "\n",
    "10 minutes on L4 on Colab Pro"
   ]
  },
  {
   "cell_type": "code",
   "execution_count": 42,
   "id": "811dc9379204510c",
   "metadata": {
    "ExecuteTime": {
     "end_time": "2024-05-19T18:38:30.558952700Z",
     "start_time": "2024-05-19T18:31:01.279802800Z"
    },
    "colab": {
     "base_uri": "https://localhost:8080/",
     "height": 1000
    },
    "id": "811dc9379204510c",
    "outputId": "fe4579fb-cf9d-4c08-e152-7681e3da5f2e"
   },
   "outputs": [
    {
     "name": "stdout",
     "output_type": "stream",
     "text": [
      "Model: \"model_3\"\n",
      "_________________________________________________________________\n",
      " Layer (type)                Output Shape              Param #   \n",
      "=================================================================\n",
      " input_4 (InputLayer)        [(None, 128)]             0         \n",
      "                                                                 \n",
      " embedding_3 (Embedding)     (None, 128, 128)          1024000   \n",
      "                                                                 \n",
      " bidirectional_3 (Bidirecti  (None, 32)                18560     \n",
      " onal)                                                           \n",
      "                                                                 \n",
      " dense_3 (Dense)             (None, 3)                 99        \n",
      "                                                                 \n",
      "=================================================================\n",
      "Total params: 1042659 (3.98 MB)\n",
      "Trainable params: 1042659 (3.98 MB)\n",
      "Non-trainable params: 0 (0.00 Byte)\n",
      "_________________________________________________________________\n",
      "Epoch 1/20\n",
      "2025/2025 [==============================] - 45s 21ms/step - loss: 1.0766 - accuracy: 0.5186 - val_loss: 1.0221 - val_accuracy: 0.6004\n",
      "Epoch 2/20\n",
      "2025/2025 [==============================] - 25s 12ms/step - loss: 1.0455 - accuracy: 0.5927 - val_loss: 0.9739 - val_accuracy: 0.6538\n",
      "Epoch 3/20\n",
      "2025/2025 [==============================] - 25s 12ms/step - loss: 0.9751 - accuracy: 0.6652 - val_loss: 0.8130 - val_accuracy: 0.7389\n",
      "Epoch 4/20\n",
      "2025/2025 [==============================] - 25s 12ms/step - loss: 0.8765 - accuracy: 0.6985 - val_loss: 0.8145 - val_accuracy: 0.6546\n",
      "Epoch 5/20\n",
      "2025/2025 [==============================] - 25s 12ms/step - loss: 0.8146 - accuracy: 0.7021 - val_loss: 0.7884 - val_accuracy: 0.6283\n",
      "Epoch 6/20\n",
      "2025/2025 [==============================] - 25s 12ms/step - loss: 0.7794 - accuracy: 0.7023 - val_loss: 0.7676 - val_accuracy: 0.6276\n",
      "Epoch 7/20\n",
      "2025/2025 [==============================] - 25s 12ms/step - loss: 0.7597 - accuracy: 0.7021 - val_loss: 0.7582 - val_accuracy: 0.6351\n",
      "Epoch 8/20\n",
      "2025/2025 [==============================] - 25s 12ms/step - loss: 0.7337 - accuracy: 0.7108 - val_loss: 0.7355 - val_accuracy: 0.6492\n",
      "Epoch 9/20\n",
      "2025/2025 [==============================] - 25s 12ms/step - loss: 0.7210 - accuracy: 0.7111 - val_loss: 0.6910 - val_accuracy: 0.6767\n",
      "Epoch 10/20\n",
      "2025/2025 [==============================] - 25s 12ms/step - loss: 0.7015 - accuracy: 0.7234 - val_loss: 0.6692 - val_accuracy: 0.6947\n",
      "Epoch 11/20\n",
      "2025/2025 [==============================] - 25s 12ms/step - loss: 0.6925 - accuracy: 0.7311 - val_loss: 0.6495 - val_accuracy: 0.7076\n",
      "Epoch 12/20\n",
      "2025/2025 [==============================] - 25s 12ms/step - loss: 0.6707 - accuracy: 0.7401 - val_loss: 0.6340 - val_accuracy: 0.7156\n",
      "Epoch 13/20\n",
      "2025/2025 [==============================] - 25s 12ms/step - loss: 0.6590 - accuracy: 0.7452 - val_loss: 0.6126 - val_accuracy: 0.7272\n",
      "Epoch 14/20\n",
      "2025/2025 [==============================] - 25s 12ms/step - loss: 0.6442 - accuracy: 0.7534 - val_loss: 0.6114 - val_accuracy: 0.7314\n",
      "Epoch 15/20\n",
      "2025/2025 [==============================] - 25s 12ms/step - loss: 0.6384 - accuracy: 0.7559 - val_loss: 0.5905 - val_accuracy: 0.7485\n",
      "Epoch 16/20\n",
      "2025/2025 [==============================] - 25s 12ms/step - loss: 0.6247 - accuracy: 0.7614 - val_loss: 0.6355 - val_accuracy: 0.7237\n",
      "Epoch 17/20\n",
      "2025/2025 [==============================] - 25s 12ms/step - loss: 0.6241 - accuracy: 0.7605 - val_loss: 0.6009 - val_accuracy: 0.7407\n",
      "Epoch 18/20\n",
      "2025/2025 [==============================] - 25s 12ms/step - loss: 0.6105 - accuracy: 0.7656 - val_loss: 0.5776 - val_accuracy: 0.7518\n",
      "Epoch 19/20\n",
      "2025/2025 [==============================] - 25s 12ms/step - loss: 0.6043 - accuracy: 0.7699 - val_loss: 0.5976 - val_accuracy: 0.7447\n",
      "Epoch 20/20\n",
      "2025/2025 [==============================] - 25s 12ms/step - loss: 0.6034 - accuracy: 0.7700 - val_loss: 0.5810 - val_accuracy: 0.7549\n",
      "250/250 [==============================] - 1s 6ms/step - loss: 0.5840 - accuracy: 0.7510\n",
      "Test dataset accuracy: 0.7509999871253967\n",
      "250/250 [==============================] - 2s 5ms/step\n",
      "Recall score: 0.6910778619504055\n",
      "F1 score: 0.635053596293038\n"
     ]
    },
    {
     "data": {
      "image/png": "[encoded data removed]",
      "text/plain": [
       "<Figure size 640x480 with 2 Axes>"
      ]
     },
     "metadata": {},
     "output_type": "display_data"
    }
   ],
   "source": [
    "embedding_dim = 128\n",
    "model = create_RNN(max_length, embedding_dim)\n",
    "model.summary()\n",
    "callbacks = [\n",
    "    keras.callbacks.EarlyStopping(monitor='val_loss', patience=3, min_delta=0.002, restore_best_weights=True),\n",
    "]\n",
    "history = model.fit(train_ds.cache(), epochs=20, validation_data=val_ds.cache(), callbacks=callbacks, class_weight=class_weight)\n",
    "print(f\"Test dataset accuracy: {model.evaluate(test_ds)[1]}\")\n",
    "get_conf_matrix(model)"
   ]
  },
  {
   "cell_type": "markdown",
   "id": "f5729d8fab009b6d",
   "metadata": {
    "collapsed": false,
    "id": "f5729d8fab009b6d"
   },
   "source": [
    "### 3.2. RNN - tuned hyperparameters\n",
    "\n",
    "Search space:\n",
    " -  embedding dimension: {64, 128, 256}\n",
    " -  lstm units count: {16, 32, 64}\n",
    " - optimization algorithm: {adam, sgd, adagrad}\n",
    "\n",
    "While this is in no way an exhaustive list of hyperparameters - we could add different activation functions, make it more granular, use different method for training etc etc, it can be easily scaleable with the function provided below.\n",
    "\n",
    "The function returns the best-performing model along with its hyperparameters based on validation accuracy. Including weights should reduce the bias in using accuracy.\n",
    "\n",
    "Weights:\n",
    "- class 0: 1.25\n",
    "- class 1: 4.70\n",
    "- class 2: 0.50\n",
    "\n",
    "The best hyperparameters found:\n",
    "\n",
    "{'optimizer': 'adam', 'lstm_units': 32, 'embedding_dim': 128}\n",
    "\n",
    "Test results for best model:\n",
    "- Accuracy: 0.79\n",
    "- Recall: 0.66\n",
    "- F1 score: 0.64\n",
    "\n",
    "This model performed very much the same as the default model with adjusted weights, increasing the accuracy only so slightly. Perhaps wider search space could find significantly better set of hyperparameters.\n",
    "\n",
    "Train times:\n",
    "\n",
    "4.5 hours on RTX 4070 locally\n",
    "\n",
    "2 hours on A100 on Colab Pro"
   ]
  },
  {
   "cell_type": "code",
   "execution_count": 17,
   "id": "bc68a6ea6a7536d3",
   "metadata": {
    "ExecuteTime": {
     "end_time": "2024-05-21T07:20:51.077119900Z",
     "start_time": "2024-05-21T07:20:51.024732300Z"
    },
    "id": "bc68a6ea6a7536d3"
   },
   "outputs": [],
   "source": [
    "def grid_search_RNN(epochs=20, patience=3):\n",
    "    best_model = None\n",
    "    best_accuracy = 0.0\n",
    "    print(f\"Need to train {len(param_grid_RNN['embedding_dim'])*len(param_grid_RNN['embedding_dim'])*len(param_grid_RNN['optimizer'])} RNNs.\")\n",
    "    count = 0\n",
    "    best_hyperparams = {}\n",
    "    for embedding_dim in param_grid_RNN['embedding_dim']:\n",
    "        for lstm_unit in param_grid_RNN['lstm_units']:\n",
    "            for optimizer in param_grid_RNN['optimizer']:\n",
    "                print(f\"Training model for:\\n embedding_dim = {embedding_dim}\\n lstm_units = {lstm_unit}\\n optimizer = {optimizer}\")\n",
    "                model = create_RNN(max_length=max_length,\n",
    "                                   embedding_dim=embedding_dim,\n",
    "                                   lstm_units = lstm_unit,\n",
    "                                   optimizer=optimizer)\n",
    "\n",
    "                callbacks = [\n",
    "                    keras.callbacks.EarlyStopping(monitor='val_loss', patience=patience)\n",
    "                ]\n",
    "\n",
    "                history = model.fit(train_ds.cache(), epochs=epochs,\n",
    "                                    validation_data=val_ds.cache(),\n",
    "                                    callbacks=callbacks,\n",
    "                                    class_weight=class_weight)\n",
    "\n",
    "                val_acc = history.history['val_accuracy'][-1]\n",
    "                count+=1\n",
    "                print(f\"{count}/{len(param_grid_RNN['embedding_dim'])*len(param_grid_RNN['embedding_dim'])*len(param_grid_RNN['optimizer'])}\")\n",
    "                if val_acc > best_accuracy:\n",
    "                    best_model = model\n",
    "                    best_accuracy = val_acc\n",
    "                    best_hyperparams['optimizer'] = optimizer\n",
    "                    best_hyperparams['lstm_units'] = lstm_unit\n",
    "                    best_hyperparams['embedding_dim'] = embedding_dim\n",
    "    return best_model, best_accuracy, best_hyperparams\n",
    "\n",
    "param_grid_RNN = {\n",
    "    'embedding_dim': [64, 128, 256],\n",
    "    'lstm_units': [16, 32, 64],\n",
    "    'optimizer': ['adam', 'sgd', 'adagrad'],\n",
    "}"
   ]
  },
  {
   "cell_type": "code",
   "execution_count": null,
   "id": "9dc314cd24f69bae",
   "metadata": {
    "colab": {
     "base_uri": "https://localhost:8080/"
    },
    "id": "9dc314cd24f69bae",
    "outputId": "acf56864-341f-42ad-bcac-0768d7391a72"
   },
   "outputs": [],
   "source": [
    "best_RNN, acc_RNN, best_RNN_hyperparams = grid_search_RNN()"
   ]
  },
  {
   "cell_type": "code",
   "execution_count": 19,
   "id": "908993389a27936e",
   "metadata": {
    "colab": {
     "base_uri": "https://localhost:8080/",
     "height": 558
    },
    "id": "908993389a27936e",
    "is_executing": true,
    "outputId": "b6891ce8-b20c-4262-b4e6-81128fc18a4e"
   },
   "outputs": [
    {
     "name": "stdout",
     "output_type": "stream",
     "text": [
      "Best val accuracy: 0.8001388907432556\n",
      "250/250 [==============================] - 2s 6ms/step - loss: 0.6587 - accuracy: 0.7935\n",
      "Test dataset accuracy: 0.7935000061988831\n",
      "250/250 [==============================] - 2s 5ms/step\n",
      "Recall score: 0.6568568784579413\n",
      "F1 score: 0.6380830783933233\n"
     ]
    },
    {
     "data": {
      "image/png": "[encoded data removed]",
      "text/plain": [
       "<Figure size 640x480 with 2 Axes>"
      ]
     },
     "metadata": {},
     "output_type": "display_data"
    }
   ],
   "source": [
    "print(f\"Best val accuracy: {acc_RNN}\")\n",
    "print(f\"Test dataset accuracy: {best_RNN.evaluate(test_ds)[1]}\")\n",
    "get_conf_matrix(best_RNN)"
   ]
  },
  {
   "cell_type": "code",
   "execution_count": 26,
   "id": "BJnUjwBFqv1S",
   "metadata": {
    "colab": {
     "base_uri": "https://localhost:8080/"
    },
    "id": "BJnUjwBFqv1S",
    "outputId": "3ea9905f-8607-48b5-b0be-882606b0e444"
   },
   "outputs": [
    {
     "data": {
      "text/plain": [
       "{'optimizer': 'adam', 'lstm_units': 32, 'embedding_dim': 128}"
      ]
     },
     "execution_count": 26,
     "metadata": {},
     "output_type": "execute_result"
    }
   ],
   "source": [
    "best_RNN_hyperparams"
   ]
  },
  {
   "cell_type": "markdown",
   "id": "29c4b20f07ef71c7",
   "metadata": {
    "collapsed": false,
    "id": "29c4b20f07ef71c7"
   },
   "source": [
    "## 4. Convolutional Neural Network\n",
    "- train model with basic parameters\n",
    "- train model with basic parameters + adjusted weights\n",
    "- implement hyperparameter tuning using TFDF\n",
    "\n",
    "While making the architecture of the Convolutional Neural Network, I experimented with adding multiple 1DConv layers. The sweet spot for computational complexity and performance was\n",
    "\n",
    "Architecture:\n",
    "1. Input layer\n",
    "2. Embedding layer\n",
    "3. Convolutional layer with 128 filters and kernel size 5, relu activation\n",
    "4. Pooling layer, pool size 2\n",
    "5. Convolutional layer with 64 filters and kernel size 4, relu activation\n",
    "6. Pooling layer, pool size 2\n",
    "7. Convolutional layer with 32 filters and kernel size 4, relu activation\n",
    "8. Pooling layer, pool size 2\n",
    "9. Hidden dense layer with 10 neurons, sigmoid activation\n",
    "10. Dropout layer\n",
    "11. Flatten layer\n",
    "12. Output layer, 3 neurons\n",
    "\n",
    "\n",
    "Total of 1147887 parameters.\n"
   ]
  },
  {
   "cell_type": "markdown",
   "id": "FCfyuLqvnYkH",
   "metadata": {
    "id": "FCfyuLqvnYkH"
   },
   "source": [
    "### 4.1 CNN with default weights and default hyperparameters\n",
    "\n",
    "Default hyperparameters:\n",
    " - embedding_dim = 128\n",
    " - dropout rate = 0.5\n",
    " - optimizer = 'sgd' (stochastic gradient descent)\n",
    " - activation = 'relu'\n",
    "\n",
    "Test results:\n",
    "- Accuracy: 0.84\n",
    "- Recall: 0.56\n",
    "- F1 score: 0.56\n",
    "\n",
    "Model with default hyperparameters and default weights performed really well in terms of accuracy as could be expected, but poorly with Recall and F1 score. In the confusion matrix we can see that, once again, no neutral instances were identified.\n",
    "\n",
    "\n",
    "Train times:\n",
    "\n",
    "10 minutes on RTX 4070 locally\n",
    "\n",
    "3 minutes on A100 on Colab Pro"
   ]
  },
  {
   "cell_type": "code",
   "execution_count": 20,
   "id": "78cd285448c97445",
   "metadata": {
    "ExecuteTime": {
     "start_time": "2024-05-21T02:56:42.921358800Z"
    },
    "colab": {
     "base_uri": "https://localhost:8080/",
     "height": 1000
    },
    "id": "78cd285448c97445",
    "outputId": "e14ad5e2-4807-483b-b8f5-a8929f1a3715"
   },
   "outputs": [
    {
     "name": "stdout",
     "output_type": "stream",
     "text": [
      "Model: \"model_27\"\n",
      "_________________________________________________________________\n",
      " Layer (type)                Output Shape              Param #   \n",
      "=================================================================\n",
      " input_28 (InputLayer)       [(None, 128)]             0         \n",
      "                                                                 \n",
      " embedding_27 (Embedding)    (None, 128, 128)          1024000   \n",
      "                                                                 \n",
      " conv1d (Conv1D)             (None, 124, 128)          82048     \n",
      "                                                                 \n",
      " max_pooling1d (MaxPooling1  (None, 62, 128)           0         \n",
      " D)                                                              \n",
      "                                                                 \n",
      " conv1d_1 (Conv1D)           (None, 62, 64)            32832     \n",
      "                                                                 \n",
      " max_pooling1d_1 (MaxPoolin  (None, 31, 64)            0         \n",
      " g1D)                                                            \n",
      "                                                                 \n",
      " conv1d_2 (Conv1D)           (None, 31, 32)            8224      \n",
      "                                                                 \n",
      " max_pooling1d_2 (MaxPoolin  (None, 15, 32)            0         \n",
      " g1D)                                                            \n",
      "                                                                 \n",
      " dense_27 (Dense)            (None, 15, 10)            330       \n",
      "                                                                 \n",
      " dropout (Dropout)           (None, 15, 10)            0         \n",
      "                                                                 \n",
      " flatten (Flatten)           (None, 150)               0         \n",
      "                                                                 \n",
      " dense_28 (Dense)            (None, 3)                 453       \n",
      "                                                                 \n",
      "=================================================================\n",
      "Total params: 1147887 (4.38 MB)\n",
      "Trainable params: 1147887 (4.38 MB)\n",
      "Non-trainable params: 0 (0.00 Byte)\n",
      "_________________________________________________________________\n",
      "Epoch 1/20\n",
      "2025/2025 [==============================] - 30s 13ms/step - loss: 0.8481 - accuracy: 0.6487 - val_loss: 0.8051 - val_accuracy: 0.6624\n",
      "Epoch 2/20\n",
      "2025/2025 [==============================] - 10s 5ms/step - loss: 0.8009 - accuracy: 0.6612 - val_loss: 0.7676 - val_accuracy: 0.6624\n",
      "Epoch 3/20\n",
      "2025/2025 [==============================] - 10s 5ms/step - loss: 0.7790 - accuracy: 0.6592 - val_loss: 0.7637 - val_accuracy: 0.6624\n",
      "Epoch 4/20\n",
      "2025/2025 [==============================] - 10s 5ms/step - loss: 0.7735 - accuracy: 0.6607 - val_loss: 0.7622 - val_accuracy: 0.6624\n",
      "Epoch 5/20\n",
      "2025/2025 [==============================] - 10s 5ms/step - loss: 0.7728 - accuracy: 0.6607 - val_loss: 0.7616 - val_accuracy: 0.6624\n",
      "Epoch 6/20\n",
      "2025/2025 [==============================] - 10s 5ms/step - loss: 0.7718 - accuracy: 0.6628 - val_loss: 0.7616 - val_accuracy: 0.6624\n",
      "Epoch 7/20\n",
      "2025/2025 [==============================] - 10s 5ms/step - loss: 0.7694 - accuracy: 0.6634 - val_loss: 0.7600 - val_accuracy: 0.6624\n",
      "Epoch 8/20\n",
      "2025/2025 [==============================] - 10s 5ms/step - loss: 0.7685 - accuracy: 0.6644 - val_loss: 0.7578 - val_accuracy: 0.6624\n",
      "Epoch 9/20\n",
      "2025/2025 [==============================] - 10s 5ms/step - loss: 0.7648 - accuracy: 0.6685 - val_loss: 0.7514 - val_accuracy: 0.6762\n",
      "Epoch 10/20\n",
      "2025/2025 [==============================] - 10s 5ms/step - loss: 0.7480 - accuracy: 0.6896 - val_loss: 0.7050 - val_accuracy: 0.7357\n",
      "Epoch 11/20\n",
      "2025/2025 [==============================] - 10s 5ms/step - loss: 0.6599 - accuracy: 0.7521 - val_loss: 0.5925 - val_accuracy: 0.7811\n",
      "Epoch 12/20\n",
      "2025/2025 [==============================] - 10s 5ms/step - loss: 0.5849 - accuracy: 0.7902 - val_loss: 0.5437 - val_accuracy: 0.8056\n",
      "Epoch 13/20\n",
      "2025/2025 [==============================] - 10s 5ms/step - loss: 0.5345 - accuracy: 0.8115 - val_loss: 0.5068 - val_accuracy: 0.8190\n",
      "Epoch 14/20\n",
      "2025/2025 [==============================] - 10s 5ms/step - loss: 0.5023 - accuracy: 0.8243 - val_loss: 0.4809 - val_accuracy: 0.8321\n",
      "Epoch 15/20\n",
      "2025/2025 [==============================] - 10s 5ms/step - loss: 0.4826 - accuracy: 0.8319 - val_loss: 0.4790 - val_accuracy: 0.8325\n",
      "Epoch 16/20\n",
      "2025/2025 [==============================] - 10s 5ms/step - loss: 0.4693 - accuracy: 0.8371 - val_loss: 0.4712 - val_accuracy: 0.8332\n",
      "Epoch 17/20\n",
      "2025/2025 [==============================] - 10s 5ms/step - loss: 0.4587 - accuracy: 0.8404 - val_loss: 0.4548 - val_accuracy: 0.8397\n",
      "Epoch 18/20\n",
      "2025/2025 [==============================] - 10s 5ms/step - loss: 0.4478 - accuracy: 0.8442 - val_loss: 0.4608 - val_accuracy: 0.8385\n",
      "Epoch 19/20\n",
      "2025/2025 [==============================] - 10s 5ms/step - loss: 0.4396 - accuracy: 0.8481 - val_loss: 0.4414 - val_accuracy: 0.8446\n",
      "Epoch 20/20\n",
      "2025/2025 [==============================] - 10s 5ms/step - loss: 0.4324 - accuracy: 0.8514 - val_loss: 0.4570 - val_accuracy: 0.8382\n",
      "250/250 [==============================] - 1s 2ms/step - loss: 0.4510 - accuracy: 0.8389\n",
      "250/250 [==============================] - 1s 2ms/step - loss: 0.4510 - accuracy: 0.8389\n",
      "Test dataset accuracy: 0.8388749957084656\n",
      "250/250 [==============================] - 1s 2ms/step\n",
      "Recall score: 0.5660179203057357\n",
      "F1 score: 0.5607082733458081\n"
     ]
    },
    {
     "data": {
      "image/png": "[encoded data removed]",
      "text/plain": [
       "<Figure size 640x480 with 2 Axes>"
      ]
     },
     "metadata": {},
     "output_type": "display_data"
    }
   ],
   "source": [
    "model = create_CNN(max_length)\n",
    "model.summary()\n",
    "\n",
    "callbacks = [\n",
    "    keras.callbacks.EarlyStopping(monitor='val_loss', patience=3, min_delta=0.002, restore_best_weights=True),\n",
    "]\n",
    "\n",
    "history = model.fit(train_ds.cache(), epochs=20, validation_data=val_ds.cache(), callbacks=callbacks)\n",
    "model.evaluate(test_ds)\n",
    "print(f\"Test dataset accuracy: {model.evaluate(test_ds)[1]}\")\n",
    "get_conf_matrix(model)"
   ]
  },
  {
   "cell_type": "markdown",
   "id": "kxKkijr2t5BV",
   "metadata": {
    "id": "kxKkijr2t5BV"
   },
   "source": [
    "### 4.2 CNN with adjusted weights and default hyperparameters\n",
    "\n",
    "Default hyperparameters:\n",
    " - embedding_dim = 128\n",
    " - dropout rate = 0.5\n",
    " - optimizer = 'sgd' (stochastic gradient descent)\n",
    " - activation = 'relu'\n",
    "\n",
    "\n",
    "Weights:\n",
    "- class 0: 1.25\n",
    "- class 1: 4.70\n",
    "- class 2: 0.50\n",
    "\n",
    "\n",
    "Test results:\n",
    "- Accuracy: 0.75\n",
    "- Recall: 0.62\n",
    "- F1 score: 0.59\n",
    "\n",
    "Adjusting the weights once again helped with bias, while impacting the accuracy. As we can see, quite a lot of instances were misclassified as neutral while being negative.\n",
    "\n",
    "Train times:\n",
    "\n",
    "10 minutes on RTX 4070 locally\n",
    "\n",
    "3 minutes on A100 on Colab Pro"
   ]
  },
  {
   "cell_type": "code",
   "execution_count": 21,
   "id": "db9e5d950852202a",
   "metadata": {
    "ExecuteTime": {
     "start_time": "2024-05-21T02:56:42.922358900Z"
    },
    "colab": {
     "base_uri": "https://localhost:8080/",
     "height": 1000
    },
    "id": "db9e5d950852202a",
    "outputId": "e543f97b-d9dc-4494-f56d-91fe2875ce9c"
   },
   "outputs": [
    {
     "name": "stdout",
     "output_type": "stream",
     "text": [
      "Model: \"model_28\"\n",
      "_________________________________________________________________\n",
      " Layer (type)                Output Shape              Param #   \n",
      "=================================================================\n",
      " input_29 (InputLayer)       [(None, 128)]             0         \n",
      "                                                                 \n",
      " embedding_28 (Embedding)    (None, 128, 128)          1024000   \n",
      "                                                                 \n",
      " conv1d_3 (Conv1D)           (None, 124, 128)          82048     \n",
      "                                                                 \n",
      " max_pooling1d_3 (MaxPoolin  (None, 62, 128)           0         \n",
      " g1D)                                                            \n",
      "                                                                 \n",
      " conv1d_4 (Conv1D)           (None, 62, 64)            32832     \n",
      "                                                                 \n",
      " max_pooling1d_4 (MaxPoolin  (None, 31, 64)            0         \n",
      " g1D)                                                            \n",
      "                                                                 \n",
      " conv1d_5 (Conv1D)           (None, 31, 32)            8224      \n",
      "                                                                 \n",
      " max_pooling1d_5 (MaxPoolin  (None, 15, 32)            0         \n",
      " g1D)                                                            \n",
      "                                                                 \n",
      " dense_29 (Dense)            (None, 15, 10)            330       \n",
      "                                                                 \n",
      " dropout_1 (Dropout)         (None, 15, 10)            0         \n",
      "                                                                 \n",
      " flatten_1 (Flatten)         (None, 150)               0         \n",
      "                                                                 \n",
      " dense_30 (Dense)            (None, 3)                 453       \n",
      "                                                                 \n",
      "=================================================================\n",
      "Total params: 1147887 (4.38 MB)\n",
      "Trainable params: 1147887 (4.38 MB)\n",
      "Non-trainable params: 0 (0.00 Byte)\n",
      "_________________________________________________________________\n",
      "Epoch 1/20\n",
      "2025/2025 [==============================] - 27s 13ms/step - loss: 1.1508 - accuracy: 0.3258 - val_loss: 1.0987 - val_accuracy: 0.0710\n",
      "Epoch 2/20\n",
      "2025/2025 [==============================] - 10s 5ms/step - loss: 1.1061 - accuracy: 0.3242 - val_loss: 1.0878 - val_accuracy: 0.6529\n",
      "Epoch 3/20\n",
      "2025/2025 [==============================] - 10s 5ms/step - loss: 1.0961 - accuracy: 0.3809 - val_loss: 1.0467 - val_accuracy: 0.6404\n",
      "Epoch 4/20\n",
      "2025/2025 [==============================] - 10s 5ms/step - loss: 1.0732 - accuracy: 0.5292 - val_loss: 1.0326 - val_accuracy: 0.6089\n",
      "Epoch 5/20\n",
      "2025/2025 [==============================] - 10s 5ms/step - loss: 1.0667 - accuracy: 0.5492 - val_loss: 1.0351 - val_accuracy: 0.5832\n",
      "Epoch 6/20\n",
      "2025/2025 [==============================] - 10s 5ms/step - loss: 1.0642 - accuracy: 0.5603 - val_loss: 1.0278 - val_accuracy: 0.6075\n",
      "Epoch 7/20\n",
      "2025/2025 [==============================] - 10s 5ms/step - loss: 1.0625 - accuracy: 0.5625 - val_loss: 1.0346 - val_accuracy: 0.5786\n",
      "Epoch 8/20\n",
      "2025/2025 [==============================] - 10s 5ms/step - loss: 1.0610 - accuracy: 0.5707 - val_loss: 1.0319 - val_accuracy: 0.5947\n",
      "Epoch 9/20\n",
      "2025/2025 [==============================] - 10s 5ms/step - loss: 1.0587 - accuracy: 0.5737 - val_loss: 1.0232 - val_accuracy: 0.6025\n",
      "Epoch 10/20\n",
      "2025/2025 [==============================] - 10s 5ms/step - loss: 1.0540 - accuracy: 0.5800 - val_loss: 1.0142 - val_accuracy: 0.6024\n",
      "Epoch 11/20\n",
      "2025/2025 [==============================] - 10s 5ms/step - loss: 1.0355 - accuracy: 0.6000 - val_loss: 0.9624 - val_accuracy: 0.6325\n",
      "Epoch 12/20\n",
      "2025/2025 [==============================] - 10s 5ms/step - loss: 0.9618 - accuracy: 0.6472 - val_loss: 0.8487 - val_accuracy: 0.7010\n",
      "Epoch 13/20\n",
      "2025/2025 [==============================] - 10s 5ms/step - loss: 0.8949 - accuracy: 0.6878 - val_loss: 0.7699 - val_accuracy: 0.7332\n",
      "Epoch 14/20\n",
      "2025/2025 [==============================] - 10s 5ms/step - loss: 0.8562 - accuracy: 0.7091 - val_loss: 0.7248 - val_accuracy: 0.7546\n",
      "Epoch 15/20\n",
      "2025/2025 [==============================] - 10s 5ms/step - loss: 0.8244 - accuracy: 0.7183 - val_loss: 0.6854 - val_accuracy: 0.7561\n",
      "Epoch 16/20\n",
      "2025/2025 [==============================] - 10s 5ms/step - loss: 0.7995 - accuracy: 0.7224 - val_loss: 0.6614 - val_accuracy: 0.7536\n",
      "Epoch 17/20\n",
      "2025/2025 [==============================] - 10s 5ms/step - loss: 0.7789 - accuracy: 0.7215 - val_loss: 0.6604 - val_accuracy: 0.7412\n",
      "Epoch 18/20\n",
      "2025/2025 [==============================] - 10s 5ms/step - loss: 0.7672 - accuracy: 0.7207 - val_loss: 0.6580 - val_accuracy: 0.7389\n",
      "Epoch 19/20\n",
      "2025/2025 [==============================] - 10s 5ms/step - loss: 0.7498 - accuracy: 0.7191 - val_loss: 0.6291 - val_accuracy: 0.7521\n",
      "Epoch 20/20\n",
      "2025/2025 [==============================] - 10s 5ms/step - loss: 0.7414 - accuracy: 0.7167 - val_loss: 0.6269 - val_accuracy: 0.7440\n",
      "250/250 [==============================] - 1s 2ms/step - loss: 0.6189 - accuracy: 0.7489\n",
      "250/250 [==============================] - 1s 2ms/step - loss: 0.6189 - accuracy: 0.7489\n",
      "Test dataset accuracy: 0.7488750219345093\n",
      "250/250 [==============================] - 1s 2ms/step\n",
      "Recall score: 0.6204620699098357\n",
      "F1 score: 0.5992729798765649\n"
     ]
    },
    {
     "data": {
      "image/png": "[encoded data removed]",
      "text/plain": [
       "<Figure size 640x480 with 2 Axes>"
      ]
     },
     "metadata": {},
     "output_type": "display_data"
    }
   ],
   "source": [
    "model = create_CNN(max_length)\n",
    "model.summary()\n",
    "\n",
    "callbacks = [\n",
    "    keras.callbacks.EarlyStopping(monitor='val_loss', patience=3, min_delta=0.002, restore_best_weights=True),\n",
    "]\n",
    "\n",
    "history = model.fit(train_ds.cache(), epochs=20, validation_data=val_ds.cache(), callbacks=callbacks, class_weight=class_weight)\n",
    "model.evaluate(test_ds)\n",
    "print(f\"Test dataset accuracy: {model.evaluate(test_ds)[1]}\")\n",
    "get_conf_matrix(model)"
   ]
  },
  {
   "cell_type": "markdown",
   "id": "hg3rizIhugUw",
   "metadata": {
    "id": "hg3rizIhugUw"
   },
   "source": [
    "### 4.3 CNN with CUSTOM weights and default hyperparameters\n",
    "\n",
    "Default hyperparameters:\n",
    " - embedding_dim = 128\n",
    " - dropout rate = 0.5\n",
    " - optimizer = 'sgd' (stochastic gradient descent)\n",
    " - activation = 'relu'\n",
    "\n",
    "\n",
    "Weights:\n",
    "- class 0: 2\n",
    "- class 1: 5\n",
    "- class 2: 1\n",
    "\n",
    "\n",
    "Test results:\n",
    "- Accuracy: 0.82\n",
    "- Recall: 0.63\n",
    "- F1 score: 0.63\n",
    "\n",
    "For this model i tried manually tweaking the weights to try to find the sweet spot between variance and bias. While, once again, majority of neutral occurences were misclassified, it yielded, in my opinion, better results in terms of accuracy, recall and F1 score.\n",
    "\n",
    "Train times:\n",
    "\n",
    "10 minutes on RTX 4070 locally\n",
    "\n",
    "3 minutes on A100 on Colab Pro"
   ]
  },
  {
   "cell_type": "code",
   "execution_count": 22,
   "id": "14170eaf1cbd50eb",
   "metadata": {
    "ExecuteTime": {
     "start_time": "2024-05-21T02:56:42.922358900Z"
    },
    "colab": {
     "base_uri": "https://localhost:8080/",
     "height": 1000
    },
    "id": "14170eaf1cbd50eb",
    "outputId": "23d69692-c4b8-4459-e224-9319b07095eb"
   },
   "outputs": [
    {
     "name": "stdout",
     "output_type": "stream",
     "text": [
      "Model: \"model_29\"\n",
      "_________________________________________________________________\n",
      " Layer (type)                Output Shape              Param #   \n",
      "=================================================================\n",
      " input_30 (InputLayer)       [(None, 128)]             0         \n",
      "                                                                 \n",
      " embedding_29 (Embedding)    (None, 128, 128)          1024000   \n",
      "                                                                 \n",
      " conv1d_6 (Conv1D)           (None, 124, 128)          82048     \n",
      "                                                                 \n",
      " max_pooling1d_6 (MaxPoolin  (None, 62, 128)           0         \n",
      " g1D)                                                            \n",
      "                                                                 \n",
      " conv1d_7 (Conv1D)           (None, 62, 64)            32832     \n",
      "                                                                 \n",
      " max_pooling1d_7 (MaxPoolin  (None, 31, 64)            0         \n",
      " g1D)                                                            \n",
      "                                                                 \n",
      " conv1d_8 (Conv1D)           (None, 31, 32)            8224      \n",
      "                                                                 \n",
      " max_pooling1d_8 (MaxPoolin  (None, 15, 32)            0         \n",
      " g1D)                                                            \n",
      "                                                                 \n",
      " dense_31 (Dense)            (None, 15, 10)            330       \n",
      "                                                                 \n",
      " dropout_2 (Dropout)         (None, 15, 10)            0         \n",
      "                                                                 \n",
      " flatten_2 (Flatten)         (None, 150)               0         \n",
      "                                                                 \n",
      " dense_32 (Dense)            (None, 3)                 453       \n",
      "                                                                 \n",
      "=================================================================\n",
      "Total params: 1147887 (4.38 MB)\n",
      "Trainable params: 1147887 (4.38 MB)\n",
      "Non-trainable params: 0 (0.00 Byte)\n",
      "_________________________________________________________________\n",
      "Epoch 1/20\n",
      "2025/2025 [==============================] - 27s 13ms/step - loss: 1.7177 - accuracy: 0.5310 - val_loss: 0.8933 - val_accuracy: 0.6624\n",
      "Epoch 2/20\n",
      "2025/2025 [==============================] - 10s 5ms/step - loss: 1.6238 - accuracy: 0.6189 - val_loss: 0.8606 - val_accuracy: 0.6469\n",
      "Epoch 3/20\n",
      "2025/2025 [==============================] - 10s 5ms/step - loss: 1.6030 - accuracy: 0.6229 - val_loss: 0.8650 - val_accuracy: 0.6460\n",
      "Epoch 4/20\n",
      "2025/2025 [==============================] - 10s 5ms/step - loss: 1.5944 - accuracy: 0.6259 - val_loss: 0.8671 - val_accuracy: 0.6438\n",
      "Epoch 5/20\n",
      "2025/2025 [==============================] - 10s 5ms/step - loss: 1.5820 - accuracy: 0.6299 - val_loss: 0.8533 - val_accuracy: 0.6544\n",
      "Epoch 6/20\n",
      "2025/2025 [==============================] - 10s 5ms/step - loss: 1.5014 - accuracy: 0.6861 - val_loss: 0.7388 - val_accuracy: 0.7642\n",
      "Epoch 7/20\n",
      "2025/2025 [==============================] - 10s 5ms/step - loss: 1.3276 - accuracy: 0.7777 - val_loss: 0.6825 - val_accuracy: 0.7947\n",
      "Epoch 8/20\n",
      "2025/2025 [==============================] - 10s 5ms/step - loss: 1.2173 - accuracy: 0.8023 - val_loss: 0.6105 - val_accuracy: 0.8160\n",
      "Epoch 9/20\n",
      "2025/2025 [==============================] - 10s 5ms/step - loss: 1.1541 - accuracy: 0.8113 - val_loss: 0.5642 - val_accuracy: 0.8229\n",
      "Epoch 10/20\n",
      "2025/2025 [==============================] - 10s 5ms/step - loss: 1.1142 - accuracy: 0.8122 - val_loss: 0.5509 - val_accuracy: 0.8200\n",
      "Epoch 11/20\n",
      "2025/2025 [==============================] - 10s 5ms/step - loss: 1.0827 - accuracy: 0.8168 - val_loss: 0.5467 - val_accuracy: 0.8193\n",
      "Epoch 12/20\n",
      "2025/2025 [==============================] - 10s 5ms/step - loss: 1.0564 - accuracy: 0.8174 - val_loss: 0.5333 - val_accuracy: 0.8176\n",
      "Epoch 13/20\n",
      "2025/2025 [==============================] - 10s 5ms/step - loss: 1.0398 - accuracy: 0.8149 - val_loss: 0.5159 - val_accuracy: 0.8242\n",
      "Epoch 14/20\n",
      "2025/2025 [==============================] - 10s 5ms/step - loss: 1.0230 - accuracy: 0.8169 - val_loss: 0.5068 - val_accuracy: 0.8244\n",
      "Epoch 15/20\n",
      "2025/2025 [==============================] - 10s 5ms/step - loss: 1.0123 - accuracy: 0.8177 - val_loss: 0.4997 - val_accuracy: 0.8242\n",
      "Epoch 16/20\n",
      "2025/2025 [==============================] - 10s 5ms/step - loss: 0.9997 - accuracy: 0.8172 - val_loss: 0.5018 - val_accuracy: 0.8213\n",
      "Epoch 17/20\n",
      "2025/2025 [==============================] - 10s 5ms/step - loss: 0.9879 - accuracy: 0.8185 - val_loss: 0.4991 - val_accuracy: 0.8222\n",
      "Epoch 18/20\n",
      "2025/2025 [==============================] - 10s 5ms/step - loss: 0.9751 - accuracy: 0.8190 - val_loss: 0.4954 - val_accuracy: 0.8211\n",
      "Epoch 19/20\n",
      "2025/2025 [==============================] - 10s 5ms/step - loss: 0.9672 - accuracy: 0.8177 - val_loss: 0.4907 - val_accuracy: 0.8211\n",
      "Epoch 20/20\n",
      "2025/2025 [==============================] - 10s 5ms/step - loss: 0.9612 - accuracy: 0.8190 - val_loss: 0.4945 - val_accuracy: 0.8229\n",
      "250/250 [==============================] - 1s 2ms/step - loss: 0.4884 - accuracy: 0.8195\n",
      "250/250 [==============================] - 1s 2ms/step - loss: 0.4884 - accuracy: 0.8195\n",
      "Test dataset accuracy: 0.8195000290870667\n",
      "250/250 [==============================] - 1s 2ms/step\n",
      "Recall score: 0.6333677013865434\n",
      "F1 score: 0.6323942708608795\n"
     ]
    },
    {
     "data": {
      "image/png": "[encoded data removed]",
      "text/plain": [
       "<Figure size 640x480 with 2 Axes>"
      ]
     },
     "metadata": {},
     "output_type": "display_data"
    }
   ],
   "source": [
    "model = create_CNN(max_length)\n",
    "model.summary()\n",
    "\n",
    "callbacks = [\n",
    "    keras.callbacks.EarlyStopping(monitor='val_loss', patience=3, min_delta=0.002, restore_best_weights=True),\n",
    "]\n",
    "\n",
    "history = model.fit(train_ds.cache(), epochs=20, validation_data=val_ds.cache(), callbacks=callbacks, class_weight={0:2,1:5,2:1})\n",
    "model.evaluate(test_ds)\n",
    "print(f\"Test dataset accuracy: {model.evaluate(test_ds)[1]}\")\n",
    "get_conf_matrix(model)"
   ]
  },
  {
   "cell_type": "markdown",
   "id": "jpWiGwGVvDV4",
   "metadata": {
    "id": "jpWiGwGVvDV4"
   },
   "source": [
    "### 4.4 RNN - tuned hyperparameters\n",
    "\n",
    "Search space:\n",
    " -  embedding dimension: {64, 128, 256}\n",
    " -  dropout rate: {0.2, 0.3, 0.5}\n",
    " - optimization algorithm: {adam, sgd, adagrad}\n",
    "\n",
    "While this is in no way an exhaustive list of hyperparameters - we could add different activation functions, make it more granular, use different method for training etc etc, it can be easily scaleable with the function provided below.\n",
    "\n",
    "The function returns the best-performing model along with its hyperparameters based on validation accuracy. Including weights should reduce the bias in using accuracy.\n",
    "\n",
    "Weights:\n",
    "- class 0: 1.25\n",
    "- class 1: 4.70\n",
    "- class 2: 0.50\n",
    "\n",
    "The best hyperparameters found:\n",
    "\n",
    "{'optimizer': 'adam', 'dropout_rate': 0.2, 'embedding_dim': 64}\n",
    "\n",
    "Test results for best model:\n",
    "- Accuracy: 0.80\n",
    "- Recall: 0.65\n",
    "- F1 score: 0.64\n",
    "\n",
    "The best model from the grid search performed better than the default model with calculated weights in all metrics and better than the default model with custom weights in terms of Recall and F1 Score. Perhaps if the custom weights were used for this training instead, we could've achieved better results.\n",
    "\n",
    "Train times:\n",
    "\n",
    "2 hours on RTX 4070 locally\n",
    "\n",
    "1 hour on A100 on Colab Pro"
   ]
  },
  {
   "cell_type": "code",
   "execution_count": 23,
   "id": "203c7a48d4551f53",
   "metadata": {
    "id": "203c7a48d4551f53",
    "is_executing": true
   },
   "outputs": [],
   "source": [
    "def grid_search_CNN(epochs=20, patience=3):\n",
    "    best_model = None\n",
    "    best_accuracy = 0.0\n",
    "    count = 0\n",
    "    best_hyperparams = {}\n",
    "    for embedding_dim in param_grid_CNN['embedding_dim']:\n",
    "        for dropout_rate in param_grid_CNN['dropout_rate']:\n",
    "            for optimizer in param_grid_CNN['optimizer']:\n",
    "                model = create_CNN(max_length=max_length,\n",
    "                                   embedding_dim=embedding_dim,\n",
    "                                   dropout_rate=dropout_rate,\n",
    "                                   optimizer=optimizer)\n",
    "\n",
    "                callbacks = [\n",
    "                    keras.callbacks.EarlyStopping(monitor='val_loss', patience=patience)\n",
    "                ]\n",
    "\n",
    "                history = model.fit(train_ds.cache(), epochs=epochs,\n",
    "                                    validation_data=val_ds.cache(),\n",
    "                                    callbacks=callbacks,\n",
    "                                    class_weight=class_weight)\n",
    "\n",
    "                val_acc = history.history['val_accuracy'][-1] \n",
    "                count+=1\n",
    "                print(f\"{count}/{len(param_grid_CNN['embedding_dim'])*len(param_grid_CNN['embedding_dim'])*len(param_grid_CNN['optimizer'])}\")\n",
    "                if val_acc > best_accuracy:\n",
    "                    best_model = model\n",
    "                    best_accuracy = val_acc\n",
    "                    best_hyperparams['optimizer'] = optimizer\n",
    "                    best_hyperparams['dropout_rate'] = dropout_rate\n",
    "                    best_hyperparams['embedding_dim'] = embedding_dim\n",
    "    return best_model, best_accuracy, best_hyperparams\n",
    "\n",
    "\n",
    "param_grid_CNN = {\n",
    "    'embedding_dim': [64, 128, 256],\n",
    "    'dropout_rate': [0.2, 0.3, 0.5],\n",
    "    'optimizer': ['adam', 'sgd', 'adagrad']\n",
    "}"
   ]
  },
  {
   "cell_type": "code",
   "execution_count": null,
   "id": "8410bf9ad050c5f9",
   "metadata": {
    "colab": {
     "base_uri": "https://localhost:8080/"
    },
    "id": "8410bf9ad050c5f9",
    "outputId": "8396daa3-3520-41b8-8981-bf55ce01adcf"
   },
   "outputs": [],
   "source": [
    "best_CNN, acc_CNN, best_CNN_hyperparams = grid_search_CNN()"
   ]
  },
  {
   "cell_type": "code",
   "execution_count": 25,
   "id": "39745339ede2af9c",
   "metadata": {
    "colab": {
     "base_uri": "https://localhost:8080/",
     "height": 553
    },
    "id": "39745339ede2af9c",
    "is_executing": true,
    "outputId": "9ec2e29b-b818-4c04-9c99-44fe53fe4000"
   },
   "outputs": [
    {
     "name": "stdout",
     "output_type": "stream",
     "text": [
      "Best val accuracy: 0.8137500286102295\n",
      "250/250 [==============================] - 1s 2ms/step - loss: 0.6232 - accuracy: 0.8052\n",
      "Test dataset accuracy: 0.8052499890327454\n",
      "250/250 [==============================] - 1s 2ms/step\n",
      "Recall score: 0.6472402478309923\n",
      "F1 score: 0.6376571411945108\n"
     ]
    },
    {
     "data": {
      "image/png": "[encoded data removed]",
      "text/plain": [
       "<Figure size 640x480 with 2 Axes>"
      ]
     },
     "metadata": {},
     "output_type": "display_data"
    }
   ],
   "source": [
    "print(f\"Best val accuracy: {acc_CNN}\")\n",
    "print(f\"Test dataset accuracy: {best_CNN.evaluate(test_ds)[1]}\")\n",
    "get_conf_matrix(best_CNN)"
   ]
  },
  {
   "cell_type": "code",
   "execution_count": 27,
   "id": "reVg90Skva6r",
   "metadata": {
    "colab": {
     "base_uri": "https://localhost:8080/"
    },
    "id": "reVg90Skva6r",
    "outputId": "26e3a64a-c120-43a5-b63e-1858ad2ca801"
   },
   "outputs": [
    {
     "data": {
      "text/plain": [
       "{'optimizer': 'adam', 'dropout_rate': 0.2, 'embedding_dim': 64}"
      ]
     },
     "execution_count": 27,
     "metadata": {},
     "output_type": "execute_result"
    }
   ],
   "source": [
    "best_CNN_hyperparams"
   ]
  },
  {
   "cell_type": "markdown",
   "id": "ZcKZXQfxwzts",
   "metadata": {
    "id": "ZcKZXQfxwzts"
   },
   "source": [
    "## Conclusion\n",
    "\n",
    "To answer the question of what the best model is, we have to ask what the right business case for this model is. The dataset showed, that only a slight portion of reviews is actually neutral and even if there were much more many neutral class instances, it is questionable what the right use of the information in those reviews is.\n",
    "\n",
    "If this model was to serve as a sort of way for companies to gain feedback about stenghts or weaknesses of products, then it would make sense to pick models which achieve high accuracy, even though they sacrifice some bias in the process and completely omit the neutral class. It would honestly make sense to merge neutral cases to negative or delete them it the observations altogether to create a sort of gap between 1,2 and 4,5 star reviews. In this case the best model would be the RNN with default parameters and default weights. This model could further be improved by applying the gridsearch function on it.\n",
    "\n",
    "In the case of correct classification of all classes was of utmost importance, either the CNN or RNN with adjusted weights and tuned hyperparamters could be of use, although we tend to doubt usefulness of such solution.\n",
    "\n",
    "\n"
   ]
  },
  {
   "cell_type": "markdown",
   "id": "93c3a8188e82a8dc",
   "metadata": {
    "collapsed": false
   },
   "source": [
    "### Souvislost s jinými semestrálními, případně kvalifikačními, pracemi zpracovávanými v minulosti nebo souběžně\n",
    "Tato semestrální práce nemá textový ani věcný překryv, ani jinou věcnou souvislost, s jinými semestrálními nebo kvalifikačními pracemi, které jsem zpracovával/a."
   ]
  }
 ],
 "metadata": {
  "accelerator": "GPU",
  "colab": {
   "gpuType": "A100",
   "machine_shape": "hm",
   "provenance": []
  },
  "kernelspec": {
   "display_name": "Python 3 (ipykernel)",
   "language": "python",
   "name": "python3"
  },
  "language_info": {
   "codemirror_mode": {
    "name": "ipython",
    "version": 3
   },
   "file_extension": ".py",
   "mimetype": "text/x-python",
   "name": "python",
   "nbconvert_exporter": "python",
   "pygments_lexer": "ipython3",
   "version": "3.11.9"
  }
 },
 "nbformat": 4,
 "nbformat_minor": 5
}
