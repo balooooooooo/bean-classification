{
 "cells": [
  {
   "cell_type": "markdown",
   "source": [
    "# Text classification (sentiment analysis)\n",
    "Task: Predict sentiment of Amazon reviews\n",
    "Dataset: Beans from TFDS"
   ],
   "metadata": {
    "collapsed": false
   },
   "id": "dbbc77f284814682"
  },
  {
   "cell_type": "markdown",
   "source": [
    "## 1. Loading dataset"
   ],
   "metadata": {
    "collapsed": false
   },
   "id": "1ee5b5a6106d6686"
  },
  {
   "cell_type": "code",
   "execution_count": 20,
   "id": "initial_id",
   "metadata": {
    "collapsed": true,
    "ExecuteTime": {
     "end_time": "2024-05-16T14:12:43.721928800Z",
     "start_time": "2024-05-16T14:12:43.004745100Z"
    }
   },
   "outputs": [],
   "source": [
    "import pandas as pd\n",
    "from sklearn.model_selection import train_test_split\n",
    "from sklearn.utils import resample \n",
    "df = pd.read_csv('datasets/amazon_reviews_us_Major_Appliances_v1_00.tsv', sep='\\t', on_bad_lines='skip')"
   ]
  },
  {
   "cell_type": "code",
   "execution_count": 27,
   "outputs": [
    {
     "name": "stdout",
     "output_type": "stream",
     "text": [
      "(80000, 2)\n"
     ]
    }
   ],
   "source": [
    "df = df[['review_body', 'star_rating']]\n",
    "df.loc[df['star_rating'] < 3, 'sentiment'] = 0\n",
    "df.loc[df['star_rating'] == 3, 'sentiment'] = 1\n",
    "df.loc[df['star_rating'] > 3, 'sentiment'] = 2\n",
    "df.drop('star_rating', axis=1, inplace=True)\n",
    "df = resample(df, n_samples=80000, random_state=42)\n",
    "print(df.shape)"
   ],
   "metadata": {
    "collapsed": false,
    "ExecuteTime": {
     "end_time": "2024-05-16T14:13:28.958952400Z",
     "start_time": "2024-05-16T14:13:28.927535300Z"
    }
   },
   "id": "41ff8b299de307d2"
  },
  {
   "cell_type": "code",
   "execution_count": 28,
   "outputs": [
    {
     "data": {
      "text/plain": "                                             review_body  sentiment\n67552  This hood exhaust has many of the qualities as...        2.0\n89145  I've owned my Maytag Bravos 600x washer and dr...        0.0\n4965   After working perfectly for several months, th...        0.0\n11884  This is a good keg, it keeps my beers cold alw...        2.0\n70719  Installed easily, iooks nice, and the vacuum i...        2.0\n...                                                  ...        ...\n91892  I bought the Amana new at a bargain price chea...        1.0\n59058  Doesn't hold a huge amount of clothes, but dri...        2.0\n27062  Cooled to 55 almost immediately. Holding temp ...        2.0\n65326  The unit stopped working and would not cool do...        0.0\n11738  Can't find a better beverage cooler for $200. ...        2.0\n\n[80000 rows x 2 columns]",
      "text/html": "<div>\n<style scoped>\n    .dataframe tbody tr th:only-of-type {\n        vertical-align: middle;\n    }\n\n    .dataframe tbody tr th {\n        vertical-align: top;\n    }\n\n    .dataframe thead th {\n        text-align: right;\n    }\n</style>\n<table border=\"1\" class=\"dataframe\">\n  <thead>\n    <tr style=\"text-align: right;\">\n      <th></th>\n      <th>review_body</th>\n      <th>sentiment</th>\n    </tr>\n  </thead>\n  <tbody>\n    <tr>\n      <th>67552</th>\n      <td>This hood exhaust has many of the qualities as...</td>\n      <td>2.0</td>\n    </tr>\n    <tr>\n      <th>89145</th>\n      <td>I've owned my Maytag Bravos 600x washer and dr...</td>\n      <td>0.0</td>\n    </tr>\n    <tr>\n      <th>4965</th>\n      <td>After working perfectly for several months, th...</td>\n      <td>0.0</td>\n    </tr>\n    <tr>\n      <th>11884</th>\n      <td>This is a good keg, it keeps my beers cold alw...</td>\n      <td>2.0</td>\n    </tr>\n    <tr>\n      <th>70719</th>\n      <td>Installed easily, iooks nice, and the vacuum i...</td>\n      <td>2.0</td>\n    </tr>\n    <tr>\n      <th>...</th>\n      <td>...</td>\n      <td>...</td>\n    </tr>\n    <tr>\n      <th>91892</th>\n      <td>I bought the Amana new at a bargain price chea...</td>\n      <td>1.0</td>\n    </tr>\n    <tr>\n      <th>59058</th>\n      <td>Doesn't hold a huge amount of clothes, but dri...</td>\n      <td>2.0</td>\n    </tr>\n    <tr>\n      <th>27062</th>\n      <td>Cooled to 55 almost immediately. Holding temp ...</td>\n      <td>2.0</td>\n    </tr>\n    <tr>\n      <th>65326</th>\n      <td>The unit stopped working and would not cool do...</td>\n      <td>0.0</td>\n    </tr>\n    <tr>\n      <th>11738</th>\n      <td>Can't find a better beverage cooler for $200. ...</td>\n      <td>2.0</td>\n    </tr>\n  </tbody>\n</table>\n<p>80000 rows × 2 columns</p>\n</div>"
     },
     "execution_count": 28,
     "metadata": {},
     "output_type": "execute_result"
    }
   ],
   "source": [
    "df"
   ],
   "metadata": {
    "collapsed": false,
    "ExecuteTime": {
     "end_time": "2024-05-16T14:13:31.745026100Z",
     "start_time": "2024-05-16T14:13:31.726413900Z"
    }
   },
   "id": "8375b85d5ad382f9"
  },
  {
   "cell_type": "code",
   "execution_count": 29,
   "outputs": [],
   "source": [
    "X_train, X_test, y_train, y_test = train_test_split(\n",
    "    df['review_body'], df['sentiment'], random_state=42, test_size=0.1, stratify=df['sentiment']\n",
    ")"
   ],
   "metadata": {
    "collapsed": false,
    "ExecuteTime": {
     "end_time": "2024-05-16T14:13:50.628118400Z",
     "start_time": "2024-05-16T14:13:50.607773200Z"
    }
   },
   "id": "888175ce9a899193"
  },
  {
   "cell_type": "code",
   "execution_count": 30,
   "outputs": [
    {
     "data": {
      "text/plain": "sentiment\n2.0    48318\n0.0    18915\n1.0     4767\nName: count, dtype: int64"
     },
     "execution_count": 30,
     "metadata": {},
     "output_type": "execute_result"
    }
   ],
   "source": [
    "y_train.value_counts()"
   ],
   "metadata": {
    "collapsed": false,
    "ExecuteTime": {
     "end_time": "2024-05-16T14:13:51.824622500Z",
     "start_time": "2024-05-16T14:13:51.812606200Z"
    }
   },
   "id": "3bb0ea77037a1c64"
  }
 ],
 "metadata": {
  "kernelspec": {
   "display_name": "Python 3",
   "language": "python",
   "name": "python3"
  },
  "language_info": {
   "codemirror_mode": {
    "name": "ipython",
    "version": 2
   },
   "file_extension": ".py",
   "mimetype": "text/x-python",
   "name": "python",
   "nbconvert_exporter": "python",
   "pygments_lexer": "ipython2",
   "version": "2.7.6"
  }
 },
 "nbformat": 4,
 "nbformat_minor": 5
}
