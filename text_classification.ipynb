{
 "cells": [
  {
   "cell_type": "markdown",
   "source": [
    "# Text classification (sentiment analysis)\n",
    "Task: Predict sentiment of Amazon reviews\n",
    "Dataset: Beans from TFDS"
   ],
   "metadata": {
    "collapsed": false
   },
   "id": "dbbc77f284814682"
  },
  {
   "cell_type": "markdown",
   "source": [],
   "metadata": {
    "collapsed": false
   },
   "id": "f0474e0967c03828"
  },
  {
   "cell_type": "markdown",
   "source": [
    "## 1. Loading dataset & basic preprocessing\n",
    "- removal of reviews shorter than 5 characters\n",
    "- mapping from 1-5 -> 0,1,2\n",
    "- subsampling - without replacement, random state 42, 80 000 rows"
   ],
   "metadata": {
    "collapsed": false
   },
   "id": "1ee5b5a6106d6686"
  },
  {
   "cell_type": "code",
   "execution_count": 6,
   "id": "initial_id",
   "metadata": {
    "collapsed": true,
    "ExecuteTime": {
     "end_time": "2024-05-18T21:01:06.156156600Z",
     "start_time": "2024-05-18T21:01:06.108888400Z"
    }
   },
   "outputs": [],
   "source": [
    "import pandas as pd\n",
    "import numpy as np\n",
    "from sklearn.model_selection import train_test_split\n",
    "from sklearn.utils import resample\n",
    "from IPython.display import display\n",
    "import re\n",
    "import matplotlib.pyplot as plt\n",
    "import nltk\n",
    "import tensorflow as tf\n",
    "\n",
    "from tensorflow import keras\n",
    "from tensorflow.keras.layers import TextVectorization\n",
    "from tensorflow.keras import layers\n",
    "import datetime"
   ]
  },
  {
   "cell_type": "code",
   "execution_count": 7,
   "outputs": [
    {
     "data": {
      "text/plain": "'2.15.0'"
     },
     "execution_count": 7,
     "metadata": {},
     "output_type": "execute_result"
    }
   ],
   "source": [
    "tf.__version__"
   ],
   "metadata": {
    "collapsed": false,
    "ExecuteTime": {
     "end_time": "2024-05-18T21:01:06.166534900Z",
     "start_time": "2024-05-18T21:01:06.112809600Z"
    }
   },
   "id": "ca34945a70395e1f"
  },
  {
   "cell_type": "code",
   "execution_count": 8,
   "outputs": [
    {
     "name": "stdout",
     "output_type": "stream",
     "text": [
      "Num GPUs Available:  1\n"
     ]
    }
   ],
   "source": [
    "print(\"Num GPUs Available: \", len(tf.config.list_physical_devices('GPU')))"
   ],
   "metadata": {
    "collapsed": false,
    "ExecuteTime": {
     "end_time": "2024-05-18T21:01:06.177564600Z",
     "start_time": "2024-05-18T21:01:06.119840600Z"
    }
   },
   "id": "4dd962ce90049d5a"
  },
  {
   "cell_type": "code",
   "execution_count": 9,
   "outputs": [],
   "source": [
    "df = pd.read_csv('datasets/amazon_reviews_us_Major_Appliances_v1_00.tsv', sep='\\t', on_bad_lines='skip')"
   ],
   "metadata": {
    "collapsed": false,
    "ExecuteTime": {
     "end_time": "2024-05-18T21:01:07.054621Z",
     "start_time": "2024-05-18T21:01:06.172050600Z"
    }
   },
   "id": "41ff8b299de307d2"
  },
  {
   "cell_type": "code",
   "execution_count": 10,
   "outputs": [
    {
     "data": {
      "text/plain": "(96834, 15)"
     },
     "execution_count": 10,
     "metadata": {},
     "output_type": "execute_result"
    }
   ],
   "source": [
    "df.shape"
   ],
   "metadata": {
    "collapsed": false,
    "ExecuteTime": {
     "end_time": "2024-05-18T21:01:07.061696300Z",
     "start_time": "2024-05-18T21:01:07.056528300Z"
    }
   },
   "id": "c630cd8ed64d4f9d"
  },
  {
   "cell_type": "code",
   "execution_count": 11,
   "outputs": [],
   "source": [
    "# remove nas and duplicate reviews\n",
    "df.dropna(axis=0, subset=['review_body'], inplace=True)\n",
    "df.drop_duplicates(subset=['review_body'], inplace=True)"
   ],
   "metadata": {
    "collapsed": false,
    "ExecuteTime": {
     "end_time": "2024-05-18T21:01:07.137497600Z",
     "start_time": "2024-05-18T21:01:07.100446600Z"
    }
   },
   "id": "861e0cae068fbc6"
  },
  {
   "cell_type": "code",
   "execution_count": 12,
   "outputs": [
    {
     "data": {
      "text/plain": "(93446, 15)"
     },
     "execution_count": 12,
     "metadata": {},
     "output_type": "execute_result"
    }
   ],
   "source": [
    "df.shape"
   ],
   "metadata": {
    "collapsed": false,
    "ExecuteTime": {
     "end_time": "2024-05-18T21:01:07.149286600Z",
     "start_time": "2024-05-18T21:01:07.137497600Z"
    }
   },
   "id": "4761880489557793"
  },
  {
   "cell_type": "code",
   "execution_count": 13,
   "outputs": [
    {
     "name": "stderr",
     "output_type": "stream",
     "text": [
      "[nltk_data] Downloading package stopwords to /home/balv05/nltk_data...\n",
      "[nltk_data]   Package stopwords is already up-to-date!\n"
     ]
    }
   ],
   "source": [
    "nltk.download('stopwords')\n",
    "stopword_list = nltk.corpus.stopwords.words(\"english\")"
   ],
   "metadata": {
    "collapsed": false,
    "ExecuteTime": {
     "end_time": "2024-05-18T21:01:07.247293200Z",
     "start_time": "2024-05-18T21:01:07.194104200Z"
    }
   },
   "id": "296446ff70a87882"
  },
  {
   "cell_type": "code",
   "execution_count": 14,
   "outputs": [],
   "source": [
    "def remove_tags(review):\n",
    "    return re.sub(pattern='<.*?>', string=review , repl=' ') \n",
    "\n",
    "def keep_alnum(review):\n",
    "    return re.sub(pattern='[^A-Za-z\\d\\s:]', string=review, repl=' ')\n",
    "\n",
    "def strip_spaces(review):\n",
    "    return re.sub(pattern='[\\s]{2,}', string=review, repl=' ')\n",
    "\n",
    "def lowercase(review):\n",
    "    return review.lower()\n",
    "\n",
    "def remove_stopwords(review):\n",
    "    review_list = review.split()\n",
    "    return \" \".join([word for word in review_list if word not in stopword_list])"
   ],
   "metadata": {
    "collapsed": false,
    "ExecuteTime": {
     "end_time": "2024-05-18T21:01:07.247293200Z",
     "start_time": "2024-05-18T21:01:07.245293200Z"
    }
   },
   "id": "feccec45640d371c"
  },
  {
   "cell_type": "code",
   "execution_count": 15,
   "outputs": [],
   "source": [
    "df['review_body'] = df['review_body'].apply(remove_tags)        # remove html tags\n",
    "df['review_body'] = df['review_body'].apply(keep_alnum)         # remove sub unicode char\n",
    "df['review_body'] = df['review_body'].apply(strip_spaces)       # strip all unnecessary whitespaces\n",
    "df['review_body'] = df['review_body'].apply(lowercase)          # put everything into lowercase\n",
    "df['review_body'] = df['review_body'].apply(remove_stopwords)   # put everything into lowercase\n",
    "df = df[df['review_body'].str.len() > 5]                        # keep only reviews longer than 5 characters"
   ],
   "metadata": {
    "collapsed": false,
    "ExecuteTime": {
     "end_time": "2024-05-18T21:01:15.073523900Z",
     "start_time": "2024-05-18T21:01:07.251811700Z"
    }
   },
   "id": "ab4b0c058041911e"
  },
  {
   "cell_type": "code",
   "execution_count": 16,
   "outputs": [
    {
     "data": {
      "text/plain": "      marketplace  customer_id       review_id  product_id  product_parent  \\\n0              US     16199106  R203HPW78Z7N4K  B0067WNSZY       633038551   \n1              US     16374060  R2EAIGVLEALSP3  B002QSXK60       811766671   \n2              US     15322085  R1K1CD73HHLILA  B00EC452R6       345562728   \n3              US     32004835  R2KZBMOFRMYOPO  B00MVVIF2G       563052763   \n4              US     25414497   R6BIZOZY6UD01  B00IY7BNUW       874236579   \n...           ...          ...             ...         ...             ...   \n96829          US     37431087  R3CYIDM3UEY5PA  B00005O64S       222987122   \n96830          US     44686434  R1PLFLGSA6N9WU  B00005O64T       802734810   \n96831          US     36739731   RBPARLMOY6ZU5  B00005O64S       222987122   \n96832          US     50744080   RSS5TDZOGUEB6  B00004SACT       344802997   \n96833          US     48699462  R1X5L2BT3H084O  B00004SACT       344802997   \n\n                                           product_title  product_category  \\\n0      FGGF3032MW Gallery Series 30\" Wide Freestandin...  Major Appliances   \n1                              Best Hand Clothes Wringer  Major Appliances   \n2                        Supco SET184 Thermal Cutoff Kit  Major Appliances   \n3      Midea WHS-160RB1 Compact Single Reversible Doo...  Major Appliances   \n4                          Avalon Bay Portable Ice Maker  Major Appliances   \n...                                                  ...               ...   \n96829  Haier HDT18PA Space Saver Compact Countertop D...  Major Appliances   \n96830  Haier America HSE02-WNAWW 1.8-Cubic-Foot Capac...  Major Appliances   \n96831  Haier HDT18PA Space Saver Compact Countertop D...  Major Appliances   \n96832         Sanyo Two-Door 2.9 Cubic Foot Refrigerator  Major Appliances   \n96833         Sanyo Two-Door 2.9 Cubic Foot Refrigerator  Major Appliances   \n\n       star_rating  helpful_votes  total_votes vine verified_purchase  \\\n0                5              0            0    N                 Y   \n1                5              1            1    N                 Y   \n2                5              0            0    N                 Y   \n3                5              1            1    N                 Y   \n4                5              0            0    N                 Y   \n...            ...            ...          ...  ...               ...   \n96829            4             37           43    N                 N   \n96830            1             33           39    N                 N   \n96831            5              6           45    N                 N   \n96832            4             71           71    N                 N   \n96833            3              8           40    N                 N   \n\n                                  review_headline  \\\n0      If you need a new stove, this is a winner.   \n1                                      Five Stars   \n2                                   Fast Shipping   \n3                                      Five Stars   \n4                                      Five Stars   \n...                                           ...   \n96829  Pretty good dishwasher for small apartment   \n96830                          Does not last long   \n96831                 Rave review for space saver   \n96832                  Sanyo compact refrigerator   \n96833                               a normal frig   \n\n                                             review_body review_date  \n0      great stove wonderful replacement sort antique...  2015-08-31  \n1                                           worked great  2015-08-31  \n2                   part exactly needed saved purchasing  2015-08-31  \n3      love refrigerator keeps everything cold recommend  2015-08-31  \n4                      running store ice works perfectly  2015-08-31  \n...                                                  ...         ...  \n96829  pretty good dishwasher price good job cleaning...  2002-07-14  \n96830  bought office extremely dissatisfied stopped w...  2002-06-03  \n96831  saw small dishwasher thought wonderful idea sm...  2002-05-05  \n96832  probably best small refrigerator market true f...  2000-09-29  \n96833  normal mid sized refrigerater good price reall...  2000-08-26  \n\n[92899 rows x 15 columns]",
      "text/html": "<div>\n<style scoped>\n    .dataframe tbody tr th:only-of-type {\n        vertical-align: middle;\n    }\n\n    .dataframe tbody tr th {\n        vertical-align: top;\n    }\n\n    .dataframe thead th {\n        text-align: right;\n    }\n</style>\n<table border=\"1\" class=\"dataframe\">\n  <thead>\n    <tr style=\"text-align: right;\">\n      <th></th>\n      <th>marketplace</th>\n      <th>customer_id</th>\n      <th>review_id</th>\n      <th>product_id</th>\n      <th>product_parent</th>\n      <th>product_title</th>\n      <th>product_category</th>\n      <th>star_rating</th>\n      <th>helpful_votes</th>\n      <th>total_votes</th>\n      <th>vine</th>\n      <th>verified_purchase</th>\n      <th>review_headline</th>\n      <th>review_body</th>\n      <th>review_date</th>\n    </tr>\n  </thead>\n  <tbody>\n    <tr>\n      <th>0</th>\n      <td>US</td>\n      <td>16199106</td>\n      <td>R203HPW78Z7N4K</td>\n      <td>B0067WNSZY</td>\n      <td>633038551</td>\n      <td>FGGF3032MW Gallery Series 30\" Wide Freestandin...</td>\n      <td>Major Appliances</td>\n      <td>5</td>\n      <td>0</td>\n      <td>0</td>\n      <td>N</td>\n      <td>Y</td>\n      <td>If you need a new stove, this is a winner.</td>\n      <td>great stove wonderful replacement sort antique...</td>\n      <td>2015-08-31</td>\n    </tr>\n    <tr>\n      <th>1</th>\n      <td>US</td>\n      <td>16374060</td>\n      <td>R2EAIGVLEALSP3</td>\n      <td>B002QSXK60</td>\n      <td>811766671</td>\n      <td>Best Hand Clothes Wringer</td>\n      <td>Major Appliances</td>\n      <td>5</td>\n      <td>1</td>\n      <td>1</td>\n      <td>N</td>\n      <td>Y</td>\n      <td>Five Stars</td>\n      <td>worked great</td>\n      <td>2015-08-31</td>\n    </tr>\n    <tr>\n      <th>2</th>\n      <td>US</td>\n      <td>15322085</td>\n      <td>R1K1CD73HHLILA</td>\n      <td>B00EC452R6</td>\n      <td>345562728</td>\n      <td>Supco SET184 Thermal Cutoff Kit</td>\n      <td>Major Appliances</td>\n      <td>5</td>\n      <td>0</td>\n      <td>0</td>\n      <td>N</td>\n      <td>Y</td>\n      <td>Fast Shipping</td>\n      <td>part exactly needed saved purchasing</td>\n      <td>2015-08-31</td>\n    </tr>\n    <tr>\n      <th>3</th>\n      <td>US</td>\n      <td>32004835</td>\n      <td>R2KZBMOFRMYOPO</td>\n      <td>B00MVVIF2G</td>\n      <td>563052763</td>\n      <td>Midea WHS-160RB1 Compact Single Reversible Doo...</td>\n      <td>Major Appliances</td>\n      <td>5</td>\n      <td>1</td>\n      <td>1</td>\n      <td>N</td>\n      <td>Y</td>\n      <td>Five Stars</td>\n      <td>love refrigerator keeps everything cold recommend</td>\n      <td>2015-08-31</td>\n    </tr>\n    <tr>\n      <th>4</th>\n      <td>US</td>\n      <td>25414497</td>\n      <td>R6BIZOZY6UD01</td>\n      <td>B00IY7BNUW</td>\n      <td>874236579</td>\n      <td>Avalon Bay Portable Ice Maker</td>\n      <td>Major Appliances</td>\n      <td>5</td>\n      <td>0</td>\n      <td>0</td>\n      <td>N</td>\n      <td>Y</td>\n      <td>Five Stars</td>\n      <td>running store ice works perfectly</td>\n      <td>2015-08-31</td>\n    </tr>\n    <tr>\n      <th>...</th>\n      <td>...</td>\n      <td>...</td>\n      <td>...</td>\n      <td>...</td>\n      <td>...</td>\n      <td>...</td>\n      <td>...</td>\n      <td>...</td>\n      <td>...</td>\n      <td>...</td>\n      <td>...</td>\n      <td>...</td>\n      <td>...</td>\n      <td>...</td>\n      <td>...</td>\n    </tr>\n    <tr>\n      <th>96829</th>\n      <td>US</td>\n      <td>37431087</td>\n      <td>R3CYIDM3UEY5PA</td>\n      <td>B00005O64S</td>\n      <td>222987122</td>\n      <td>Haier HDT18PA Space Saver Compact Countertop D...</td>\n      <td>Major Appliances</td>\n      <td>4</td>\n      <td>37</td>\n      <td>43</td>\n      <td>N</td>\n      <td>N</td>\n      <td>Pretty good dishwasher for small apartment</td>\n      <td>pretty good dishwasher price good job cleaning...</td>\n      <td>2002-07-14</td>\n    </tr>\n    <tr>\n      <th>96830</th>\n      <td>US</td>\n      <td>44686434</td>\n      <td>R1PLFLGSA6N9WU</td>\n      <td>B00005O64T</td>\n      <td>802734810</td>\n      <td>Haier America HSE02-WNAWW 1.8-Cubic-Foot Capac...</td>\n      <td>Major Appliances</td>\n      <td>1</td>\n      <td>33</td>\n      <td>39</td>\n      <td>N</td>\n      <td>N</td>\n      <td>Does not last long</td>\n      <td>bought office extremely dissatisfied stopped w...</td>\n      <td>2002-06-03</td>\n    </tr>\n    <tr>\n      <th>96831</th>\n      <td>US</td>\n      <td>36739731</td>\n      <td>RBPARLMOY6ZU5</td>\n      <td>B00005O64S</td>\n      <td>222987122</td>\n      <td>Haier HDT18PA Space Saver Compact Countertop D...</td>\n      <td>Major Appliances</td>\n      <td>5</td>\n      <td>6</td>\n      <td>45</td>\n      <td>N</td>\n      <td>N</td>\n      <td>Rave review for space saver</td>\n      <td>saw small dishwasher thought wonderful idea sm...</td>\n      <td>2002-05-05</td>\n    </tr>\n    <tr>\n      <th>96832</th>\n      <td>US</td>\n      <td>50744080</td>\n      <td>RSS5TDZOGUEB6</td>\n      <td>B00004SACT</td>\n      <td>344802997</td>\n      <td>Sanyo Two-Door 2.9 Cubic Foot Refrigerator</td>\n      <td>Major Appliances</td>\n      <td>4</td>\n      <td>71</td>\n      <td>71</td>\n      <td>N</td>\n      <td>N</td>\n      <td>Sanyo compact refrigerator</td>\n      <td>probably best small refrigerator market true f...</td>\n      <td>2000-09-29</td>\n    </tr>\n    <tr>\n      <th>96833</th>\n      <td>US</td>\n      <td>48699462</td>\n      <td>R1X5L2BT3H084O</td>\n      <td>B00004SACT</td>\n      <td>344802997</td>\n      <td>Sanyo Two-Door 2.9 Cubic Foot Refrigerator</td>\n      <td>Major Appliances</td>\n      <td>3</td>\n      <td>8</td>\n      <td>40</td>\n      <td>N</td>\n      <td>N</td>\n      <td>a normal frig</td>\n      <td>normal mid sized refrigerater good price reall...</td>\n      <td>2000-08-26</td>\n    </tr>\n  </tbody>\n</table>\n<p>92899 rows × 15 columns</p>\n</div>"
     },
     "execution_count": 16,
     "metadata": {},
     "output_type": "execute_result"
    }
   ],
   "source": [
    "df"
   ],
   "metadata": {
    "collapsed": false,
    "ExecuteTime": {
     "end_time": "2024-05-18T21:01:15.086590600Z",
     "start_time": "2024-05-18T21:01:15.076524200Z"
    }
   },
   "id": "633603daaf3937ff"
  },
  {
   "cell_type": "code",
   "execution_count": 17,
   "outputs": [],
   "source": [
    "df.loc[df['star_rating'] < 3, 'sentiment'] = 0\n",
    "df.loc[df['star_rating'] == 3, 'sentiment'] = 1\n",
    "df.loc[df['star_rating'] > 3, 'sentiment'] = 2\n",
    "df.drop('star_rating', axis=1, inplace=True)\n",
    "df = resample(df, n_samples=80000, random_state=42, replace=False)"
   ],
   "metadata": {
    "collapsed": false,
    "ExecuteTime": {
     "end_time": "2024-05-18T21:01:15.185238400Z",
     "start_time": "2024-05-18T21:01:15.089841500Z"
    }
   },
   "id": "174a2be074f5703"
  },
  {
   "cell_type": "code",
   "execution_count": 18,
   "outputs": [
    {
     "data": {
      "text/plain": "      marketplace  customer_id       review_id  product_id  product_parent  \\\n71963          US     23022807  R3IZQ5QBR0C7B7  B0039V7JFG       184993957   \n15508          US     21831333  R2LGGHUB944XMT  B00EJPHJVK       516641616   \n3110           US     11941986  R21U3YZPS3MBXG  B00HH2YZT6        73366442   \n88804          US     46476694  R2JZ0YSJ5QEZX4  B001VKY8GU       232040651   \n18295          US     48338607  R2QENB1J5LBM14  B00MZH0OPC       394118467   \n...           ...          ...             ...         ...             ...   \n62973          US     31634986  R173X6QPB1N8SY  B004HXDLJ8       693470227   \n45682          US     52949439   R4YB9KY26NLPP  B003GFAY52       647457047   \n84940          US     42829199  R1W9QEUT7MIYGD  B004WP4BAO       480751909   \n1873           US     19293947  R12LFU2ZVPAZSS  B0125S2K0M       504103070   \n53872          US     11233134  R2S04Z77YZXZAP  B007VXJ0HS       285649250   \n\n                                           product_title  product_category  \\\n71963            LG 3.6 CF FRONT LOAD WASHER DRYER COMBO  Major Appliances   \n15508  Fantech Lint Trap for Dryer Booster - DBLT4W (...  Major Appliances   \n3110   Samsung RF32FMQDBSR 4-Door Refrigerator with C...  Major Appliances   \n88804           Koolatron Coca Cola Personal Cube Fridge  Major Appliances   \n18295  ( 2 PACK ) 3392519 - DRYER THERMAL FUSE for Wh...  Major Appliances   \n...                                                  ...               ...   \n62973  Whynter BWR-18SD 18 Bottle Built-In Wine Refri...  Major Appliances   \n45682         Broan 30W in. QP2 Under Cabinet Range Hood  Major Appliances   \n84940                                  Samsung DV5451AGW  Major Appliances   \n1873   Avalon Top Loading Water Cooler Dispenser - Ho...  Major Appliances   \n53872  LG LDF7561 Fully Integrated Dishwasher with He...  Major Appliances   \n\n       helpful_votes  total_votes vine verified_purchase  \\\n71963              5           14    N                 N   \n15508              0            0    N                 Y   \n3110               6            6    N                 N   \n88804              0            0    N                 N   \n18295              0            0    N                 Y   \n...              ...          ...  ...               ...   \n62973             11           12    N                 Y   \n45682              9            9    N                 Y   \n84940              4            4    N                 N   \n1873             144          156    N                 N   \n53872              0            1    N                 N   \n\n                                         review_headline  \\\n71963                          lg small washer/dryer set   \n15508  very hard to open must be securely mounted no ...   \n3110   15 month useful life - this should be disconti...   \n88804                               Unexpectedly Awesome   \n18295                                            Perfect   \n...                                                  ...   \n62973                                         Very Happy   \n45682  Up until it quit working I though I had made a...   \n84940      Does NOT dry clothes. So not much of a dryer.   \n1873   Avalon water dispenser beat my many previous w...   \n53872                                  Bad build quality   \n\n                                             review_body review_date  \\\n71963  usually rate things hate exactly feel small lg...  2013-04-06   \n15508         hard open must securely mounted provisions  2015-04-16   \n3110   15 months stopped working threw groceries call...  2015-08-07   \n88804  silver version tiny cooler fridge company chri...  2011-06-28   \n18295                      exactly needed get dryer back  2015-03-22   \n...                                                  ...         ...   \n62973  purchased replace space 12 34 garbage compacto...  2013-09-28   \n45682  bought item professionally installed middle ap...  2014-07-07   \n84940  purchased nice looking supposedly good name br...  2012-02-18   \n1873   videoid:8829556f67d2453e377e6459465db27e first...  2015-08-16   \n53872  middle drawer tight pull easily tech take look...  2014-03-01   \n\n       sentiment  \n71963        0.0  \n15508        1.0  \n3110         0.0  \n88804        2.0  \n18295        2.0  \n...          ...  \n62973        2.0  \n45682        0.0  \n84940        0.0  \n1873         2.0  \n53872        0.0  \n\n[80000 rows x 15 columns]",
      "text/html": "<div>\n<style scoped>\n    .dataframe tbody tr th:only-of-type {\n        vertical-align: middle;\n    }\n\n    .dataframe tbody tr th {\n        vertical-align: top;\n    }\n\n    .dataframe thead th {\n        text-align: right;\n    }\n</style>\n<table border=\"1\" class=\"dataframe\">\n  <thead>\n    <tr style=\"text-align: right;\">\n      <th></th>\n      <th>marketplace</th>\n      <th>customer_id</th>\n      <th>review_id</th>\n      <th>product_id</th>\n      <th>product_parent</th>\n      <th>product_title</th>\n      <th>product_category</th>\n      <th>helpful_votes</th>\n      <th>total_votes</th>\n      <th>vine</th>\n      <th>verified_purchase</th>\n      <th>review_headline</th>\n      <th>review_body</th>\n      <th>review_date</th>\n      <th>sentiment</th>\n    </tr>\n  </thead>\n  <tbody>\n    <tr>\n      <th>71963</th>\n      <td>US</td>\n      <td>23022807</td>\n      <td>R3IZQ5QBR0C7B7</td>\n      <td>B0039V7JFG</td>\n      <td>184993957</td>\n      <td>LG 3.6 CF FRONT LOAD WASHER DRYER COMBO</td>\n      <td>Major Appliances</td>\n      <td>5</td>\n      <td>14</td>\n      <td>N</td>\n      <td>N</td>\n      <td>lg small washer/dryer set</td>\n      <td>usually rate things hate exactly feel small lg...</td>\n      <td>2013-04-06</td>\n      <td>0.0</td>\n    </tr>\n    <tr>\n      <th>15508</th>\n      <td>US</td>\n      <td>21831333</td>\n      <td>R2LGGHUB944XMT</td>\n      <td>B00EJPHJVK</td>\n      <td>516641616</td>\n      <td>Fantech Lint Trap for Dryer Booster - DBLT4W (...</td>\n      <td>Major Appliances</td>\n      <td>0</td>\n      <td>0</td>\n      <td>N</td>\n      <td>Y</td>\n      <td>very hard to open must be securely mounted no ...</td>\n      <td>hard open must securely mounted provisions</td>\n      <td>2015-04-16</td>\n      <td>1.0</td>\n    </tr>\n    <tr>\n      <th>3110</th>\n      <td>US</td>\n      <td>11941986</td>\n      <td>R21U3YZPS3MBXG</td>\n      <td>B00HH2YZT6</td>\n      <td>73366442</td>\n      <td>Samsung RF32FMQDBSR 4-Door Refrigerator with C...</td>\n      <td>Major Appliances</td>\n      <td>6</td>\n      <td>6</td>\n      <td>N</td>\n      <td>N</td>\n      <td>15 month useful life - this should be disconti...</td>\n      <td>15 months stopped working threw groceries call...</td>\n      <td>2015-08-07</td>\n      <td>0.0</td>\n    </tr>\n    <tr>\n      <th>88804</th>\n      <td>US</td>\n      <td>46476694</td>\n      <td>R2JZ0YSJ5QEZX4</td>\n      <td>B001VKY8GU</td>\n      <td>232040651</td>\n      <td>Koolatron Coca Cola Personal Cube Fridge</td>\n      <td>Major Appliances</td>\n      <td>0</td>\n      <td>0</td>\n      <td>N</td>\n      <td>N</td>\n      <td>Unexpectedly Awesome</td>\n      <td>silver version tiny cooler fridge company chri...</td>\n      <td>2011-06-28</td>\n      <td>2.0</td>\n    </tr>\n    <tr>\n      <th>18295</th>\n      <td>US</td>\n      <td>48338607</td>\n      <td>R2QENB1J5LBM14</td>\n      <td>B00MZH0OPC</td>\n      <td>394118467</td>\n      <td>( 2 PACK ) 3392519 - DRYER THERMAL FUSE for Wh...</td>\n      <td>Major Appliances</td>\n      <td>0</td>\n      <td>0</td>\n      <td>N</td>\n      <td>Y</td>\n      <td>Perfect</td>\n      <td>exactly needed get dryer back</td>\n      <td>2015-03-22</td>\n      <td>2.0</td>\n    </tr>\n    <tr>\n      <th>...</th>\n      <td>...</td>\n      <td>...</td>\n      <td>...</td>\n      <td>...</td>\n      <td>...</td>\n      <td>...</td>\n      <td>...</td>\n      <td>...</td>\n      <td>...</td>\n      <td>...</td>\n      <td>...</td>\n      <td>...</td>\n      <td>...</td>\n      <td>...</td>\n      <td>...</td>\n    </tr>\n    <tr>\n      <th>62973</th>\n      <td>US</td>\n      <td>31634986</td>\n      <td>R173X6QPB1N8SY</td>\n      <td>B004HXDLJ8</td>\n      <td>693470227</td>\n      <td>Whynter BWR-18SD 18 Bottle Built-In Wine Refri...</td>\n      <td>Major Appliances</td>\n      <td>11</td>\n      <td>12</td>\n      <td>N</td>\n      <td>Y</td>\n      <td>Very Happy</td>\n      <td>purchased replace space 12 34 garbage compacto...</td>\n      <td>2013-09-28</td>\n      <td>2.0</td>\n    </tr>\n    <tr>\n      <th>45682</th>\n      <td>US</td>\n      <td>52949439</td>\n      <td>R4YB9KY26NLPP</td>\n      <td>B003GFAY52</td>\n      <td>647457047</td>\n      <td>Broan 30W in. QP2 Under Cabinet Range Hood</td>\n      <td>Major Appliances</td>\n      <td>9</td>\n      <td>9</td>\n      <td>N</td>\n      <td>Y</td>\n      <td>Up until it quit working I though I had made a...</td>\n      <td>bought item professionally installed middle ap...</td>\n      <td>2014-07-07</td>\n      <td>0.0</td>\n    </tr>\n    <tr>\n      <th>84940</th>\n      <td>US</td>\n      <td>42829199</td>\n      <td>R1W9QEUT7MIYGD</td>\n      <td>B004WP4BAO</td>\n      <td>480751909</td>\n      <td>Samsung DV5451AGW</td>\n      <td>Major Appliances</td>\n      <td>4</td>\n      <td>4</td>\n      <td>N</td>\n      <td>N</td>\n      <td>Does NOT dry clothes. So not much of a dryer.</td>\n      <td>purchased nice looking supposedly good name br...</td>\n      <td>2012-02-18</td>\n      <td>0.0</td>\n    </tr>\n    <tr>\n      <th>1873</th>\n      <td>US</td>\n      <td>19293947</td>\n      <td>R12LFU2ZVPAZSS</td>\n      <td>B0125S2K0M</td>\n      <td>504103070</td>\n      <td>Avalon Top Loading Water Cooler Dispenser - Ho...</td>\n      <td>Major Appliances</td>\n      <td>144</td>\n      <td>156</td>\n      <td>N</td>\n      <td>N</td>\n      <td>Avalon water dispenser beat my many previous w...</td>\n      <td>videoid:8829556f67d2453e377e6459465db27e first...</td>\n      <td>2015-08-16</td>\n      <td>2.0</td>\n    </tr>\n    <tr>\n      <th>53872</th>\n      <td>US</td>\n      <td>11233134</td>\n      <td>R2S04Z77YZXZAP</td>\n      <td>B007VXJ0HS</td>\n      <td>285649250</td>\n      <td>LG LDF7561 Fully Integrated Dishwasher with He...</td>\n      <td>Major Appliances</td>\n      <td>0</td>\n      <td>1</td>\n      <td>N</td>\n      <td>N</td>\n      <td>Bad build quality</td>\n      <td>middle drawer tight pull easily tech take look...</td>\n      <td>2014-03-01</td>\n      <td>0.0</td>\n    </tr>\n  </tbody>\n</table>\n<p>80000 rows × 15 columns</p>\n</div>"
     },
     "execution_count": 18,
     "metadata": {},
     "output_type": "execute_result"
    }
   ],
   "source": [
    "df"
   ],
   "metadata": {
    "collapsed": false,
    "ExecuteTime": {
     "end_time": "2024-05-18T21:01:15.187241100Z",
     "start_time": "2024-05-18T21:01:15.148864200Z"
    }
   },
   "id": "61075fa8ce779b40"
  },
  {
   "cell_type": "markdown",
   "source": [
    "## 2. Final dataset\n",
    "- 80 000 instances\n",
    "- NEGATIVE 21 334\n",
    "- NEUTRAL 5 674\n",
    "- POSITIVE 52 992 \n",
    "- 90:10 train:test split"
   ],
   "metadata": {
    "collapsed": false
   },
   "id": "f66880c2eaddb91e"
  },
  {
   "cell_type": "code",
   "execution_count": 19,
   "outputs": [
    {
     "data": {
      "text/plain": "sentiment\n2.0    52992\n0.0    21334\n1.0     5674\nName: count, dtype: int64"
     },
     "execution_count": 19,
     "metadata": {},
     "output_type": "execute_result"
    }
   ],
   "source": [
    "df['sentiment'].value_counts()"
   ],
   "metadata": {
    "collapsed": false,
    "ExecuteTime": {
     "end_time": "2024-05-18T21:01:15.187241100Z",
     "start_time": "2024-05-18T21:01:15.151871200Z"
    }
   },
   "id": "51a301bdbbc85fa6"
  },
  {
   "cell_type": "code",
   "execution_count": 20,
   "outputs": [],
   "source": [
    "# Train-test split\n",
    "df_multimodal = df\n",
    "df = df[['review_body', 'sentiment']]\n",
    "\n",
    "X_train, X_test, y_train, y_test = train_test_split(\n",
    "    df['review_body'], df['sentiment'], random_state=42, test_size=0.1, stratify=df['sentiment']\n",
    ")\n",
    "#Train-val split\n",
    "X_train, X_val, y_train, y_val = train_test_split(\n",
    "    X_train, y_train, test_size=0.1, stratify=y_train, random_state=42\n",
    ")\n"
   ],
   "metadata": {
    "collapsed": false,
    "ExecuteTime": {
     "end_time": "2024-05-18T21:01:15.245859800Z",
     "start_time": "2024-05-18T21:01:15.161632Z"
    }
   },
   "id": "3f410caa3e666495"
  },
  {
   "cell_type": "code",
   "execution_count": 21,
   "outputs": [
    {
     "data": {
      "text/plain": "sentiment\n2.0    42924\n0.0    17280\n1.0     4596\nName: count, dtype: int64"
     },
     "execution_count": 21,
     "metadata": {},
     "output_type": "execute_result"
    }
   ],
   "source": [
    "y_train.value_counts()"
   ],
   "metadata": {
    "collapsed": false,
    "ExecuteTime": {
     "end_time": "2024-05-18T21:01:15.247858900Z",
     "start_time": "2024-05-18T21:01:15.215580300Z"
    }
   },
   "id": "f665ddc4246c79dc"
  },
  {
   "cell_type": "code",
   "execution_count": 22,
   "outputs": [
    {
     "data": {
      "text/plain": "sentiment\n2.0    5299\n0.0    2134\n1.0     567\nName: count, dtype: int64"
     },
     "execution_count": 22,
     "metadata": {},
     "output_type": "execute_result"
    }
   ],
   "source": [
    "y_test.value_counts()"
   ],
   "metadata": {
    "collapsed": false,
    "ExecuteTime": {
     "end_time": "2024-05-18T21:01:15.296339800Z",
     "start_time": "2024-05-18T21:01:15.220597500Z"
    }
   },
   "id": "bb12164d07568651"
  },
  {
   "cell_type": "markdown",
   "source": [
    "### 3. Recurrent Neural Network"
   ],
   "metadata": {
    "collapsed": false
   },
   "id": "fb0864a37a48ec44"
  },
  {
   "cell_type": "code",
   "execution_count": 23,
   "outputs": [
    {
     "name": "stderr",
     "output_type": "stream",
     "text": [
      "2024-05-18 23:01:15.234608: I external/local_xla/xla/stream_executor/cuda/cuda_executor.cc:887] could not open file to read NUMA node: /sys/bus/pci/devices/0000:0b:00.0/numa_node\n",
      "Your kernel may have been built without NUMA support.\n",
      "2024-05-18 23:01:15.234777: I external/local_xla/xla/stream_executor/cuda/cuda_executor.cc:887] could not open file to read NUMA node: /sys/bus/pci/devices/0000:0b:00.0/numa_node\n",
      "Your kernel may have been built without NUMA support.\n",
      "2024-05-18 23:01:15.234841: I external/local_xla/xla/stream_executor/cuda/cuda_executor.cc:887] could not open file to read NUMA node: /sys/bus/pci/devices/0000:0b:00.0/numa_node\n",
      "Your kernel may have been built without NUMA support.\n",
      "2024-05-18 23:01:15.397589: I external/local_xla/xla/stream_executor/cuda/cuda_executor.cc:887] could not open file to read NUMA node: /sys/bus/pci/devices/0000:0b:00.0/numa_node\n",
      "Your kernel may have been built without NUMA support.\n",
      "2024-05-18 23:01:15.397665: I external/local_xla/xla/stream_executor/cuda/cuda_executor.cc:887] could not open file to read NUMA node: /sys/bus/pci/devices/0000:0b:00.0/numa_node\n",
      "Your kernel may have been built without NUMA support.\n",
      "2024-05-18 23:01:15.397673: I tensorflow/core/common_runtime/gpu/gpu_device.cc:2022] Could not identify NUMA node of platform GPU id 0, defaulting to 0.  Your kernel may not have been built with NUMA support.\n",
      "2024-05-18 23:01:15.397726: I external/local_xla/xla/stream_executor/cuda/cuda_executor.cc:887] could not open file to read NUMA node: /sys/bus/pci/devices/0000:0b:00.0/numa_node\n",
      "Your kernel may have been built without NUMA support.\n",
      "2024-05-18 23:01:15.397747: I tensorflow/core/common_runtime/gpu/gpu_device.cc:1929] Created device /job:localhost/replica:0/task:0/device:GPU:0 with 9558 MB memory:  -> device: 0, name: NVIDIA GeForce RTX 4070, pci bus id: 0000:0b:00.0, compute capability: 8.9\n"
     ]
    }
   ],
   "source": [
    "train_dataset = tf.data.Dataset.from_tensor_slices((X_train, y_train))\n",
    "validation_dataset = tf.data.Dataset.from_tensor_slices((X_val, y_val))\n",
    "test_dataset = tf.data.Dataset.from_tensor_slices((X_test, y_test))"
   ],
   "metadata": {
    "collapsed": false,
    "ExecuteTime": {
     "end_time": "2024-05-18T21:01:15.952300900Z",
     "start_time": "2024-05-18T21:01:15.228621500Z"
    }
   },
   "id": "96e28c1a9c77e91f"
  },
  {
   "cell_type": "code",
   "execution_count": 24,
   "outputs": [],
   "source": [
    "max_length = 100\n",
    "max_tokens = 8000\n",
    "\n",
    "text_vectorization = TextVectorization(\n",
    "    ngrams=1,\n",
    "    max_tokens=max_tokens,\n",
    "    output_mode=\"int\",\n",
    "    output_sequence_length=max_length\n",
    ")\n",
    "\n",
    "text_only_train_ds = train_dataset.map(lambda x, y: x)\n",
    "text_vectorization.adapt(text_only_train_ds)"
   ],
   "metadata": {
    "collapsed": false,
    "ExecuteTime": {
     "end_time": "2024-05-18T21:05:02.024767700Z",
     "start_time": "2024-05-18T21:01:15.949288800Z"
    }
   },
   "id": "f97e30531d7c3605"
  },
  {
   "cell_type": "code",
   "execution_count": 25,
   "outputs": [],
   "source": [
    "# Define a function to vectorize the texts\n",
    "def vectorize_text(text, label):\n",
    "    return text_vectorization(text), label\n",
    "\n",
    "# Apply the vectorization to the training, validation, and test datasets\n",
    "train_ds = train_dataset.map(vectorize_text).cache().shuffle(10000).batch(32).prefetch(buffer_size=tf.data.AUTOTUNE)\n",
    "val_ds = validation_dataset.map(vectorize_text).cache().batch(32).prefetch(buffer_size=tf.data.AUTOTUNE)\n",
    "test_ds = test_dataset.map(vectorize_text).cache().batch(32).prefetch(buffer_size=tf.data.AUTOTUNE)\n"
   ],
   "metadata": {
    "collapsed": false,
    "ExecuteTime": {
     "end_time": "2024-05-18T21:05:02.188123100Z",
     "start_time": "2024-05-18T21:05:02.037797400Z"
    }
   },
   "id": "da3078a193e827a8"
  },
  {
   "cell_type": "code",
   "execution_count": 26,
   "outputs": [
    {
     "name": "stderr",
     "output_type": "stream",
     "text": [
      "2024-05-18 23:05:02.276842: I external/local_tsl/tsl/platform/default/subprocess.cc:304] Start cannot spawn child process: Permission denied\n"
     ]
    },
    {
     "name": "stdout",
     "output_type": "stream",
     "text": [
      "Model: \"model\"\n",
      "_________________________________________________________________\n",
      " Layer (type)                Output Shape              Param #   \n",
      "=================================================================\n",
      " input_1 (InputLayer)        [(None, 100)]             0         \n",
      "                                                                 \n",
      " tf.one_hot (TFOpLambda)     (None, 100, 8000)         0         \n",
      "                                                                 \n",
      " bidirectional (Bidirection  (None, 32)                1026176   \n",
      " al)                                                             \n",
      "                                                                 \n",
      " dense (Dense)               (None, 1)                 33        \n",
      "                                                                 \n",
      "=================================================================\n",
      "Total params: 1026209 (3.91 MB)\n",
      "Trainable params: 1026209 (3.91 MB)\n",
      "Non-trainable params: 0 (0.00 Byte)\n",
      "_________________________________________________________________\n",
      "Epoch 1/20\n"
     ]
    },
    {
     "name": "stderr",
     "output_type": "stream",
     "text": [
      "2024-05-18 23:05:05.882386: I external/local_xla/xla/stream_executor/cuda/cuda_dnn.cc:454] Loaded cuDNN version 8907\n",
      "2024-05-18 23:05:06.278836: I external/local_xla/xla/service/service.cc:168] XLA service 0x7f946e02b860 initialized for platform CUDA (this does not guarantee that XLA will be used). Devices:\n",
      "2024-05-18 23:05:06.278869: I external/local_xla/xla/service/service.cc:176]   StreamExecutor device (0): NVIDIA GeForce RTX 4070, Compute Capability 8.9\n",
      "2024-05-18 23:05:06.282703: I tensorflow/compiler/mlir/tensorflow/utils/dump_mlir_util.cc:269] disabling MLIR crash reproducer, set env var `MLIR_CRASH_REPRODUCER_DIRECTORY` to enable.\n",
      "WARNING: All log messages before absl::InitializeLog() is called are written to STDERR\n",
      "I0000 00:00:1716066306.314477   22379 device_compiler.h:186] Compiled cluster using XLA!  This line is logged at most once for the lifetime of the process.\n"
     ]
    },
    {
     "name": "stdout",
     "output_type": "stream",
     "text": [
      "2023/2025 [============================>.] - ETA: 0s - loss: -14.7327 - accuracy: 0.0709INFO:tensorflow:Assets written to: ann8.tf/assets\n"
     ]
    },
    {
     "name": "stderr",
     "output_type": "stream",
     "text": [
      "INFO:tensorflow:Assets written to: ann8.tf/assets\n"
     ]
    },
    {
     "name": "stdout",
     "output_type": "stream",
     "text": [
      "2025/2025 [==============================] - 48s 22ms/step - loss: -14.7499 - accuracy: 0.0709 - val_loss: -27.1251 - val_accuracy: 0.0710\n",
      "Epoch 2/20\n",
      "2025/2025 [==============================] - ETA: 0s - loss: -39.4355 - accuracy: 0.0709INFO:tensorflow:Assets written to: ann8.tf/assets\n"
     ]
    },
    {
     "name": "stderr",
     "output_type": "stream",
     "text": [
      "INFO:tensorflow:Assets written to: ann8.tf/assets\n"
     ]
    },
    {
     "name": "stdout",
     "output_type": "stream",
     "text": [
      "2025/2025 [==============================] - 44s 22ms/step - loss: -39.4355 - accuracy: 0.0709 - val_loss: -51.6983 - val_accuracy: 0.0710\n",
      "Epoch 3/20\n",
      "2024/2025 [============================>.] - ETA: 0s - loss: -64.0162 - accuracy: 0.0709INFO:tensorflow:Assets written to: ann8.tf/assets\n"
     ]
    },
    {
     "name": "stderr",
     "output_type": "stream",
     "text": [
      "INFO:tensorflow:Assets written to: ann8.tf/assets\n"
     ]
    },
    {
     "name": "stdout",
     "output_type": "stream",
     "text": [
      "2025/2025 [==============================] - 43s 21ms/step - loss: -64.0113 - accuracy: 0.0709 - val_loss: -76.2712 - val_accuracy: 0.0710\n",
      "Epoch 4/20\n",
      "2025/2025 [==============================] - ETA: 0s - loss: -88.5870 - accuracy: 0.0709INFO:tensorflow:Assets written to: ann8.tf/assets\n"
     ]
    },
    {
     "name": "stderr",
     "output_type": "stream",
     "text": [
      "INFO:tensorflow:Assets written to: ann8.tf/assets\n"
     ]
    },
    {
     "name": "stdout",
     "output_type": "stream",
     "text": [
      "2025/2025 [==============================] - 43s 21ms/step - loss: -88.5870 - accuracy: 0.0709 - val_loss: -100.8440 - val_accuracy: 0.0710\n",
      "Epoch 5/20\n",
      "2022/2025 [============================>.] - ETA: 0s - loss: -113.0908 - accuracy: 0.0710INFO:tensorflow:Assets written to: ann8.tf/assets\n"
     ]
    },
    {
     "name": "stderr",
     "output_type": "stream",
     "text": [
      "INFO:tensorflow:Assets written to: ann8.tf/assets\n"
     ]
    },
    {
     "name": "stdout",
     "output_type": "stream",
     "text": [
      "2025/2025 [==============================] - 42s 21ms/step - loss: -113.1629 - accuracy: 0.0709 - val_loss: -125.4169 - val_accuracy: 0.0710\n",
      "Epoch 6/20\n",
      "2025/2025 [==============================] - ETA: 0s - loss: -137.7386 - accuracy: 0.0709INFO:tensorflow:Assets written to: ann8.tf/assets\n"
     ]
    },
    {
     "name": "stderr",
     "output_type": "stream",
     "text": [
      "INFO:tensorflow:Assets written to: ann8.tf/assets\n"
     ]
    },
    {
     "name": "stdout",
     "output_type": "stream",
     "text": [
      "2025/2025 [==============================] - 42s 21ms/step - loss: -137.7386 - accuracy: 0.0709 - val_loss: -149.9897 - val_accuracy: 0.0710\n",
      "Epoch 7/20\n",
      "2025/2025 [==============================] - ETA: 0s - loss: -162.3142 - accuracy: 0.0709INFO:tensorflow:Assets written to: ann8.tf/assets\n"
     ]
    },
    {
     "name": "stderr",
     "output_type": "stream",
     "text": [
      "INFO:tensorflow:Assets written to: ann8.tf/assets\n"
     ]
    },
    {
     "name": "stdout",
     "output_type": "stream",
     "text": [
      "2025/2025 [==============================] - 42s 21ms/step - loss: -162.3142 - accuracy: 0.0709 - val_loss: -174.5627 - val_accuracy: 0.0710\n",
      "Epoch 8/20\n",
      "2023/2025 [============================>.] - ETA: 0s - loss: -186.8417 - accuracy: 0.0710INFO:tensorflow:Assets written to: ann8.tf/assets\n"
     ]
    },
    {
     "name": "stderr",
     "output_type": "stream",
     "text": [
      "INFO:tensorflow:Assets written to: ann8.tf/assets\n"
     ]
    },
    {
     "name": "stdout",
     "output_type": "stream",
     "text": [
      "2025/2025 [==============================] - 42s 21ms/step - loss: -186.8901 - accuracy: 0.0709 - val_loss: -199.1356 - val_accuracy: 0.0710\n",
      "Epoch 9/20\n",
      "2024/2025 [============================>.] - ETA: 0s - loss: -211.4919 - accuracy: 0.0709INFO:tensorflow:Assets written to: ann8.tf/assets\n"
     ]
    },
    {
     "name": "stderr",
     "output_type": "stream",
     "text": [
      "INFO:tensorflow:Assets written to: ann8.tf/assets\n"
     ]
    },
    {
     "name": "stdout",
     "output_type": "stream",
     "text": [
      "2025/2025 [==============================] - 42s 21ms/step - loss: -211.4660 - accuracy: 0.0709 - val_loss: -223.7084 - val_accuracy: 0.0710\n",
      "Epoch 10/20\n",
      "2024/2025 [============================>.] - ETA: 0s - loss: -236.0711 - accuracy: 0.0709INFO:tensorflow:Assets written to: ann8.tf/assets\n"
     ]
    },
    {
     "name": "stderr",
     "output_type": "stream",
     "text": [
      "INFO:tensorflow:Assets written to: ann8.tf/assets\n"
     ]
    },
    {
     "name": "stdout",
     "output_type": "stream",
     "text": [
      "2025/2025 [==============================] - 42s 21ms/step - loss: -236.0417 - accuracy: 0.0709 - val_loss: -248.2816 - val_accuracy: 0.0710\n",
      "Epoch 11/20\n",
      "2025/2025 [==============================] - ETA: 0s - loss: -260.6175 - accuracy: 0.0709INFO:tensorflow:Assets written to: ann8.tf/assets\n"
     ]
    },
    {
     "name": "stderr",
     "output_type": "stream",
     "text": [
      "INFO:tensorflow:Assets written to: ann8.tf/assets\n"
     ]
    },
    {
     "name": "stdout",
     "output_type": "stream",
     "text": [
      "2025/2025 [==============================] - 41s 20ms/step - loss: -260.6175 - accuracy: 0.0709 - val_loss: -272.8544 - val_accuracy: 0.0710\n",
      "Epoch 12/20\n",
      "2024/2025 [============================>.] - ETA: 0s - loss: -285.2299 - accuracy: 0.0709INFO:tensorflow:Assets written to: ann8.tf/assets\n"
     ]
    },
    {
     "name": "stderr",
     "output_type": "stream",
     "text": [
      "INFO:tensorflow:Assets written to: ann8.tf/assets\n"
     ]
    },
    {
     "name": "stdout",
     "output_type": "stream",
     "text": [
      "2025/2025 [==============================] - 41s 20ms/step - loss: -285.1935 - accuracy: 0.0709 - val_loss: -297.4275 - val_accuracy: 0.0710\n",
      "Epoch 13/20\n",
      "2023/2025 [============================>.] - ETA: 0s - loss: -309.6982 - accuracy: 0.0710INFO:tensorflow:Assets written to: ann8.tf/assets\n"
     ]
    },
    {
     "name": "stderr",
     "output_type": "stream",
     "text": [
      "INFO:tensorflow:Assets written to: ann8.tf/assets\n"
     ]
    },
    {
     "name": "stdout",
     "output_type": "stream",
     "text": [
      "2025/2025 [==============================] - 42s 21ms/step - loss: -309.7691 - accuracy: 0.0709 - val_loss: -322.0004 - val_accuracy: 0.0710\n",
      "Epoch 14/20\n",
      "2022/2025 [============================>.] - ETA: 0s - loss: -334.1782 - accuracy: 0.0710INFO:tensorflow:Assets written to: ann8.tf/assets\n"
     ]
    },
    {
     "name": "stderr",
     "output_type": "stream",
     "text": [
      "INFO:tensorflow:Assets written to: ann8.tf/assets\n"
     ]
    },
    {
     "name": "stdout",
     "output_type": "stream",
     "text": [
      "2025/2025 [==============================] - 41s 20ms/step - loss: -334.3454 - accuracy: 0.0709 - val_loss: -346.5734 - val_accuracy: 0.0710\n",
      "Epoch 15/20\n",
      "2023/2025 [============================>.] - ETA: 0s - loss: -358.8411 - accuracy: 0.0710INFO:tensorflow:Assets written to: ann8.tf/assets\n"
     ]
    },
    {
     "name": "stderr",
     "output_type": "stream",
     "text": [
      "INFO:tensorflow:Assets written to: ann8.tf/assets\n"
     ]
    },
    {
     "name": "stdout",
     "output_type": "stream",
     "text": [
      "2025/2025 [==============================] - 42s 21ms/step - loss: -358.9210 - accuracy: 0.0709 - val_loss: -371.1464 - val_accuracy: 0.0710\n",
      "Epoch 16/20\n",
      "2025/2025 [==============================] - ETA: 0s - loss: -383.4965 - accuracy: 0.0709INFO:tensorflow:Assets written to: ann8.tf/assets\n"
     ]
    },
    {
     "name": "stderr",
     "output_type": "stream",
     "text": [
      "INFO:tensorflow:Assets written to: ann8.tf/assets\n"
     ]
    },
    {
     "name": "stdout",
     "output_type": "stream",
     "text": [
      "2025/2025 [==============================] - 42s 21ms/step - loss: -383.4965 - accuracy: 0.0709 - val_loss: -395.7197 - val_accuracy: 0.0710\n",
      "Epoch 17/20\n",
      "2024/2025 [============================>.] - ETA: 0s - loss: -408.1271 - accuracy: 0.0709INFO:tensorflow:Assets written to: ann8.tf/assets\n"
     ]
    },
    {
     "name": "stderr",
     "output_type": "stream",
     "text": [
      "INFO:tensorflow:Assets written to: ann8.tf/assets\n"
     ]
    },
    {
     "name": "stdout",
     "output_type": "stream",
     "text": [
      "2025/2025 [==============================] - 42s 21ms/step - loss: -408.0731 - accuracy: 0.0709 - val_loss: -420.2928 - val_accuracy: 0.0710\n",
      "Epoch 18/20\n",
      "2023/2025 [============================>.] - ETA: 0s - loss: -432.5551 - accuracy: 0.0710INFO:tensorflow:Assets written to: ann8.tf/assets\n"
     ]
    },
    {
     "name": "stderr",
     "output_type": "stream",
     "text": [
      "INFO:tensorflow:Assets written to: ann8.tf/assets\n"
     ]
    },
    {
     "name": "stdout",
     "output_type": "stream",
     "text": [
      "2025/2025 [==============================] - 41s 20ms/step - loss: -432.6484 - accuracy: 0.0709 - val_loss: -444.8654 - val_accuracy: 0.0710\n",
      "Epoch 19/20\n",
      "2024/2025 [============================>.] - ETA: 0s - loss: -457.2855 - accuracy: 0.0709INFO:tensorflow:Assets written to: ann8.tf/assets\n"
     ]
    },
    {
     "name": "stderr",
     "output_type": "stream",
     "text": [
      "INFO:tensorflow:Assets written to: ann8.tf/assets\n"
     ]
    },
    {
     "name": "stdout",
     "output_type": "stream",
     "text": [
      "2025/2025 [==============================] - 42s 21ms/step - loss: -457.2245 - accuracy: 0.0709 - val_loss: -469.4381 - val_accuracy: 0.0710\n",
      "Epoch 20/20\n",
      "2025/2025 [==============================] - ETA: 0s - loss: -481.7996 - accuracy: 0.0709INFO:tensorflow:Assets written to: ann8.tf/assets\n"
     ]
    },
    {
     "name": "stderr",
     "output_type": "stream",
     "text": [
      "INFO:tensorflow:Assets written to: ann8.tf/assets\n"
     ]
    },
    {
     "name": "stdout",
     "output_type": "stream",
     "text": [
      "2025/2025 [==============================] - 43s 21ms/step - loss: -481.7996 - accuracy: 0.0709 - val_loss: -494.0105 - val_accuracy: 0.0710\n"
     ]
    }
   ],
   "source": [
    "inputs = keras.Input(shape=(max_length,), dtype=\"int64\")\n",
    "one_hot = tf.one_hot(inputs, depth=max_tokens)\n",
    "x = layers.Bidirectional(layers.LSTM(16))(one_hot)\n",
    "outputs = layers.Dense(1, activation=\"sigmoid\")(x)\n",
    "model = keras.Model(inputs, outputs)\n",
    "model.compile(optimizer=\"rmsprop\",\n",
    "              loss=\"binary_crossentropy\",\n",
    "              metrics=[\"accuracy\"])\n",
    "model.summary()\n",
    "\n",
    "\n",
    "\n",
    "callbacks = [\n",
    "    keras.callbacks.ModelCheckpoint(\"ann8.tf\", save_best_only=True),\n",
    "    keras.callbacks.EarlyStopping(monitor='val_loss', patience=3, min_delta = 0.002, restore_best_weights=True)\n",
    "]\n",
    "\n",
    "\n",
    "log_dir = f\"{dir}\" + datetime.datetime.now().strftime(\"%Y%m%d-%H%M%S\")\n",
    "\n",
    "callbacks = [\n",
    "    keras.callbacks.ModelCheckpoint(\"ann8.tf\", save_best_only=True),\n",
    "    keras.callbacks.EarlyStopping(monitor='val_loss', patience=3, min_delta = 0.002, restore_best_weights=True),\n",
    "    tf.keras.callbacks.TensorBoard(log_dir=log_dir)\n",
    "]\n",
    "\n",
    "history = model.fit(\n",
    "    train_ds.cache(),\n",
    "    epochs=20,\n",
    "    validation_data=val_ds.cache(),\n",
    "    callbacks=[callbacks]\n",
    ")"
   ],
   "metadata": {
    "collapsed": false,
    "ExecuteTime": {
     "end_time": "2024-05-18T21:19:10.271383500Z",
     "start_time": "2024-05-18T21:05:02.207200300Z"
    }
   },
   "id": "ad4a87d24b375e45"
  }
 ],
 "metadata": {
  "kernelspec": {
   "display_name": "Python 3",
   "language": "python",
   "name": "python3"
  },
  "language_info": {
   "codemirror_mode": {
    "name": "ipython",
    "version": 2
   },
   "file_extension": ".py",
   "mimetype": "text/x-python",
   "name": "python",
   "nbconvert_exporter": "python",
   "pygments_lexer": "ipython2",
   "version": "2.7.6"
  }
 },
 "nbformat": 4,
 "nbformat_minor": 5
}
