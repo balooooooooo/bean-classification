{
 "cells": [
  {
   "cell_type": "markdown",
   "source": [
    "# Text classification (sentiment analysis)\n",
    "Task: Predict sentiment of Amazon reviews\n",
    "Dataset: Beans from TFDS"
   ],
   "metadata": {
    "collapsed": false
   },
   "id": "dbbc77f284814682"
  },
  {
   "cell_type": "markdown",
   "source": [
    "## 1. Loading dataset & basic preprocessing\n",
    "- removal of reviews shorter than 5 characters\n",
    "- mapping from 1-5 -> 0,1,2\n",
    "- subsampling - without replacement, random state 42, 80 000 rows"
   ],
   "metadata": {
    "collapsed": false
   },
   "id": "1ee5b5a6106d6686"
  },
  {
   "cell_type": "code",
   "execution_count": 27,
   "id": "initial_id",
   "metadata": {
    "collapsed": true,
    "ExecuteTime": {
     "end_time": "2024-05-17T20:09:37.072627400Z",
     "start_time": "2024-05-17T20:09:36.512957Z"
    }
   },
   "outputs": [],
   "source": [
    "import pandas as pd\n",
    "import numpy as np\n",
    "from sklearn.model_selection import train_test_split\n",
    "from sklearn.utils import resample\n",
    "from IPython.display import display\n",
    "import re\n",
    "import matplotlib.pyplot as plt"
   ]
  },
  {
   "cell_type": "code",
   "execution_count": 22,
   "outputs": [
    {
     "name": "stdout",
     "output_type": "stream",
     "text": [
      "(80000, 2)\n"
     ]
    }
   ],
   "source": [
    "df = pd.read_csv('datasets/amazon_reviews_us_Major_Appliances_v1_00.tsv', sep='\\t', on_bad_lines='skip')\n",
    "df = df[['review_body', 'star_rating']]\n",
    "df = df[df['review_body'].str.len() > 5]\n",
    "df.loc[df['star_rating'] < 3, 'sentiment'] = 0\n",
    "df.loc[df['star_rating'] == 3, 'sentiment'] = 1\n",
    "df.loc[df['star_rating'] > 3, 'sentiment'] = 2\n",
    "df.drop('star_rating', axis=1, inplace=True)\n",
    "df = resample(df, n_samples=80000, random_state=42, replace=False)\n",
    "print(df.shape)"
   ],
   "metadata": {
    "collapsed": false,
    "ExecuteTime": {
     "end_time": "2024-05-17T19:54:39.162529Z",
     "start_time": "2024-05-17T19:54:38.464358Z"
    }
   },
   "id": "41ff8b299de307d2"
  },
  {
   "cell_type": "code",
   "execution_count": 23,
   "outputs": [
    {
     "data": {
      "text/plain": "                                             review_body  sentiment\n2578                                     Not very quiet.        1.0\n34744  Not many hours on the new ignitor but so far i...        2.0\n69710  This one replaced an 20 year old Rangaire.  Th...        2.0\n50218  it looks like the OEM i pulled out and fit jus...        2.0\n78859  Looks great. My son loves it.<br />Keeps cans ...        2.0\n...                                                  ...        ...\n88974  When stove was set at 350 degrees, handle very...        0.0\n96409  This thing works great! Don't put in too much ...        2.0\n58911  Started ok, but after 2 months use, I started ...        0.0\n77313  I bought the white version of this refrigerato...        0.0\n89293  I've had this fridge for 2 months now, along w...        2.0\n\n[80000 rows x 2 columns]",
      "text/html": "<div>\n<style scoped>\n    .dataframe tbody tr th:only-of-type {\n        vertical-align: middle;\n    }\n\n    .dataframe tbody tr th {\n        vertical-align: top;\n    }\n\n    .dataframe thead th {\n        text-align: right;\n    }\n</style>\n<table border=\"1\" class=\"dataframe\">\n  <thead>\n    <tr style=\"text-align: right;\">\n      <th></th>\n      <th>review_body</th>\n      <th>sentiment</th>\n    </tr>\n  </thead>\n  <tbody>\n    <tr>\n      <th>2578</th>\n      <td>Not very quiet.</td>\n      <td>1.0</td>\n    </tr>\n    <tr>\n      <th>34744</th>\n      <td>Not many hours on the new ignitor but so far i...</td>\n      <td>2.0</td>\n    </tr>\n    <tr>\n      <th>69710</th>\n      <td>This one replaced an 20 year old Rangaire.  Th...</td>\n      <td>2.0</td>\n    </tr>\n    <tr>\n      <th>50218</th>\n      <td>it looks like the OEM i pulled out and fit jus...</td>\n      <td>2.0</td>\n    </tr>\n    <tr>\n      <th>78859</th>\n      <td>Looks great. My son loves it.&lt;br /&gt;Keeps cans ...</td>\n      <td>2.0</td>\n    </tr>\n    <tr>\n      <th>...</th>\n      <td>...</td>\n      <td>...</td>\n    </tr>\n    <tr>\n      <th>88974</th>\n      <td>When stove was set at 350 degrees, handle very...</td>\n      <td>0.0</td>\n    </tr>\n    <tr>\n      <th>96409</th>\n      <td>This thing works great! Don't put in too much ...</td>\n      <td>2.0</td>\n    </tr>\n    <tr>\n      <th>58911</th>\n      <td>Started ok, but after 2 months use, I started ...</td>\n      <td>0.0</td>\n    </tr>\n    <tr>\n      <th>77313</th>\n      <td>I bought the white version of this refrigerato...</td>\n      <td>0.0</td>\n    </tr>\n    <tr>\n      <th>89293</th>\n      <td>I've had this fridge for 2 months now, along w...</td>\n      <td>2.0</td>\n    </tr>\n  </tbody>\n</table>\n<p>80000 rows × 2 columns</p>\n</div>"
     },
     "execution_count": 23,
     "metadata": {},
     "output_type": "execute_result"
    }
   ],
   "source": [
    "df"
   ],
   "metadata": {
    "collapsed": false,
    "ExecuteTime": {
     "end_time": "2024-05-17T19:54:41.337951Z",
     "start_time": "2024-05-17T19:54:41.315019700Z"
    }
   },
   "id": "861e0cae068fbc6"
  },
  {
   "cell_type": "code",
   "execution_count": 28,
   "outputs": [],
   "source": [
    "def remove_tags(review):\n",
    "    return re.sub(pattern='<.*?>', string=review , repl=' ') \n",
    "\n",
    "def remove_subs(review):\n",
    "    return re.sub(pattern='\u001A', string=review , repl=' ')"
   ],
   "metadata": {
    "collapsed": false,
    "ExecuteTime": {
     "end_time": "2024-05-17T20:24:46.905381800Z",
     "start_time": "2024-05-17T20:24:46.899598900Z"
    }
   },
   "id": "feccec45640d371c"
  },
  {
   "cell_type": "code",
   "execution_count": 29,
   "outputs": [],
   "source": [
    "df['review_body'] = df['review_body'].apply(remove_tags) # removes html tags\n",
    "df['review_body'] = df['review_body'].apply(remove_subs) # removes sub unicode char"
   ],
   "metadata": {
    "collapsed": false,
    "ExecuteTime": {
     "end_time": "2024-05-17T20:25:03.159533700Z",
     "start_time": "2024-05-17T20:25:02.997233200Z"
    }
   },
   "id": "ab4b0c058041911e"
  },
  {
   "cell_type": "code",
   "execution_count": 30,
   "outputs": [
    {
     "data": {
      "text/plain": "                                             review_body  sentiment\n2578                                     Not very quiet.        1.0\n34744  Not many hours on the new ignitor but so far i...        2.0\n69710  This one replaced an 20 year old Rangaire.  Th...        2.0\n50218  it looks like the OEM i pulled out and fit jus...        2.0\n78859  Looks great. My son loves it. Keeps cans prett...        2.0\n...                                                  ...        ...\n88974  When stove was set at 350 degrees, handle very...        0.0\n96409  This thing works great! Don't put in too much ...        2.0\n58911  Started ok, but after 2 months use, I started ...        0.0\n77313  I bought the white version of this refrigerato...        0.0\n89293  I've had this fridge for 2 months now, along w...        2.0\n\n[80000 rows x 2 columns]",
      "text/html": "<div>\n<style scoped>\n    .dataframe tbody tr th:only-of-type {\n        vertical-align: middle;\n    }\n\n    .dataframe tbody tr th {\n        vertical-align: top;\n    }\n\n    .dataframe thead th {\n        text-align: right;\n    }\n</style>\n<table border=\"1\" class=\"dataframe\">\n  <thead>\n    <tr style=\"text-align: right;\">\n      <th></th>\n      <th>review_body</th>\n      <th>sentiment</th>\n    </tr>\n  </thead>\n  <tbody>\n    <tr>\n      <th>2578</th>\n      <td>Not very quiet.</td>\n      <td>1.0</td>\n    </tr>\n    <tr>\n      <th>34744</th>\n      <td>Not many hours on the new ignitor but so far i...</td>\n      <td>2.0</td>\n    </tr>\n    <tr>\n      <th>69710</th>\n      <td>This one replaced an 20 year old Rangaire.  Th...</td>\n      <td>2.0</td>\n    </tr>\n    <tr>\n      <th>50218</th>\n      <td>it looks like the OEM i pulled out and fit jus...</td>\n      <td>2.0</td>\n    </tr>\n    <tr>\n      <th>78859</th>\n      <td>Looks great. My son loves it. Keeps cans prett...</td>\n      <td>2.0</td>\n    </tr>\n    <tr>\n      <th>...</th>\n      <td>...</td>\n      <td>...</td>\n    </tr>\n    <tr>\n      <th>88974</th>\n      <td>When stove was set at 350 degrees, handle very...</td>\n      <td>0.0</td>\n    </tr>\n    <tr>\n      <th>96409</th>\n      <td>This thing works great! Don't put in too much ...</td>\n      <td>2.0</td>\n    </tr>\n    <tr>\n      <th>58911</th>\n      <td>Started ok, but after 2 months use, I started ...</td>\n      <td>0.0</td>\n    </tr>\n    <tr>\n      <th>77313</th>\n      <td>I bought the white version of this refrigerato...</td>\n      <td>0.0</td>\n    </tr>\n    <tr>\n      <th>89293</th>\n      <td>I've had this fridge for 2 months now, along w...</td>\n      <td>2.0</td>\n    </tr>\n  </tbody>\n</table>\n<p>80000 rows × 2 columns</p>\n</div>"
     },
     "execution_count": 30,
     "metadata": {},
     "output_type": "execute_result"
    }
   ],
   "source": [
    "df"
   ],
   "metadata": {
    "collapsed": false,
    "ExecuteTime": {
     "end_time": "2024-05-17T20:25:04.347368Z",
     "start_time": "2024-05-17T20:25:04.322520Z"
    }
   },
   "id": "633603daaf3937ff"
  },
  {
   "cell_type": "markdown",
   "source": [
    "## Exploratory Data Analysis of the dataset"
   ],
   "metadata": {
    "collapsed": false
   },
   "id": "f66880c2eaddb91e"
  },
  {
   "cell_type": "code",
   "execution_count": null,
   "outputs": [],
   "source": [],
   "metadata": {
    "collapsed": false
   },
   "id": "51a301bdbbc85fa6"
  },
  {
   "cell_type": "code",
   "execution_count": 10,
   "outputs": [],
   "source": [
    "# Train-test split\n",
    "X_train, X_test, y_train, y_test = train_test_split(\n",
    "    df['review_body'], df['sentiment'], random_state=42, test_size=0.1, stratify=df['sentiment']\n",
    ")"
   ],
   "metadata": {
    "collapsed": false,
    "ExecuteTime": {
     "end_time": "2024-05-17T19:40:32.891872300Z",
     "start_time": "2024-05-17T19:40:32.832024900Z"
    }
   },
   "id": "3f410caa3e666495"
  }
 ],
 "metadata": {
  "kernelspec": {
   "display_name": "Python 3",
   "language": "python",
   "name": "python3"
  },
  "language_info": {
   "codemirror_mode": {
    "name": "ipython",
    "version": 2
   },
   "file_extension": ".py",
   "mimetype": "text/x-python",
   "name": "python",
   "nbconvert_exporter": "python",
   "pygments_lexer": "ipython2",
   "version": "2.7.6"
  }
 },
 "nbformat": 4,
 "nbformat_minor": 5
}
