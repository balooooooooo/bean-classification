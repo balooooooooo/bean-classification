{
 "cells": [
  {
   "cell_type": "markdown",
   "source": [
    "# Text classification (sentiment analysis)\n",
    "Task: Predict sentiment of Amazon reviews\n",
    "Dataset: Beans from TFDS"
   ],
   "metadata": {
    "collapsed": false
   },
   "id": "dbbc77f284814682"
  },
  {
   "cell_type": "markdown",
   "source": [],
   "metadata": {
    "collapsed": false
   },
   "id": "f0474e0967c03828"
  },
  {
   "cell_type": "markdown",
   "source": [
    "## 1. Loading dataset & basic preprocessing\n",
    "- removal of reviews shorter than 5 characters\n",
    "- mapping from 1-5 -> 0,1,2\n",
    "- subsampling - without replacement, random state 42, 80 000 rows"
   ],
   "metadata": {
    "collapsed": false
   },
   "id": "1ee5b5a6106d6686"
  },
  {
   "cell_type": "code",
   "execution_count": 1,
   "id": "initial_id",
   "metadata": {
    "collapsed": true,
    "ExecuteTime": {
     "end_time": "2024-05-20T07:13:45.824118Z",
     "start_time": "2024-05-20T07:13:41.605644500Z"
    }
   },
   "outputs": [
    {
     "name": "stderr",
     "output_type": "stream",
     "text": [
      "2024-05-20 09:13:43.826634: E external/local_xla/xla/stream_executor/cuda/cuda_dnn.cc:9261] Unable to register cuDNN factory: Attempting to register factory for plugin cuDNN when one has already been registered\n",
      "2024-05-20 09:13:43.826687: E external/local_xla/xla/stream_executor/cuda/cuda_fft.cc:607] Unable to register cuFFT factory: Attempting to register factory for plugin cuFFT when one has already been registered\n",
      "2024-05-20 09:13:43.867354: E external/local_xla/xla/stream_executor/cuda/cuda_blas.cc:1515] Unable to register cuBLAS factory: Attempting to register factory for plugin cuBLAS when one has already been registered\n",
      "2024-05-20 09:13:43.950213: I tensorflow/core/platform/cpu_feature_guard.cc:182] This TensorFlow binary is optimized to use available CPU instructions in performance-critical operations.\n",
      "To enable the following instructions: AVX2 FMA, in other operations, rebuild TensorFlow with the appropriate compiler flags.\n",
      "2024-05-20 09:13:44.934489: W tensorflow/compiler/tf2tensorrt/utils/py_utils.cc:38] TF-TRT Warning: Could not find TensorRT\n"
     ]
    }
   ],
   "source": [
    "import pandas as pd\n",
    "import numpy as np\n",
    "from sklearn.model_selection import train_test_split\n",
    "from sklearn.utils import resample\n",
    "from IPython.display import display\n",
    "import re\n",
    "import matplotlib.pyplot as plt\n",
    "import nltk\n",
    "import tensorflow as tf\n",
    "from tensorflow import keras\n",
    "from tensorflow.keras.layers import TextVectorization\n",
    "from tensorflow.keras import layers\n",
    "import datetime\n",
    "from keras_tuner import HyperModel, RandomSearch\n",
    "from sklearn.metrics import confusion_matrix, ConfusionMatrixDisplay"
   ]
  },
  {
   "cell_type": "code",
   "execution_count": 2,
   "outputs": [
    {
     "data": {
      "text/plain": "'2.15.0'"
     },
     "execution_count": 2,
     "metadata": {},
     "output_type": "execute_result"
    }
   ],
   "source": [
    "tf.__version__"
   ],
   "metadata": {
    "collapsed": false,
    "ExecuteTime": {
     "end_time": "2024-05-20T07:13:45.828117600Z",
     "start_time": "2024-05-20T07:13:45.815602900Z"
    }
   },
   "id": "ca34945a70395e1f"
  },
  {
   "cell_type": "code",
   "execution_count": 3,
   "outputs": [
    {
     "name": "stdout",
     "output_type": "stream",
     "text": [
      "Num GPUs Available:  1\n"
     ]
    },
    {
     "name": "stderr",
     "output_type": "stream",
     "text": [
      "2024-05-20 09:13:46.123693: I external/local_xla/xla/stream_executor/cuda/cuda_executor.cc:887] could not open file to read NUMA node: /sys/bus/pci/devices/0000:0b:00.0/numa_node\n",
      "Your kernel may have been built without NUMA support.\n",
      "2024-05-20 09:13:46.259826: I external/local_xla/xla/stream_executor/cuda/cuda_executor.cc:887] could not open file to read NUMA node: /sys/bus/pci/devices/0000:0b:00.0/numa_node\n",
      "Your kernel may have been built without NUMA support.\n",
      "2024-05-20 09:13:46.259890: I external/local_xla/xla/stream_executor/cuda/cuda_executor.cc:887] could not open file to read NUMA node: /sys/bus/pci/devices/0000:0b:00.0/numa_node\n",
      "Your kernel may have been built without NUMA support.\n"
     ]
    }
   ],
   "source": [
    "print(\"Num GPUs Available: \", len(tf.config.list_physical_devices('GPU')))"
   ],
   "metadata": {
    "collapsed": false,
    "ExecuteTime": {
     "end_time": "2024-05-20T07:13:46.263803900Z",
     "start_time": "2024-05-20T07:13:45.860170200Z"
    }
   },
   "id": "4dd962ce90049d5a"
  },
  {
   "cell_type": "code",
   "execution_count": 4,
   "outputs": [],
   "source": [
    "df = pd.read_csv('datasets/amazon_reviews_us_Major_Appliances_v1_00.tsv', sep='\\t', on_bad_lines='skip')"
   ],
   "metadata": {
    "collapsed": false,
    "ExecuteTime": {
     "end_time": "2024-05-20T07:13:47.165998500Z",
     "start_time": "2024-05-20T07:13:46.264801Z"
    }
   },
   "id": "41ff8b299de307d2"
  },
  {
   "cell_type": "code",
   "execution_count": 5,
   "outputs": [
    {
     "data": {
      "text/plain": "(96834, 15)"
     },
     "execution_count": 5,
     "metadata": {},
     "output_type": "execute_result"
    }
   ],
   "source": [
    "df.shape"
   ],
   "metadata": {
    "collapsed": false,
    "ExecuteTime": {
     "end_time": "2024-05-20T07:13:47.185083500Z",
     "start_time": "2024-05-20T07:13:47.167504600Z"
    }
   },
   "id": "c630cd8ed64d4f9d"
  },
  {
   "cell_type": "code",
   "execution_count": 6,
   "outputs": [],
   "source": [
    "# remove nas and duplicate reviews\n",
    "df.dropna(axis=0, subset=['review_body'], inplace=True)\n",
    "df.drop_duplicates(subset=['review_body'], inplace=True)"
   ],
   "metadata": {
    "collapsed": false,
    "ExecuteTime": {
     "end_time": "2024-05-20T07:13:47.264314Z",
     "start_time": "2024-05-20T07:13:47.217361300Z"
    }
   },
   "id": "861e0cae068fbc6"
  },
  {
   "cell_type": "code",
   "execution_count": 7,
   "outputs": [
    {
     "data": {
      "text/plain": "(93446, 15)"
     },
     "execution_count": 7,
     "metadata": {},
     "output_type": "execute_result"
    }
   ],
   "source": [
    "df.shape"
   ],
   "metadata": {
    "collapsed": false,
    "ExecuteTime": {
     "end_time": "2024-05-20T07:13:47.268314200Z",
     "start_time": "2024-05-20T07:13:47.251770300Z"
    }
   },
   "id": "4761880489557793"
  },
  {
   "cell_type": "code",
   "execution_count": 8,
   "outputs": [
    {
     "name": "stderr",
     "output_type": "stream",
     "text": [
      "[nltk_data] Downloading package stopwords to /home/balv05/nltk_data...\n",
      "[nltk_data]   Package stopwords is already up-to-date!\n"
     ]
    }
   ],
   "source": [
    "nltk.download('stopwords')\n",
    "stopword_list = nltk.corpus.stopwords.words(\"english\")"
   ],
   "metadata": {
    "collapsed": false,
    "ExecuteTime": {
     "end_time": "2024-05-20T07:13:47.356383200Z",
     "start_time": "2024-05-20T07:13:47.310512900Z"
    }
   },
   "id": "296446ff70a87882"
  },
  {
   "cell_type": "code",
   "execution_count": 9,
   "outputs": [],
   "source": [
    "def remove_tags(review):\n",
    "    return re.sub(pattern='<.*?>', string=review , repl=' ') \n",
    "\n",
    "def keep_alnum(review):\n",
    "    return re.sub(pattern='[^A-Za-z\\d\\s:]', string=review, repl=' ')\n",
    "\n",
    "def strip_spaces(review):\n",
    "    return re.sub(pattern='[\\s]{2,}', string=review, repl=' ')\n",
    "\n",
    "def lowercase(review):\n",
    "    return review.lower()\n",
    "\n",
    "def remove_stopwords(review):\n",
    "    review_list = review.split()\n",
    "    return \" \".join([word for word in review_list if word not in stopword_list])"
   ],
   "metadata": {
    "collapsed": false,
    "ExecuteTime": {
     "end_time": "2024-05-20T07:13:47.366980700Z",
     "start_time": "2024-05-20T07:13:47.359892300Z"
    }
   },
   "id": "feccec45640d371c"
  },
  {
   "cell_type": "code",
   "execution_count": 10,
   "outputs": [],
   "source": [
    "df['review_body'] = df['review_body'].apply(remove_tags)        # remove html tags\n",
    "df['review_body'] = df['review_body'].apply(keep_alnum)         # remove sub unicode char\n",
    "df['review_body'] = df['review_body'].apply(strip_spaces)       # strip all unnecessary whitespaces\n",
    "df['review_body'] = df['review_body'].apply(lowercase)          # put everything into lowercase\n",
    "df['review_body'] = df['review_body'].apply(remove_stopwords)   # put everything into lowercase\n",
    "df = df[df['review_body'].str.len() > 5]                        # keep only reviews longer than 5 characters"
   ],
   "metadata": {
    "collapsed": false,
    "ExecuteTime": {
     "end_time": "2024-05-20T07:13:54.321482300Z",
     "start_time": "2024-05-20T07:13:47.363971800Z"
    }
   },
   "id": "ab4b0c058041911e"
  },
  {
   "cell_type": "code",
   "execution_count": 11,
   "outputs": [
    {
     "data": {
      "text/plain": "      marketplace  customer_id       review_id  product_id  product_parent  \\\n0              US     16199106  R203HPW78Z7N4K  B0067WNSZY       633038551   \n1              US     16374060  R2EAIGVLEALSP3  B002QSXK60       811766671   \n2              US     15322085  R1K1CD73HHLILA  B00EC452R6       345562728   \n3              US     32004835  R2KZBMOFRMYOPO  B00MVVIF2G       563052763   \n4              US     25414497   R6BIZOZY6UD01  B00IY7BNUW       874236579   \n...           ...          ...             ...         ...             ...   \n96829          US     37431087  R3CYIDM3UEY5PA  B00005O64S       222987122   \n96830          US     44686434  R1PLFLGSA6N9WU  B00005O64T       802734810   \n96831          US     36739731   RBPARLMOY6ZU5  B00005O64S       222987122   \n96832          US     50744080   RSS5TDZOGUEB6  B00004SACT       344802997   \n96833          US     48699462  R1X5L2BT3H084O  B00004SACT       344802997   \n\n                                           product_title  product_category  \\\n0      FGGF3032MW Gallery Series 30\" Wide Freestandin...  Major Appliances   \n1                              Best Hand Clothes Wringer  Major Appliances   \n2                        Supco SET184 Thermal Cutoff Kit  Major Appliances   \n3      Midea WHS-160RB1 Compact Single Reversible Doo...  Major Appliances   \n4                          Avalon Bay Portable Ice Maker  Major Appliances   \n...                                                  ...               ...   \n96829  Haier HDT18PA Space Saver Compact Countertop D...  Major Appliances   \n96830  Haier America HSE02-WNAWW 1.8-Cubic-Foot Capac...  Major Appliances   \n96831  Haier HDT18PA Space Saver Compact Countertop D...  Major Appliances   \n96832         Sanyo Two-Door 2.9 Cubic Foot Refrigerator  Major Appliances   \n96833         Sanyo Two-Door 2.9 Cubic Foot Refrigerator  Major Appliances   \n\n       star_rating  helpful_votes  total_votes vine verified_purchase  \\\n0                5              0            0    N                 Y   \n1                5              1            1    N                 Y   \n2                5              0            0    N                 Y   \n3                5              1            1    N                 Y   \n4                5              0            0    N                 Y   \n...            ...            ...          ...  ...               ...   \n96829            4             37           43    N                 N   \n96830            1             33           39    N                 N   \n96831            5              6           45    N                 N   \n96832            4             71           71    N                 N   \n96833            3              8           40    N                 N   \n\n                                  review_headline  \\\n0      If you need a new stove, this is a winner.   \n1                                      Five Stars   \n2                                   Fast Shipping   \n3                                      Five Stars   \n4                                      Five Stars   \n...                                           ...   \n96829  Pretty good dishwasher for small apartment   \n96830                          Does not last long   \n96831                 Rave review for space saver   \n96832                  Sanyo compact refrigerator   \n96833                               a normal frig   \n\n                                             review_body review_date  \n0      great stove wonderful replacement sort antique...  2015-08-31  \n1                                           worked great  2015-08-31  \n2                   part exactly needed saved purchasing  2015-08-31  \n3      love refrigerator keeps everything cold recommend  2015-08-31  \n4                      running store ice works perfectly  2015-08-31  \n...                                                  ...         ...  \n96829  pretty good dishwasher price good job cleaning...  2002-07-14  \n96830  bought office extremely dissatisfied stopped w...  2002-06-03  \n96831  saw small dishwasher thought wonderful idea sm...  2002-05-05  \n96832  probably best small refrigerator market true f...  2000-09-29  \n96833  normal mid sized refrigerater good price reall...  2000-08-26  \n\n[92899 rows x 15 columns]",
      "text/html": "<div>\n<style scoped>\n    .dataframe tbody tr th:only-of-type {\n        vertical-align: middle;\n    }\n\n    .dataframe tbody tr th {\n        vertical-align: top;\n    }\n\n    .dataframe thead th {\n        text-align: right;\n    }\n</style>\n<table border=\"1\" class=\"dataframe\">\n  <thead>\n    <tr style=\"text-align: right;\">\n      <th></th>\n      <th>marketplace</th>\n      <th>customer_id</th>\n      <th>review_id</th>\n      <th>product_id</th>\n      <th>product_parent</th>\n      <th>product_title</th>\n      <th>product_category</th>\n      <th>star_rating</th>\n      <th>helpful_votes</th>\n      <th>total_votes</th>\n      <th>vine</th>\n      <th>verified_purchase</th>\n      <th>review_headline</th>\n      <th>review_body</th>\n      <th>review_date</th>\n    </tr>\n  </thead>\n  <tbody>\n    <tr>\n      <th>0</th>\n      <td>US</td>\n      <td>16199106</td>\n      <td>R203HPW78Z7N4K</td>\n      <td>B0067WNSZY</td>\n      <td>633038551</td>\n      <td>FGGF3032MW Gallery Series 30\" Wide Freestandin...</td>\n      <td>Major Appliances</td>\n      <td>5</td>\n      <td>0</td>\n      <td>0</td>\n      <td>N</td>\n      <td>Y</td>\n      <td>If you need a new stove, this is a winner.</td>\n      <td>great stove wonderful replacement sort antique...</td>\n      <td>2015-08-31</td>\n    </tr>\n    <tr>\n      <th>1</th>\n      <td>US</td>\n      <td>16374060</td>\n      <td>R2EAIGVLEALSP3</td>\n      <td>B002QSXK60</td>\n      <td>811766671</td>\n      <td>Best Hand Clothes Wringer</td>\n      <td>Major Appliances</td>\n      <td>5</td>\n      <td>1</td>\n      <td>1</td>\n      <td>N</td>\n      <td>Y</td>\n      <td>Five Stars</td>\n      <td>worked great</td>\n      <td>2015-08-31</td>\n    </tr>\n    <tr>\n      <th>2</th>\n      <td>US</td>\n      <td>15322085</td>\n      <td>R1K1CD73HHLILA</td>\n      <td>B00EC452R6</td>\n      <td>345562728</td>\n      <td>Supco SET184 Thermal Cutoff Kit</td>\n      <td>Major Appliances</td>\n      <td>5</td>\n      <td>0</td>\n      <td>0</td>\n      <td>N</td>\n      <td>Y</td>\n      <td>Fast Shipping</td>\n      <td>part exactly needed saved purchasing</td>\n      <td>2015-08-31</td>\n    </tr>\n    <tr>\n      <th>3</th>\n      <td>US</td>\n      <td>32004835</td>\n      <td>R2KZBMOFRMYOPO</td>\n      <td>B00MVVIF2G</td>\n      <td>563052763</td>\n      <td>Midea WHS-160RB1 Compact Single Reversible Doo...</td>\n      <td>Major Appliances</td>\n      <td>5</td>\n      <td>1</td>\n      <td>1</td>\n      <td>N</td>\n      <td>Y</td>\n      <td>Five Stars</td>\n      <td>love refrigerator keeps everything cold recommend</td>\n      <td>2015-08-31</td>\n    </tr>\n    <tr>\n      <th>4</th>\n      <td>US</td>\n      <td>25414497</td>\n      <td>R6BIZOZY6UD01</td>\n      <td>B00IY7BNUW</td>\n      <td>874236579</td>\n      <td>Avalon Bay Portable Ice Maker</td>\n      <td>Major Appliances</td>\n      <td>5</td>\n      <td>0</td>\n      <td>0</td>\n      <td>N</td>\n      <td>Y</td>\n      <td>Five Stars</td>\n      <td>running store ice works perfectly</td>\n      <td>2015-08-31</td>\n    </tr>\n    <tr>\n      <th>...</th>\n      <td>...</td>\n      <td>...</td>\n      <td>...</td>\n      <td>...</td>\n      <td>...</td>\n      <td>...</td>\n      <td>...</td>\n      <td>...</td>\n      <td>...</td>\n      <td>...</td>\n      <td>...</td>\n      <td>...</td>\n      <td>...</td>\n      <td>...</td>\n      <td>...</td>\n    </tr>\n    <tr>\n      <th>96829</th>\n      <td>US</td>\n      <td>37431087</td>\n      <td>R3CYIDM3UEY5PA</td>\n      <td>B00005O64S</td>\n      <td>222987122</td>\n      <td>Haier HDT18PA Space Saver Compact Countertop D...</td>\n      <td>Major Appliances</td>\n      <td>4</td>\n      <td>37</td>\n      <td>43</td>\n      <td>N</td>\n      <td>N</td>\n      <td>Pretty good dishwasher for small apartment</td>\n      <td>pretty good dishwasher price good job cleaning...</td>\n      <td>2002-07-14</td>\n    </tr>\n    <tr>\n      <th>96830</th>\n      <td>US</td>\n      <td>44686434</td>\n      <td>R1PLFLGSA6N9WU</td>\n      <td>B00005O64T</td>\n      <td>802734810</td>\n      <td>Haier America HSE02-WNAWW 1.8-Cubic-Foot Capac...</td>\n      <td>Major Appliances</td>\n      <td>1</td>\n      <td>33</td>\n      <td>39</td>\n      <td>N</td>\n      <td>N</td>\n      <td>Does not last long</td>\n      <td>bought office extremely dissatisfied stopped w...</td>\n      <td>2002-06-03</td>\n    </tr>\n    <tr>\n      <th>96831</th>\n      <td>US</td>\n      <td>36739731</td>\n      <td>RBPARLMOY6ZU5</td>\n      <td>B00005O64S</td>\n      <td>222987122</td>\n      <td>Haier HDT18PA Space Saver Compact Countertop D...</td>\n      <td>Major Appliances</td>\n      <td>5</td>\n      <td>6</td>\n      <td>45</td>\n      <td>N</td>\n      <td>N</td>\n      <td>Rave review for space saver</td>\n      <td>saw small dishwasher thought wonderful idea sm...</td>\n      <td>2002-05-05</td>\n    </tr>\n    <tr>\n      <th>96832</th>\n      <td>US</td>\n      <td>50744080</td>\n      <td>RSS5TDZOGUEB6</td>\n      <td>B00004SACT</td>\n      <td>344802997</td>\n      <td>Sanyo Two-Door 2.9 Cubic Foot Refrigerator</td>\n      <td>Major Appliances</td>\n      <td>4</td>\n      <td>71</td>\n      <td>71</td>\n      <td>N</td>\n      <td>N</td>\n      <td>Sanyo compact refrigerator</td>\n      <td>probably best small refrigerator market true f...</td>\n      <td>2000-09-29</td>\n    </tr>\n    <tr>\n      <th>96833</th>\n      <td>US</td>\n      <td>48699462</td>\n      <td>R1X5L2BT3H084O</td>\n      <td>B00004SACT</td>\n      <td>344802997</td>\n      <td>Sanyo Two-Door 2.9 Cubic Foot Refrigerator</td>\n      <td>Major Appliances</td>\n      <td>3</td>\n      <td>8</td>\n      <td>40</td>\n      <td>N</td>\n      <td>N</td>\n      <td>a normal frig</td>\n      <td>normal mid sized refrigerater good price reall...</td>\n      <td>2000-08-26</td>\n    </tr>\n  </tbody>\n</table>\n<p>92899 rows × 15 columns</p>\n</div>"
     },
     "execution_count": 11,
     "metadata": {},
     "output_type": "execute_result"
    }
   ],
   "source": [
    "df"
   ],
   "metadata": {
    "collapsed": false,
    "ExecuteTime": {
     "end_time": "2024-05-20T07:13:54.335345900Z",
     "start_time": "2024-05-20T07:13:54.311955300Z"
    }
   },
   "id": "633603daaf3937ff"
  },
  {
   "cell_type": "code",
   "execution_count": 12,
   "outputs": [],
   "source": [
    "df.loc[df['star_rating'] < 3, 'sentiment'] = 0\n",
    "df.loc[df['star_rating'] == 3, 'sentiment'] = 1\n",
    "df.loc[df['star_rating'] > 3, 'sentiment'] = 2\n",
    "df['sentiment'] = df['sentiment'].astype('int')\n",
    "df.drop('star_rating', axis=1, inplace=True)\n",
    "df = resample(df, n_samples=80000, random_state=42, replace=False)"
   ],
   "metadata": {
    "collapsed": false,
    "ExecuteTime": {
     "end_time": "2024-05-20T07:13:54.414980200Z",
     "start_time": "2024-05-20T07:13:54.326478600Z"
    }
   },
   "id": "174a2be074f5703"
  },
  {
   "cell_type": "code",
   "execution_count": 13,
   "outputs": [
    {
     "data": {
      "text/plain": "      marketplace  customer_id       review_id  product_id  product_parent  \\\n71963          US     23022807  R3IZQ5QBR0C7B7  B0039V7JFG       184993957   \n15508          US     21831333  R2LGGHUB944XMT  B00EJPHJVK       516641616   \n3110           US     11941986  R21U3YZPS3MBXG  B00HH2YZT6        73366442   \n88804          US     46476694  R2JZ0YSJ5QEZX4  B001VKY8GU       232040651   \n18295          US     48338607  R2QENB1J5LBM14  B00MZH0OPC       394118467   \n...           ...          ...             ...         ...             ...   \n62973          US     31634986  R173X6QPB1N8SY  B004HXDLJ8       693470227   \n45682          US     52949439   R4YB9KY26NLPP  B003GFAY52       647457047   \n84940          US     42829199  R1W9QEUT7MIYGD  B004WP4BAO       480751909   \n1873           US     19293947  R12LFU2ZVPAZSS  B0125S2K0M       504103070   \n53872          US     11233134  R2S04Z77YZXZAP  B007VXJ0HS       285649250   \n\n                                           product_title  product_category  \\\n71963            LG 3.6 CF FRONT LOAD WASHER DRYER COMBO  Major Appliances   \n15508  Fantech Lint Trap for Dryer Booster - DBLT4W (...  Major Appliances   \n3110   Samsung RF32FMQDBSR 4-Door Refrigerator with C...  Major Appliances   \n88804           Koolatron Coca Cola Personal Cube Fridge  Major Appliances   \n18295  ( 2 PACK ) 3392519 - DRYER THERMAL FUSE for Wh...  Major Appliances   \n...                                                  ...               ...   \n62973  Whynter BWR-18SD 18 Bottle Built-In Wine Refri...  Major Appliances   \n45682         Broan 30W in. QP2 Under Cabinet Range Hood  Major Appliances   \n84940                                  Samsung DV5451AGW  Major Appliances   \n1873   Avalon Top Loading Water Cooler Dispenser - Ho...  Major Appliances   \n53872  LG LDF7561 Fully Integrated Dishwasher with He...  Major Appliances   \n\n       helpful_votes  total_votes vine verified_purchase  \\\n71963              5           14    N                 N   \n15508              0            0    N                 Y   \n3110               6            6    N                 N   \n88804              0            0    N                 N   \n18295              0            0    N                 Y   \n...              ...          ...  ...               ...   \n62973             11           12    N                 Y   \n45682              9            9    N                 Y   \n84940              4            4    N                 N   \n1873             144          156    N                 N   \n53872              0            1    N                 N   \n\n                                         review_headline  \\\n71963                          lg small washer/dryer set   \n15508  very hard to open must be securely mounted no ...   \n3110   15 month useful life - this should be disconti...   \n88804                               Unexpectedly Awesome   \n18295                                            Perfect   \n...                                                  ...   \n62973                                         Very Happy   \n45682  Up until it quit working I though I had made a...   \n84940      Does NOT dry clothes. So not much of a dryer.   \n1873   Avalon water dispenser beat my many previous w...   \n53872                                  Bad build quality   \n\n                                             review_body review_date  \\\n71963  usually rate things hate exactly feel small lg...  2013-04-06   \n15508         hard open must securely mounted provisions  2015-04-16   \n3110   15 months stopped working threw groceries call...  2015-08-07   \n88804  silver version tiny cooler fridge company chri...  2011-06-28   \n18295                      exactly needed get dryer back  2015-03-22   \n...                                                  ...         ...   \n62973  purchased replace space 12 34 garbage compacto...  2013-09-28   \n45682  bought item professionally installed middle ap...  2014-07-07   \n84940  purchased nice looking supposedly good name br...  2012-02-18   \n1873   videoid:8829556f67d2453e377e6459465db27e first...  2015-08-16   \n53872  middle drawer tight pull easily tech take look...  2014-03-01   \n\n       sentiment  \n71963          0  \n15508          1  \n3110           0  \n88804          2  \n18295          2  \n...          ...  \n62973          2  \n45682          0  \n84940          0  \n1873           2  \n53872          0  \n\n[80000 rows x 15 columns]",
      "text/html": "<div>\n<style scoped>\n    .dataframe tbody tr th:only-of-type {\n        vertical-align: middle;\n    }\n\n    .dataframe tbody tr th {\n        vertical-align: top;\n    }\n\n    .dataframe thead th {\n        text-align: right;\n    }\n</style>\n<table border=\"1\" class=\"dataframe\">\n  <thead>\n    <tr style=\"text-align: right;\">\n      <th></th>\n      <th>marketplace</th>\n      <th>customer_id</th>\n      <th>review_id</th>\n      <th>product_id</th>\n      <th>product_parent</th>\n      <th>product_title</th>\n      <th>product_category</th>\n      <th>helpful_votes</th>\n      <th>total_votes</th>\n      <th>vine</th>\n      <th>verified_purchase</th>\n      <th>review_headline</th>\n      <th>review_body</th>\n      <th>review_date</th>\n      <th>sentiment</th>\n    </tr>\n  </thead>\n  <tbody>\n    <tr>\n      <th>71963</th>\n      <td>US</td>\n      <td>23022807</td>\n      <td>R3IZQ5QBR0C7B7</td>\n      <td>B0039V7JFG</td>\n      <td>184993957</td>\n      <td>LG 3.6 CF FRONT LOAD WASHER DRYER COMBO</td>\n      <td>Major Appliances</td>\n      <td>5</td>\n      <td>14</td>\n      <td>N</td>\n      <td>N</td>\n      <td>lg small washer/dryer set</td>\n      <td>usually rate things hate exactly feel small lg...</td>\n      <td>2013-04-06</td>\n      <td>0</td>\n    </tr>\n    <tr>\n      <th>15508</th>\n      <td>US</td>\n      <td>21831333</td>\n      <td>R2LGGHUB944XMT</td>\n      <td>B00EJPHJVK</td>\n      <td>516641616</td>\n      <td>Fantech Lint Trap for Dryer Booster - DBLT4W (...</td>\n      <td>Major Appliances</td>\n      <td>0</td>\n      <td>0</td>\n      <td>N</td>\n      <td>Y</td>\n      <td>very hard to open must be securely mounted no ...</td>\n      <td>hard open must securely mounted provisions</td>\n      <td>2015-04-16</td>\n      <td>1</td>\n    </tr>\n    <tr>\n      <th>3110</th>\n      <td>US</td>\n      <td>11941986</td>\n      <td>R21U3YZPS3MBXG</td>\n      <td>B00HH2YZT6</td>\n      <td>73366442</td>\n      <td>Samsung RF32FMQDBSR 4-Door Refrigerator with C...</td>\n      <td>Major Appliances</td>\n      <td>6</td>\n      <td>6</td>\n      <td>N</td>\n      <td>N</td>\n      <td>15 month useful life - this should be disconti...</td>\n      <td>15 months stopped working threw groceries call...</td>\n      <td>2015-08-07</td>\n      <td>0</td>\n    </tr>\n    <tr>\n      <th>88804</th>\n      <td>US</td>\n      <td>46476694</td>\n      <td>R2JZ0YSJ5QEZX4</td>\n      <td>B001VKY8GU</td>\n      <td>232040651</td>\n      <td>Koolatron Coca Cola Personal Cube Fridge</td>\n      <td>Major Appliances</td>\n      <td>0</td>\n      <td>0</td>\n      <td>N</td>\n      <td>N</td>\n      <td>Unexpectedly Awesome</td>\n      <td>silver version tiny cooler fridge company chri...</td>\n      <td>2011-06-28</td>\n      <td>2</td>\n    </tr>\n    <tr>\n      <th>18295</th>\n      <td>US</td>\n      <td>48338607</td>\n      <td>R2QENB1J5LBM14</td>\n      <td>B00MZH0OPC</td>\n      <td>394118467</td>\n      <td>( 2 PACK ) 3392519 - DRYER THERMAL FUSE for Wh...</td>\n      <td>Major Appliances</td>\n      <td>0</td>\n      <td>0</td>\n      <td>N</td>\n      <td>Y</td>\n      <td>Perfect</td>\n      <td>exactly needed get dryer back</td>\n      <td>2015-03-22</td>\n      <td>2</td>\n    </tr>\n    <tr>\n      <th>...</th>\n      <td>...</td>\n      <td>...</td>\n      <td>...</td>\n      <td>...</td>\n      <td>...</td>\n      <td>...</td>\n      <td>...</td>\n      <td>...</td>\n      <td>...</td>\n      <td>...</td>\n      <td>...</td>\n      <td>...</td>\n      <td>...</td>\n      <td>...</td>\n      <td>...</td>\n    </tr>\n    <tr>\n      <th>62973</th>\n      <td>US</td>\n      <td>31634986</td>\n      <td>R173X6QPB1N8SY</td>\n      <td>B004HXDLJ8</td>\n      <td>693470227</td>\n      <td>Whynter BWR-18SD 18 Bottle Built-In Wine Refri...</td>\n      <td>Major Appliances</td>\n      <td>11</td>\n      <td>12</td>\n      <td>N</td>\n      <td>Y</td>\n      <td>Very Happy</td>\n      <td>purchased replace space 12 34 garbage compacto...</td>\n      <td>2013-09-28</td>\n      <td>2</td>\n    </tr>\n    <tr>\n      <th>45682</th>\n      <td>US</td>\n      <td>52949439</td>\n      <td>R4YB9KY26NLPP</td>\n      <td>B003GFAY52</td>\n      <td>647457047</td>\n      <td>Broan 30W in. QP2 Under Cabinet Range Hood</td>\n      <td>Major Appliances</td>\n      <td>9</td>\n      <td>9</td>\n      <td>N</td>\n      <td>Y</td>\n      <td>Up until it quit working I though I had made a...</td>\n      <td>bought item professionally installed middle ap...</td>\n      <td>2014-07-07</td>\n      <td>0</td>\n    </tr>\n    <tr>\n      <th>84940</th>\n      <td>US</td>\n      <td>42829199</td>\n      <td>R1W9QEUT7MIYGD</td>\n      <td>B004WP4BAO</td>\n      <td>480751909</td>\n      <td>Samsung DV5451AGW</td>\n      <td>Major Appliances</td>\n      <td>4</td>\n      <td>4</td>\n      <td>N</td>\n      <td>N</td>\n      <td>Does NOT dry clothes. So not much of a dryer.</td>\n      <td>purchased nice looking supposedly good name br...</td>\n      <td>2012-02-18</td>\n      <td>0</td>\n    </tr>\n    <tr>\n      <th>1873</th>\n      <td>US</td>\n      <td>19293947</td>\n      <td>R12LFU2ZVPAZSS</td>\n      <td>B0125S2K0M</td>\n      <td>504103070</td>\n      <td>Avalon Top Loading Water Cooler Dispenser - Ho...</td>\n      <td>Major Appliances</td>\n      <td>144</td>\n      <td>156</td>\n      <td>N</td>\n      <td>N</td>\n      <td>Avalon water dispenser beat my many previous w...</td>\n      <td>videoid:8829556f67d2453e377e6459465db27e first...</td>\n      <td>2015-08-16</td>\n      <td>2</td>\n    </tr>\n    <tr>\n      <th>53872</th>\n      <td>US</td>\n      <td>11233134</td>\n      <td>R2S04Z77YZXZAP</td>\n      <td>B007VXJ0HS</td>\n      <td>285649250</td>\n      <td>LG LDF7561 Fully Integrated Dishwasher with He...</td>\n      <td>Major Appliances</td>\n      <td>0</td>\n      <td>1</td>\n      <td>N</td>\n      <td>N</td>\n      <td>Bad build quality</td>\n      <td>middle drawer tight pull easily tech take look...</td>\n      <td>2014-03-01</td>\n      <td>0</td>\n    </tr>\n  </tbody>\n</table>\n<p>80000 rows × 15 columns</p>\n</div>"
     },
     "execution_count": 13,
     "metadata": {},
     "output_type": "execute_result"
    }
   ],
   "source": [
    "df"
   ],
   "metadata": {
    "collapsed": false,
    "ExecuteTime": {
     "end_time": "2024-05-20T07:13:54.438056900Z",
     "start_time": "2024-05-20T07:13:54.367233200Z"
    }
   },
   "id": "61075fa8ce779b40"
  },
  {
   "cell_type": "markdown",
   "source": [
    "## 2. Final dataset\n",
    "- 80 000 instances\n",
    "- NEGATIVE 21 334\n",
    "- NEUTRAL 5 674\n",
    "- POSITIVE 52 992 \n",
    "- **Quite imbalanced -> experiment with class weights**\n",
    "- 90:10 train:test split"
   ],
   "metadata": {
    "collapsed": false
   },
   "id": "f66880c2eaddb91e"
  },
  {
   "cell_type": "code",
   "execution_count": 14,
   "outputs": [
    {
     "data": {
      "text/plain": "sentiment\n2    52992\n0    21334\n1     5674\nName: count, dtype: int64"
     },
     "execution_count": 14,
     "metadata": {},
     "output_type": "execute_result"
    }
   ],
   "source": [
    "df['sentiment'].value_counts()"
   ],
   "metadata": {
    "collapsed": false,
    "ExecuteTime": {
     "end_time": "2024-05-20T07:13:54.439566800Z",
     "start_time": "2024-05-20T07:13:54.377828700Z"
    }
   },
   "id": "51a301bdbbc85fa6"
  },
  {
   "cell_type": "code",
   "execution_count": 15,
   "outputs": [],
   "source": [
    "# Train-test split\n",
    "df_multimodal = df\n",
    "df = df[['review_body', 'sentiment']]\n",
    "\n",
    "X_train, X_test, y_train, y_test = train_test_split(\n",
    "    df['review_body'], df['sentiment'], random_state=42, test_size=0.1, stratify=df['sentiment']\n",
    ")\n",
    "#Train-val split\n",
    "X_train, X_val, y_train, y_val = train_test_split(\n",
    "    X_train, y_train, test_size=0.1, stratify=y_train, random_state=42\n",
    ")\n"
   ],
   "metadata": {
    "collapsed": false,
    "ExecuteTime": {
     "end_time": "2024-05-20T07:13:54.483366400Z",
     "start_time": "2024-05-20T07:13:54.386347400Z"
    }
   },
   "id": "3f410caa3e666495"
  },
  {
   "cell_type": "code",
   "execution_count": 16,
   "outputs": [
    {
     "data": {
      "text/plain": "sentiment\n2    42924\n0    17280\n1     4596\nName: count, dtype: int64"
     },
     "execution_count": 16,
     "metadata": {},
     "output_type": "execute_result"
    }
   ],
   "source": [
    "y_train.value_counts()"
   ],
   "metadata": {
    "collapsed": false,
    "ExecuteTime": {
     "end_time": "2024-05-19T18:19:07.983435200Z",
     "start_time": "2024-05-19T18:19:07.967807Z"
    }
   },
   "id": "f665ddc4246c79dc"
  },
  {
   "cell_type": "code",
   "execution_count": 17,
   "outputs": [
    {
     "data": {
      "text/plain": "sentiment\n2    5299\n0    2134\n1     567\nName: count, dtype: int64"
     },
     "execution_count": 17,
     "metadata": {},
     "output_type": "execute_result"
    }
   ],
   "source": [
    "y_test.value_counts()"
   ],
   "metadata": {
    "collapsed": false,
    "ExecuteTime": {
     "end_time": "2024-05-19T18:19:07.983435200Z",
     "start_time": "2024-05-19T18:19:07.971921Z"
    }
   },
   "id": "bb12164d07568651"
  },
  {
   "cell_type": "markdown",
   "source": [
    "### 3. Recurrent Neural Network"
   ],
   "metadata": {
    "collapsed": false
   },
   "id": "fb0864a37a48ec44"
  },
  {
   "cell_type": "code",
   "execution_count": 16,
   "outputs": [
    {
     "name": "stderr",
     "output_type": "stream",
     "text": [
      "2024-05-20 09:13:54.427989: I external/local_xla/xla/stream_executor/cuda/cuda_executor.cc:887] could not open file to read NUMA node: /sys/bus/pci/devices/0000:0b:00.0/numa_node\n",
      "Your kernel may have been built without NUMA support.\n",
      "2024-05-20 09:13:54.428072: I external/local_xla/xla/stream_executor/cuda/cuda_executor.cc:887] could not open file to read NUMA node: /sys/bus/pci/devices/0000:0b:00.0/numa_node\n",
      "Your kernel may have been built without NUMA support.\n",
      "2024-05-20 09:13:54.428110: I external/local_xla/xla/stream_executor/cuda/cuda_executor.cc:887] could not open file to read NUMA node: /sys/bus/pci/devices/0000:0b:00.0/numa_node\n",
      "Your kernel may have been built without NUMA support.\n",
      "2024-05-20 09:13:54.589302: I external/local_xla/xla/stream_executor/cuda/cuda_executor.cc:887] could not open file to read NUMA node: /sys/bus/pci/devices/0000:0b:00.0/numa_node\n",
      "Your kernel may have been built without NUMA support.\n",
      "2024-05-20 09:13:54.589387: I external/local_xla/xla/stream_executor/cuda/cuda_executor.cc:887] could not open file to read NUMA node: /sys/bus/pci/devices/0000:0b:00.0/numa_node\n",
      "Your kernel may have been built without NUMA support.\n",
      "2024-05-20 09:13:54.589394: I tensorflow/core/common_runtime/gpu/gpu_device.cc:2022] Could not identify NUMA node of platform GPU id 0, defaulting to 0.  Your kernel may not have been built with NUMA support.\n",
      "2024-05-20 09:13:54.589442: I external/local_xla/xla/stream_executor/cuda/cuda_executor.cc:887] could not open file to read NUMA node: /sys/bus/pci/devices/0000:0b:00.0/numa_node\n",
      "Your kernel may have been built without NUMA support.\n",
      "2024-05-20 09:13:54.589456: I tensorflow/core/common_runtime/gpu/gpu_device.cc:1929] Created device /job:localhost/replica:0/task:0/device:GPU:0 with 9558 MB memory:  -> device: 0, name: NVIDIA GeForce RTX 4070, pci bus id: 0000:0b:00.0, compute capability: 8.9\n"
     ]
    }
   ],
   "source": [
    "train_dataset = tf.data.Dataset.from_tensor_slices((X_train, y_train))\n",
    "validation_dataset = tf.data.Dataset.from_tensor_slices((X_val, y_val))\n",
    "test_dataset = tf.data.Dataset.from_tensor_slices((X_test, y_test))"
   ],
   "metadata": {
    "collapsed": false,
    "ExecuteTime": {
     "end_time": "2024-05-20T07:13:54.851272700Z",
     "start_time": "2024-05-20T07:13:54.840758500Z"
    }
   },
   "id": "96e28c1a9c77e91f"
  },
  {
   "cell_type": "code",
   "execution_count": 17,
   "outputs": [],
   "source": [
    "max_length = 100\n",
    "max_tokens = 8000\n",
    "\n",
    "text_vectorization = TextVectorization(\n",
    "    ngrams=1,\n",
    "    max_tokens=max_tokens,\n",
    "    output_mode=\"int\",\n",
    "    output_sequence_length=max_length\n",
    ")\n",
    "\n",
    "text_only_train_ds = train_dataset.map(lambda x, y: x)\n",
    "text_vectorization.adapt(text_only_train_ds)"
   ],
   "metadata": {
    "collapsed": false,
    "ExecuteTime": {
     "end_time": "2024-05-20T07:17:36.380155100Z",
     "start_time": "2024-05-20T07:13:54.853278100Z"
    }
   },
   "id": "f97e30531d7c3605"
  },
  {
   "cell_type": "code",
   "execution_count": 20,
   "outputs": [
    {
     "data": {
      "text/plain": "array(['', '[UNK]', 'one', 'water', 'would', 'great', 'like', 'get',\n       'unit', 'ice', 'time', 'use', 'machine', 'well', 'good', 'washer',\n       'product', 'works', 'new', '2'], dtype='<U15')"
     },
     "execution_count": 20,
     "metadata": {},
     "output_type": "execute_result"
    }
   ],
   "source": [
    "vocab = np.array(text_vectorization.get_vocabulary())\n",
    "vocab[:20]"
   ],
   "metadata": {
    "collapsed": false,
    "ExecuteTime": {
     "end_time": "2024-05-19T18:22:53.400162200Z",
     "start_time": "2024-05-19T18:22:53.391791500Z"
    }
   },
   "id": "f0b6e642b87c8ac5"
  },
  {
   "cell_type": "code",
   "execution_count": 18,
   "outputs": [],
   "source": [
    "# Define a function to vectorize the texts\n",
    "def vectorize_text(text, label):\n",
    "    return text_vectorization(text), label\n",
    "\n",
    "# Apply the vectorization to the training, validation, and test datasets\n",
    "train_ds = (train_dataset.map(vectorize_text).cache()\n",
    "            .shuffle(10000)\n",
    "            .batch(32)\n",
    "            .prefetch(buffer_size=tf.data.AUTOTUNE))\n",
    "\n",
    "val_ds = (validation_dataset.map(vectorize_text)\n",
    "          .cache()\n",
    "          .batch(32)\n",
    "          .prefetch(buffer_size=tf.data.AUTOTUNE))\n",
    "\n",
    "test_ds = (test_dataset.map(vectorize_text)\n",
    "           .cache()\n",
    "           .batch(32)\n",
    "           .prefetch(buffer_size=tf.data.AUTOTUNE))\n"
   ],
   "metadata": {
    "collapsed": false,
    "ExecuteTime": {
     "end_time": "2024-05-20T07:17:36.537310600Z",
     "start_time": "2024-05-20T07:17:36.393674900Z"
    }
   },
   "id": "b7526999eb3cc981"
  },
  {
   "cell_type": "code",
   "execution_count": 19,
   "outputs": [
    {
     "name": "stdout",
     "output_type": "stream",
     "text": [
      "inputs data type <dtype: 'int64'>\n",
      "inputs shape (32, 100)\n",
      "targets data type <dtype: 'int64'>\n",
      "targets shape (32,)\n",
      "inputs[0] tf.Tensor(\n",
      "[[ 738  805  500 ...  152    1   28]\n",
      " [2365   32  193 ...    0    0    0]\n",
      " [6081    1  331 ...    0    0    0]\n",
      " ...\n",
      " [  55    9  151 ...    0    0    0]\n",
      " [1024  659 3231 ...    0    0    0]\n",
      " [  27  170  738 ...    0    0    0]], shape=(32, 100), dtype=int64)\n",
      "targets[0] tf.Tensor([2 2 2 2 2 2 2 2 2 0 0 2 1 2 0 0 2 2 1 2 2 0 2 2 2 1 2 2 0 2 0 0], shape=(32,), dtype=int64)\n"
     ]
    },
    {
     "name": "stderr",
     "output_type": "stream",
     "text": [
      "2024-05-20 09:17:37.841925: W tensorflow/core/kernels/data/cache_dataset_ops.cc:858] The calling iterator did not fully read the dataset being cached. In order to avoid unexpected truncation of the dataset, the partially cached contents of the dataset  will be discarded. This can happen if you have an input pipeline similar to `dataset.cache().take(k).repeat()`. You should use `dataset.take(k).cache().repeat()` instead.\n"
     ]
    }
   ],
   "source": [
    "for inputs, targets in train_ds:\n",
    "    print(\"inputs data type\",inputs.dtype)\n",
    "    print(\"inputs shape\",inputs.shape)\n",
    "    print(\"targets data type\",targets.dtype)\n",
    "    print(\"targets shape\",targets.shape)\n",
    "    print(\"inputs[0]\", inputs)\n",
    "    #print(inputs[0].numpy().decode('utf-8'))\n",
    "    print(\"targets[0]\", targets)\n",
    "    break"
   ],
   "metadata": {
    "collapsed": false,
    "ExecuteTime": {
     "end_time": "2024-05-20T07:17:37.847967200Z",
     "start_time": "2024-05-20T07:17:36.540589200Z"
    }
   },
   "id": "f882d9aa66e1ba65"
  },
  {
   "cell_type": "code",
   "execution_count": 20,
   "outputs": [],
   "source": [
    "negative, neutral, positive = np.bincount(df['sentiment'])"
   ],
   "metadata": {
    "collapsed": false,
    "ExecuteTime": {
     "end_time": "2024-05-20T07:17:37.854672500Z",
     "start_time": "2024-05-20T07:17:37.849502400Z"
    }
   },
   "id": "6b3a385080e2f412"
  },
  {
   "cell_type": "code",
   "execution_count": 21,
   "outputs": [
    {
     "data": {
      "text/plain": "(21334, 5674, 52992)"
     },
     "execution_count": 21,
     "metadata": {},
     "output_type": "execute_result"
    }
   ],
   "source": [
    "negative, neutral, positive"
   ],
   "metadata": {
    "collapsed": false,
    "ExecuteTime": {
     "end_time": "2024-05-20T07:17:37.868200600Z",
     "start_time": "2024-05-20T07:17:37.851610800Z"
    }
   },
   "id": "7b169e55dc72c381"
  },
  {
   "cell_type": "code",
   "execution_count": 22,
   "outputs": [
    {
     "name": "stdout",
     "output_type": "stream",
     "text": [
      "Weight for class 0: 1.25\n",
      "Weight for class 1: 4.70\n",
      "Weight for class 2: 0.50\n"
     ]
    }
   ],
   "source": [
    "### proportional calculation of weights \n",
    "\n",
    "weight_for_0 = (1 / negative) * (df.shape[0] / 3)\n",
    "weight_for_1 = (1 / neutral) * (df.shape[0] / 3)\n",
    "weight_for_2 = (1 / positive) * (df.shape[0] / 3)\n",
    "class_weight = {0: weight_for_0, 1: weight_for_1, 2: weight_for_2}\n",
    "\n",
    "print('Weight for class 0: {:.2f}'.format(weight_for_0))\n",
    "print('Weight for class 1: {:.2f}'.format(weight_for_1))\n",
    "print('Weight for class 2: {:.2f}'.format(weight_for_2))"
   ],
   "metadata": {
    "collapsed": false,
    "ExecuteTime": {
     "end_time": "2024-05-20T07:17:37.869200900Z",
     "start_time": "2024-05-20T07:17:37.864187900Z"
    }
   },
   "id": "ead80fe388cbe495"
  },
  {
   "cell_type": "code",
   "execution_count": 23,
   "outputs": [],
   "source": [
    "def get_conf_matrix(model):\n",
    "    predictions = model.predict(test_ds)\n",
    "    classes = tf.argmax(predictions, axis=-1)\n",
    "    intensity = confusion_matrix(y_test, list(classes.numpy()))\n",
    "    disp = ConfusionMatrixDisplay(confusion_matrix = intensity, display_labels=[0,1,2])\n",
    "    disp.plot()"
   ],
   "metadata": {
    "collapsed": false,
    "ExecuteTime": {
     "end_time": "2024-05-20T07:17:37.937375700Z",
     "start_time": "2024-05-20T07:17:37.869200900Z"
    }
   },
   "id": "921139b146fe469b"
  },
  {
   "cell_type": "code",
   "execution_count": 24,
   "outputs": [],
   "source": [
    "def create_RNN(max_length, embedding_dim = 128, lstm_units = 16, optimizer = 'sgd', metrics = 'accuracy'):\n",
    "    inputs = keras.Input(shape=(max_length,), dtype=\"int64\")\n",
    "\n",
    "    x = layers.Embedding(max_tokens, embedding_dim)(inputs)\n",
    "\n",
    "    # Bidirectional LSTM layer\n",
    "    x = layers.Bidirectional(layers.LSTM(lstm_units))(x)\n",
    "\n",
    "    # Output layer for binary classification\n",
    "    outputs = layers.Dense(3, activation=\"sigmoid\")(x)\n",
    "\n",
    "    model = keras.Model(inputs, outputs)\n",
    "    \n",
    "    # Compile the model\n",
    "    model.compile(optimizer=optimizer, loss=\"sparse_categorical_crossentropy\", metrics=[metrics])\n",
    "\n",
    "    return model\n",
    "\n",
    "def create_CNN(max_length, embedding_dim = 128, dropout_rate = 0.5, optimizer = 'sgd', metrics = 'accuracy', activation = 'relu'):\n",
    "\n",
    "    inputs = keras.Input(shape=(max_length,), dtype=\"int64\")\n",
    "\n",
    "    x = layers.Embedding(max_tokens, embedding_dim, input_length=max_length)(inputs)\n",
    "    x = layers.Conv1D(filters = 128, kernel_size =  5, activation='relu')(x)\n",
    "    x = layers.MaxPooling1D(pool_size=2)(x)\n",
    "    x = layers.Conv1D(filters=64, kernel_size=4, padding='same', activation=activation)(x)\n",
    "    x = layers.MaxPooling1D(pool_size=2)(x)\n",
    "    x = layers.Conv1D(filters=32, kernel_size=4, padding='same', activation=activation)(x)\n",
    "    x = layers.MaxPooling1D(pool_size=2)(x)\n",
    "    x = layers.Conv1D(filters=32, kernel_size=4, padding='same', activation=activation)(x)\n",
    "    x = layers.MaxPooling1D(pool_size=2)(x)\n",
    "    x = layers.Dense(10, activation = 'sigmoid')(x)\n",
    "    x = layers.Dropout(dropout_rate)(x)\n",
    "    x = keras.layers.Flatten()(x)\n",
    "\n",
    "    outputs = layers.Dense(3, activation = 'sigmoid')(x)\n",
    "    model = keras.Model(inputs, outputs)\n",
    "    model.compile(optimizer=optimizer, loss=\"sparse_categorical_crossentropy\", metrics=[metrics])\n",
    "\n",
    "    return model\n"
   ],
   "metadata": {
    "collapsed": false,
    "ExecuteTime": {
     "end_time": "2024-05-20T07:17:37.948297Z",
     "start_time": "2024-05-20T07:17:37.876201900Z"
    }
   },
   "id": "fb777943bfdfa9b7"
  },
  {
   "cell_type": "markdown",
   "source": [
    "## 3. Train Reccurent Neural Network\n",
    "- train baseline model with basic parameters\n",
    "- train baseline model with basic parameters + adjusted weights\n",
    "- implement hyperparameter tuning using TFDF "
   ],
   "metadata": {
    "collapsed": false
   },
   "id": "4c815af443cec87e"
  },
  {
   "cell_type": "markdown",
   "source": [
    "### 3.1 RNN with default weights and default hyperparameters"
   ],
   "metadata": {
    "collapsed": false
   },
   "id": "11f4ec4713a7667f"
  },
  {
   "cell_type": "code",
   "execution_count": 28,
   "outputs": [
    {
     "name": "stderr",
     "output_type": "stream",
     "text": [
      "2024-05-19 20:22:55.110693: I external/local_tsl/tsl/platform/default/subprocess.cc:304] Start cannot spawn child process: Permission denied\n"
     ]
    },
    {
     "name": "stdout",
     "output_type": "stream",
     "text": [
      "Model: \"model\"\n",
      "_________________________________________________________________\n",
      " Layer (type)                Output Shape              Param #   \n",
      "=================================================================\n",
      " input_1 (InputLayer)        [(None, 100)]             0         \n",
      "                                                                 \n",
      " embedding (Embedding)       (None, 100, 128)          1024000   \n",
      "                                                                 \n",
      " bidirectional (Bidirection  (None, 32)                18560     \n",
      " al)                                                             \n",
      "                                                                 \n",
      " dense (Dense)               (None, 3)                 99        \n",
      "                                                                 \n",
      "=================================================================\n",
      "Total params: 1042659 (3.98 MB)\n",
      "Trainable params: 1042659 (3.98 MB)\n",
      "Non-trainable params: 0 (0.00 Byte)\n",
      "_________________________________________________________________\n",
      "Epoch 1/20\n"
     ]
    },
    {
     "name": "stderr",
     "output_type": "stream",
     "text": [
      "2024-05-19 20:22:58.298016: I external/local_xla/xla/stream_executor/cuda/cuda_dnn.cc:454] Loaded cuDNN version 8907\n",
      "2024-05-19 20:22:58.373692: I external/local_xla/xla/service/service.cc:168] XLA service 0x7f03e9ad73e0 initialized for platform CUDA (this does not guarantee that XLA will be used). Devices:\n",
      "2024-05-19 20:22:58.373726: I external/local_xla/xla/service/service.cc:176]   StreamExecutor device (0): NVIDIA GeForce RTX 4070, Compute Capability 8.9\n",
      "WARNING: All log messages before absl::InitializeLog() is called are written to STDERR\n",
      "I0000 00:00:1716142978.399132  410299 device_compiler.h:186] Compiled cluster using XLA!  This line is logged at most once for the lifetime of the process.\n"
     ]
    },
    {
     "name": "stdout",
     "output_type": "stream",
     "text": [
      "2025/2025 [==============================] - 54s 25ms/step - loss: 0.8086 - accuracy: 0.6624 - val_loss: 0.7901 - val_accuracy: 0.6624\n",
      "Epoch 2/20\n",
      "2025/2025 [==============================] - 39s 19ms/step - loss: 0.7620 - accuracy: 0.6627 - val_loss: 0.7359 - val_accuracy: 0.6821\n",
      "Epoch 3/20\n",
      "2025/2025 [==============================] - 41s 20ms/step - loss: 0.6886 - accuracy: 0.7297 - val_loss: 0.6119 - val_accuracy: 0.7711\n",
      "Epoch 4/20\n",
      "2025/2025 [==============================] - 39s 19ms/step - loss: 0.5784 - accuracy: 0.7899 - val_loss: 0.6455 - val_accuracy: 0.7500\n",
      "Epoch 5/20\n",
      "2025/2025 [==============================] - 38s 19ms/step - loss: 0.5204 - accuracy: 0.8169 - val_loss: 0.5817 - val_accuracy: 0.7808\n",
      "Epoch 6/20\n",
      "2025/2025 [==============================] - 39s 19ms/step - loss: 0.4868 - accuracy: 0.8309 - val_loss: 0.5733 - val_accuracy: 0.7885\n",
      "Epoch 7/20\n",
      "2025/2025 [==============================] - 40s 20ms/step - loss: 0.4635 - accuracy: 0.8393 - val_loss: 0.5592 - val_accuracy: 0.7981\n",
      "Epoch 8/20\n",
      "2025/2025 [==============================] - 39s 19ms/step - loss: 0.4466 - accuracy: 0.8448 - val_loss: 0.5271 - val_accuracy: 0.8125\n",
      "Epoch 9/20\n",
      "2025/2025 [==============================] - 38s 19ms/step - loss: 0.4346 - accuracy: 0.8493 - val_loss: 0.5126 - val_accuracy: 0.8174\n",
      "Epoch 10/20\n",
      "2025/2025 [==============================] - 38s 19ms/step - loss: 0.4255 - accuracy: 0.8526 - val_loss: 0.5175 - val_accuracy: 0.8183\n",
      "Epoch 11/20\n",
      "2025/2025 [==============================] - 38s 19ms/step - loss: 0.4179 - accuracy: 0.8558 - val_loss: 0.5400 - val_accuracy: 0.8131\n",
      "Epoch 12/20\n",
      "2025/2025 [==============================] - 39s 19ms/step - loss: 0.4118 - accuracy: 0.8577 - val_loss: 0.5488 - val_accuracy: 0.8128\n",
      "250/250 [==============================] - 2s 10ms/step - loss: 0.5140 - accuracy: 0.8169\n",
      "Test dataset accuracy: 0.8168749809265137\n",
      "250/250 [==============================] - 2s 8ms/step\n"
     ]
    },
    {
     "data": {
      "text/plain": "<Figure size 640x480 with 2 Axes>",
      "image/png": "[encoded data removed]"
     },
     "metadata": {},
     "output_type": "display_data"
    }
   ],
   "source": [
    "model = create_RNN(max_length)\n",
    "model.summary()\n",
    "callbacks = [\n",
    "    keras.callbacks.EarlyStopping(monitor='val_loss', patience=3, min_delta=0.002, restore_best_weights=True),\n",
    "]\n",
    "history = model.fit(train_ds.cache(), epochs=20, validation_data=val_ds.cache(), callbacks=callbacks)\n",
    "print(f\"Test dataset accuracy: {model.evaluate(test_ds)[1]}\")\n",
    "get_conf_matrix(model)"
   ],
   "metadata": {
    "collapsed": false,
    "ExecuteTime": {
     "end_time": "2024-05-19T18:31:01.279802800Z",
     "start_time": "2024-05-19T18:22:55.028425600Z"
    }
   },
   "id": "1f479272e4a3fe33"
  },
  {
   "cell_type": "markdown",
   "source": [
    "### 3.1 RNN with adjusted weights and default hyperparameters\n",
    "- Weight for class 0: 1.25\n",
    "- Weight for class 1: 4.70\n",
    "- Weight for class 2: 0.50\n"
   ],
   "metadata": {
    "collapsed": false
   },
   "id": "c6f1c968efbe62e8"
  },
  {
   "cell_type": "code",
   "execution_count": 29,
   "outputs": [
    {
     "name": "stdout",
     "output_type": "stream",
     "text": [
      "Model: \"model_1\"\n",
      "_________________________________________________________________\n",
      " Layer (type)                Output Shape              Param #   \n",
      "=================================================================\n",
      " input_2 (InputLayer)        [(None, 100)]             0         \n",
      "                                                                 \n",
      " embedding_1 (Embedding)     (None, 100, 128)          1024000   \n",
      "                                                                 \n",
      " bidirectional_1 (Bidirecti  (None, 32)                18560     \n",
      " onal)                                                           \n",
      "                                                                 \n",
      " dense_1 (Dense)             (None, 3)                 99        \n",
      "                                                                 \n",
      "=================================================================\n",
      "Total params: 1042659 (3.98 MB)\n",
      "Trainable params: 1042659 (3.98 MB)\n",
      "Non-trainable params: 0 (0.00 Byte)\n",
      "_________________________________________________________________\n",
      "Epoch 1/20\n",
      "2025/2025 [==============================] - 52s 25ms/step - loss: 1.0756 - accuracy: 0.5161 - val_loss: 1.0391 - val_accuracy: 0.5726\n",
      "Epoch 2/20\n",
      "2025/2025 [==============================] - 39s 19ms/step - loss: 1.0341 - accuracy: 0.6031 - val_loss: 0.9645 - val_accuracy: 0.6336\n",
      "Epoch 3/20\n",
      "2025/2025 [==============================] - 40s 20ms/step - loss: 0.9414 - accuracy: 0.6702 - val_loss: 0.8931 - val_accuracy: 0.6514\n",
      "Epoch 4/20\n",
      "2025/2025 [==============================] - 38s 19ms/step - loss: 0.8537 - accuracy: 0.6868 - val_loss: 0.8152 - val_accuracy: 0.6329\n",
      "Epoch 5/20\n",
      "2025/2025 [==============================] - 40s 20ms/step - loss: 0.8015 - accuracy: 0.6928 - val_loss: 0.7885 - val_accuracy: 0.6189\n",
      "Epoch 6/20\n",
      "2025/2025 [==============================] - 39s 19ms/step - loss: 0.7700 - accuracy: 0.6960 - val_loss: 0.7524 - val_accuracy: 0.6344\n",
      "Epoch 7/20\n",
      "2025/2025 [==============================] - 39s 19ms/step - loss: 0.7469 - accuracy: 0.7052 - val_loss: 0.7676 - val_accuracy: 0.6162\n",
      "Epoch 8/20\n",
      "2025/2025 [==============================] - 40s 20ms/step - loss: 0.7291 - accuracy: 0.7092 - val_loss: 0.6574 - val_accuracy: 0.7060\n",
      "Epoch 9/20\n",
      "2025/2025 [==============================] - 39s 19ms/step - loss: 0.7153 - accuracy: 0.7112 - val_loss: 0.6677 - val_accuracy: 0.6899\n",
      "Epoch 10/20\n",
      "2025/2025 [==============================] - 39s 19ms/step - loss: 0.6981 - accuracy: 0.7173 - val_loss: 0.6823 - val_accuracy: 0.6772\n",
      "Epoch 11/20\n",
      "2025/2025 [==============================] - 40s 20ms/step - loss: 0.6865 - accuracy: 0.7215 - val_loss: 0.6591 - val_accuracy: 0.6953\n",
      "250/250 [==============================] - 2s 9ms/step - loss: 0.6551 - accuracy: 0.7079\n",
      "Test dataset accuracy: 0.7078750133514404\n",
      "250/250 [==============================] - 2s 8ms/step\n"
     ]
    },
    {
     "data": {
      "text/plain": "<Figure size 640x480 with 2 Axes>",
      "image/png": "[encoded data removed]"
     },
     "metadata": {},
     "output_type": "display_data"
    }
   ],
   "source": [
    "embedding_dim = 128\n",
    "model = create_RNN(max_length, embedding_dim)\n",
    "model.summary()\n",
    "callbacks = [\n",
    "    keras.callbacks.EarlyStopping(monitor='val_loss', patience=3, min_delta=0.002, restore_best_weights=True),\n",
    "]\n",
    "history = model.fit(train_ds.cache(), epochs=20, validation_data=val_ds.cache(), callbacks=callbacks, class_weight=class_weight)\n",
    "print(f\"Test dataset accuracy: {model.evaluate(test_ds)[1]}\")\n",
    "get_conf_matrix(model)"
   ],
   "metadata": {
    "collapsed": false,
    "ExecuteTime": {
     "end_time": "2024-05-19T18:38:30.558952700Z",
     "start_time": "2024-05-19T18:31:01.279802800Z"
    }
   },
   "id": "811dc9379204510c"
  },
  {
   "cell_type": "markdown",
   "source": [
    "### 3.2. RNN with hyperparameter tuning"
   ],
   "metadata": {
    "collapsed": false
   },
   "id": "f5729d8fab009b6d"
  },
  {
   "cell_type": "code",
   "execution_count": 27,
   "outputs": [],
   "source": [
    "def grid_search_RNN(epochs=20, patience=3):\n",
    "    best_model = None\n",
    "    best_accuracy = 0.0\n",
    "    print(f\"Need to train {len(param_grid_RNN['embedding_dim'])*len(param_grid_RNN['embedding_dim'])*len(param_grid_RNN['optimizer'])} RNNs.\")\n",
    "    count = 0\n",
    "    for embedding_dim in param_grid_RNN['embedding_dim']:\n",
    "        for lstm_unit in param_grid_RNN['lstm_units']:\n",
    "            for optimizer in param_grid_RNN['optimizer']:\n",
    "                model = create_RNN(max_length=max_length,\n",
    "                                   embedding_dim=embedding_dim,\n",
    "                                   lstm_units = lstm_unit,\n",
    "                                   optimizer=optimizer)\n",
    "\n",
    "                callbacks = [\n",
    "                    keras.callbacks.EarlyStopping(monitor='val_loss', patience=patience)\n",
    "                ]\n",
    "\n",
    "                history = model.fit(train_ds.cache(), epochs=epochs,\n",
    "                                    validation_data=val_ds.cache(),\n",
    "                                    callbacks=callbacks,\n",
    "                                    class_weight=class_weight)\n",
    "\n",
    "                val_acc = history.history['val_accuracy'][-1]  # Get last validation accuracy\n",
    "                count+=1\n",
    "                print(f\"{count}/{len(param_grid_RNN['embedding_dim'])*len(param_grid_RNN['embedding_dim'])*len(param_grid_RNN['optimizer'])}\")\n",
    "                if val_acc > best_accuracy:\n",
    "                    best_model = model\n",
    "                    best_accuracy = val_acc\n",
    "    return best_model, best_accuracy\n",
    "\n",
    "# Example usage (assuming you have prepared your train_data and val_data)\n",
    "\n",
    "# Example usage (assuming you have your training data)\n",
    "param_grid_RNN = {\n",
    "    'embedding_dim': [64, 128, 256],\n",
    "    'lstm_units': [16, 32, 64],\n",
    "    'optimizer': ['adam', 'sgd', 'adagrad'],\n",
    "}"
   ],
   "metadata": {
    "collapsed": false,
    "ExecuteTime": {
     "end_time": "2024-05-20T07:19:57.317275800Z",
     "start_time": "2024-05-20T07:19:57.272536500Z"
    }
   },
   "id": "bc68a6ea6a7536d3"
  },
  {
   "cell_type": "code",
   "execution_count": 28,
   "outputs": [
    {
     "name": "stdout",
     "output_type": "stream",
     "text": [
      "Need to train 27 RNNs.\n",
      "Epoch 1/20\n",
      "2025/2025 [==============================] - 65s 30ms/step - loss: 0.7393 - accuracy: 0.7245 - val_loss: 0.5868 - val_accuracy: 0.7472\n",
      "Epoch 2/20\n",
      "2025/2025 [==============================] - 40s 20ms/step - loss: 0.5821 - accuracy: 0.7776 - val_loss: 0.6185 - val_accuracy: 0.7393\n",
      "Epoch 3/20\n",
      "2025/2025 [==============================] - 39s 19ms/step - loss: 0.4955 - accuracy: 0.8141 - val_loss: 0.5636 - val_accuracy: 0.7782\n",
      "Epoch 4/20\n",
      "2025/2025 [==============================] - 40s 20ms/step - loss: 0.4182 - accuracy: 0.8417 - val_loss: 0.5642 - val_accuracy: 0.7940\n",
      "Epoch 5/20\n",
      "2025/2025 [==============================] - 40s 20ms/step - loss: 0.3587 - accuracy: 0.8623 - val_loss: 0.7076 - val_accuracy: 0.7414\n",
      "Epoch 6/20\n",
      "2025/2025 [==============================] - 40s 20ms/step - loss: 0.3125 - accuracy: 0.8796 - val_loss: 0.6078 - val_accuracy: 0.8068\n",
      "1/27\n",
      "Epoch 1/20\n",
      "2025/2025 [==============================] - 53s 25ms/step - loss: 1.0894 - accuracy: 0.4112 - val_loss: 1.0584 - val_accuracy: 0.5854\n",
      "Epoch 2/20\n",
      "2025/2025 [==============================] - 40s 20ms/step - loss: 1.0545 - accuracy: 0.5858 - val_loss: 1.0291 - val_accuracy: 0.5986\n",
      "Epoch 3/20\n",
      "2025/2025 [==============================] - 39s 19ms/step - loss: 1.0265 - accuracy: 0.6082 - val_loss: 1.1155 - val_accuracy: 0.5562\n",
      "Epoch 4/20\n",
      "2025/2025 [==============================] - 40s 20ms/step - loss: 0.9436 - accuracy: 0.6613 - val_loss: 1.1148 - val_accuracy: 0.5838\n",
      "Epoch 5/20\n",
      "2025/2025 [==============================] - 40s 20ms/step - loss: 0.9052 - accuracy: 0.6703 - val_loss: 0.8647 - val_accuracy: 0.6831\n",
      "Epoch 6/20\n",
      "2025/2025 [==============================] - 39s 19ms/step - loss: 0.8231 - accuracy: 0.6956 - val_loss: 0.7803 - val_accuracy: 0.6917\n",
      "Epoch 7/20\n",
      "2025/2025 [==============================] - 39s 19ms/step - loss: 0.7857 - accuracy: 0.7006 - val_loss: 0.7637 - val_accuracy: 0.6896\n",
      "Epoch 8/20\n",
      "2025/2025 [==============================] - 38s 19ms/step - loss: 0.7586 - accuracy: 0.7058 - val_loss: 0.7891 - val_accuracy: 0.6457\n",
      "Epoch 9/20\n",
      "2025/2025 [==============================] - 39s 19ms/step - loss: 0.7374 - accuracy: 0.7101 - val_loss: 0.6971 - val_accuracy: 0.6993\n",
      "Epoch 10/20\n",
      "2025/2025 [==============================] - 38s 19ms/step - loss: 0.7198 - accuracy: 0.7152 - val_loss: 0.7444 - val_accuracy: 0.6657\n",
      "Epoch 11/20\n",
      "2025/2025 [==============================] - 40s 20ms/step - loss: 0.6999 - accuracy: 0.7257 - val_loss: 0.7716 - val_accuracy: 0.6607\n",
      "Epoch 12/20\n",
      "2025/2025 [==============================] - 39s 19ms/step - loss: 0.6852 - accuracy: 0.7309 - val_loss: 0.8405 - val_accuracy: 0.6208\n",
      "2/27\n",
      "Epoch 1/20\n"
     ]
    },
    {
     "name": "stderr",
     "output_type": "stream",
     "text": [
      "2024-05-20 09:32:28.994708: W tensorflow/core/kernels/data/cache_dataset_ops.cc:858] The calling iterator did not fully read the dataset being cached. In order to avoid unexpected truncation of the dataset, the partially cached contents of the dataset  will be discarded. This can happen if you have an input pipeline similar to `dataset.cache().take(k).repeat()`. You should use `dataset.take(k).cache().repeat()` instead.\n"
     ]
    },
    {
     "name": "stdout",
     "output_type": "stream",
     "text": [
      "2025/2025 [==============================] - 59s 28ms/step - loss: 1.0951 - accuracy: 0.5667 - val_loss: 1.0775 - val_accuracy: 0.6435\n",
      "Epoch 2/20\n",
      "2025/2025 [==============================] - 41s 20ms/step - loss: 1.0873 - accuracy: 0.6470 - val_loss: 1.0590 - val_accuracy: 0.6332\n",
      "Epoch 3/20\n",
      "2025/2025 [==============================] - 39s 19ms/step - loss: 1.0719 - accuracy: 0.6260 - val_loss: 1.0368 - val_accuracy: 0.6256\n",
      "Epoch 4/20\n",
      "2025/2025 [==============================] - 39s 19ms/step - loss: 1.0593 - accuracy: 0.6214 - val_loss: 1.0310 - val_accuracy: 0.6207\n",
      "Epoch 5/20\n",
      "2025/2025 [==============================] - 39s 19ms/step - loss: 1.0530 - accuracy: 0.6181 - val_loss: 1.0269 - val_accuracy: 0.6168\n",
      "Epoch 6/20\n",
      "2025/2025 [==============================] - 39s 19ms/step - loss: 1.0483 - accuracy: 0.6176 - val_loss: 1.0221 - val_accuracy: 0.6168\n",
      "Epoch 7/20\n",
      "2025/2025 [==============================] - 40s 20ms/step - loss: 1.0437 - accuracy: 0.6192 - val_loss: 1.0163 - val_accuracy: 0.6187\n",
      "Epoch 8/20\n",
      "2025/2025 [==============================] - 40s 20ms/step - loss: 1.0388 - accuracy: 0.6222 - val_loss: 1.0094 - val_accuracy: 0.6246\n",
      "Epoch 9/20\n",
      "2025/2025 [==============================] - 39s 19ms/step - loss: 1.0331 - accuracy: 0.6277 - val_loss: 1.0010 - val_accuracy: 0.6310\n",
      "Epoch 10/20\n",
      "2025/2025 [==============================] - 38s 19ms/step - loss: 1.0262 - accuracy: 0.6356 - val_loss: 0.9909 - val_accuracy: 0.6379\n",
      "Epoch 11/20\n",
      "2025/2025 [==============================] - 40s 20ms/step - loss: 1.0176 - accuracy: 0.6459 - val_loss: 0.9785 - val_accuracy: 0.6508\n",
      "Epoch 12/20\n",
      "2025/2025 [==============================] - 39s 19ms/step - loss: 1.0060 - accuracy: 0.6615 - val_loss: 0.9632 - val_accuracy: 0.6696\n",
      "Epoch 13/20\n",
      "2025/2025 [==============================] - 39s 19ms/step - loss: 0.9881 - accuracy: 0.6861 - val_loss: 0.9397 - val_accuracy: 0.6997\n",
      "Epoch 14/20\n",
      "2025/2025 [==============================] - 40s 20ms/step - loss: 0.9558 - accuracy: 0.7342 - val_loss: 0.9073 - val_accuracy: 0.7336\n",
      "Epoch 15/20\n",
      "2025/2025 [==============================] - 40s 20ms/step - loss: 0.9300 - accuracy: 0.7610 - val_loss: 0.8730 - val_accuracy: 0.7524\n",
      "Epoch 16/20\n",
      "2025/2025 [==============================] - 41s 20ms/step - loss: 0.9136 - accuracy: 0.7687 - val_loss: 0.8509 - val_accuracy: 0.7590\n",
      "Epoch 17/20\n",
      "2025/2025 [==============================] - 41s 20ms/step - loss: 0.8998 - accuracy: 0.7733 - val_loss: 0.8327 - val_accuracy: 0.7622\n",
      "Epoch 18/20\n",
      "2025/2025 [==============================] - 41s 20ms/step - loss: 0.8877 - accuracy: 0.7758 - val_loss: 0.8167 - val_accuracy: 0.7635\n",
      "Epoch 19/20\n",
      "2025/2025 [==============================] - 39s 19ms/step - loss: 0.8770 - accuracy: 0.7773 - val_loss: 0.8022 - val_accuracy: 0.7681\n",
      "Epoch 20/20\n",
      "2025/2025 [==============================] - 39s 19ms/step - loss: 0.8672 - accuracy: 0.7784 - val_loss: 0.7890 - val_accuracy: 0.7715\n",
      "3/27\n",
      "Epoch 1/20\n",
      "2025/2025 [==============================] - 62s 30ms/step - loss: 0.7462 - accuracy: 0.7139 - val_loss: 0.6411 - val_accuracy: 0.6824\n",
      "Epoch 2/20\n",
      "2025/2025 [==============================] - 39s 19ms/step - loss: 0.5943 - accuracy: 0.7743 - val_loss: 0.5932 - val_accuracy: 0.7431\n",
      "Epoch 3/20\n",
      "2025/2025 [==============================] - 40s 20ms/step - loss: 0.5148 - accuracy: 0.8078 - val_loss: 0.5689 - val_accuracy: 0.7665\n",
      "Epoch 4/20\n",
      "2025/2025 [==============================] - 40s 20ms/step - loss: 0.4333 - accuracy: 0.8350 - val_loss: 0.6477 - val_accuracy: 0.7465\n",
      "Epoch 5/20\n",
      "2025/2025 [==============================] - 42s 21ms/step - loss: 0.3713 - accuracy: 0.8590 - val_loss: 0.6025 - val_accuracy: 0.7856\n",
      "Epoch 6/20\n",
      "2025/2025 [==============================] - 40s 20ms/step - loss: 0.3171 - accuracy: 0.8776 - val_loss: 0.6430 - val_accuracy: 0.7890\n",
      "4/27\n",
      "Epoch 1/20\n",
      "2025/2025 [==============================] - 51s 25ms/step - loss: 1.0893 - accuracy: 0.4575 - val_loss: 1.0411 - val_accuracy: 0.5835\n",
      "Epoch 2/20\n",
      "2025/2025 [==============================] - 39s 19ms/step - loss: 1.0540 - accuracy: 0.5858 - val_loss: 1.0194 - val_accuracy: 0.5917\n",
      "Epoch 3/20\n",
      "2025/2025 [==============================] - 39s 19ms/step - loss: 1.0289 - accuracy: 0.6087 - val_loss: 0.9870 - val_accuracy: 0.5765\n",
      "Epoch 4/20\n",
      "2025/2025 [==============================] - 41s 20ms/step - loss: 0.9376 - accuracy: 0.6660 - val_loss: 0.8939 - val_accuracy: 0.6186\n",
      "Epoch 5/20\n",
      "2025/2025 [==============================] - 39s 19ms/step - loss: 0.8603 - accuracy: 0.6884 - val_loss: 0.8647 - val_accuracy: 0.6254\n",
      "Epoch 6/20\n",
      "2025/2025 [==============================] - 39s 19ms/step - loss: 0.8039 - accuracy: 0.6955 - val_loss: 0.8401 - val_accuracy: 0.6369\n",
      "Epoch 7/20\n",
      "2025/2025 [==============================] - 40s 20ms/step - loss: 0.7709 - accuracy: 0.6991 - val_loss: 0.8141 - val_accuracy: 0.6504\n",
      "Epoch 8/20\n",
      "2025/2025 [==============================] - 41s 20ms/step - loss: 0.7525 - accuracy: 0.7041 - val_loss: 0.8287 - val_accuracy: 0.6254\n",
      "Epoch 9/20\n",
      "2025/2025 [==============================] - 39s 19ms/step - loss: 0.7322 - accuracy: 0.7096 - val_loss: 0.8041 - val_accuracy: 0.6439\n",
      "Epoch 10/20\n",
      "2025/2025 [==============================] - 40s 20ms/step - loss: 0.7148 - accuracy: 0.7150 - val_loss: 0.8236 - val_accuracy: 0.6315\n",
      "Epoch 11/20\n",
      "2025/2025 [==============================] - 39s 19ms/step - loss: 0.7004 - accuracy: 0.7188 - val_loss: 0.8250 - val_accuracy: 0.6318\n",
      "Epoch 12/20\n",
      "2025/2025 [==============================] - 39s 19ms/step - loss: 0.6861 - accuracy: 0.7268 - val_loss: 0.8129 - val_accuracy: 0.6425\n",
      "5/27\n",
      "Epoch 1/20\n",
      "2025/2025 [==============================] - 54s 26ms/step - loss: 1.0957 - accuracy: 0.5847 - val_loss: 1.0845 - val_accuracy: 0.6035\n",
      "Epoch 2/20\n",
      "2025/2025 [==============================] - 39s 19ms/step - loss: 1.0890 - accuracy: 0.6163 - val_loss: 1.0607 - val_accuracy: 0.6036\n",
      "Epoch 3/20\n",
      "2025/2025 [==============================] - 39s 19ms/step - loss: 1.0665 - accuracy: 0.6160 - val_loss: 1.0157 - val_accuracy: 0.6140\n",
      "Epoch 4/20\n",
      "2025/2025 [==============================] - 40s 20ms/step - loss: 1.0514 - accuracy: 0.6062 - val_loss: 1.0201 - val_accuracy: 0.5985\n",
      "Epoch 5/20\n",
      "2025/2025 [==============================] - 40s 20ms/step - loss: 1.0465 - accuracy: 0.6008 - val_loss: 1.0164 - val_accuracy: 0.5981\n",
      "Epoch 6/20\n",
      "2025/2025 [==============================] - 40s 20ms/step - loss: 1.0413 - accuracy: 0.6009 - val_loss: 1.0095 - val_accuracy: 0.6001\n",
      "Epoch 7/20\n",
      "2025/2025 [==============================] - 41s 20ms/step - loss: 1.0349 - accuracy: 0.6060 - val_loss: 0.9999 - val_accuracy: 0.6068\n",
      "Epoch 8/20\n",
      "2025/2025 [==============================] - 40s 20ms/step - loss: 1.0267 - accuracy: 0.6138 - val_loss: 0.9873 - val_accuracy: 0.6182\n",
      "Epoch 9/20\n",
      "2025/2025 [==============================] - 40s 20ms/step - loss: 1.0157 - accuracy: 0.6249 - val_loss: 0.9705 - val_accuracy: 0.6322\n",
      "Epoch 10/20\n",
      "2025/2025 [==============================] - 41s 20ms/step - loss: 0.9999 - accuracy: 0.6434 - val_loss: 0.9462 - val_accuracy: 0.6578\n",
      "Epoch 11/20\n",
      "2025/2025 [==============================] - 41s 20ms/step - loss: 0.9698 - accuracy: 0.6847 - val_loss: 0.8779 - val_accuracy: 0.7319\n",
      "Epoch 12/20\n",
      "2025/2025 [==============================] - 41s 20ms/step - loss: 0.9125 - accuracy: 0.7545 - val_loss: 0.8069 - val_accuracy: 0.7711\n",
      "Epoch 13/20\n",
      "2025/2025 [==============================] - 40s 20ms/step - loss: 0.8855 - accuracy: 0.7650 - val_loss: 0.7827 - val_accuracy: 0.7750\n",
      "Epoch 14/20\n",
      "2025/2025 [==============================] - 41s 20ms/step - loss: 0.8662 - accuracy: 0.7666 - val_loss: 0.7647 - val_accuracy: 0.7722\n",
      "Epoch 15/20\n",
      "2025/2025 [==============================] - 41s 20ms/step - loss: 0.8505 - accuracy: 0.7653 - val_loss: 0.7507 - val_accuracy: 0.7699\n",
      "Epoch 16/20\n",
      "2025/2025 [==============================] - 42s 21ms/step - loss: 0.8372 - accuracy: 0.7615 - val_loss: 0.7398 - val_accuracy: 0.7690\n",
      "Epoch 17/20\n",
      "2025/2025 [==============================] - 40s 20ms/step - loss: 0.8260 - accuracy: 0.7571 - val_loss: 0.7313 - val_accuracy: 0.7651\n",
      "Epoch 18/20\n",
      "2025/2025 [==============================] - 42s 21ms/step - loss: 0.8162 - accuracy: 0.7517 - val_loss: 0.7251 - val_accuracy: 0.7600\n",
      "Epoch 19/20\n",
      "2025/2025 [==============================] - 41s 20ms/step - loss: 0.8078 - accuracy: 0.7464 - val_loss: 0.7207 - val_accuracy: 0.7546\n",
      "Epoch 20/20\n",
      "2025/2025 [==============================] - 42s 21ms/step - loss: 0.8003 - accuracy: 0.7428 - val_loss: 0.7167 - val_accuracy: 0.7486\n",
      "6/27\n",
      "Epoch 1/20\n",
      "2025/2025 [==============================] - 63s 31ms/step - loss: 0.7387 - accuracy: 0.7155 - val_loss: 0.5711 - val_accuracy: 0.7649\n",
      "Epoch 2/20\n",
      "2025/2025 [==============================] - 43s 21ms/step - loss: 0.5907 - accuracy: 0.7786 - val_loss: 0.5175 - val_accuracy: 0.7960\n",
      "Epoch 3/20\n",
      "2025/2025 [==============================] - 41s 20ms/step - loss: 0.5143 - accuracy: 0.8107 - val_loss: 0.5475 - val_accuracy: 0.7897\n",
      "Epoch 4/20\n",
      "2025/2025 [==============================] - 42s 21ms/step - loss: 0.4408 - accuracy: 0.8342 - val_loss: 0.5678 - val_accuracy: 0.7897\n",
      "Epoch 5/20\n",
      "2025/2025 [==============================] - 42s 21ms/step - loss: 0.3657 - accuracy: 0.8603 - val_loss: 0.6014 - val_accuracy: 0.7890\n",
      "7/27\n",
      "Epoch 1/20\n",
      "2025/2025 [==============================] - 51s 24ms/step - loss: 1.0954 - accuracy: 0.4349 - val_loss: 1.0860 - val_accuracy: 0.4636\n",
      "Epoch 2/20\n",
      "2025/2025 [==============================] - 40s 20ms/step - loss: 1.0675 - accuracy: 0.5520 - val_loss: 1.0394 - val_accuracy: 0.5644\n",
      "Epoch 3/20\n",
      "2025/2025 [==============================] - 41s 20ms/step - loss: 1.0506 - accuracy: 0.5739 - val_loss: 1.0206 - val_accuracy: 0.5746\n",
      "Epoch 4/20\n",
      "2025/2025 [==============================] - 40s 20ms/step - loss: 1.0209 - accuracy: 0.6050 - val_loss: 0.9275 - val_accuracy: 0.6086\n",
      "Epoch 5/20\n",
      "2025/2025 [==============================] - 40s 20ms/step - loss: 0.9332 - accuracy: 0.6576 - val_loss: 0.8605 - val_accuracy: 0.6279\n",
      "Epoch 6/20\n",
      "2025/2025 [==============================] - 40s 20ms/step - loss: 0.8545 - accuracy: 0.6942 - val_loss: 0.7520 - val_accuracy: 0.7049\n",
      "Epoch 7/20\n",
      "2025/2025 [==============================] - 40s 20ms/step - loss: 0.8021 - accuracy: 0.7012 - val_loss: 0.7003 - val_accuracy: 0.7138\n",
      "Epoch 8/20\n",
      "2025/2025 [==============================] - 41s 20ms/step - loss: 0.7705 - accuracy: 0.7035 - val_loss: 0.6729 - val_accuracy: 0.7167\n",
      "Epoch 9/20\n",
      "2025/2025 [==============================] - 40s 20ms/step - loss: 0.7490 - accuracy: 0.7078 - val_loss: 0.6577 - val_accuracy: 0.7192\n",
      "Epoch 10/20\n",
      "2025/2025 [==============================] - 40s 20ms/step - loss: 0.7319 - accuracy: 0.7120 - val_loss: 0.6467 - val_accuracy: 0.7194\n",
      "Epoch 11/20\n",
      "2025/2025 [==============================] - 40s 20ms/step - loss: 0.7183 - accuracy: 0.7161 - val_loss: 0.6383 - val_accuracy: 0.7221\n",
      "Epoch 12/20\n",
      "2025/2025 [==============================] - 40s 20ms/step - loss: 0.7033 - accuracy: 0.7197 - val_loss: 0.6228 - val_accuracy: 0.7268\n",
      "Epoch 13/20\n",
      "2025/2025 [==============================] - 40s 20ms/step - loss: 0.6901 - accuracy: 0.7241 - val_loss: 0.6144 - val_accuracy: 0.7321\n",
      "Epoch 14/20\n",
      "2025/2025 [==============================] - 42s 21ms/step - loss: 0.6776 - accuracy: 0.7292 - val_loss: 0.6041 - val_accuracy: 0.7351\n",
      "Epoch 15/20\n",
      "2025/2025 [==============================] - 40s 20ms/step - loss: 0.6650 - accuracy: 0.7359 - val_loss: 0.5951 - val_accuracy: 0.7386\n",
      "Epoch 16/20\n",
      "2025/2025 [==============================] - 40s 20ms/step - loss: 0.6539 - accuracy: 0.7429 - val_loss: 0.5847 - val_accuracy: 0.7481\n",
      "Epoch 17/20\n",
      "2025/2025 [==============================] - 41s 20ms/step - loss: 0.6431 - accuracy: 0.7487 - val_loss: 0.5768 - val_accuracy: 0.7525\n",
      "Epoch 18/20\n",
      "2025/2025 [==============================] - 41s 20ms/step - loss: 0.6352 - accuracy: 0.7523 - val_loss: 0.5763 - val_accuracy: 0.7558\n",
      "Epoch 19/20\n",
      "2025/2025 [==============================] - 40s 20ms/step - loss: 0.6281 - accuracy: 0.7565 - val_loss: 0.5741 - val_accuracy: 0.7578\n",
      "Epoch 20/20\n",
      "2025/2025 [==============================] - 40s 20ms/step - loss: 0.6174 - accuracy: 0.7607 - val_loss: 0.5800 - val_accuracy: 0.7551\n",
      "8/27\n",
      "Epoch 1/20\n",
      "2025/2025 [==============================] - 55s 26ms/step - loss: 1.0977 - accuracy: 0.5939 - val_loss: 1.0896 - val_accuracy: 0.6158\n",
      "Epoch 2/20\n",
      "2025/2025 [==============================] - 41s 20ms/step - loss: 1.0956 - accuracy: 0.6256 - val_loss: 1.0860 - val_accuracy: 0.6181\n",
      "Epoch 3/20\n",
      "2025/2025 [==============================] - 40s 20ms/step - loss: 1.0928 - accuracy: 0.6332 - val_loss: 1.0795 - val_accuracy: 0.6142\n",
      "Epoch 4/20\n",
      "2025/2025 [==============================] - 43s 21ms/step - loss: 1.0844 - accuracy: 0.6143 - val_loss: 1.0409 - val_accuracy: 0.6212\n",
      "Epoch 5/20\n",
      "2025/2025 [==============================] - 42s 21ms/step - loss: 1.0593 - accuracy: 0.6176 - val_loss: 1.0354 - val_accuracy: 0.6071\n",
      "Epoch 6/20\n",
      "2025/2025 [==============================] - 41s 20ms/step - loss: 1.0528 - accuracy: 0.6038 - val_loss: 1.0297 - val_accuracy: 0.5969\n",
      "Epoch 7/20\n",
      "2025/2025 [==============================] - 42s 21ms/step - loss: 1.0483 - accuracy: 0.5993 - val_loss: 1.0225 - val_accuracy: 0.5939\n",
      "Epoch 8/20\n",
      "2025/2025 [==============================] - 43s 21ms/step - loss: 1.0432 - accuracy: 0.5984 - val_loss: 1.0141 - val_accuracy: 0.5954\n",
      "Epoch 9/20\n",
      "2025/2025 [==============================] - 42s 21ms/step - loss: 1.0368 - accuracy: 0.6007 - val_loss: 1.0034 - val_accuracy: 0.6001\n",
      "Epoch 10/20\n",
      "2025/2025 [==============================] - 40s 20ms/step - loss: 1.0280 - accuracy: 0.6062 - val_loss: 0.9882 - val_accuracy: 0.6092\n",
      "Epoch 11/20\n",
      "2025/2025 [==============================] - 40s 20ms/step - loss: 1.0140 - accuracy: 0.6169 - val_loss: 0.9621 - val_accuracy: 0.6254\n",
      "Epoch 12/20\n",
      "2025/2025 [==============================] - 40s 20ms/step - loss: 0.9778 - accuracy: 0.6575 - val_loss: 0.8876 - val_accuracy: 0.7139\n",
      "Epoch 13/20\n",
      "2025/2025 [==============================] - 41s 20ms/step - loss: 0.9065 - accuracy: 0.7466 - val_loss: 0.8237 - val_accuracy: 0.7435\n",
      "Epoch 14/20\n",
      "2025/2025 [==============================] - 39s 19ms/step - loss: 0.8762 - accuracy: 0.7547 - val_loss: 0.7924 - val_accuracy: 0.7474\n",
      "Epoch 15/20\n",
      "2025/2025 [==============================] - 40s 20ms/step - loss: 0.8568 - accuracy: 0.7541 - val_loss: 0.7766 - val_accuracy: 0.7425\n",
      "Epoch 16/20\n",
      "2025/2025 [==============================] - 40s 20ms/step - loss: 0.8419 - accuracy: 0.7522 - val_loss: 0.7662 - val_accuracy: 0.7376\n",
      "Epoch 17/20\n",
      "2025/2025 [==============================] - 41s 20ms/step - loss: 0.8297 - accuracy: 0.7489 - val_loss: 0.7581 - val_accuracy: 0.7344\n",
      "Epoch 18/20\n",
      "2025/2025 [==============================] - 40s 20ms/step - loss: 0.8192 - accuracy: 0.7463 - val_loss: 0.7512 - val_accuracy: 0.7312\n",
      "Epoch 19/20\n",
      "2025/2025 [==============================] - 45s 22ms/step - loss: 0.8100 - accuracy: 0.7438 - val_loss: 0.7449 - val_accuracy: 0.7286\n",
      "Epoch 20/20\n",
      "2025/2025 [==============================] - 43s 21ms/step - loss: 0.8018 - accuracy: 0.7420 - val_loss: 0.7390 - val_accuracy: 0.7279\n",
      "9/27\n",
      "Epoch 1/20\n",
      "2025/2025 [==============================] - 66s 32ms/step - loss: 0.7355 - accuracy: 0.7217 - val_loss: 0.5474 - val_accuracy: 0.7768\n",
      "Epoch 2/20\n",
      "2025/2025 [==============================] - 42s 21ms/step - loss: 0.5743 - accuracy: 0.7833 - val_loss: 0.6104 - val_accuracy: 0.7507\n",
      "Epoch 3/20\n",
      "2025/2025 [==============================] - 42s 21ms/step - loss: 0.4693 - accuracy: 0.8230 - val_loss: 0.5820 - val_accuracy: 0.7701\n",
      "Epoch 4/20\n",
      "2025/2025 [==============================] - 42s 21ms/step - loss: 0.3886 - accuracy: 0.8517 - val_loss: 0.6044 - val_accuracy: 0.7721\n",
      "10/27\n",
      "Epoch 1/20\n",
      "2025/2025 [==============================] - 52s 25ms/step - loss: 1.0794 - accuracy: 0.4656 - val_loss: 1.0354 - val_accuracy: 0.5565\n",
      "Epoch 2/20\n",
      "2025/2025 [==============================] - 41s 20ms/step - loss: 1.0380 - accuracy: 0.5887 - val_loss: 0.9901 - val_accuracy: 0.5969\n",
      "Epoch 3/20\n",
      "2025/2025 [==============================] - 41s 20ms/step - loss: 0.9581 - accuracy: 0.6593 - val_loss: 0.7938 - val_accuracy: 0.7431\n",
      "Epoch 4/20\n",
      "2025/2025 [==============================] - 41s 20ms/step - loss: 0.8621 - accuracy: 0.6985 - val_loss: 0.7197 - val_accuracy: 0.7485\n",
      "Epoch 5/20\n",
      "2025/2025 [==============================] - 41s 20ms/step - loss: 0.8076 - accuracy: 0.7019 - val_loss: 0.6722 - val_accuracy: 0.7407\n",
      "Epoch 6/20\n",
      "2025/2025 [==============================] - 41s 20ms/step - loss: 0.7742 - accuracy: 0.7056 - val_loss: 0.6853 - val_accuracy: 0.7135\n",
      "Epoch 7/20\n",
      "2025/2025 [==============================] - 41s 20ms/step - loss: 0.7516 - accuracy: 0.7097 - val_loss: 0.7077 - val_accuracy: 0.6928\n",
      "Epoch 8/20\n",
      "2025/2025 [==============================] - 40s 20ms/step - loss: 0.7310 - accuracy: 0.7165 - val_loss: 0.7004 - val_accuracy: 0.6847\n",
      "11/27\n",
      "Epoch 1/20\n",
      "2025/2025 [==============================] - 53s 25ms/step - loss: 1.0963 - accuracy: 0.6054 - val_loss: 1.0815 - val_accuracy: 0.6336\n",
      "Epoch 2/20\n",
      "2025/2025 [==============================] - 41s 20ms/step - loss: 1.0919 - accuracy: 0.6182 - val_loss: 1.0706 - val_accuracy: 0.6297\n",
      "Epoch 3/20\n",
      "2025/2025 [==============================] - 42s 21ms/step - loss: 1.0812 - accuracy: 0.6065 - val_loss: 1.0399 - val_accuracy: 0.6135\n",
      "Epoch 4/20\n",
      "2025/2025 [==============================] - 43s 21ms/step - loss: 1.0613 - accuracy: 0.6146 - val_loss: 1.0218 - val_accuracy: 0.6190\n",
      "Epoch 5/20\n",
      "2025/2025 [==============================] - 44s 22ms/step - loss: 1.0514 - accuracy: 0.6137 - val_loss: 1.0202 - val_accuracy: 0.6137\n",
      "Epoch 6/20\n",
      "2025/2025 [==============================] - 41s 20ms/step - loss: 1.0461 - accuracy: 0.6123 - val_loss: 1.0160 - val_accuracy: 0.6126\n",
      "Epoch 7/20\n",
      "2025/2025 [==============================] - 41s 20ms/step - loss: 1.0410 - accuracy: 0.6136 - val_loss: 1.0097 - val_accuracy: 0.6154\n",
      "Epoch 8/20\n",
      "2025/2025 [==============================] - 45s 22ms/step - loss: 1.0352 - accuracy: 0.6175 - val_loss: 1.0014 - val_accuracy: 0.6214\n",
      "Epoch 9/20\n",
      "2025/2025 [==============================] - 45s 22ms/step - loss: 1.0283 - accuracy: 0.6239 - val_loss: 0.9912 - val_accuracy: 0.6306\n",
      "Epoch 10/20\n",
      "2025/2025 [==============================] - 46s 23ms/step - loss: 1.0196 - accuracy: 0.6330 - val_loss: 0.9784 - val_accuracy: 0.6403\n",
      "Epoch 11/20\n",
      "2025/2025 [==============================] - 41s 20ms/step - loss: 1.0080 - accuracy: 0.6462 - val_loss: 0.9625 - val_accuracy: 0.6562\n",
      "Epoch 12/20\n",
      "2025/2025 [==============================] - 45s 22ms/step - loss: 0.9901 - accuracy: 0.6671 - val_loss: 0.9381 - val_accuracy: 0.6908\n",
      "Epoch 13/20\n",
      "2025/2025 [==============================] - 42s 21ms/step - loss: 0.9530 - accuracy: 0.7217 - val_loss: 0.8825 - val_accuracy: 0.7465\n",
      "Epoch 14/20\n",
      "2025/2025 [==============================] - 44s 22ms/step - loss: 0.9208 - accuracy: 0.7567 - val_loss: 0.8436 - val_accuracy: 0.7621\n",
      "Epoch 15/20\n",
      "2025/2025 [==============================] - 43s 21ms/step - loss: 0.9013 - accuracy: 0.7661 - val_loss: 0.8182 - val_accuracy: 0.7694\n",
      "Epoch 16/20\n",
      "2025/2025 [==============================] - 44s 22ms/step - loss: 0.8854 - accuracy: 0.7710 - val_loss: 0.7988 - val_accuracy: 0.7728\n",
      "Epoch 17/20\n",
      "2025/2025 [==============================] - 41s 20ms/step - loss: 0.8718 - accuracy: 0.7741 - val_loss: 0.7830 - val_accuracy: 0.7725\n",
      "Epoch 18/20\n",
      "2025/2025 [==============================] - 46s 23ms/step - loss: 0.8598 - accuracy: 0.7754 - val_loss: 0.7704 - val_accuracy: 0.7726\n",
      "Epoch 19/20\n",
      "2025/2025 [==============================] - 54s 27ms/step - loss: 0.8491 - accuracy: 0.7760 - val_loss: 0.7583 - val_accuracy: 0.7725\n",
      "Epoch 20/20\n",
      "2025/2025 [==============================] - 44s 22ms/step - loss: 0.8396 - accuracy: 0.7761 - val_loss: 0.7486 - val_accuracy: 0.7728\n",
      "12/27\n",
      "Epoch 1/20\n",
      "2025/2025 [==============================] - 71s 34ms/step - loss: 0.7295 - accuracy: 0.7171 - val_loss: 0.7024 - val_accuracy: 0.6833\n",
      "Epoch 2/20\n",
      "2025/2025 [==============================] - 45s 22ms/step - loss: 0.5754 - accuracy: 0.7856 - val_loss: 0.6856 - val_accuracy: 0.7069\n",
      "Epoch 3/20\n",
      "2025/2025 [==============================] - 43s 21ms/step - loss: 0.4677 - accuracy: 0.8257 - val_loss: 0.7374 - val_accuracy: 0.6786\n",
      "Epoch 4/20\n",
      "2025/2025 [==============================] - 44s 22ms/step - loss: 0.3707 - accuracy: 0.8626 - val_loss: 0.6649 - val_accuracy: 0.7536\n",
      "Epoch 5/20\n",
      "2025/2025 [==============================] - 44s 21ms/step - loss: 0.3038 - accuracy: 0.8863 - val_loss: 0.6873 - val_accuracy: 0.7650\n",
      "Epoch 6/20\n",
      "2025/2025 [==============================] - 44s 22ms/step - loss: 0.2549 - accuracy: 0.9049 - val_loss: 0.8015 - val_accuracy: 0.7306\n",
      "Epoch 7/20\n",
      "2025/2025 [==============================] - 44s 22ms/step - loss: 0.2110 - accuracy: 0.9212 - val_loss: 0.9231 - val_accuracy: 0.6963\n",
      "13/27\n",
      "Epoch 1/20\n",
      "2025/2025 [==============================] - 55s 26ms/step - loss: 1.0904 - accuracy: 0.4470 - val_loss: 1.0578 - val_accuracy: 0.5854\n",
      "Epoch 2/20\n",
      "2025/2025 [==============================] - 43s 21ms/step - loss: 1.0500 - accuracy: 0.5839 - val_loss: 1.0287 - val_accuracy: 0.5865\n",
      "Epoch 3/20\n",
      "2025/2025 [==============================] - 44s 22ms/step - loss: 1.0005 - accuracy: 0.6290 - val_loss: 0.8889 - val_accuracy: 0.6672\n",
      "Epoch 4/20\n",
      "2025/2025 [==============================] - 43s 21ms/step - loss: 0.8935 - accuracy: 0.6804 - val_loss: 0.8297 - val_accuracy: 0.6601\n",
      "Epoch 5/20\n",
      "2025/2025 [==============================] - 43s 21ms/step - loss: 0.8257 - accuracy: 0.6971 - val_loss: 0.7626 - val_accuracy: 0.6715\n",
      "Epoch 6/20\n",
      "2025/2025 [==============================] - 42s 21ms/step - loss: 0.7845 - accuracy: 0.7060 - val_loss: 0.7336 - val_accuracy: 0.6851\n",
      "Epoch 7/20\n",
      "2025/2025 [==============================] - 42s 21ms/step - loss: 0.7545 - accuracy: 0.7142 - val_loss: 0.6922 - val_accuracy: 0.7007\n",
      "Epoch 8/20\n",
      "2025/2025 [==============================] - 42s 21ms/step - loss: 0.7338 - accuracy: 0.7200 - val_loss: 0.6301 - val_accuracy: 0.7419\n",
      "Epoch 9/20\n",
      "2025/2025 [==============================] - 42s 21ms/step - loss: 0.7177 - accuracy: 0.7219 - val_loss: 0.6221 - val_accuracy: 0.7425\n",
      "Epoch 10/20\n",
      "2025/2025 [==============================] - 43s 21ms/step - loss: 0.7018 - accuracy: 0.7276 - val_loss: 0.6069 - val_accuracy: 0.7487\n",
      "Epoch 11/20\n",
      "2025/2025 [==============================] - 42s 21ms/step - loss: 0.6868 - accuracy: 0.7325 - val_loss: 0.5915 - val_accuracy: 0.7557\n",
      "Epoch 12/20\n",
      "2025/2025 [==============================] - 43s 21ms/step - loss: 0.6719 - accuracy: 0.7389 - val_loss: 0.5783 - val_accuracy: 0.7665\n",
      "Epoch 13/20\n",
      "2025/2025 [==============================] - 43s 21ms/step - loss: 0.6585 - accuracy: 0.7453 - val_loss: 0.5921 - val_accuracy: 0.7538\n",
      "Epoch 14/20\n",
      "2025/2025 [==============================] - 43s 21ms/step - loss: 0.6477 - accuracy: 0.7509 - val_loss: 0.5664 - val_accuracy: 0.7724\n",
      "Epoch 15/20\n",
      "2025/2025 [==============================] - 42s 21ms/step - loss: 0.6377 - accuracy: 0.7543 - val_loss: 0.5544 - val_accuracy: 0.7769\n",
      "Epoch 16/20\n",
      "2025/2025 [==============================] - 44s 22ms/step - loss: 0.6295 - accuracy: 0.7569 - val_loss: 0.5387 - val_accuracy: 0.7858\n",
      "Epoch 17/20\n",
      "2025/2025 [==============================] - 43s 21ms/step - loss: 0.6194 - accuracy: 0.7613 - val_loss: 0.5370 - val_accuracy: 0.7833\n",
      "Epoch 18/20\n",
      "2025/2025 [==============================] - 43s 21ms/step - loss: 0.6306 - accuracy: 0.7583 - val_loss: 0.5361 - val_accuracy: 0.7878\n",
      "Epoch 19/20\n",
      "2025/2025 [==============================] - 43s 21ms/step - loss: 0.6066 - accuracy: 0.7686 - val_loss: 0.5275 - val_accuracy: 0.7854\n",
      "Epoch 20/20\n",
      "2025/2025 [==============================] - 42s 21ms/step - loss: 0.6003 - accuracy: 0.7698 - val_loss: 0.5205 - val_accuracy: 0.7901\n",
      "14/27\n",
      "Epoch 1/20\n",
      "2025/2025 [==============================] - 57s 27ms/step - loss: 1.0978 - accuracy: 0.4875 - val_loss: 1.0859 - val_accuracy: 0.6129\n",
      "Epoch 2/20\n",
      "2025/2025 [==============================] - 45s 22ms/step - loss: 1.0946 - accuracy: 0.6134 - val_loss: 1.0785 - val_accuracy: 0.6271\n",
      "Epoch 3/20\n",
      "2025/2025 [==============================] - 43s 21ms/step - loss: 1.0893 - accuracy: 0.6181 - val_loss: 1.0601 - val_accuracy: 0.6108\n",
      "Epoch 4/20\n",
      "2025/2025 [==============================] - 43s 21ms/step - loss: 1.0712 - accuracy: 0.6070 - val_loss: 1.0170 - val_accuracy: 0.6021\n",
      "Epoch 5/20\n",
      "2025/2025 [==============================] - 44s 22ms/step - loss: 1.0539 - accuracy: 0.5929 - val_loss: 1.0223 - val_accuracy: 0.5875\n",
      "Epoch 6/20\n",
      "2025/2025 [==============================] - 44s 22ms/step - loss: 1.0485 - accuracy: 0.5863 - val_loss: 1.0205 - val_accuracy: 0.5851\n",
      "Epoch 7/20\n",
      "2025/2025 [==============================] - 43s 21ms/step - loss: 1.0443 - accuracy: 0.5875 - val_loss: 1.0151 - val_accuracy: 0.5871\n",
      "Epoch 8/20\n",
      "2025/2025 [==============================] - 44s 22ms/step - loss: 1.0394 - accuracy: 0.5912 - val_loss: 1.0080 - val_accuracy: 0.5925\n",
      "Epoch 9/20\n",
      "2025/2025 [==============================] - 43s 21ms/step - loss: 1.0336 - accuracy: 0.5971 - val_loss: 0.9990 - val_accuracy: 0.6011\n",
      "Epoch 10/20\n",
      "2025/2025 [==============================] - 43s 21ms/step - loss: 1.0262 - accuracy: 0.6053 - val_loss: 0.9877 - val_accuracy: 0.6121\n",
      "Epoch 11/20\n",
      "2025/2025 [==============================] - 44s 22ms/step - loss: 1.0165 - accuracy: 0.6173 - val_loss: 0.9729 - val_accuracy: 0.6253\n",
      "Epoch 12/20\n",
      "2025/2025 [==============================] - 43s 21ms/step - loss: 1.0023 - accuracy: 0.6368 - val_loss: 0.9519 - val_accuracy: 0.6485\n",
      "Epoch 13/20\n",
      "2025/2025 [==============================] - 43s 21ms/step - loss: 0.9741 - accuracy: 0.6790 - val_loss: 0.8962 - val_accuracy: 0.7246\n",
      "Epoch 14/20\n",
      "2025/2025 [==============================] - 44s 21ms/step - loss: 0.9230 - accuracy: 0.7484 - val_loss: 0.8392 - val_accuracy: 0.7549\n",
      "Epoch 15/20\n",
      "2025/2025 [==============================] - 43s 21ms/step - loss: 0.8968 - accuracy: 0.7579 - val_loss: 0.8123 - val_accuracy: 0.7572\n",
      "Epoch 16/20\n",
      "2025/2025 [==============================] - 43s 21ms/step - loss: 0.8770 - accuracy: 0.7589 - val_loss: 0.7910 - val_accuracy: 0.7560\n",
      "Epoch 17/20\n",
      "2025/2025 [==============================] - 44s 22ms/step - loss: 0.8604 - accuracy: 0.7574 - val_loss: 0.7747 - val_accuracy: 0.7531\n",
      "Epoch 18/20\n",
      "2025/2025 [==============================] - 42s 21ms/step - loss: 0.8464 - accuracy: 0.7547 - val_loss: 0.7608 - val_accuracy: 0.7501\n",
      "Epoch 19/20\n",
      "2025/2025 [==============================] - 44s 22ms/step - loss: 0.8343 - accuracy: 0.7514 - val_loss: 0.7493 - val_accuracy: 0.7469\n",
      "Epoch 20/20\n",
      "2025/2025 [==============================] - 43s 21ms/step - loss: 0.8237 - accuracy: 0.7470 - val_loss: 0.7396 - val_accuracy: 0.7433\n",
      "15/27\n",
      "Epoch 1/20\n",
      "2025/2025 [==============================] - 70s 34ms/step - loss: 0.7389 - accuracy: 0.7209 - val_loss: 0.6012 - val_accuracy: 0.7435\n",
      "Epoch 2/20\n",
      "2025/2025 [==============================] - 46s 23ms/step - loss: 0.5847 - accuracy: 0.7828 - val_loss: 0.5350 - val_accuracy: 0.7829\n",
      "Epoch 3/20\n",
      "2025/2025 [==============================] - 44s 22ms/step - loss: 0.4945 - accuracy: 0.8184 - val_loss: 0.5325 - val_accuracy: 0.7971\n",
      "Epoch 4/20\n",
      "2025/2025 [==============================] - 45s 22ms/step - loss: 0.3957 - accuracy: 0.8528 - val_loss: 0.5690 - val_accuracy: 0.8049\n",
      "Epoch 5/20\n",
      "2025/2025 [==============================] - 45s 22ms/step - loss: 0.3209 - accuracy: 0.8806 - val_loss: 0.6061 - val_accuracy: 0.8115\n",
      "Epoch 6/20\n",
      "2025/2025 [==============================] - 45s 22ms/step - loss: 0.2636 - accuracy: 0.9017 - val_loss: 0.6571 - val_accuracy: 0.8140\n",
      "16/27\n",
      "Epoch 1/20\n",
      "2025/2025 [==============================] - 56s 27ms/step - loss: 1.0807 - accuracy: 0.4767 - val_loss: 1.0409 - val_accuracy: 0.5533\n",
      "Epoch 2/20\n",
      "2025/2025 [==============================] - 43s 21ms/step - loss: 1.0501 - accuracy: 0.5783 - val_loss: 1.0179 - val_accuracy: 0.5742\n",
      "Epoch 3/20\n",
      "2025/2025 [==============================] - 45s 22ms/step - loss: 1.0136 - accuracy: 0.6178 - val_loss: 0.9035 - val_accuracy: 0.6742\n",
      "Epoch 4/20\n",
      "2025/2025 [==============================] - 44s 22ms/step - loss: 0.9099 - accuracy: 0.6698 - val_loss: 0.8165 - val_accuracy: 0.6751\n",
      "Epoch 5/20\n",
      "2025/2025 [==============================] - 43s 21ms/step - loss: 0.8377 - accuracy: 0.6977 - val_loss: 0.7414 - val_accuracy: 0.7050\n",
      "Epoch 6/20\n",
      "2025/2025 [==============================] - 43s 21ms/step - loss: 0.7927 - accuracy: 0.7087 - val_loss: 0.7066 - val_accuracy: 0.7025\n",
      "Epoch 7/20\n",
      "2025/2025 [==============================] - 45s 22ms/step - loss: 0.7647 - accuracy: 0.7114 - val_loss: 0.6853 - val_accuracy: 0.7022\n",
      "Epoch 8/20\n",
      "2025/2025 [==============================] - 43s 21ms/step - loss: 0.7446 - accuracy: 0.7134 - val_loss: 0.6802 - val_accuracy: 0.6988\n",
      "Epoch 9/20\n",
      "2025/2025 [==============================] - 43s 21ms/step - loss: 0.7276 - accuracy: 0.7185 - val_loss: 0.6828 - val_accuracy: 0.6908\n",
      "Epoch 10/20\n",
      "2025/2025 [==============================] - 43s 21ms/step - loss: 0.7136 - accuracy: 0.7209 - val_loss: 0.6682 - val_accuracy: 0.6974\n",
      "Epoch 11/20\n",
      "2025/2025 [==============================] - 43s 21ms/step - loss: 0.7015 - accuracy: 0.7237 - val_loss: 0.6471 - val_accuracy: 0.7099\n",
      "Epoch 12/20\n",
      "2025/2025 [==============================] - 43s 21ms/step - loss: 0.6905 - accuracy: 0.7259 - val_loss: 0.6293 - val_accuracy: 0.7215\n",
      "Epoch 13/20\n",
      "2025/2025 [==============================] - 43s 21ms/step - loss: 0.6803 - accuracy: 0.7289 - val_loss: 0.6106 - val_accuracy: 0.7307\n",
      "Epoch 14/20\n",
      "2025/2025 [==============================] - 44s 22ms/step - loss: 0.6704 - accuracy: 0.7335 - val_loss: 0.6095 - val_accuracy: 0.7293\n",
      "Epoch 15/20\n",
      "2025/2025 [==============================] - 44s 22ms/step - loss: 0.6605 - accuracy: 0.7369 - val_loss: 0.6080 - val_accuracy: 0.7315\n",
      "Epoch 16/20\n",
      "2025/2025 [==============================] - 43s 21ms/step - loss: 0.6513 - accuracy: 0.7409 - val_loss: 0.6104 - val_accuracy: 0.7318\n",
      "Epoch 17/20\n",
      "2025/2025 [==============================] - 44s 22ms/step - loss: 0.6408 - accuracy: 0.7476 - val_loss: 0.6099 - val_accuracy: 0.7329\n",
      "Epoch 18/20\n",
      "2025/2025 [==============================] - 44s 22ms/step - loss: 0.6322 - accuracy: 0.7525 - val_loss: 0.6137 - val_accuracy: 0.7326\n",
      "17/27\n",
      "Epoch 1/20\n",
      "2025/2025 [==============================] - 59s 28ms/step - loss: 1.0973 - accuracy: 0.5325 - val_loss: 1.0878 - val_accuracy: 0.5978\n",
      "Epoch 2/20\n",
      "2025/2025 [==============================] - 43s 21ms/step - loss: 1.0942 - accuracy: 0.6210 - val_loss: 1.0824 - val_accuracy: 0.6068\n",
      "Epoch 3/20\n",
      "2025/2025 [==============================] - 44s 22ms/step - loss: 1.0904 - accuracy: 0.6181 - val_loss: 1.0744 - val_accuracy: 0.5843\n",
      "Epoch 4/20\n",
      "2025/2025 [==============================] - 43s 21ms/step - loss: 1.0820 - accuracy: 0.5892 - val_loss: 1.0438 - val_accuracy: 0.5699\n",
      "Epoch 5/20\n",
      "2025/2025 [==============================] - 44s 22ms/step - loss: 1.0579 - accuracy: 0.5971 - val_loss: 1.0242 - val_accuracy: 0.5828\n",
      "Epoch 6/20\n",
      "2025/2025 [==============================] - 44s 22ms/step - loss: 1.0482 - accuracy: 0.5863 - val_loss: 1.0248 - val_accuracy: 0.5775\n",
      "Epoch 7/20\n",
      "2025/2025 [==============================] - 43s 21ms/step - loss: 1.0433 - accuracy: 0.5853 - val_loss: 1.0178 - val_accuracy: 0.5796\n",
      "Epoch 8/20\n",
      "2025/2025 [==============================] - 43s 21ms/step - loss: 1.0372 - accuracy: 0.5900 - val_loss: 1.0081 - val_accuracy: 0.5881\n",
      "Epoch 9/20\n",
      "2025/2025 [==============================] - 45s 22ms/step - loss: 1.0288 - accuracy: 0.5991 - val_loss: 0.9947 - val_accuracy: 0.6006\n",
      "Epoch 10/20\n",
      "2025/2025 [==============================] - 45s 22ms/step - loss: 1.0160 - accuracy: 0.6145 - val_loss: 0.9738 - val_accuracy: 0.6229\n",
      "Epoch 11/20\n",
      "2025/2025 [==============================] - 43s 21ms/step - loss: 0.9876 - accuracy: 0.6563 - val_loss: 0.9065 - val_accuracy: 0.7222\n",
      "Epoch 12/20\n",
      "2025/2025 [==============================] - 45s 22ms/step - loss: 0.9135 - accuracy: 0.7522 - val_loss: 0.8122 - val_accuracy: 0.7542\n",
      "Epoch 13/20\n",
      "2025/2025 [==============================] - 43s 21ms/step - loss: 0.8751 - accuracy: 0.7579 - val_loss: 0.7898 - val_accuracy: 0.7493\n",
      "Epoch 14/20\n",
      "2025/2025 [==============================] - 43s 21ms/step - loss: 0.8548 - accuracy: 0.7553 - val_loss: 0.7783 - val_accuracy: 0.7412\n",
      "Epoch 15/20\n",
      "2025/2025 [==============================] - 44s 22ms/step - loss: 0.8391 - accuracy: 0.7530 - val_loss: 0.7689 - val_accuracy: 0.7351\n",
      "Epoch 16/20\n",
      "2025/2025 [==============================] - 44s 21ms/step - loss: 0.8259 - accuracy: 0.7503 - val_loss: 0.7606 - val_accuracy: 0.7317\n",
      "Epoch 17/20\n",
      "2025/2025 [==============================] - 44s 22ms/step - loss: 0.8145 - accuracy: 0.7484 - val_loss: 0.7530 - val_accuracy: 0.7283\n",
      "Epoch 18/20\n",
      "2025/2025 [==============================] - 43s 21ms/step - loss: 0.8042 - accuracy: 0.7484 - val_loss: 0.7459 - val_accuracy: 0.7267\n",
      "Epoch 19/20\n",
      "2025/2025 [==============================] - 44s 22ms/step - loss: 0.7949 - accuracy: 0.7487 - val_loss: 0.7393 - val_accuracy: 0.7276\n",
      "Epoch 20/20\n",
      "2025/2025 [==============================] - 43s 21ms/step - loss: 0.7862 - accuracy: 0.7492 - val_loss: 0.7335 - val_accuracy: 0.7275\n",
      "18/27\n",
      "Epoch 1/20\n",
      "2025/2025 [==============================] - 72s 35ms/step - loss: 0.7363 - accuracy: 0.7192 - val_loss: 0.6851 - val_accuracy: 0.6819\n",
      "Epoch 2/20\n",
      "2025/2025 [==============================] - 46s 23ms/step - loss: 0.5523 - accuracy: 0.7930 - val_loss: 0.6521 - val_accuracy: 0.7188\n",
      "Epoch 3/20\n",
      "2025/2025 [==============================] - 47s 23ms/step - loss: 0.4314 - accuracy: 0.8433 - val_loss: 0.6268 - val_accuracy: 0.7524\n",
      "Epoch 4/20\n",
      "2025/2025 [==============================] - 47s 23ms/step - loss: 0.3593 - accuracy: 0.8689 - val_loss: 0.6857 - val_accuracy: 0.7468\n",
      "Epoch 5/20\n",
      "2025/2025 [==============================] - 46s 23ms/step - loss: 0.3204 - accuracy: 0.8830 - val_loss: 0.6332 - val_accuracy: 0.7844\n",
      "Epoch 6/20\n",
      "2025/2025 [==============================] - 46s 23ms/step - loss: 0.2360 - accuracy: 0.9139 - val_loss: 0.7448 - val_accuracy: 0.7718\n",
      "19/27\n",
      "Epoch 1/20\n",
      "2025/2025 [==============================] - 59s 28ms/step - loss: 1.0890 - accuracy: 0.5121 - val_loss: 1.0714 - val_accuracy: 0.3626\n",
      "Epoch 2/20\n",
      "2025/2025 [==============================] - 44s 22ms/step - loss: 1.0469 - accuracy: 0.5849 - val_loss: 1.0136 - val_accuracy: 0.5728\n",
      "Epoch 3/20\n",
      "2025/2025 [==============================] - 44s 22ms/step - loss: 0.9823 - accuracy: 0.6545 - val_loss: 0.8399 - val_accuracy: 0.7175\n",
      "Epoch 4/20\n",
      "2025/2025 [==============================] - 44s 22ms/step - loss: 0.8799 - accuracy: 0.6997 - val_loss: 0.7589 - val_accuracy: 0.7224\n",
      "Epoch 5/20\n",
      "2025/2025 [==============================] - 45s 22ms/step - loss: 0.8223 - accuracy: 0.7074 - val_loss: 0.7495 - val_accuracy: 0.6833\n",
      "Epoch 6/20\n",
      "2025/2025 [==============================] - 44s 22ms/step - loss: 0.7838 - accuracy: 0.7082 - val_loss: 0.7568 - val_accuracy: 0.6508\n",
      "Epoch 7/20\n",
      "2025/2025 [==============================] - 44s 22ms/step - loss: 0.7610 - accuracy: 0.7115 - val_loss: 0.8203 - val_accuracy: 0.6007\n",
      "Epoch 8/20\n",
      "2025/2025 [==============================] - 44s 22ms/step - loss: 0.7399 - accuracy: 0.7168 - val_loss: 0.8193 - val_accuracy: 0.5885\n",
      "20/27\n",
      "Epoch 1/20\n",
      "2025/2025 [==============================] - 57s 28ms/step - loss: 1.0970 - accuracy: 0.6134 - val_loss: 1.0783 - val_accuracy: 0.6354\n",
      "Epoch 2/20\n",
      "2025/2025 [==============================] - 43s 21ms/step - loss: 1.0940 - accuracy: 0.6284 - val_loss: 1.0749 - val_accuracy: 0.6335\n",
      "Epoch 3/20\n",
      "2025/2025 [==============================] - 43s 21ms/step - loss: 1.0907 - accuracy: 0.6198 - val_loss: 1.0700 - val_accuracy: 0.6200\n",
      "Epoch 4/20\n",
      "2025/2025 [==============================] - 43s 21ms/step - loss: 1.0856 - accuracy: 0.5877 - val_loss: 1.0614 - val_accuracy: 0.5646\n",
      "Epoch 5/20\n",
      "2025/2025 [==============================] - 42s 21ms/step - loss: 1.0758 - accuracy: 0.5601 - val_loss: 1.0434 - val_accuracy: 0.5822\n",
      "Epoch 6/20\n",
      "2025/2025 [==============================] - 43s 21ms/step - loss: 1.0576 - accuracy: 0.6054 - val_loss: 1.0200 - val_accuracy: 0.6143\n",
      "Epoch 7/20\n",
      "2025/2025 [==============================] - 43s 21ms/step - loss: 1.0449 - accuracy: 0.6156 - val_loss: 1.0112 - val_accuracy: 0.6171\n",
      "Epoch 8/20\n",
      "2025/2025 [==============================] - 43s 21ms/step - loss: 1.0373 - accuracy: 0.6170 - val_loss: 1.0029 - val_accuracy: 0.6176\n",
      "Epoch 9/20\n",
      "2025/2025 [==============================] - 43s 21ms/step - loss: 1.0291 - accuracy: 0.6199 - val_loss: 0.9908 - val_accuracy: 0.6232\n",
      "Epoch 10/20\n",
      "2025/2025 [==============================] - 42s 21ms/step - loss: 1.0185 - accuracy: 0.6285 - val_loss: 0.9740 - val_accuracy: 0.6319\n",
      "Epoch 11/20\n",
      "2025/2025 [==============================] - 42s 21ms/step - loss: 1.0043 - accuracy: 0.6423 - val_loss: 0.9511 - val_accuracy: 0.6511\n",
      "Epoch 12/20\n",
      "2025/2025 [==============================] - 43s 21ms/step - loss: 0.9822 - accuracy: 0.6679 - val_loss: 0.9207 - val_accuracy: 0.6925\n",
      "Epoch 13/20\n",
      "2025/2025 [==============================] - 44s 22ms/step - loss: 0.9340 - accuracy: 0.7328 - val_loss: 0.8448 - val_accuracy: 0.7579\n",
      "Epoch 14/20\n",
      "2025/2025 [==============================] - 44s 22ms/step - loss: 0.8947 - accuracy: 0.7619 - val_loss: 0.8064 - val_accuracy: 0.7647\n",
      "Epoch 15/20\n",
      "2025/2025 [==============================] - 44s 22ms/step - loss: 0.8716 - accuracy: 0.7681 - val_loss: 0.7783 - val_accuracy: 0.7672\n",
      "Epoch 16/20\n",
      "2025/2025 [==============================] - 43s 21ms/step - loss: 0.8537 - accuracy: 0.7704 - val_loss: 0.7583 - val_accuracy: 0.7654\n",
      "Epoch 17/20\n",
      "2025/2025 [==============================] - 43s 21ms/step - loss: 0.8394 - accuracy: 0.7722 - val_loss: 0.7428 - val_accuracy: 0.7638\n",
      "Epoch 18/20\n",
      "2025/2025 [==============================] - 43s 21ms/step - loss: 0.8277 - accuracy: 0.7726 - val_loss: 0.7312 - val_accuracy: 0.7633\n",
      "Epoch 19/20\n",
      "2025/2025 [==============================] - 44s 22ms/step - loss: 0.8178 - accuracy: 0.7719 - val_loss: 0.7221 - val_accuracy: 0.7628\n",
      "Epoch 20/20\n",
      "2025/2025 [==============================] - 44s 21ms/step - loss: 0.8092 - accuracy: 0.7718 - val_loss: 0.7138 - val_accuracy: 0.7629\n",
      "21/27\n",
      "Epoch 1/20\n",
      "2025/2025 [==============================] - 74s 36ms/step - loss: 0.7311 - accuracy: 0.7223 - val_loss: 0.6030 - val_accuracy: 0.7383\n",
      "Epoch 2/20\n",
      "2025/2025 [==============================] - 45s 22ms/step - loss: 0.5640 - accuracy: 0.7935 - val_loss: 0.5770 - val_accuracy: 0.7593\n",
      "Epoch 3/20\n",
      "2025/2025 [==============================] - 45s 22ms/step - loss: 0.4311 - accuracy: 0.8401 - val_loss: 0.5959 - val_accuracy: 0.7758\n",
      "Epoch 4/20\n",
      "2025/2025 [==============================] - 46s 23ms/step - loss: 0.3342 - accuracy: 0.8764 - val_loss: 0.6195 - val_accuracy: 0.7874\n",
      "Epoch 5/20\n",
      "2025/2025 [==============================] - 43s 21ms/step - loss: 0.2734 - accuracy: 0.8980 - val_loss: 0.6591 - val_accuracy: 0.7865\n",
      "22/27\n",
      "Epoch 1/20\n",
      "2025/2025 [==============================] - 60s 29ms/step - loss: 1.0790 - accuracy: 0.5126 - val_loss: 1.0460 - val_accuracy: 0.5546\n",
      "Epoch 2/20\n",
      "2025/2025 [==============================] - 45s 22ms/step - loss: 1.0438 - accuracy: 0.5828 - val_loss: 1.0155 - val_accuracy: 0.5756\n",
      "Epoch 3/20\n",
      "2025/2025 [==============================] - 44s 22ms/step - loss: 0.9757 - accuracy: 0.6359 - val_loss: 0.9549 - val_accuracy: 0.5667\n",
      "Epoch 4/20\n",
      "2025/2025 [==============================] - 44s 22ms/step - loss: 0.8731 - accuracy: 0.6681 - val_loss: 0.8885 - val_accuracy: 0.5564\n",
      "Epoch 5/20\n",
      "2025/2025 [==============================] - 44s 22ms/step - loss: 0.8097 - accuracy: 0.6794 - val_loss: 0.7980 - val_accuracy: 0.6218\n",
      "Epoch 6/20\n",
      "2025/2025 [==============================] - 46s 23ms/step - loss: 0.7720 - accuracy: 0.6921 - val_loss: 0.7497 - val_accuracy: 0.6514\n",
      "Epoch 7/20\n",
      "2025/2025 [==============================] - 45s 22ms/step - loss: 0.7448 - accuracy: 0.7017 - val_loss: 0.7195 - val_accuracy: 0.6679\n",
      "Epoch 8/20\n",
      "2025/2025 [==============================] - 45s 22ms/step - loss: 0.7230 - accuracy: 0.7086 - val_loss: 0.7060 - val_accuracy: 0.6699\n",
      "Epoch 9/20\n",
      "2025/2025 [==============================] - 45s 22ms/step - loss: 0.7050 - accuracy: 0.7156 - val_loss: 0.6891 - val_accuracy: 0.6806\n",
      "Epoch 10/20\n",
      "2025/2025 [==============================] - 45s 22ms/step - loss: 0.6882 - accuracy: 0.7222 - val_loss: 0.6639 - val_accuracy: 0.6971\n",
      "Epoch 11/20\n",
      "2025/2025 [==============================] - 44s 22ms/step - loss: 0.6747 - accuracy: 0.7298 - val_loss: 0.7037 - val_accuracy: 0.6831\n",
      "Epoch 12/20\n",
      "2025/2025 [==============================] - 45s 22ms/step - loss: 0.6601 - accuracy: 0.7375 - val_loss: 0.6368 - val_accuracy: 0.7165\n",
      "Epoch 13/20\n",
      "2025/2025 [==============================] - 45s 22ms/step - loss: 0.6499 - accuracy: 0.7407 - val_loss: 0.6279 - val_accuracy: 0.7311\n",
      "Epoch 14/20\n",
      "2025/2025 [==============================] - 42s 21ms/step - loss: 0.6370 - accuracy: 0.7476 - val_loss: 0.6300 - val_accuracy: 0.7343\n",
      "Epoch 15/20\n",
      "2025/2025 [==============================] - 43s 21ms/step - loss: 0.6272 - accuracy: 0.7552 - val_loss: 0.7082 - val_accuracy: 0.6867\n",
      "Epoch 16/20\n",
      "2025/2025 [==============================] - 45s 22ms/step - loss: 0.6199 - accuracy: 0.7564 - val_loss: 0.6148 - val_accuracy: 0.7393\n",
      "Epoch 17/20\n",
      "2025/2025 [==============================] - 44s 22ms/step - loss: 0.6118 - accuracy: 0.7594 - val_loss: 0.6160 - val_accuracy: 0.7399\n",
      "Epoch 18/20\n",
      "2025/2025 [==============================] - 43s 21ms/step - loss: 0.6024 - accuracy: 0.7648 - val_loss: 0.6134 - val_accuracy: 0.7426\n",
      "Epoch 19/20\n",
      "2025/2025 [==============================] - 44s 22ms/step - loss: 0.5982 - accuracy: 0.7631 - val_loss: 0.6059 - val_accuracy: 0.7425\n",
      "Epoch 20/20\n",
      "2025/2025 [==============================] - 44s 22ms/step - loss: 0.6011 - accuracy: 0.7647 - val_loss: 0.6047 - val_accuracy: 0.7469\n",
      "23/27\n",
      "Epoch 1/20\n",
      "2025/2025 [==============================] - 58s 28ms/step - loss: 1.0958 - accuracy: 0.5799 - val_loss: 1.0774 - val_accuracy: 0.6454\n",
      "Epoch 2/20\n",
      "2025/2025 [==============================] - 43s 21ms/step - loss: 1.0851 - accuracy: 0.6345 - val_loss: 1.0480 - val_accuracy: 0.6215\n",
      "Epoch 3/20\n",
      "2025/2025 [==============================] - 44s 22ms/step - loss: 1.0596 - accuracy: 0.6122 - val_loss: 1.0271 - val_accuracy: 0.6076\n",
      "Epoch 4/20\n",
      "2025/2025 [==============================] - 44s 22ms/step - loss: 1.0504 - accuracy: 0.6043 - val_loss: 1.0246 - val_accuracy: 0.6012\n",
      "Epoch 5/20\n",
      "2025/2025 [==============================] - 43s 21ms/step - loss: 1.0457 - accuracy: 0.6034 - val_loss: 1.0186 - val_accuracy: 0.6011\n",
      "Epoch 6/20\n",
      "2025/2025 [==============================] - 44s 22ms/step - loss: 1.0405 - accuracy: 0.6062 - val_loss: 1.0109 - val_accuracy: 0.6060\n",
      "Epoch 7/20\n",
      "2025/2025 [==============================] - 42s 21ms/step - loss: 1.0343 - accuracy: 0.6107 - val_loss: 1.0013 - val_accuracy: 0.6142\n",
      "Epoch 8/20\n",
      "2025/2025 [==============================] - 44s 22ms/step - loss: 1.0263 - accuracy: 0.6182 - val_loss: 0.9891 - val_accuracy: 0.6204\n",
      "Epoch 9/20\n",
      "2025/2025 [==============================] - 44s 22ms/step - loss: 1.0154 - accuracy: 0.6302 - val_loss: 0.9725 - val_accuracy: 0.6386\n",
      "Epoch 10/20\n",
      "2025/2025 [==============================] - 43s 21ms/step - loss: 0.9985 - accuracy: 0.6541 - val_loss: 0.9475 - val_accuracy: 0.6749\n",
      "Epoch 11/20\n",
      "2025/2025 [==============================] - 43s 21ms/step - loss: 0.9578 - accuracy: 0.7180 - val_loss: 0.8940 - val_accuracy: 0.7378\n",
      "Epoch 12/20\n",
      "2025/2025 [==============================] - 44s 22ms/step - loss: 0.9156 - accuracy: 0.7548 - val_loss: 0.8620 - val_accuracy: 0.7210\n",
      "Epoch 13/20\n",
      "2025/2025 [==============================] - 43s 21ms/step - loss: 0.8921 - accuracy: 0.7583 - val_loss: 0.8365 - val_accuracy: 0.7192\n",
      "Epoch 14/20\n",
      "2025/2025 [==============================] - 45s 22ms/step - loss: 0.8736 - accuracy: 0.7581 - val_loss: 0.8140 - val_accuracy: 0.7237\n",
      "Epoch 15/20\n",
      "2025/2025 [==============================] - 43s 21ms/step - loss: 0.8580 - accuracy: 0.7575 - val_loss: 0.7948 - val_accuracy: 0.7271\n",
      "Epoch 16/20\n",
      "2025/2025 [==============================] - 43s 21ms/step - loss: 0.8446 - accuracy: 0.7560 - val_loss: 0.7784 - val_accuracy: 0.7296\n",
      "Epoch 17/20\n",
      "2025/2025 [==============================] - 43s 21ms/step - loss: 0.8328 - accuracy: 0.7551 - val_loss: 0.7639 - val_accuracy: 0.7343\n",
      "Epoch 18/20\n",
      "2025/2025 [==============================] - 45s 22ms/step - loss: 0.8223 - accuracy: 0.7546 - val_loss: 0.7516 - val_accuracy: 0.7362\n",
      "Epoch 19/20\n",
      "2025/2025 [==============================] - 43s 21ms/step - loss: 0.8128 - accuracy: 0.7539 - val_loss: 0.7411 - val_accuracy: 0.7375\n",
      "Epoch 20/20\n",
      "2025/2025 [==============================] - 43s 21ms/step - loss: 0.8042 - accuracy: 0.7537 - val_loss: 0.7316 - val_accuracy: 0.7385\n",
      "24/27\n",
      "Epoch 1/20\n",
      "2025/2025 [==============================] - 72s 34ms/step - loss: 0.7374 - accuracy: 0.7221 - val_loss: 0.6035 - val_accuracy: 0.7493\n",
      "Epoch 2/20\n",
      "2025/2025 [==============================] - 42s 21ms/step - loss: 0.5740 - accuracy: 0.7896 - val_loss: 0.6198 - val_accuracy: 0.7497\n",
      "Epoch 3/20\n",
      "2025/2025 [==============================] - 45s 22ms/step - loss: 0.4506 - accuracy: 0.8327 - val_loss: 0.6045 - val_accuracy: 0.7656\n",
      "Epoch 4/20\n",
      "2025/2025 [==============================] - 43s 21ms/step - loss: 0.3515 - accuracy: 0.8693 - val_loss: 0.6272 - val_accuracy: 0.7857\n",
      "25/27\n",
      "Epoch 1/20\n",
      "2025/2025 [==============================] - 59s 28ms/step - loss: 1.0768 - accuracy: 0.4876 - val_loss: 1.0219 - val_accuracy: 0.5900\n",
      "Epoch 2/20\n",
      "2025/2025 [==============================] - 43s 21ms/step - loss: 1.0407 - accuracy: 0.5899 - val_loss: 1.0024 - val_accuracy: 0.6178\n",
      "Epoch 3/20\n",
      "2025/2025 [==============================] - 43s 21ms/step - loss: 0.9606 - accuracy: 0.6569 - val_loss: 0.8547 - val_accuracy: 0.6768\n",
      "Epoch 4/20\n",
      "2025/2025 [==============================] - 45s 22ms/step - loss: 0.8631 - accuracy: 0.6882 - val_loss: 0.7034 - val_accuracy: 0.7624\n",
      "Epoch 5/20\n",
      "2025/2025 [==============================] - 44s 22ms/step - loss: 0.8099 - accuracy: 0.7073 - val_loss: 0.8665 - val_accuracy: 0.6672\n",
      "Epoch 6/20\n",
      "2025/2025 [==============================] - 42s 21ms/step - loss: 0.7731 - accuracy: 0.7106 - val_loss: 0.7665 - val_accuracy: 0.6954\n",
      "Epoch 7/20\n",
      "2025/2025 [==============================] - 43s 21ms/step - loss: 0.7486 - accuracy: 0.7148 - val_loss: 0.7222 - val_accuracy: 0.7064\n",
      "26/27\n",
      "Epoch 1/20\n",
      "2025/2025 [==============================] - 58s 28ms/step - loss: 1.0948 - accuracy: 0.5604 - val_loss: 1.0794 - val_accuracy: 0.6139\n",
      "Epoch 2/20\n",
      "2025/2025 [==============================] - 42s 21ms/step - loss: 1.0868 - accuracy: 0.6065 - val_loss: 1.0553 - val_accuracy: 0.5808\n",
      "Epoch 3/20\n",
      "2025/2025 [==============================] - 45s 22ms/step - loss: 1.0623 - accuracy: 0.5977 - val_loss: 1.0278 - val_accuracy: 0.5851\n",
      "Epoch 4/20\n",
      "2025/2025 [==============================] - 43s 21ms/step - loss: 1.0503 - accuracy: 0.5874 - val_loss: 1.0298 - val_accuracy: 0.5786\n",
      "Epoch 5/20\n",
      "2025/2025 [==============================] - 42s 21ms/step - loss: 1.0456 - accuracy: 0.5869 - val_loss: 1.0237 - val_accuracy: 0.5800\n",
      "Epoch 6/20\n",
      "2025/2025 [==============================] - 44s 22ms/step - loss: 1.0401 - accuracy: 0.5898 - val_loss: 1.0154 - val_accuracy: 0.5854\n",
      "Epoch 7/20\n",
      "2025/2025 [==============================] - 44s 22ms/step - loss: 1.0328 - accuracy: 0.5969 - val_loss: 1.0041 - val_accuracy: 0.5921\n",
      "Epoch 8/20\n",
      "2025/2025 [==============================] - 44s 22ms/step - loss: 1.0224 - accuracy: 0.6081 - val_loss: 0.9875 - val_accuracy: 0.6124\n",
      "Epoch 9/20\n",
      "2025/2025 [==============================] - 44s 22ms/step - loss: 1.0039 - accuracy: 0.6327 - val_loss: 0.9542 - val_accuracy: 0.6550\n",
      "Epoch 10/20\n",
      "2025/2025 [==============================] - 44s 22ms/step - loss: 0.9472 - accuracy: 0.7187 - val_loss: 0.8404 - val_accuracy: 0.7590\n",
      "Epoch 11/20\n",
      "2025/2025 [==============================] - 45s 22ms/step - loss: 0.8911 - accuracy: 0.7532 - val_loss: 0.7983 - val_accuracy: 0.7515\n",
      "Epoch 12/20\n",
      "2025/2025 [==============================] - 45s 22ms/step - loss: 0.8613 - accuracy: 0.7524 - val_loss: 0.7816 - val_accuracy: 0.7412\n",
      "Epoch 13/20\n",
      "2025/2025 [==============================] - 45s 22ms/step - loss: 0.8425 - accuracy: 0.7502 - val_loss: 0.7731 - val_accuracy: 0.7344\n",
      "Epoch 14/20\n",
      "2025/2025 [==============================] - 48s 24ms/step - loss: 0.8277 - accuracy: 0.7476 - val_loss: 0.7650 - val_accuracy: 0.7282\n",
      "Epoch 15/20\n",
      "2025/2025 [==============================] - 46s 23ms/step - loss: 0.8154 - accuracy: 0.7460 - val_loss: 0.7570 - val_accuracy: 0.7242\n",
      "Epoch 16/20\n",
      "2025/2025 [==============================] - 47s 23ms/step - loss: 0.8047 - accuracy: 0.7469 - val_loss: 0.7489 - val_accuracy: 0.7217\n",
      "Epoch 17/20\n",
      "2025/2025 [==============================] - 45s 22ms/step - loss: 0.7953 - accuracy: 0.7475 - val_loss: 0.7413 - val_accuracy: 0.7214\n",
      "Epoch 18/20\n",
      "2025/2025 [==============================] - 45s 22ms/step - loss: 0.7867 - accuracy: 0.7481 - val_loss: 0.7343 - val_accuracy: 0.7219\n",
      "Epoch 19/20\n",
      "2025/2025 [==============================] - 46s 23ms/step - loss: 0.7788 - accuracy: 0.7485 - val_loss: 0.7280 - val_accuracy: 0.7231\n",
      "Epoch 20/20\n",
      "2025/2025 [==============================] - 44s 22ms/step - loss: 0.7714 - accuracy: 0.7494 - val_loss: 0.7224 - val_accuracy: 0.7240\n",
      "27/27\n"
     ]
    }
   ],
   "source": [
    "# %%capture\n",
    "best_RNN, acc_RNN = grid_search_RNN()"
   ],
   "metadata": {
    "collapsed": false,
    "ExecuteTime": {
     "end_time": "2024-05-20T11:38:45.258435800Z",
     "start_time": "2024-05-20T07:20:00.399695Z"
    }
   },
   "id": "9dc314cd24f69bae"
  },
  {
   "cell_type": "code",
   "execution_count": 43,
   "outputs": [
    {
     "name": "stdout",
     "output_type": "stream",
     "text": [
      "Best val accuracy: 0.8140277862548828\n",
      "250/250 [==============================] - 3s 10ms/step - loss: 0.6555 - accuracy: 0.8076\n",
      "Test dataset accuracy: 0.8076249957084656\n",
      "250/250 [==============================] - 2s 8ms/step\n"
     ]
    },
    {
     "data": {
      "text/plain": "<Figure size 640x480 with 2 Axes>",
      "image/png": "[encoded data removed]"
     },
     "metadata": {},
     "output_type": "display_data"
    }
   ],
   "source": [
    "print(f\"Best val accuracy: {acc_RNN}\")\n",
    "print(f\"Test dataset accuracy: {best_RNN.evaluate(test_ds)[1]}\")\n",
    "get_conf_matrix(best_RNN)"
   ],
   "metadata": {
    "collapsed": false,
    "ExecuteTime": {
     "end_time": "2024-05-20T11:54:58.590308900Z",
     "start_time": "2024-05-20T11:54:53.892375600Z"
    }
   },
   "id": "908993389a27936e"
  },
  {
   "cell_type": "code",
   "execution_count": 45,
   "outputs": [],
   "source": [
    "def grid_search_CNN(epochs=30, patience=3):\n",
    "    best_model = None\n",
    "    best_accuracy = 0.0\n",
    "    \n",
    "    for embedding_dim in param_grid_CNN['embedding_dim']:\n",
    "        for dropout_rate in param_grid_CNN['dropout_rate']:\n",
    "            for optimizer in param_grid_CNN['optimizer']:\n",
    "                for activation in param_grid_CNN['activation']:\n",
    "                    model = create_CNN(max_length=max_length,\n",
    "                                       embedding_dim=embedding_dim,\n",
    "                                       dropout_rate=dropout_rate,\n",
    "                                       optimizer=optimizer,\n",
    "                                       activation=activation)\n",
    "\n",
    "                    callbacks = [\n",
    "                        keras.callbacks.EarlyStopping(monitor='val_loss', patience=patience)\n",
    "                    ]\n",
    "\n",
    "                    history = model.fit(train_ds.cache(), epochs=epochs,\n",
    "                                        validation_data=val_ds.cache(),\n",
    "                                        callbacks=callbacks,\n",
    "                                        class_weight=class_weight)\n",
    "\n",
    "                    val_acc = history.history['val_accuracy'][-1]  # Get last validation accuracy\n",
    "                    if val_acc > best_accuracy:\n",
    "                        best_model = model\n",
    "                        best_accuracy = val_acc\n",
    "    return best_model, best_accuracy\n",
    "\n",
    "# Example usage (assuming you have prepared your train_data and val_data)\n",
    "\n",
    "# Example usage (assuming you have your training data)\n",
    "param_grid_CNN = {\n",
    "    'embedding_dim': [64, 128, 256],  \n",
    "    'dropout_rate': [0.2, 0.3, 0.5],  \n",
    "    'optimizer': ['adam', 'sgd'], \n",
    "    'activation': ['relu', 'leaky_relu']  \n",
    "}"
   ],
   "metadata": {
    "collapsed": false,
    "ExecuteTime": {
     "end_time": "2024-05-19T20:17:58.310390600Z",
     "start_time": "2024-05-19T20:17:58.303882700Z"
    }
   },
   "id": "203c7a48d4551f53"
  },
  {
   "cell_type": "code",
   "execution_count": 46,
   "outputs": [
    {
     "name": "stdout",
     "output_type": "stream",
     "text": [
      "Epoch 1/30\n",
      "2025/2025 [==============================] - 39s 19ms/step - loss: 0.8500 - accuracy: 0.6691 - val_loss: 0.6882 - val_accuracy: 0.7058\n",
      "Epoch 2/30\n",
      "2025/2025 [==============================] - 15s 8ms/step - loss: 0.6950 - accuracy: 0.7423 - val_loss: 0.6283 - val_accuracy: 0.7186\n",
      "Epoch 3/30\n",
      "2025/2025 [==============================] - 16s 8ms/step - loss: 0.6112 - accuracy: 0.7758 - val_loss: 0.5662 - val_accuracy: 0.7632\n",
      "Epoch 4/30\n",
      "2025/2025 [==============================] - 16s 8ms/step - loss: 0.5427 - accuracy: 0.8080 - val_loss: 0.6829 - val_accuracy: 0.7239\n",
      "Epoch 5/30\n",
      "2025/2025 [==============================] - 16s 8ms/step - loss: 0.4834 - accuracy: 0.8342 - val_loss: 0.7022 - val_accuracy: 0.7188\n",
      "Epoch 6/30\n",
      "2025/2025 [==============================] - 16s 8ms/step - loss: 0.4336 - accuracy: 0.8544 - val_loss: 0.6836 - val_accuracy: 0.7411\n",
      "Epoch 1/30\n",
      "2025/2025 [==============================] - 38s 18ms/step - loss: 0.8311 - accuracy: 0.6820 - val_loss: 0.6274 - val_accuracy: 0.7349\n",
      "Epoch 2/30\n",
      "2025/2025 [==============================] - 16s 8ms/step - loss: 0.6746 - accuracy: 0.7508 - val_loss: 0.5761 - val_accuracy: 0.7651\n",
      "Epoch 3/30\n",
      "2025/2025 [==============================] - 16s 8ms/step - loss: 0.5943 - accuracy: 0.7830 - val_loss: 0.5480 - val_accuracy: 0.7815\n",
      "Epoch 4/30\n",
      "2025/2025 [==============================] - 16s 8ms/step - loss: 0.5253 - accuracy: 0.8136 - val_loss: 0.5534 - val_accuracy: 0.7950\n",
      "Epoch 5/30\n",
      "2025/2025 [==============================] - 15s 8ms/step - loss: 0.4668 - accuracy: 0.8368 - val_loss: 0.5886 - val_accuracy: 0.7914\n",
      "Epoch 6/30\n",
      "2025/2025 [==============================] - 16s 8ms/step - loss: 0.4174 - accuracy: 0.8582 - val_loss: 0.6288 - val_accuracy: 0.7664\n",
      "Epoch 1/30\n",
      "2025/2025 [==============================] - 26s 13ms/step - loss: 1.1270 - accuracy: 0.3303 - val_loss: 1.0604 - val_accuracy: 0.6396\n",
      "Epoch 2/30\n",
      "2025/2025 [==============================] - 15s 7ms/step - loss: 1.0916 - accuracy: 0.4311 - val_loss: 1.0246 - val_accuracy: 0.6275\n",
      "Epoch 3/30\n",
      "2025/2025 [==============================] - 16s 8ms/step - loss: 1.0702 - accuracy: 0.5289 - val_loss: 1.0273 - val_accuracy: 0.6046\n",
      "Epoch 4/30\n",
      "2025/2025 [==============================] - 15s 8ms/step - loss: 1.0641 - accuracy: 0.5413 - val_loss: 1.0198 - val_accuracy: 0.6040\n",
      "Epoch 5/30\n",
      "2025/2025 [==============================] - 16s 8ms/step - loss: 1.0623 - accuracy: 0.5518 - val_loss: 1.0177 - val_accuracy: 0.6039\n",
      "Epoch 6/30\n",
      "2025/2025 [==============================] - 15s 8ms/step - loss: 1.0603 - accuracy: 0.5536 - val_loss: 1.0180 - val_accuracy: 0.6028\n",
      "Epoch 7/30\n",
      "2025/2025 [==============================] - 15s 7ms/step - loss: 1.0598 - accuracy: 0.5531 - val_loss: 1.0131 - val_accuracy: 0.6064\n",
      "Epoch 8/30\n",
      "2025/2025 [==============================] - 15s 7ms/step - loss: 1.0579 - accuracy: 0.5608 - val_loss: 1.0144 - val_accuracy: 0.6087\n",
      "Epoch 9/30\n",
      "2025/2025 [==============================] - 15s 7ms/step - loss: 1.0470 - accuracy: 0.5772 - val_loss: 0.9640 - val_accuracy: 0.6529\n",
      "Epoch 10/30\n",
      "2025/2025 [==============================] - 16s 8ms/step - loss: 0.9625 - accuracy: 0.6434 - val_loss: 0.8394 - val_accuracy: 0.7003\n",
      "Epoch 11/30\n",
      "2025/2025 [==============================] - 15s 8ms/step - loss: 0.8892 - accuracy: 0.6816 - val_loss: 0.7508 - val_accuracy: 0.7329\n",
      "Epoch 12/30\n",
      "2025/2025 [==============================] - 15s 8ms/step - loss: 0.8390 - accuracy: 0.7033 - val_loss: 0.6903 - val_accuracy: 0.7546\n",
      "Epoch 13/30\n",
      "2025/2025 [==============================] - 16s 8ms/step - loss: 0.7987 - accuracy: 0.7078 - val_loss: 0.6640 - val_accuracy: 0.7357\n",
      "Epoch 14/30\n",
      "2025/2025 [==============================] - 15s 8ms/step - loss: 0.7711 - accuracy: 0.7061 - val_loss: 0.6341 - val_accuracy: 0.7419\n",
      "Epoch 15/30\n",
      "2025/2025 [==============================] - 15s 8ms/step - loss: 0.7457 - accuracy: 0.7075 - val_loss: 0.6113 - val_accuracy: 0.7360\n",
      "Epoch 16/30\n",
      "2025/2025 [==============================] - 16s 8ms/step - loss: 0.7299 - accuracy: 0.7079 - val_loss: 0.6009 - val_accuracy: 0.7386\n",
      "Epoch 17/30\n",
      "2025/2025 [==============================] - 15s 8ms/step - loss: 0.7166 - accuracy: 0.7119 - val_loss: 0.5950 - val_accuracy: 0.7386\n",
      "Epoch 18/30\n",
      "2025/2025 [==============================] - 15s 8ms/step - loss: 0.7068 - accuracy: 0.7117 - val_loss: 0.5948 - val_accuracy: 0.7371\n",
      "Epoch 19/30\n",
      "2025/2025 [==============================] - 16s 8ms/step - loss: 0.6959 - accuracy: 0.7154 - val_loss: 0.5914 - val_accuracy: 0.7417\n",
      "Epoch 20/30\n",
      "2025/2025 [==============================] - 16s 8ms/step - loss: 0.6880 - accuracy: 0.7176 - val_loss: 0.5846 - val_accuracy: 0.7396\n",
      "Epoch 21/30\n",
      "2025/2025 [==============================] - 15s 8ms/step - loss: 0.6804 - accuracy: 0.7200 - val_loss: 0.5785 - val_accuracy: 0.7457\n",
      "Epoch 22/30\n",
      "2025/2025 [==============================] - 15s 8ms/step - loss: 0.6721 - accuracy: 0.7211 - val_loss: 0.5729 - val_accuracy: 0.7490\n",
      "Epoch 23/30\n",
      "2025/2025 [==============================] - 15s 8ms/step - loss: 0.6669 - accuracy: 0.7235 - val_loss: 0.5776 - val_accuracy: 0.7392\n",
      "Epoch 24/30\n",
      "2025/2025 [==============================] - 15s 8ms/step - loss: 0.6601 - accuracy: 0.7238 - val_loss: 0.5749 - val_accuracy: 0.7460\n",
      "Epoch 25/30\n",
      "2025/2025 [==============================] - 16s 8ms/step - loss: 0.6544 - accuracy: 0.7250 - val_loss: 0.5751 - val_accuracy: 0.7392\n",
      "Epoch 1/30\n",
      "2025/2025 [==============================] - 25s 12ms/step - loss: 1.1292 - accuracy: 0.3303 - val_loss: 1.1152 - val_accuracy: 0.0710\n",
      "Epoch 2/30\n",
      "2025/2025 [==============================] - 15s 7ms/step - loss: 1.1113 - accuracy: 0.3337 - val_loss: 1.1188 - val_accuracy: 0.0710\n",
      "Epoch 3/30\n",
      "2025/2025 [==============================] - 15s 8ms/step - loss: 1.0955 - accuracy: 0.3895 - val_loss: 1.0771 - val_accuracy: 0.4994\n",
      "Epoch 4/30\n",
      "2025/2025 [==============================] - 15s 7ms/step - loss: 1.0701 - accuracy: 0.5310 - val_loss: 1.0626 - val_accuracy: 0.5340\n",
      "Epoch 5/30\n",
      "2025/2025 [==============================] - 15s 7ms/step - loss: 1.0626 - accuracy: 0.5452 - val_loss: 1.0600 - val_accuracy: 0.5308\n",
      "Epoch 6/30\n",
      "2025/2025 [==============================] - 15s 8ms/step - loss: 1.0623 - accuracy: 0.5483 - val_loss: 1.0633 - val_accuracy: 0.5254\n",
      "Epoch 7/30\n",
      "2025/2025 [==============================] - 15s 8ms/step - loss: 1.0605 - accuracy: 0.5545 - val_loss: 1.0570 - val_accuracy: 0.5399\n",
      "Epoch 8/30\n",
      "2025/2025 [==============================] - 15s 8ms/step - loss: 1.0596 - accuracy: 0.5570 - val_loss: 1.0551 - val_accuracy: 0.5397\n",
      "Epoch 9/30\n",
      "2025/2025 [==============================] - 15s 8ms/step - loss: 1.0589 - accuracy: 0.5614 - val_loss: 1.0557 - val_accuracy: 0.5368\n",
      "Epoch 10/30\n",
      "2025/2025 [==============================] - 15s 8ms/step - loss: 1.0570 - accuracy: 0.5625 - val_loss: 1.0495 - val_accuracy: 0.5453\n",
      "Epoch 11/30\n",
      "2025/2025 [==============================] - 15s 7ms/step - loss: 1.0498 - accuracy: 0.5750 - val_loss: 1.0116 - val_accuracy: 0.5856\n",
      "Epoch 12/30\n",
      "2025/2025 [==============================] - 15s 7ms/step - loss: 0.9777 - accuracy: 0.6331 - val_loss: 0.8544 - val_accuracy: 0.7022\n",
      "Epoch 13/30\n",
      "2025/2025 [==============================] - 15s 7ms/step - loss: 0.8949 - accuracy: 0.6772 - val_loss: 0.7538 - val_accuracy: 0.7344\n",
      "Epoch 14/30\n",
      "2025/2025 [==============================] - 15s 8ms/step - loss: 0.8408 - accuracy: 0.6962 - val_loss: 0.7058 - val_accuracy: 0.7218\n",
      "Epoch 15/30\n",
      "2025/2025 [==============================] - 15s 7ms/step - loss: 0.7981 - accuracy: 0.7027 - val_loss: 0.6596 - val_accuracy: 0.7275\n",
      "Epoch 16/30\n",
      "2025/2025 [==============================] - 15s 8ms/step - loss: 0.7690 - accuracy: 0.7048 - val_loss: 0.6597 - val_accuracy: 0.7108\n",
      "Epoch 17/30\n",
      "2025/2025 [==============================] - 15s 8ms/step - loss: 0.7454 - accuracy: 0.7069 - val_loss: 0.6412 - val_accuracy: 0.7094\n",
      "Epoch 18/30\n",
      "2025/2025 [==============================] - 15s 8ms/step - loss: 0.7296 - accuracy: 0.7068 - val_loss: 0.6373 - val_accuracy: 0.7083\n",
      "Epoch 19/30\n",
      "2025/2025 [==============================] - 15s 7ms/step - loss: 0.7137 - accuracy: 0.7119 - val_loss: 0.6278 - val_accuracy: 0.7079\n",
      "Epoch 20/30\n",
      "2025/2025 [==============================] - 15s 8ms/step - loss: 0.7076 - accuracy: 0.7098 - val_loss: 0.6151 - val_accuracy: 0.7142\n",
      "Epoch 21/30\n",
      "2025/2025 [==============================] - 15s 7ms/step - loss: 0.6976 - accuracy: 0.7137 - val_loss: 0.6052 - val_accuracy: 0.7186\n",
      "Epoch 22/30\n",
      "2025/2025 [==============================] - 15s 8ms/step - loss: 0.6865 - accuracy: 0.7166 - val_loss: 0.6143 - val_accuracy: 0.7099\n",
      "Epoch 23/30\n",
      "2025/2025 [==============================] - 15s 8ms/step - loss: 0.6793 - accuracy: 0.7169 - val_loss: 0.6375 - val_accuracy: 0.6925\n",
      "Epoch 24/30\n",
      "2025/2025 [==============================] - 16s 8ms/step - loss: 0.6741 - accuracy: 0.7199 - val_loss: 0.6114 - val_accuracy: 0.7135\n",
      "Epoch 1/30\n",
      "2025/2025 [==============================] - 39s 19ms/step - loss: 0.8649 - accuracy: 0.6484 - val_loss: 0.6299 - val_accuracy: 0.7262\n",
      "Epoch 2/30\n",
      "2025/2025 [==============================] - 16s 8ms/step - loss: 0.6810 - accuracy: 0.7483 - val_loss: 0.5653 - val_accuracy: 0.7628\n",
      "Epoch 3/30\n",
      "2025/2025 [==============================] - 16s 8ms/step - loss: 0.5969 - accuracy: 0.7902 - val_loss: 0.5835 - val_accuracy: 0.7628\n",
      "Epoch 4/30\n",
      "2025/2025 [==============================] - 16s 8ms/step - loss: 0.5238 - accuracy: 0.8237 - val_loss: 0.5872 - val_accuracy: 0.7742\n",
      "Epoch 5/30\n",
      "2025/2025 [==============================] - 16s 8ms/step - loss: 0.4616 - accuracy: 0.8496 - val_loss: 0.5851 - val_accuracy: 0.7987\n",
      "Epoch 1/30\n",
      "2025/2025 [==============================] - 38s 18ms/step - loss: 0.8440 - accuracy: 0.6773 - val_loss: 0.6019 - val_accuracy: 0.7425\n",
      "Epoch 2/30\n",
      "2025/2025 [==============================] - 16s 8ms/step - loss: 0.7007 - accuracy: 0.7313 - val_loss: 0.5572 - val_accuracy: 0.7739\n",
      "Epoch 3/30\n",
      "2025/2025 [==============================] - 15s 7ms/step - loss: 0.6325 - accuracy: 0.7607 - val_loss: 0.5731 - val_accuracy: 0.7682\n",
      "Epoch 4/30\n",
      "2025/2025 [==============================] - 16s 8ms/step - loss: 0.5684 - accuracy: 0.7896 - val_loss: 0.6949 - val_accuracy: 0.7246\n",
      "Epoch 5/30\n",
      "2025/2025 [==============================] - 15s 8ms/step - loss: 0.5173 - accuracy: 0.8146 - val_loss: 0.6386 - val_accuracy: 0.7700\n",
      "Epoch 1/30\n",
      "2025/2025 [==============================] - 26s 13ms/step - loss: 1.1313 - accuracy: 0.3432 - val_loss: 1.1477 - val_accuracy: 0.0710\n",
      "Epoch 2/30\n",
      "2025/2025 [==============================] - 15s 7ms/step - loss: 1.0980 - accuracy: 0.3894 - val_loss: 1.1013 - val_accuracy: 0.3492\n",
      "Epoch 3/30\n",
      "2025/2025 [==============================] - 15s 7ms/step - loss: 1.0700 - accuracy: 0.5274 - val_loss: 1.0776 - val_accuracy: 0.4787\n",
      "Epoch 4/30\n",
      "2025/2025 [==============================] - 15s 7ms/step - loss: 1.0637 - accuracy: 0.5445 - val_loss: 1.0758 - val_accuracy: 0.4888\n",
      "Epoch 5/30\n",
      "2025/2025 [==============================] - 15s 7ms/step - loss: 1.0630 - accuracy: 0.5484 - val_loss: 1.0750 - val_accuracy: 0.4860\n",
      "Epoch 6/30\n",
      "2025/2025 [==============================] - 15s 7ms/step - loss: 1.0621 - accuracy: 0.5473 - val_loss: 1.0760 - val_accuracy: 0.4811\n",
      "Epoch 7/30\n",
      "2025/2025 [==============================] - 15s 7ms/step - loss: 1.0610 - accuracy: 0.5551 - val_loss: 1.0706 - val_accuracy: 0.5043\n",
      "Epoch 8/30\n",
      "2025/2025 [==============================] - 15s 7ms/step - loss: 1.0611 - accuracy: 0.5573 - val_loss: 1.0668 - val_accuracy: 0.5049\n",
      "Epoch 9/30\n",
      "2025/2025 [==============================] - 15s 7ms/step - loss: 1.0593 - accuracy: 0.5605 - val_loss: 1.0611 - val_accuracy: 0.5204\n",
      "Epoch 10/30\n",
      "2025/2025 [==============================] - 15s 7ms/step - loss: 1.0565 - accuracy: 0.5700 - val_loss: 1.0462 - val_accuracy: 0.5406\n",
      "Epoch 11/30\n",
      "2025/2025 [==============================] - 15s 7ms/step - loss: 1.0349 - accuracy: 0.5903 - val_loss: 0.9481 - val_accuracy: 0.6114\n",
      "Epoch 12/30\n",
      "2025/2025 [==============================] - 15s 7ms/step - loss: 0.9348 - accuracy: 0.6506 - val_loss: 0.8633 - val_accuracy: 0.6907\n",
      "Epoch 13/30\n",
      "2025/2025 [==============================] - 15s 7ms/step - loss: 0.8620 - accuracy: 0.6819 - val_loss: 0.7805 - val_accuracy: 0.6728\n",
      "Epoch 14/30\n",
      "2025/2025 [==============================] - 15s 7ms/step - loss: 0.8130 - accuracy: 0.6884 - val_loss: 0.7265 - val_accuracy: 0.6931\n",
      "Epoch 15/30\n",
      "2025/2025 [==============================] - 15s 7ms/step - loss: 0.7815 - accuracy: 0.6894 - val_loss: 0.6833 - val_accuracy: 0.6986\n",
      "Epoch 16/30\n",
      "2025/2025 [==============================] - 15s 7ms/step - loss: 0.7560 - accuracy: 0.6938 - val_loss: 0.6716 - val_accuracy: 0.6919\n",
      "Epoch 17/30\n",
      "2025/2025 [==============================] - 15s 7ms/step - loss: 0.7396 - accuracy: 0.6971 - val_loss: 0.6542 - val_accuracy: 0.6946\n",
      "Epoch 18/30\n",
      "2025/2025 [==============================] - 15s 7ms/step - loss: 0.7238 - accuracy: 0.7015 - val_loss: 0.6404 - val_accuracy: 0.7104\n",
      "Epoch 19/30\n",
      "2025/2025 [==============================] - 15s 7ms/step - loss: 0.7118 - accuracy: 0.7054 - val_loss: 0.6294 - val_accuracy: 0.7121\n",
      "Epoch 20/30\n",
      "2025/2025 [==============================] - 15s 7ms/step - loss: 0.7024 - accuracy: 0.7073 - val_loss: 0.6172 - val_accuracy: 0.7132\n",
      "Epoch 21/30\n",
      "2025/2025 [==============================] - 15s 7ms/step - loss: 0.6934 - accuracy: 0.7096 - val_loss: 0.6194 - val_accuracy: 0.7068\n",
      "Epoch 22/30\n",
      "2025/2025 [==============================] - 15s 7ms/step - loss: 0.6874 - accuracy: 0.7100 - val_loss: 0.6205 - val_accuracy: 0.7172\n",
      "Epoch 23/30\n",
      "2025/2025 [==============================] - 15s 7ms/step - loss: 0.6790 - accuracy: 0.7147 - val_loss: 0.6280 - val_accuracy: 0.7107\n",
      "Epoch 1/30\n",
      "2025/2025 [==============================] - 26s 13ms/step - loss: 1.1351 - accuracy: 0.3293 - val_loss: 1.1114 - val_accuracy: 0.0710\n",
      "Epoch 2/30\n",
      "2025/2025 [==============================] - 14s 7ms/step - loss: 1.1096 - accuracy: 0.3276 - val_loss: 1.1070 - val_accuracy: 0.0710\n",
      "Epoch 3/30\n",
      "2025/2025 [==============================] - 15s 7ms/step - loss: 1.1015 - accuracy: 0.3396 - val_loss: 1.1007 - val_accuracy: 0.0710\n",
      "Epoch 4/30\n",
      "2025/2025 [==============================] - 15s 7ms/step - loss: 1.0866 - accuracy: 0.4413 - val_loss: 1.0541 - val_accuracy: 0.5739\n",
      "Epoch 5/30\n",
      "2025/2025 [==============================] - 18s 9ms/step - loss: 1.0674 - accuracy: 0.5516 - val_loss: 1.0513 - val_accuracy: 0.5685\n",
      "Epoch 6/30\n",
      "2025/2025 [==============================] - 15s 7ms/step - loss: 1.0642 - accuracy: 0.5538 - val_loss: 1.0486 - val_accuracy: 0.5507\n",
      "Epoch 7/30\n",
      "2025/2025 [==============================] - 15s 7ms/step - loss: 1.0624 - accuracy: 0.5515 - val_loss: 1.0466 - val_accuracy: 0.5579\n",
      "Epoch 8/30\n",
      "2025/2025 [==============================] - 15s 7ms/step - loss: 1.0618 - accuracy: 0.5557 - val_loss: 1.0394 - val_accuracy: 0.5606\n",
      "Epoch 9/30\n",
      "2025/2025 [==============================] - 14s 7ms/step - loss: 1.0605 - accuracy: 0.5570 - val_loss: 1.0411 - val_accuracy: 0.5650\n",
      "Epoch 10/30\n",
      "2025/2025 [==============================] - 15s 7ms/step - loss: 1.0603 - accuracy: 0.5646 - val_loss: 1.0418 - val_accuracy: 0.5679\n",
      "Epoch 11/30\n",
      "2025/2025 [==============================] - 15s 7ms/step - loss: 1.0578 - accuracy: 0.5708 - val_loss: 1.0315 - val_accuracy: 0.5833\n",
      "Epoch 12/30\n",
      "2025/2025 [==============================] - 15s 8ms/step - loss: 1.0519 - accuracy: 0.5756 - val_loss: 1.0118 - val_accuracy: 0.5939\n",
      "Epoch 13/30\n",
      "2025/2025 [==============================] - 15s 8ms/step - loss: 0.9850 - accuracy: 0.6199 - val_loss: 0.9099 - val_accuracy: 0.6419\n",
      "Epoch 14/30\n",
      "2025/2025 [==============================] - 15s 7ms/step - loss: 0.8927 - accuracy: 0.6720 - val_loss: 1.0952 - val_accuracy: 0.4404\n",
      "Epoch 15/30\n",
      "2025/2025 [==============================] - 15s 7ms/step - loss: 0.8383 - accuracy: 0.6876 - val_loss: 0.9321 - val_accuracy: 0.5429\n",
      "Epoch 16/30\n",
      "2025/2025 [==============================] - 14s 7ms/step - loss: 0.7999 - accuracy: 0.6871 - val_loss: 0.8887 - val_accuracy: 0.5586\n",
      "Epoch 17/30\n",
      "2025/2025 [==============================] - 15s 7ms/step - loss: 0.7750 - accuracy: 0.6898 - val_loss: 0.7777 - val_accuracy: 0.6175\n",
      "Epoch 18/30\n",
      "2025/2025 [==============================] - 15s 7ms/step - loss: 0.7526 - accuracy: 0.6940 - val_loss: 0.8073 - val_accuracy: 0.5982\n",
      "Epoch 19/30\n",
      "2025/2025 [==============================] - 15s 7ms/step - loss: 0.7345 - accuracy: 0.6991 - val_loss: 0.7379 - val_accuracy: 0.6317\n",
      "Epoch 20/30\n",
      "2025/2025 [==============================] - 16s 8ms/step - loss: 0.7240 - accuracy: 0.7024 - val_loss: 0.7881 - val_accuracy: 0.6022\n",
      "Epoch 21/30\n",
      "2025/2025 [==============================] - 15s 7ms/step - loss: 0.7148 - accuracy: 0.7034 - val_loss: 0.7480 - val_accuracy: 0.6176\n",
      "Epoch 22/30\n",
      "2025/2025 [==============================] - 15s 7ms/step - loss: 0.7059 - accuracy: 0.7063 - val_loss: 0.7863 - val_accuracy: 0.5971\n",
      "Epoch 1/30\n",
      "2025/2025 [==============================] - 40s 19ms/step - loss: 0.9075 - accuracy: 0.6477 - val_loss: 0.7045 - val_accuracy: 0.7644\n",
      "Epoch 2/30\n",
      "2025/2025 [==============================] - 16s 8ms/step - loss: 0.7340 - accuracy: 0.7492 - val_loss: 0.6164 - val_accuracy: 0.7778\n",
      "Epoch 3/30\n",
      "2025/2025 [==============================] - 16s 8ms/step - loss: 0.6671 - accuracy: 0.7770 - val_loss: 0.6112 - val_accuracy: 0.7657\n",
      "Epoch 4/30\n",
      "2025/2025 [==============================] - 15s 8ms/step - loss: 0.6024 - accuracy: 0.8061 - val_loss: 0.6057 - val_accuracy: 0.7833\n",
      "Epoch 5/30\n",
      "2025/2025 [==============================] - 16s 8ms/step - loss: 0.5455 - accuracy: 0.8310 - val_loss: 0.6791 - val_accuracy: 0.7825\n",
      "Epoch 6/30\n",
      "2025/2025 [==============================] - 15s 8ms/step - loss: 0.4904 - accuracy: 0.8546 - val_loss: 0.6456 - val_accuracy: 0.7785\n",
      "Epoch 7/30\n",
      "2025/2025 [==============================] - 15s 7ms/step - loss: 0.4452 - accuracy: 0.8723 - val_loss: 0.6225 - val_accuracy: 0.8012\n",
      "Epoch 1/30\n",
      "2025/2025 [==============================] - 40s 19ms/step - loss: 1.0078 - accuracy: 0.4419 - val_loss: 0.6959 - val_accuracy: 0.7392\n",
      "Epoch 2/30\n",
      "2025/2025 [==============================] - 16s 8ms/step - loss: 0.7869 - accuracy: 0.6976 - val_loss: 0.6224 - val_accuracy: 0.7429\n",
      "Epoch 3/30\n",
      "2025/2025 [==============================] - 15s 8ms/step - loss: 0.7339 - accuracy: 0.7091 - val_loss: 0.6229 - val_accuracy: 0.7356\n",
      "Epoch 4/30\n",
      "2025/2025 [==============================] - 15s 8ms/step - loss: 0.6921 - accuracy: 0.7219 - val_loss: 0.6161 - val_accuracy: 0.7126\n",
      "Epoch 5/30\n",
      "2025/2025 [==============================] - 15s 8ms/step - loss: 0.6520 - accuracy: 0.7371 - val_loss: 0.6190 - val_accuracy: 0.7401\n",
      "Epoch 6/30\n",
      "2025/2025 [==============================] - 15s 8ms/step - loss: 0.6137 - accuracy: 0.7567 - val_loss: 0.5896 - val_accuracy: 0.7614\n",
      "Epoch 7/30\n",
      "2025/2025 [==============================] - 15s 8ms/step - loss: 0.5663 - accuracy: 0.7785 - val_loss: 0.5996 - val_accuracy: 0.7539\n",
      "Epoch 8/30\n",
      "2025/2025 [==============================] - 15s 8ms/step - loss: 0.5285 - accuracy: 0.7990 - val_loss: 0.5915 - val_accuracy: 0.7893\n",
      "Epoch 9/30\n",
      "2025/2025 [==============================] - 16s 8ms/step - loss: 0.4931 - accuracy: 0.8158 - val_loss: 0.6377 - val_accuracy: 0.7622\n",
      "Epoch 1/30\n",
      "2025/2025 [==============================] - 27s 13ms/step - loss: 1.1469 - accuracy: 0.3280 - val_loss: 1.0824 - val_accuracy: 0.6624\n",
      "Epoch 2/30\n",
      "2025/2025 [==============================] - 15s 7ms/step - loss: 1.1031 - accuracy: 0.3217 - val_loss: 1.0892 - val_accuracy: 0.6624\n",
      "Epoch 3/30\n",
      "2025/2025 [==============================] - 15s 7ms/step - loss: 1.1012 - accuracy: 0.3218 - val_loss: 1.0874 - val_accuracy: 0.6624\n",
      "Epoch 4/30\n",
      "2025/2025 [==============================] - 15s 7ms/step - loss: 1.1007 - accuracy: 0.3269 - val_loss: 1.0842 - val_accuracy: 0.6624\n",
      "Epoch 1/30\n",
      "2025/2025 [==============================] - 27s 13ms/step - loss: 1.1450 - accuracy: 0.3352 - val_loss: 1.0640 - val_accuracy: 0.6624\n",
      "Epoch 2/30\n",
      "2025/2025 [==============================] - 15s 7ms/step - loss: 1.1035 - accuracy: 0.3249 - val_loss: 1.0649 - val_accuracy: 0.6624\n",
      "Epoch 3/30\n",
      "2025/2025 [==============================] - 15s 7ms/step - loss: 1.1011 - accuracy: 0.3204 - val_loss: 1.0630 - val_accuracy: 0.6624\n",
      "Epoch 4/30\n",
      "2025/2025 [==============================] - 15s 7ms/step - loss: 1.1000 - accuracy: 0.3297 - val_loss: 1.0588 - val_accuracy: 0.6526\n",
      "Epoch 5/30\n",
      "2025/2025 [==============================] - 14s 7ms/step - loss: 1.0908 - accuracy: 0.4271 - val_loss: 1.0184 - val_accuracy: 0.6335\n",
      "Epoch 6/30\n",
      "2025/2025 [==============================] - 15s 7ms/step - loss: 1.0712 - accuracy: 0.5472 - val_loss: 1.0169 - val_accuracy: 0.6237\n",
      "Epoch 7/30\n",
      "2025/2025 [==============================] - 15s 8ms/step - loss: 1.0666 - accuracy: 0.5502 - val_loss: 1.0151 - val_accuracy: 0.6144\n",
      "Epoch 8/30\n",
      "2025/2025 [==============================] - 15s 8ms/step - loss: 1.0651 - accuracy: 0.5517 - val_loss: 1.0067 - val_accuracy: 0.6160\n",
      "Epoch 9/30\n",
      "2025/2025 [==============================] - 15s 8ms/step - loss: 1.0639 - accuracy: 0.5481 - val_loss: 1.0234 - val_accuracy: 0.6092\n",
      "Epoch 10/30\n",
      "2025/2025 [==============================] - 15s 7ms/step - loss: 1.0637 - accuracy: 0.5575 - val_loss: 1.0230 - val_accuracy: 0.6115\n",
      "Epoch 11/30\n",
      "2025/2025 [==============================] - 15s 7ms/step - loss: 1.0629 - accuracy: 0.5630 - val_loss: 1.0196 - val_accuracy: 0.6169\n"
     ]
    }
   ],
   "source": [
    "# %%capture\n",
    "best_CNN, acc_CNN = grid_search_CNN()"
   ],
   "metadata": {
    "collapsed": false,
    "ExecuteTime": {
     "end_time": "2024-05-19T20:58:54.753670600Z",
     "start_time": "2024-05-19T20:17:58.310390600Z"
    }
   },
   "id": "8410bf9ad050c5f9"
  },
  {
   "cell_type": "code",
   "execution_count": null,
   "outputs": [],
   "source": [],
   "metadata": {
    "collapsed": false
   },
   "id": "7756d6ea51741a37"
  },
  {
   "cell_type": "code",
   "execution_count": 41,
   "outputs": [
    {
     "name": "stdout",
     "output_type": "stream",
     "text": [
      "Model: \"model_7\"\n",
      "_________________________________________________________________\n",
      " Layer (type)                Output Shape              Param #   \n",
      "=================================================================\n",
      " input_8 (InputLayer)        [(None, 100)]             0         \n",
      "                                                                 \n",
      " embedding_7 (Embedding)     (None, 100, 128)          1024000   \n",
      "                                                                 \n",
      " conv1d_12 (Conv1D)          (None, 96, 128)           82048     \n",
      "                                                                 \n",
      " max_pooling1d_12 (MaxPooli  (None, 48, 128)           0         \n",
      " ng1D)                                                           \n",
      "                                                                 \n",
      " conv1d_13 (Conv1D)          (None, 48, 64)            32832     \n",
      "                                                                 \n",
      " max_pooling1d_13 (MaxPooli  (None, 24, 64)            0         \n",
      " ng1D)                                                           \n",
      "                                                                 \n",
      " conv1d_14 (Conv1D)          (None, 24, 32)            8224      \n",
      "                                                                 \n",
      " max_pooling1d_14 (MaxPooli  (None, 12, 32)            0         \n",
      " ng1D)                                                           \n",
      "                                                                 \n",
      " conv1d_15 (Conv1D)          (None, 12, 32)            4128      \n",
      "                                                                 \n",
      " max_pooling1d_15 (MaxPooli  (None, 6, 32)             0         \n",
      " ng1D)                                                           \n",
      "                                                                 \n",
      " dense_10 (Dense)            (None, 6, 10)             330       \n",
      "                                                                 \n",
      " dropout_3 (Dropout)         (None, 6, 10)             0         \n",
      "                                                                 \n",
      " flatten_3 (Flatten)         (None, 60)                0         \n",
      "                                                                 \n",
      " dense_11 (Dense)            (None, 3)                 183       \n",
      "                                                                 \n",
      "=================================================================\n",
      "Total params: 1151745 (4.39 MB)\n",
      "Trainable params: 1151745 (4.39 MB)\n",
      "Non-trainable params: 0 (0.00 Byte)\n",
      "_________________________________________________________________\n",
      "Epoch 1/3\n",
      "1419/2025 [====================>.........] - ETA: 9s - loss: 0.8580 - accuracy: 0.6433"
     ]
    },
    {
     "ename": "KeyboardInterrupt",
     "evalue": "",
     "output_type": "error",
     "traceback": [
      "\u001B[0;31m---------------------------------------------------------------------------\u001B[0m",
      "\u001B[0;31mKeyboardInterrupt\u001B[0m                         Traceback (most recent call last)",
      "Cell \u001B[0;32mIn[41], line 9\u001B[0m\n\u001B[1;32m      4\u001B[0m \u001B[38;5;66;03m# Train the model (replace with your training and validation data)\u001B[39;00m\n\u001B[1;32m      5\u001B[0m callbacks \u001B[38;5;241m=\u001B[39m [\n\u001B[1;32m      6\u001B[0m     keras\u001B[38;5;241m.\u001B[39mcallbacks\u001B[38;5;241m.\u001B[39mEarlyStopping(monitor\u001B[38;5;241m=\u001B[39m\u001B[38;5;124m'\u001B[39m\u001B[38;5;124mval_loss\u001B[39m\u001B[38;5;124m'\u001B[39m, patience\u001B[38;5;241m=\u001B[39m\u001B[38;5;241m3\u001B[39m, min_delta\u001B[38;5;241m=\u001B[39m\u001B[38;5;241m0.002\u001B[39m, restore_best_weights\u001B[38;5;241m=\u001B[39m\u001B[38;5;28;01mTrue\u001B[39;00m),\n\u001B[1;32m      7\u001B[0m ]\n\u001B[0;32m----> 9\u001B[0m history \u001B[38;5;241m=\u001B[39m \u001B[43mmodel\u001B[49m\u001B[38;5;241;43m.\u001B[39;49m\u001B[43mfit\u001B[49m\u001B[43m(\u001B[49m\u001B[43mtrain_ds\u001B[49m\u001B[38;5;241;43m.\u001B[39;49m\u001B[43mcache\u001B[49m\u001B[43m(\u001B[49m\u001B[43m)\u001B[49m\u001B[43m,\u001B[49m\u001B[43m \u001B[49m\u001B[43mepochs\u001B[49m\u001B[38;5;241;43m=\u001B[39;49m\u001B[38;5;241;43m3\u001B[39;49m\u001B[43m,\u001B[49m\u001B[43m \u001B[49m\u001B[43mvalidation_data\u001B[49m\u001B[38;5;241;43m=\u001B[39;49m\u001B[43mval_ds\u001B[49m\u001B[38;5;241;43m.\u001B[39;49m\u001B[43mcache\u001B[49m\u001B[43m(\u001B[49m\u001B[43m)\u001B[49m\u001B[43m,\u001B[49m\u001B[43m \u001B[49m\u001B[43mcallbacks\u001B[49m\u001B[38;5;241;43m=\u001B[39;49m\u001B[43mcallbacks\u001B[49m\u001B[43m)\u001B[49m\n\u001B[1;32m     10\u001B[0m model\u001B[38;5;241m.\u001B[39mevaluate(test_ds)\n\u001B[1;32m     11\u001B[0m \u001B[38;5;28mprint\u001B[39m(\u001B[38;5;124mf\u001B[39m\u001B[38;5;124m\"\u001B[39m\u001B[38;5;124mTest dataset accuracy: \u001B[39m\u001B[38;5;132;01m{\u001B[39;00mmodel\u001B[38;5;241m.\u001B[39mevaluate(test_ds)[\u001B[38;5;241m1\u001B[39m]\u001B[38;5;132;01m}\u001B[39;00m\u001B[38;5;124m\"\u001B[39m)\n",
      "File \u001B[0;32m~/anaconda3/envs/myenv/lib/python3.11/site-packages/keras/src/utils/traceback_utils.py:65\u001B[0m, in \u001B[0;36mfilter_traceback.<locals>.error_handler\u001B[0;34m(*args, **kwargs)\u001B[0m\n\u001B[1;32m     63\u001B[0m filtered_tb \u001B[38;5;241m=\u001B[39m \u001B[38;5;28;01mNone\u001B[39;00m\n\u001B[1;32m     64\u001B[0m \u001B[38;5;28;01mtry\u001B[39;00m:\n\u001B[0;32m---> 65\u001B[0m     \u001B[38;5;28;01mreturn\u001B[39;00m \u001B[43mfn\u001B[49m\u001B[43m(\u001B[49m\u001B[38;5;241;43m*\u001B[39;49m\u001B[43margs\u001B[49m\u001B[43m,\u001B[49m\u001B[43m \u001B[49m\u001B[38;5;241;43m*\u001B[39;49m\u001B[38;5;241;43m*\u001B[39;49m\u001B[43mkwargs\u001B[49m\u001B[43m)\u001B[49m\n\u001B[1;32m     66\u001B[0m \u001B[38;5;28;01mexcept\u001B[39;00m \u001B[38;5;167;01mException\u001B[39;00m \u001B[38;5;28;01mas\u001B[39;00m e:\n\u001B[1;32m     67\u001B[0m     filtered_tb \u001B[38;5;241m=\u001B[39m _process_traceback_frames(e\u001B[38;5;241m.\u001B[39m__traceback__)\n",
      "File \u001B[0;32m~/anaconda3/envs/myenv/lib/python3.11/site-packages/keras/src/engine/training.py:1807\u001B[0m, in \u001B[0;36mModel.fit\u001B[0;34m(self, x, y, batch_size, epochs, verbose, callbacks, validation_split, validation_data, shuffle, class_weight, sample_weight, initial_epoch, steps_per_epoch, validation_steps, validation_batch_size, validation_freq, max_queue_size, workers, use_multiprocessing)\u001B[0m\n\u001B[1;32m   1799\u001B[0m \u001B[38;5;28;01mwith\u001B[39;00m tf\u001B[38;5;241m.\u001B[39mprofiler\u001B[38;5;241m.\u001B[39mexperimental\u001B[38;5;241m.\u001B[39mTrace(\n\u001B[1;32m   1800\u001B[0m     \u001B[38;5;124m\"\u001B[39m\u001B[38;5;124mtrain\u001B[39m\u001B[38;5;124m\"\u001B[39m,\n\u001B[1;32m   1801\u001B[0m     epoch_num\u001B[38;5;241m=\u001B[39mepoch,\n\u001B[0;32m   (...)\u001B[0m\n\u001B[1;32m   1804\u001B[0m     _r\u001B[38;5;241m=\u001B[39m\u001B[38;5;241m1\u001B[39m,\n\u001B[1;32m   1805\u001B[0m ):\n\u001B[1;32m   1806\u001B[0m     callbacks\u001B[38;5;241m.\u001B[39mon_train_batch_begin(step)\n\u001B[0;32m-> 1807\u001B[0m     tmp_logs \u001B[38;5;241m=\u001B[39m \u001B[38;5;28;43mself\u001B[39;49m\u001B[38;5;241;43m.\u001B[39;49m\u001B[43mtrain_function\u001B[49m\u001B[43m(\u001B[49m\u001B[43miterator\u001B[49m\u001B[43m)\u001B[49m\n\u001B[1;32m   1808\u001B[0m     \u001B[38;5;28;01mif\u001B[39;00m data_handler\u001B[38;5;241m.\u001B[39mshould_sync:\n\u001B[1;32m   1809\u001B[0m         context\u001B[38;5;241m.\u001B[39masync_wait()\n",
      "File \u001B[0;32m~/anaconda3/envs/myenv/lib/python3.11/site-packages/tensorflow/python/util/traceback_utils.py:150\u001B[0m, in \u001B[0;36mfilter_traceback.<locals>.error_handler\u001B[0;34m(*args, **kwargs)\u001B[0m\n\u001B[1;32m    148\u001B[0m filtered_tb \u001B[38;5;241m=\u001B[39m \u001B[38;5;28;01mNone\u001B[39;00m\n\u001B[1;32m    149\u001B[0m \u001B[38;5;28;01mtry\u001B[39;00m:\n\u001B[0;32m--> 150\u001B[0m   \u001B[38;5;28;01mreturn\u001B[39;00m \u001B[43mfn\u001B[49m\u001B[43m(\u001B[49m\u001B[38;5;241;43m*\u001B[39;49m\u001B[43margs\u001B[49m\u001B[43m,\u001B[49m\u001B[43m \u001B[49m\u001B[38;5;241;43m*\u001B[39;49m\u001B[38;5;241;43m*\u001B[39;49m\u001B[43mkwargs\u001B[49m\u001B[43m)\u001B[49m\n\u001B[1;32m    151\u001B[0m \u001B[38;5;28;01mexcept\u001B[39;00m \u001B[38;5;167;01mException\u001B[39;00m \u001B[38;5;28;01mas\u001B[39;00m e:\n\u001B[1;32m    152\u001B[0m   filtered_tb \u001B[38;5;241m=\u001B[39m _process_traceback_frames(e\u001B[38;5;241m.\u001B[39m__traceback__)\n",
      "File \u001B[0;32m~/anaconda3/envs/myenv/lib/python3.11/site-packages/tensorflow/python/eager/polymorphic_function/polymorphic_function.py:832\u001B[0m, in \u001B[0;36mFunction.__call__\u001B[0;34m(self, *args, **kwds)\u001B[0m\n\u001B[1;32m    829\u001B[0m compiler \u001B[38;5;241m=\u001B[39m \u001B[38;5;124m\"\u001B[39m\u001B[38;5;124mxla\u001B[39m\u001B[38;5;124m\"\u001B[39m \u001B[38;5;28;01mif\u001B[39;00m \u001B[38;5;28mself\u001B[39m\u001B[38;5;241m.\u001B[39m_jit_compile \u001B[38;5;28;01melse\u001B[39;00m \u001B[38;5;124m\"\u001B[39m\u001B[38;5;124mnonXla\u001B[39m\u001B[38;5;124m\"\u001B[39m\n\u001B[1;32m    831\u001B[0m \u001B[38;5;28;01mwith\u001B[39;00m OptionalXlaContext(\u001B[38;5;28mself\u001B[39m\u001B[38;5;241m.\u001B[39m_jit_compile):\n\u001B[0;32m--> 832\u001B[0m   result \u001B[38;5;241m=\u001B[39m \u001B[38;5;28;43mself\u001B[39;49m\u001B[38;5;241;43m.\u001B[39;49m\u001B[43m_call\u001B[49m\u001B[43m(\u001B[49m\u001B[38;5;241;43m*\u001B[39;49m\u001B[43margs\u001B[49m\u001B[43m,\u001B[49m\u001B[43m \u001B[49m\u001B[38;5;241;43m*\u001B[39;49m\u001B[38;5;241;43m*\u001B[39;49m\u001B[43mkwds\u001B[49m\u001B[43m)\u001B[49m\n\u001B[1;32m    834\u001B[0m new_tracing_count \u001B[38;5;241m=\u001B[39m \u001B[38;5;28mself\u001B[39m\u001B[38;5;241m.\u001B[39mexperimental_get_tracing_count()\n\u001B[1;32m    835\u001B[0m without_tracing \u001B[38;5;241m=\u001B[39m (tracing_count \u001B[38;5;241m==\u001B[39m new_tracing_count)\n",
      "File \u001B[0;32m~/anaconda3/envs/myenv/lib/python3.11/site-packages/tensorflow/python/eager/polymorphic_function/polymorphic_function.py:868\u001B[0m, in \u001B[0;36mFunction._call\u001B[0;34m(self, *args, **kwds)\u001B[0m\n\u001B[1;32m    865\u001B[0m   \u001B[38;5;28mself\u001B[39m\u001B[38;5;241m.\u001B[39m_lock\u001B[38;5;241m.\u001B[39mrelease()\n\u001B[1;32m    866\u001B[0m   \u001B[38;5;66;03m# In this case we have created variables on the first call, so we run the\u001B[39;00m\n\u001B[1;32m    867\u001B[0m   \u001B[38;5;66;03m# defunned version which is guaranteed to never create variables.\u001B[39;00m\n\u001B[0;32m--> 868\u001B[0m   \u001B[38;5;28;01mreturn\u001B[39;00m \u001B[43mtracing_compilation\u001B[49m\u001B[38;5;241;43m.\u001B[39;49m\u001B[43mcall_function\u001B[49m\u001B[43m(\u001B[49m\n\u001B[1;32m    869\u001B[0m \u001B[43m      \u001B[49m\u001B[43margs\u001B[49m\u001B[43m,\u001B[49m\u001B[43m \u001B[49m\u001B[43mkwds\u001B[49m\u001B[43m,\u001B[49m\u001B[43m \u001B[49m\u001B[38;5;28;43mself\u001B[39;49m\u001B[38;5;241;43m.\u001B[39;49m\u001B[43m_no_variable_creation_config\u001B[49m\n\u001B[1;32m    870\u001B[0m \u001B[43m  \u001B[49m\u001B[43m)\u001B[49m\n\u001B[1;32m    871\u001B[0m \u001B[38;5;28;01melif\u001B[39;00m \u001B[38;5;28mself\u001B[39m\u001B[38;5;241m.\u001B[39m_variable_creation_config \u001B[38;5;129;01mis\u001B[39;00m \u001B[38;5;129;01mnot\u001B[39;00m \u001B[38;5;28;01mNone\u001B[39;00m:\n\u001B[1;32m    872\u001B[0m   \u001B[38;5;66;03m# Release the lock early so that multiple threads can perform the call\u001B[39;00m\n\u001B[1;32m    873\u001B[0m   \u001B[38;5;66;03m# in parallel.\u001B[39;00m\n\u001B[1;32m    874\u001B[0m   \u001B[38;5;28mself\u001B[39m\u001B[38;5;241m.\u001B[39m_lock\u001B[38;5;241m.\u001B[39mrelease()\n",
      "File \u001B[0;32m~/anaconda3/envs/myenv/lib/python3.11/site-packages/tensorflow/python/eager/polymorphic_function/tracing_compilation.py:139\u001B[0m, in \u001B[0;36mcall_function\u001B[0;34m(args, kwargs, tracing_options)\u001B[0m\n\u001B[1;32m    137\u001B[0m bound_args \u001B[38;5;241m=\u001B[39m function\u001B[38;5;241m.\u001B[39mfunction_type\u001B[38;5;241m.\u001B[39mbind(\u001B[38;5;241m*\u001B[39margs, \u001B[38;5;241m*\u001B[39m\u001B[38;5;241m*\u001B[39mkwargs)\n\u001B[1;32m    138\u001B[0m flat_inputs \u001B[38;5;241m=\u001B[39m function\u001B[38;5;241m.\u001B[39mfunction_type\u001B[38;5;241m.\u001B[39munpack_inputs(bound_args)\n\u001B[0;32m--> 139\u001B[0m \u001B[38;5;28;01mreturn\u001B[39;00m \u001B[43mfunction\u001B[49m\u001B[38;5;241;43m.\u001B[39;49m\u001B[43m_call_flat\u001B[49m\u001B[43m(\u001B[49m\u001B[43m  \u001B[49m\u001B[38;5;66;43;03m# pylint: disable=protected-access\u001B[39;49;00m\n\u001B[1;32m    140\u001B[0m \u001B[43m    \u001B[49m\u001B[43mflat_inputs\u001B[49m\u001B[43m,\u001B[49m\u001B[43m \u001B[49m\u001B[43mcaptured_inputs\u001B[49m\u001B[38;5;241;43m=\u001B[39;49m\u001B[43mfunction\u001B[49m\u001B[38;5;241;43m.\u001B[39;49m\u001B[43mcaptured_inputs\u001B[49m\n\u001B[1;32m    141\u001B[0m \u001B[43m\u001B[49m\u001B[43m)\u001B[49m\n",
      "File \u001B[0;32m~/anaconda3/envs/myenv/lib/python3.11/site-packages/tensorflow/python/eager/polymorphic_function/concrete_function.py:1323\u001B[0m, in \u001B[0;36mConcreteFunction._call_flat\u001B[0;34m(self, tensor_inputs, captured_inputs)\u001B[0m\n\u001B[1;32m   1319\u001B[0m possible_gradient_type \u001B[38;5;241m=\u001B[39m gradients_util\u001B[38;5;241m.\u001B[39mPossibleTapeGradientTypes(args)\n\u001B[1;32m   1320\u001B[0m \u001B[38;5;28;01mif\u001B[39;00m (possible_gradient_type \u001B[38;5;241m==\u001B[39m gradients_util\u001B[38;5;241m.\u001B[39mPOSSIBLE_GRADIENT_TYPES_NONE\n\u001B[1;32m   1321\u001B[0m     \u001B[38;5;129;01mand\u001B[39;00m executing_eagerly):\n\u001B[1;32m   1322\u001B[0m   \u001B[38;5;66;03m# No tape is watching; skip to running the function.\u001B[39;00m\n\u001B[0;32m-> 1323\u001B[0m   \u001B[38;5;28;01mreturn\u001B[39;00m \u001B[38;5;28;43mself\u001B[39;49m\u001B[38;5;241;43m.\u001B[39;49m\u001B[43m_inference_function\u001B[49m\u001B[38;5;241;43m.\u001B[39;49m\u001B[43mcall_preflattened\u001B[49m\u001B[43m(\u001B[49m\u001B[43margs\u001B[49m\u001B[43m)\u001B[49m\n\u001B[1;32m   1324\u001B[0m forward_backward \u001B[38;5;241m=\u001B[39m \u001B[38;5;28mself\u001B[39m\u001B[38;5;241m.\u001B[39m_select_forward_and_backward_functions(\n\u001B[1;32m   1325\u001B[0m     args,\n\u001B[1;32m   1326\u001B[0m     possible_gradient_type,\n\u001B[1;32m   1327\u001B[0m     executing_eagerly)\n\u001B[1;32m   1328\u001B[0m forward_function, args_with_tangents \u001B[38;5;241m=\u001B[39m forward_backward\u001B[38;5;241m.\u001B[39mforward()\n",
      "File \u001B[0;32m~/anaconda3/envs/myenv/lib/python3.11/site-packages/tensorflow/python/eager/polymorphic_function/atomic_function.py:216\u001B[0m, in \u001B[0;36mAtomicFunction.call_preflattened\u001B[0;34m(self, args)\u001B[0m\n\u001B[1;32m    214\u001B[0m \u001B[38;5;28;01mdef\u001B[39;00m \u001B[38;5;21mcall_preflattened\u001B[39m(\u001B[38;5;28mself\u001B[39m, args: Sequence[core\u001B[38;5;241m.\u001B[39mTensor]) \u001B[38;5;241m-\u001B[39m\u001B[38;5;241m>\u001B[39m Any:\n\u001B[1;32m    215\u001B[0m \u001B[38;5;250m  \u001B[39m\u001B[38;5;124;03m\"\"\"Calls with flattened tensor inputs and returns the structured output.\"\"\"\u001B[39;00m\n\u001B[0;32m--> 216\u001B[0m   flat_outputs \u001B[38;5;241m=\u001B[39m \u001B[38;5;28;43mself\u001B[39;49m\u001B[38;5;241;43m.\u001B[39;49m\u001B[43mcall_flat\u001B[49m\u001B[43m(\u001B[49m\u001B[38;5;241;43m*\u001B[39;49m\u001B[43margs\u001B[49m\u001B[43m)\u001B[49m\n\u001B[1;32m    217\u001B[0m   \u001B[38;5;28;01mreturn\u001B[39;00m \u001B[38;5;28mself\u001B[39m\u001B[38;5;241m.\u001B[39mfunction_type\u001B[38;5;241m.\u001B[39mpack_output(flat_outputs)\n",
      "File \u001B[0;32m~/anaconda3/envs/myenv/lib/python3.11/site-packages/tensorflow/python/eager/polymorphic_function/atomic_function.py:251\u001B[0m, in \u001B[0;36mAtomicFunction.call_flat\u001B[0;34m(self, *args)\u001B[0m\n\u001B[1;32m    249\u001B[0m \u001B[38;5;28;01mwith\u001B[39;00m record\u001B[38;5;241m.\u001B[39mstop_recording():\n\u001B[1;32m    250\u001B[0m   \u001B[38;5;28;01mif\u001B[39;00m \u001B[38;5;28mself\u001B[39m\u001B[38;5;241m.\u001B[39m_bound_context\u001B[38;5;241m.\u001B[39mexecuting_eagerly():\n\u001B[0;32m--> 251\u001B[0m     outputs \u001B[38;5;241m=\u001B[39m \u001B[38;5;28;43mself\u001B[39;49m\u001B[38;5;241;43m.\u001B[39;49m\u001B[43m_bound_context\u001B[49m\u001B[38;5;241;43m.\u001B[39;49m\u001B[43mcall_function\u001B[49m\u001B[43m(\u001B[49m\n\u001B[1;32m    252\u001B[0m \u001B[43m        \u001B[49m\u001B[38;5;28;43mself\u001B[39;49m\u001B[38;5;241;43m.\u001B[39;49m\u001B[43mname\u001B[49m\u001B[43m,\u001B[49m\n\u001B[1;32m    253\u001B[0m \u001B[43m        \u001B[49m\u001B[38;5;28;43mlist\u001B[39;49m\u001B[43m(\u001B[49m\u001B[43margs\u001B[49m\u001B[43m)\u001B[49m\u001B[43m,\u001B[49m\n\u001B[1;32m    254\u001B[0m \u001B[43m        \u001B[49m\u001B[38;5;28;43mlen\u001B[39;49m\u001B[43m(\u001B[49m\u001B[38;5;28;43mself\u001B[39;49m\u001B[38;5;241;43m.\u001B[39;49m\u001B[43mfunction_type\u001B[49m\u001B[38;5;241;43m.\u001B[39;49m\u001B[43mflat_outputs\u001B[49m\u001B[43m)\u001B[49m\u001B[43m,\u001B[49m\n\u001B[1;32m    255\u001B[0m \u001B[43m    \u001B[49m\u001B[43m)\u001B[49m\n\u001B[1;32m    256\u001B[0m   \u001B[38;5;28;01melse\u001B[39;00m:\n\u001B[1;32m    257\u001B[0m     outputs \u001B[38;5;241m=\u001B[39m make_call_op_in_graph(\n\u001B[1;32m    258\u001B[0m         \u001B[38;5;28mself\u001B[39m,\n\u001B[1;32m    259\u001B[0m         \u001B[38;5;28mlist\u001B[39m(args),\n\u001B[1;32m    260\u001B[0m         \u001B[38;5;28mself\u001B[39m\u001B[38;5;241m.\u001B[39m_bound_context\u001B[38;5;241m.\u001B[39mfunction_call_options\u001B[38;5;241m.\u001B[39mas_attrs(),\n\u001B[1;32m    261\u001B[0m     )\n",
      "File \u001B[0;32m~/anaconda3/envs/myenv/lib/python3.11/site-packages/tensorflow/python/eager/context.py:1486\u001B[0m, in \u001B[0;36mContext.call_function\u001B[0;34m(self, name, tensor_inputs, num_outputs)\u001B[0m\n\u001B[1;32m   1484\u001B[0m cancellation_context \u001B[38;5;241m=\u001B[39m cancellation\u001B[38;5;241m.\u001B[39mcontext()\n\u001B[1;32m   1485\u001B[0m \u001B[38;5;28;01mif\u001B[39;00m cancellation_context \u001B[38;5;129;01mis\u001B[39;00m \u001B[38;5;28;01mNone\u001B[39;00m:\n\u001B[0;32m-> 1486\u001B[0m   outputs \u001B[38;5;241m=\u001B[39m \u001B[43mexecute\u001B[49m\u001B[38;5;241;43m.\u001B[39;49m\u001B[43mexecute\u001B[49m\u001B[43m(\u001B[49m\n\u001B[1;32m   1487\u001B[0m \u001B[43m      \u001B[49m\u001B[43mname\u001B[49m\u001B[38;5;241;43m.\u001B[39;49m\u001B[43mdecode\u001B[49m\u001B[43m(\u001B[49m\u001B[38;5;124;43m\"\u001B[39;49m\u001B[38;5;124;43mutf-8\u001B[39;49m\u001B[38;5;124;43m\"\u001B[39;49m\u001B[43m)\u001B[49m\u001B[43m,\u001B[49m\n\u001B[1;32m   1488\u001B[0m \u001B[43m      \u001B[49m\u001B[43mnum_outputs\u001B[49m\u001B[38;5;241;43m=\u001B[39;49m\u001B[43mnum_outputs\u001B[49m\u001B[43m,\u001B[49m\n\u001B[1;32m   1489\u001B[0m \u001B[43m      \u001B[49m\u001B[43minputs\u001B[49m\u001B[38;5;241;43m=\u001B[39;49m\u001B[43mtensor_inputs\u001B[49m\u001B[43m,\u001B[49m\n\u001B[1;32m   1490\u001B[0m \u001B[43m      \u001B[49m\u001B[43mattrs\u001B[49m\u001B[38;5;241;43m=\u001B[39;49m\u001B[43mattrs\u001B[49m\u001B[43m,\u001B[49m\n\u001B[1;32m   1491\u001B[0m \u001B[43m      \u001B[49m\u001B[43mctx\u001B[49m\u001B[38;5;241;43m=\u001B[39;49m\u001B[38;5;28;43mself\u001B[39;49m\u001B[43m,\u001B[49m\n\u001B[1;32m   1492\u001B[0m \u001B[43m  \u001B[49m\u001B[43m)\u001B[49m\n\u001B[1;32m   1493\u001B[0m \u001B[38;5;28;01melse\u001B[39;00m:\n\u001B[1;32m   1494\u001B[0m   outputs \u001B[38;5;241m=\u001B[39m execute\u001B[38;5;241m.\u001B[39mexecute_with_cancellation(\n\u001B[1;32m   1495\u001B[0m       name\u001B[38;5;241m.\u001B[39mdecode(\u001B[38;5;124m\"\u001B[39m\u001B[38;5;124mutf-8\u001B[39m\u001B[38;5;124m\"\u001B[39m),\n\u001B[1;32m   1496\u001B[0m       num_outputs\u001B[38;5;241m=\u001B[39mnum_outputs,\n\u001B[0;32m   (...)\u001B[0m\n\u001B[1;32m   1500\u001B[0m       cancellation_manager\u001B[38;5;241m=\u001B[39mcancellation_context,\n\u001B[1;32m   1501\u001B[0m   )\n",
      "File \u001B[0;32m~/anaconda3/envs/myenv/lib/python3.11/site-packages/tensorflow/python/eager/execute.py:53\u001B[0m, in \u001B[0;36mquick_execute\u001B[0;34m(op_name, num_outputs, inputs, attrs, ctx, name)\u001B[0m\n\u001B[1;32m     51\u001B[0m \u001B[38;5;28;01mtry\u001B[39;00m:\n\u001B[1;32m     52\u001B[0m   ctx\u001B[38;5;241m.\u001B[39mensure_initialized()\n\u001B[0;32m---> 53\u001B[0m   tensors \u001B[38;5;241m=\u001B[39m \u001B[43mpywrap_tfe\u001B[49m\u001B[38;5;241;43m.\u001B[39;49m\u001B[43mTFE_Py_Execute\u001B[49m\u001B[43m(\u001B[49m\u001B[43mctx\u001B[49m\u001B[38;5;241;43m.\u001B[39;49m\u001B[43m_handle\u001B[49m\u001B[43m,\u001B[49m\u001B[43m \u001B[49m\u001B[43mdevice_name\u001B[49m\u001B[43m,\u001B[49m\u001B[43m \u001B[49m\u001B[43mop_name\u001B[49m\u001B[43m,\u001B[49m\n\u001B[1;32m     54\u001B[0m \u001B[43m                                      \u001B[49m\u001B[43minputs\u001B[49m\u001B[43m,\u001B[49m\u001B[43m \u001B[49m\u001B[43mattrs\u001B[49m\u001B[43m,\u001B[49m\u001B[43m \u001B[49m\u001B[43mnum_outputs\u001B[49m\u001B[43m)\u001B[49m\n\u001B[1;32m     55\u001B[0m \u001B[38;5;28;01mexcept\u001B[39;00m core\u001B[38;5;241m.\u001B[39m_NotOkStatusException \u001B[38;5;28;01mas\u001B[39;00m e:\n\u001B[1;32m     56\u001B[0m   \u001B[38;5;28;01mif\u001B[39;00m name \u001B[38;5;129;01mis\u001B[39;00m \u001B[38;5;129;01mnot\u001B[39;00m \u001B[38;5;28;01mNone\u001B[39;00m:\n",
      "\u001B[0;31mKeyboardInterrupt\u001B[0m: "
     ]
    }
   ],
   "source": [
    "model = create_CNN(max_length)\n",
    "model.summary()\n",
    "\n",
    "# Train the model (replace with your training and validation data)\n",
    "callbacks = [\n",
    "    keras.callbacks.EarlyStopping(monitor='val_loss', patience=3, min_delta=0.002, restore_best_weights=True),\n",
    "]\n",
    "\n",
    "history = model.fit(train_ds.cache(), epochs=3, validation_data=val_ds.cache(), callbacks=callbacks)\n",
    "model.evaluate(test_ds)\n",
    "print(f\"Test dataset accuracy: {model.evaluate(test_ds)[1]}\")\n",
    "get_conf_matrix(model)"
   ],
   "metadata": {
    "collapsed": false,
    "ExecuteTime": {
     "end_time": "2024-05-19T18:45:02.978788Z",
     "start_time": "2024-05-19T18:44:40.859714300Z"
    }
   },
   "id": "5aaa5fc4ba9bc7ea"
  }
 ],
 "metadata": {
  "kernelspec": {
   "display_name": "Python 3",
   "language": "python",
   "name": "python3"
  },
  "language_info": {
   "codemirror_mode": {
    "name": "ipython",
    "version": 2
   },
   "file_extension": ".py",
   "mimetype": "text/x-python",
   "name": "python",
   "nbconvert_exporter": "python",
   "pygments_lexer": "ipython2",
   "version": "2.7.6"
  }
 },
 "nbformat": 4,
 "nbformat_minor": 5
}
