{
 "cells": [
  {
   "cell_type": "markdown",
   "source": [
    "# Text classification (sentiment analysis)\n",
    "Task: Predict sentiment of Amazon reviews\n",
    "Dataset: Beans from TFDS"
   ],
   "metadata": {
    "collapsed": false
   },
   "id": "dbbc77f284814682"
  },
  {
   "cell_type": "markdown",
   "source": [
    "## 1. Loading dataset & basic preprocessing\n",
    "- removal of reviews shorter than 5 characters\n",
    "- mapping from 1-5 -> 0,1,2\n",
    "- subsampling - without replacement, random state 42, 80 000 rows"
   ],
   "metadata": {
    "collapsed": false
   },
   "id": "1ee5b5a6106d6686"
  },
  {
   "cell_type": "code",
   "execution_count": 201,
   "id": "initial_id",
   "metadata": {
    "collapsed": true,
    "ExecuteTime": {
     "end_time": "2024-05-17T22:02:09.215202200Z",
     "start_time": "2024-05-17T22:02:09.200691900Z"
    }
   },
   "outputs": [],
   "source": [
    "import pandas as pd\n",
    "import numpy as np\n",
    "from sklearn.model_selection import train_test_split\n",
    "from sklearn.utils import resample\n",
    "from IPython.display import display\n",
    "import re\n",
    "import matplotlib.pyplot as plt\n",
    "import nltk"
   ]
  },
  {
   "cell_type": "code",
   "execution_count": 189,
   "outputs": [],
   "source": [
    "df = pd.read_csv('datasets/amazon_reviews_us_Major_Appliances_v1_00.tsv', sep='\\t', on_bad_lines='skip')"
   ],
   "metadata": {
    "collapsed": false,
    "ExecuteTime": {
     "end_time": "2024-05-17T21:53:11.043258100Z",
     "start_time": "2024-05-17T21:53:10.294768100Z"
    }
   },
   "id": "41ff8b299de307d2"
  },
  {
   "cell_type": "code",
   "execution_count": 190,
   "outputs": [
    {
     "data": {
      "text/plain": "(96834, 15)"
     },
     "execution_count": 190,
     "metadata": {},
     "output_type": "execute_result"
    }
   ],
   "source": [
    "df.shape"
   ],
   "metadata": {
    "collapsed": false,
    "ExecuteTime": {
     "end_time": "2024-05-17T21:53:11.060297600Z",
     "start_time": "2024-05-17T21:53:11.045259900Z"
    }
   },
   "id": "c630cd8ed64d4f9d"
  },
  {
   "cell_type": "code",
   "execution_count": 191,
   "outputs": [],
   "source": [
    "# remove nas and duplicate reviews\n",
    "df.dropna(axis=0, subset=['review_body'], inplace=True)\n",
    "df.drop_duplicates(subset=['review_body'], inplace=True)"
   ],
   "metadata": {
    "collapsed": false,
    "ExecuteTime": {
     "end_time": "2024-05-17T21:53:11.138376500Z",
     "start_time": "2024-05-17T21:53:11.061299200Z"
    }
   },
   "id": "861e0cae068fbc6"
  },
  {
   "cell_type": "code",
   "execution_count": 192,
   "outputs": [
    {
     "data": {
      "text/plain": "(93446, 15)"
     },
     "execution_count": 192,
     "metadata": {},
     "output_type": "execute_result"
    }
   ],
   "source": [
    "df.shape"
   ],
   "metadata": {
    "collapsed": false,
    "ExecuteTime": {
     "end_time": "2024-05-17T21:53:11.167228100Z",
     "start_time": "2024-05-17T21:53:11.140675100Z"
    }
   },
   "id": "4761880489557793"
  },
  {
   "cell_type": "code",
   "execution_count": 193,
   "outputs": [],
   "source": [
    "stopword_list = nltk.corpus.stopwords.words(\"english\")"
   ],
   "metadata": {
    "collapsed": false,
    "ExecuteTime": {
     "end_time": "2024-05-17T21:53:11.198792100Z",
     "start_time": "2024-05-17T21:53:11.155193300Z"
    }
   },
   "id": "296446ff70a87882"
  },
  {
   "cell_type": "code",
   "execution_count": 194,
   "outputs": [],
   "source": [
    "def remove_tags(review):\n",
    "    return re.sub(pattern='<.*?>', string=review , repl=' ') \n",
    "\n",
    "def keep_alnum(review):\n",
    "    return re.sub(pattern='[^A-Za-z\\d\\s:]', string=review, repl=' ')\n",
    "\n",
    "def strip_spaces(review):\n",
    "    return re.sub(pattern='[\\s]{2,}', string=review, repl=' ')\n",
    "\n",
    "def lowercase(review):\n",
    "    return review.lower()\n",
    "\n",
    "def remove_stopwords(review):\n",
    "    review_list = review.split()\n",
    "    return \" \".join([word for word in review_list if word not in stopword_list])"
   ],
   "metadata": {
    "collapsed": false,
    "ExecuteTime": {
     "end_time": "2024-05-17T21:53:11.206301600Z",
     "start_time": "2024-05-17T21:53:11.171748300Z"
    }
   },
   "id": "feccec45640d371c"
  },
  {
   "cell_type": "code",
   "execution_count": 195,
   "outputs": [],
   "source": [
    "df['review_body'] = df['review_body'].apply(remove_tags) # removes html tags\n",
    "df['review_body'] = df['review_body'].apply(keep_alnum) # removes sub unicode char\n",
    "df['review_body'] = df['review_body'].apply(strip_spaces) # strip all unnecessary whitespaces\n",
    "df['review_body'] = df['review_body'].apply(lowercase) # put everything into lowercase\n",
    "df['review_body'] = df['review_body'].apply(remove_stopwords) # put everything into lowercase\n",
    "df = df[df['review_body'].str.len() > 5]               # keep only reviews longer than 5 characters\n"
   ],
   "metadata": {
    "collapsed": false,
    "ExecuteTime": {
     "end_time": "2024-05-17T21:53:22.820564800Z",
     "start_time": "2024-05-17T21:53:11.187267800Z"
    }
   },
   "id": "ab4b0c058041911e"
  },
  {
   "cell_type": "code",
   "execution_count": 196,
   "outputs": [
    {
     "data": {
      "text/plain": "      marketplace  customer_id       review_id  product_id  product_parent  \\\n0              US     16199106  R203HPW78Z7N4K  B0067WNSZY       633038551   \n1              US     16374060  R2EAIGVLEALSP3  B002QSXK60       811766671   \n2              US     15322085  R1K1CD73HHLILA  B00EC452R6       345562728   \n3              US     32004835  R2KZBMOFRMYOPO  B00MVVIF2G       563052763   \n4              US     25414497   R6BIZOZY6UD01  B00IY7BNUW       874236579   \n...           ...          ...             ...         ...             ...   \n96829          US     37431087  R3CYIDM3UEY5PA  B00005O64S       222987122   \n96830          US     44686434  R1PLFLGSA6N9WU  B00005O64T       802734810   \n96831          US     36739731   RBPARLMOY6ZU5  B00005O64S       222987122   \n96832          US     50744080   RSS5TDZOGUEB6  B00004SACT       344802997   \n96833          US     48699462  R1X5L2BT3H084O  B00004SACT       344802997   \n\n                                           product_title  product_category  \\\n0      FGGF3032MW Gallery Series 30\" Wide Freestandin...  Major Appliances   \n1                              Best Hand Clothes Wringer  Major Appliances   \n2                        Supco SET184 Thermal Cutoff Kit  Major Appliances   \n3      Midea WHS-160RB1 Compact Single Reversible Doo...  Major Appliances   \n4                          Avalon Bay Portable Ice Maker  Major Appliances   \n...                                                  ...               ...   \n96829  Haier HDT18PA Space Saver Compact Countertop D...  Major Appliances   \n96830  Haier America HSE02-WNAWW 1.8-Cubic-Foot Capac...  Major Appliances   \n96831  Haier HDT18PA Space Saver Compact Countertop D...  Major Appliances   \n96832         Sanyo Two-Door 2.9 Cubic Foot Refrigerator  Major Appliances   \n96833         Sanyo Two-Door 2.9 Cubic Foot Refrigerator  Major Appliances   \n\n       star_rating  helpful_votes  total_votes vine verified_purchase  \\\n0                5              0            0    N                 Y   \n1                5              1            1    N                 Y   \n2                5              0            0    N                 Y   \n3                5              1            1    N                 Y   \n4                5              0            0    N                 Y   \n...            ...            ...          ...  ...               ...   \n96829            4             37           43    N                 N   \n96830            1             33           39    N                 N   \n96831            5              6           45    N                 N   \n96832            4             71           71    N                 N   \n96833            3              8           40    N                 N   \n\n                                  review_headline  \\\n0      If you need a new stove, this is a winner.   \n1                                      Five Stars   \n2                                   Fast Shipping   \n3                                      Five Stars   \n4                                      Five Stars   \n...                                           ...   \n96829  Pretty good dishwasher for small apartment   \n96830                          Does not last long   \n96831                 Rave review for space saver   \n96832                  Sanyo compact refrigerator   \n96833                               a normal frig   \n\n                                             review_body review_date  \n0      great stove wonderful replacement sort antique...  2015-08-31  \n1                                           worked great  2015-08-31  \n2                   part exactly needed saved purchasing  2015-08-31  \n3      love refrigerator keeps everything cold recommend  2015-08-31  \n4                      running store ice works perfectly  2015-08-31  \n...                                                  ...         ...  \n96829  pretty good dishwasher price good job cleaning...  2002-07-14  \n96830  bought office extremely dissatisfied stopped w...  2002-06-03  \n96831  saw small dishwasher thought wonderful idea sm...  2002-05-05  \n96832  probably best small refrigerator market true f...  2000-09-29  \n96833  normal mid sized refrigerater good price reall...  2000-08-26  \n\n[92899 rows x 15 columns]",
      "text/html": "<div>\n<style scoped>\n    .dataframe tbody tr th:only-of-type {\n        vertical-align: middle;\n    }\n\n    .dataframe tbody tr th {\n        vertical-align: top;\n    }\n\n    .dataframe thead th {\n        text-align: right;\n    }\n</style>\n<table border=\"1\" class=\"dataframe\">\n  <thead>\n    <tr style=\"text-align: right;\">\n      <th></th>\n      <th>marketplace</th>\n      <th>customer_id</th>\n      <th>review_id</th>\n      <th>product_id</th>\n      <th>product_parent</th>\n      <th>product_title</th>\n      <th>product_category</th>\n      <th>star_rating</th>\n      <th>helpful_votes</th>\n      <th>total_votes</th>\n      <th>vine</th>\n      <th>verified_purchase</th>\n      <th>review_headline</th>\n      <th>review_body</th>\n      <th>review_date</th>\n    </tr>\n  </thead>\n  <tbody>\n    <tr>\n      <th>0</th>\n      <td>US</td>\n      <td>16199106</td>\n      <td>R203HPW78Z7N4K</td>\n      <td>B0067WNSZY</td>\n      <td>633038551</td>\n      <td>FGGF3032MW Gallery Series 30\" Wide Freestandin...</td>\n      <td>Major Appliances</td>\n      <td>5</td>\n      <td>0</td>\n      <td>0</td>\n      <td>N</td>\n      <td>Y</td>\n      <td>If you need a new stove, this is a winner.</td>\n      <td>great stove wonderful replacement sort antique...</td>\n      <td>2015-08-31</td>\n    </tr>\n    <tr>\n      <th>1</th>\n      <td>US</td>\n      <td>16374060</td>\n      <td>R2EAIGVLEALSP3</td>\n      <td>B002QSXK60</td>\n      <td>811766671</td>\n      <td>Best Hand Clothes Wringer</td>\n      <td>Major Appliances</td>\n      <td>5</td>\n      <td>1</td>\n      <td>1</td>\n      <td>N</td>\n      <td>Y</td>\n      <td>Five Stars</td>\n      <td>worked great</td>\n      <td>2015-08-31</td>\n    </tr>\n    <tr>\n      <th>2</th>\n      <td>US</td>\n      <td>15322085</td>\n      <td>R1K1CD73HHLILA</td>\n      <td>B00EC452R6</td>\n      <td>345562728</td>\n      <td>Supco SET184 Thermal Cutoff Kit</td>\n      <td>Major Appliances</td>\n      <td>5</td>\n      <td>0</td>\n      <td>0</td>\n      <td>N</td>\n      <td>Y</td>\n      <td>Fast Shipping</td>\n      <td>part exactly needed saved purchasing</td>\n      <td>2015-08-31</td>\n    </tr>\n    <tr>\n      <th>3</th>\n      <td>US</td>\n      <td>32004835</td>\n      <td>R2KZBMOFRMYOPO</td>\n      <td>B00MVVIF2G</td>\n      <td>563052763</td>\n      <td>Midea WHS-160RB1 Compact Single Reversible Doo...</td>\n      <td>Major Appliances</td>\n      <td>5</td>\n      <td>1</td>\n      <td>1</td>\n      <td>N</td>\n      <td>Y</td>\n      <td>Five Stars</td>\n      <td>love refrigerator keeps everything cold recommend</td>\n      <td>2015-08-31</td>\n    </tr>\n    <tr>\n      <th>4</th>\n      <td>US</td>\n      <td>25414497</td>\n      <td>R6BIZOZY6UD01</td>\n      <td>B00IY7BNUW</td>\n      <td>874236579</td>\n      <td>Avalon Bay Portable Ice Maker</td>\n      <td>Major Appliances</td>\n      <td>5</td>\n      <td>0</td>\n      <td>0</td>\n      <td>N</td>\n      <td>Y</td>\n      <td>Five Stars</td>\n      <td>running store ice works perfectly</td>\n      <td>2015-08-31</td>\n    </tr>\n    <tr>\n      <th>...</th>\n      <td>...</td>\n      <td>...</td>\n      <td>...</td>\n      <td>...</td>\n      <td>...</td>\n      <td>...</td>\n      <td>...</td>\n      <td>...</td>\n      <td>...</td>\n      <td>...</td>\n      <td>...</td>\n      <td>...</td>\n      <td>...</td>\n      <td>...</td>\n      <td>...</td>\n    </tr>\n    <tr>\n      <th>96829</th>\n      <td>US</td>\n      <td>37431087</td>\n      <td>R3CYIDM3UEY5PA</td>\n      <td>B00005O64S</td>\n      <td>222987122</td>\n      <td>Haier HDT18PA Space Saver Compact Countertop D...</td>\n      <td>Major Appliances</td>\n      <td>4</td>\n      <td>37</td>\n      <td>43</td>\n      <td>N</td>\n      <td>N</td>\n      <td>Pretty good dishwasher for small apartment</td>\n      <td>pretty good dishwasher price good job cleaning...</td>\n      <td>2002-07-14</td>\n    </tr>\n    <tr>\n      <th>96830</th>\n      <td>US</td>\n      <td>44686434</td>\n      <td>R1PLFLGSA6N9WU</td>\n      <td>B00005O64T</td>\n      <td>802734810</td>\n      <td>Haier America HSE02-WNAWW 1.8-Cubic-Foot Capac...</td>\n      <td>Major Appliances</td>\n      <td>1</td>\n      <td>33</td>\n      <td>39</td>\n      <td>N</td>\n      <td>N</td>\n      <td>Does not last long</td>\n      <td>bought office extremely dissatisfied stopped w...</td>\n      <td>2002-06-03</td>\n    </tr>\n    <tr>\n      <th>96831</th>\n      <td>US</td>\n      <td>36739731</td>\n      <td>RBPARLMOY6ZU5</td>\n      <td>B00005O64S</td>\n      <td>222987122</td>\n      <td>Haier HDT18PA Space Saver Compact Countertop D...</td>\n      <td>Major Appliances</td>\n      <td>5</td>\n      <td>6</td>\n      <td>45</td>\n      <td>N</td>\n      <td>N</td>\n      <td>Rave review for space saver</td>\n      <td>saw small dishwasher thought wonderful idea sm...</td>\n      <td>2002-05-05</td>\n    </tr>\n    <tr>\n      <th>96832</th>\n      <td>US</td>\n      <td>50744080</td>\n      <td>RSS5TDZOGUEB6</td>\n      <td>B00004SACT</td>\n      <td>344802997</td>\n      <td>Sanyo Two-Door 2.9 Cubic Foot Refrigerator</td>\n      <td>Major Appliances</td>\n      <td>4</td>\n      <td>71</td>\n      <td>71</td>\n      <td>N</td>\n      <td>N</td>\n      <td>Sanyo compact refrigerator</td>\n      <td>probably best small refrigerator market true f...</td>\n      <td>2000-09-29</td>\n    </tr>\n    <tr>\n      <th>96833</th>\n      <td>US</td>\n      <td>48699462</td>\n      <td>R1X5L2BT3H084O</td>\n      <td>B00004SACT</td>\n      <td>344802997</td>\n      <td>Sanyo Two-Door 2.9 Cubic Foot Refrigerator</td>\n      <td>Major Appliances</td>\n      <td>3</td>\n      <td>8</td>\n      <td>40</td>\n      <td>N</td>\n      <td>N</td>\n      <td>a normal frig</td>\n      <td>normal mid sized refrigerater good price reall...</td>\n      <td>2000-08-26</td>\n    </tr>\n  </tbody>\n</table>\n<p>92899 rows × 15 columns</p>\n</div>"
     },
     "execution_count": 196,
     "metadata": {},
     "output_type": "execute_result"
    }
   ],
   "source": [
    "df"
   ],
   "metadata": {
    "collapsed": false,
    "ExecuteTime": {
     "end_time": "2024-05-17T21:53:22.836083900Z",
     "start_time": "2024-05-17T21:53:22.829573900Z"
    }
   },
   "id": "633603daaf3937ff"
  },
  {
   "cell_type": "code",
   "execution_count": 197,
   "outputs": [
    {
     "name": "stdout",
     "output_type": "stream",
     "text": [
      "(80000, 2)\n"
     ]
    },
    {
     "name": "stderr",
     "output_type": "stream",
     "text": [
      "C:\\Users\\vojta\\AppData\\Local\\Temp\\ipykernel_15120\\316320992.py:2: SettingWithCopyWarning: \n",
      "A value is trying to be set on a copy of a slice from a DataFrame.\n",
      "Try using .loc[row_indexer,col_indexer] = value instead\n",
      "\n",
      "See the caveats in the documentation: https://pandas.pydata.org/pandas-docs/stable/user_guide/indexing.html#returning-a-view-versus-a-copy\n",
      "  df.loc[df['star_rating'] < 3, 'sentiment'] = 0\n",
      "C:\\Users\\vojta\\AppData\\Local\\Temp\\ipykernel_15120\\316320992.py:5: SettingWithCopyWarning: \n",
      "A value is trying to be set on a copy of a slice from a DataFrame\n",
      "\n",
      "See the caveats in the documentation: https://pandas.pydata.org/pandas-docs/stable/user_guide/indexing.html#returning-a-view-versus-a-copy\n",
      "  df.drop('star_rating', axis=1, inplace=True)\n"
     ]
    }
   ],
   "source": [
    "df = df[['review_body', 'star_rating']]\n",
    "df.loc[df['star_rating'] < 3, 'sentiment'] = 0\n",
    "df.loc[df['star_rating'] == 3, 'sentiment'] = 1\n",
    "df.loc[df['star_rating'] > 3, 'sentiment'] = 2\n",
    "df.drop('star_rating', axis=1, inplace=True)\n",
    "df = resample(df, n_samples=80000, random_state=42, replace=False)\n",
    "print(df.shape)"
   ],
   "metadata": {
    "collapsed": false,
    "ExecuteTime": {
     "end_time": "2024-05-17T21:53:22.921146700Z",
     "start_time": "2024-05-17T21:53:22.838085700Z"
    }
   },
   "id": "174a2be074f5703"
  },
  {
   "cell_type": "code",
   "execution_count": 198,
   "outputs": [
    {
     "data": {
      "text/plain": "                                             review_body  sentiment\n71963  usually rate things hate exactly feel small lg...        0.0\n15508         hard open must securely mounted provisions        1.0\n3110   15 months stopped working threw groceries call...        0.0\n88804  silver version tiny cooler fridge company chri...        2.0\n18295                      exactly needed get dryer back        2.0\n...                                                  ...        ...\n62973  purchased replace space 12 34 garbage compacto...        2.0\n45682  bought item professionally installed middle ap...        0.0\n84940  purchased nice looking supposedly good name br...        0.0\n1873   videoid:8829556f67d2453e377e6459465db27e first...        2.0\n53872  middle drawer tight pull easily tech take look...        0.0\n\n[80000 rows x 2 columns]",
      "text/html": "<div>\n<style scoped>\n    .dataframe tbody tr th:only-of-type {\n        vertical-align: middle;\n    }\n\n    .dataframe tbody tr th {\n        vertical-align: top;\n    }\n\n    .dataframe thead th {\n        text-align: right;\n    }\n</style>\n<table border=\"1\" class=\"dataframe\">\n  <thead>\n    <tr style=\"text-align: right;\">\n      <th></th>\n      <th>review_body</th>\n      <th>sentiment</th>\n    </tr>\n  </thead>\n  <tbody>\n    <tr>\n      <th>71963</th>\n      <td>usually rate things hate exactly feel small lg...</td>\n      <td>0.0</td>\n    </tr>\n    <tr>\n      <th>15508</th>\n      <td>hard open must securely mounted provisions</td>\n      <td>1.0</td>\n    </tr>\n    <tr>\n      <th>3110</th>\n      <td>15 months stopped working threw groceries call...</td>\n      <td>0.0</td>\n    </tr>\n    <tr>\n      <th>88804</th>\n      <td>silver version tiny cooler fridge company chri...</td>\n      <td>2.0</td>\n    </tr>\n    <tr>\n      <th>18295</th>\n      <td>exactly needed get dryer back</td>\n      <td>2.0</td>\n    </tr>\n    <tr>\n      <th>...</th>\n      <td>...</td>\n      <td>...</td>\n    </tr>\n    <tr>\n      <th>62973</th>\n      <td>purchased replace space 12 34 garbage compacto...</td>\n      <td>2.0</td>\n    </tr>\n    <tr>\n      <th>45682</th>\n      <td>bought item professionally installed middle ap...</td>\n      <td>0.0</td>\n    </tr>\n    <tr>\n      <th>84940</th>\n      <td>purchased nice looking supposedly good name br...</td>\n      <td>0.0</td>\n    </tr>\n    <tr>\n      <th>1873</th>\n      <td>videoid:8829556f67d2453e377e6459465db27e first...</td>\n      <td>2.0</td>\n    </tr>\n    <tr>\n      <th>53872</th>\n      <td>middle drawer tight pull easily tech take look...</td>\n      <td>0.0</td>\n    </tr>\n  </tbody>\n</table>\n<p>80000 rows × 2 columns</p>\n</div>"
     },
     "execution_count": 198,
     "metadata": {},
     "output_type": "execute_result"
    }
   ],
   "source": [
    "df"
   ],
   "metadata": {
    "collapsed": false,
    "ExecuteTime": {
     "end_time": "2024-05-17T21:53:22.936708600Z",
     "start_time": "2024-05-17T21:53:22.868653500Z"
    }
   },
   "id": "61075fa8ce779b40"
  },
  {
   "cell_type": "markdown",
   "source": [
    "## 2. Final dataset\n",
    "- 80 000 instances\n",
    "- NEGATIVE 21 334\n",
    "- NEUTRAL 5 674\n",
    "- POSITIVE 52 992 \n",
    "- 90:10 train:test split"
   ],
   "metadata": {
    "collapsed": false
   },
   "id": "f66880c2eaddb91e"
  },
  {
   "cell_type": "code",
   "execution_count": 199,
   "outputs": [
    {
     "data": {
      "text/plain": "sentiment\n2.0    52992\n0.0    21334\n1.0     5674\nName: count, dtype: int64"
     },
     "execution_count": 199,
     "metadata": {},
     "output_type": "execute_result"
    }
   ],
   "source": [
    "df['sentiment'].value_counts()"
   ],
   "metadata": {
    "collapsed": false,
    "ExecuteTime": {
     "end_time": "2024-05-17T21:53:22.936708600Z",
     "start_time": "2024-05-17T21:53:22.885721300Z"
    }
   },
   "id": "51a301bdbbc85fa6"
  },
  {
   "cell_type": "code",
   "execution_count": 202,
   "outputs": [],
   "source": [
    "# Train-test split\n",
    "X_train, X_test, y_train, y_test = train_test_split(\n",
    "    df['review_body'], df['sentiment'], random_state=42, test_size=0.1, stratify=df['sentiment']\n",
    ")"
   ],
   "metadata": {
    "collapsed": false,
    "ExecuteTime": {
     "end_time": "2024-05-17T22:05:52.112676500Z",
     "start_time": "2024-05-17T22:05:52.084332600Z"
    }
   },
   "id": "3f410caa3e666495"
  },
  {
   "cell_type": "code",
   "execution_count": 204,
   "outputs": [
    {
     "data": {
      "text/plain": "sentiment\n2.0    47693\n0.0    19200\n1.0     5107\nName: count, dtype: int64"
     },
     "execution_count": 204,
     "metadata": {},
     "output_type": "execute_result"
    }
   ],
   "source": [
    "y_train.value_counts()"
   ],
   "metadata": {
    "collapsed": false,
    "ExecuteTime": {
     "end_time": "2024-05-17T22:06:01.556313300Z",
     "start_time": "2024-05-17T22:06:01.533682100Z"
    }
   },
   "id": "f665ddc4246c79dc"
  },
  {
   "cell_type": "code",
   "execution_count": 205,
   "outputs": [
    {
     "data": {
      "text/plain": "sentiment\n2.0    5299\n0.0    2134\n1.0     567\nName: count, dtype: int64"
     },
     "execution_count": 205,
     "metadata": {},
     "output_type": "execute_result"
    }
   ],
   "source": [
    "y_test.value_counts()"
   ],
   "metadata": {
    "collapsed": false,
    "ExecuteTime": {
     "end_time": "2024-05-17T22:06:10.768055500Z",
     "start_time": "2024-05-17T22:06:10.747634600Z"
    }
   },
   "id": "bb12164d07568651"
  },
  {
   "cell_type": "code",
   "execution_count": null,
   "outputs": [],
   "source": [],
   "metadata": {
    "collapsed": false
   },
   "id": "6a8a9ffeeec41124"
  }
 ],
 "metadata": {
  "kernelspec": {
   "display_name": "Python 3",
   "language": "python",
   "name": "python3"
  },
  "language_info": {
   "codemirror_mode": {
    "name": "ipython",
    "version": 2
   },
   "file_extension": ".py",
   "mimetype": "text/x-python",
   "name": "python",
   "nbconvert_exporter": "python",
   "pygments_lexer": "ipython2",
   "version": "2.7.6"
  }
 },
 "nbformat": 4,
 "nbformat_minor": 5
}
